{
  "cells": [
    {
      "cell_type": "markdown",
      "metadata": {
        "id": "hbmQGb47ATMq"
      },
      "source": [
        "#IMPORT LIBRARY"
      ]
    },
    {
      "cell_type": "code",
      "execution_count": null,
      "metadata": {
        "id": "XBnDzKQvATjU"
      },
      "outputs": [],
      "source": [
        "#Import Library\n",
        "import joblib\n",
        "import pandas as pd\n",
        "import numpy as np\n",
        "import math\n",
        "from time import time\n",
        "import pprint\n",
        "import warnings\n",
        "warnings.filterwarnings(\"ignore\")\n",
        "\n",
        "#visualisasi\n",
        "import matplotlib.pyplot as plt\n",
        "import seaborn as sns\n",
        "\n",
        "#Preprocessing\n",
        "from sklearn.model_selection import train_test_split, cross_validate, GridSearchCV #cross validation & parameter tuning\n",
        "from statsmodels.tools.tools import add_constant\n",
        "from statsmodels.stats.outliers_influence import variance_inflation_factor\n",
        "\n",
        "#SMOTENC\n",
        "from imblearn.over_sampling import SMOTENC\n",
        "\n",
        "#modeling\n",
        "import lightgbm as lgb\n",
        "from lightgbm import LGBMClassifier, LGBMRegressor, create_tree_digraph\n",
        "\n",
        "#evaluasi\n",
        "from sklearn.metrics import accuracy_score, confusion_matrix, auc, roc_auc_score, classification_report #untuk evaluasi metric\n",
        "from mlxtend.plotting import plot_confusion_matrix"
      ]
    },
    {
      "cell_type": "markdown",
      "metadata": {
        "id": "ALy3vbewAnN7"
      },
      "source": [
        "#IMPORT DATASET"
      ]
    },
    {
      "cell_type": "code",
      "execution_count": null,
      "metadata": {
        "colab": {
          "base_uri": "https://localhost:8080/"
        },
        "id": "HEgqjwebArAs",
        "outputId": "c66375c6-a069-437e-ac8f-4a49e1450406"
      },
      "outputs": [
        {
          "output_type": "stream",
          "name": "stdout",
          "text": [
            "Mounted at /content/drive\n"
          ]
        }
      ],
      "source": [
        "#Import Dataset\n",
        "from google.colab import drive\n",
        "drive.mount('/content/drive')"
      ]
    },
    {
      "cell_type": "code",
      "execution_count": null,
      "metadata": {
        "id": "d6hk3B0jUSHB"
      },
      "outputs": [],
      "source": [
        "data = pd.read_csv('/content/drive/MyDrive/SKRIPSI/diabetes25.csv')"
      ]
    },
    {
      "cell_type": "markdown",
      "metadata": {
        "id": "CqxHlnuOAr1J"
      },
      "source": [
        "#EXPLORATORY DATA ANALYSIS"
      ]
    },
    {
      "cell_type": "code",
      "execution_count": null,
      "metadata": {
        "colab": {
          "base_uri": "https://localhost:8080/"
        },
        "id": "nSORur3FAu79",
        "outputId": "61420aae-9820-49f8-b58a-49eaf707dc52"
      },
      "outputs": [
        {
          "output_type": "stream",
          "name": "stdout",
          "text": [
            "\n",
            "\n",
            "    -- dtypes --\n",
            "\n",
            "    Diabetes_binary         int64\n",
            "HighBP                  int64\n",
            "HighChol                int64\n",
            "BMI                     int64\n",
            "Smoker                  int64\n",
            "Stroke                  int64\n",
            "HeartDiseaseorAttack    int64\n",
            "PhysActivity            int64\n",
            "HvyAlcoholConsump       int64\n",
            "GenHlth                 int64\n",
            "MentHlth                int64\n",
            "PhysHlth                int64\n",
            "DiffWalk                int64\n",
            "Age                     int64\n",
            "Education               int64\n",
            "Income                  int64\n",
            "dtype: object\n",
            "\n",
            "    -- NaN Values --\n",
            "\n",
            "    Diabetes_binary         0\n",
            "HighBP                  0\n",
            "HighChol                0\n",
            "BMI                     0\n",
            "Smoker                  0\n",
            "Stroke                  0\n",
            "HeartDiseaseorAttack    0\n",
            "PhysActivity            0\n",
            "HvyAlcoholConsump       0\n",
            "GenHlth                 0\n",
            "MentHlth                0\n",
            "PhysHlth                0\n",
            "DiffWalk                0\n",
            "Age                     0\n",
            "Education               0\n",
            "Income                  0\n",
            "dtype: int64\n",
            "\n",
            "    -- Shape --\n",
            "\n",
            "    (25000, 16)\n",
            "\n",
            "    -- Head --\n",
            "    \n"
          ]
        },
        {
          "output_type": "execute_result",
          "data": {
            "text/plain": [
              "   Diabetes_binary  HighBP  HighChol  BMI  Smoker  Stroke  \\\n",
              "0                0       0         0   21       0       0   \n",
              "1                0       0         1   35       0       0   \n",
              "2                1       0         0   33       0       0   \n",
              "3                0       0         0   24       0       0   \n",
              "4                0       0         0   32       0       0   \n",
              "\n",
              "   HeartDiseaseorAttack  PhysActivity  HvyAlcoholConsump  GenHlth  MentHlth  \\\n",
              "0                     0             1                  0        2         1   \n",
              "1                     0             1                  0        1         5   \n",
              "2                     0             0                  0        4         0   \n",
              "3                     0             1                  0        2         0   \n",
              "4                     0             1                  0        3         0   \n",
              "\n",
              "   PhysHlth  DiffWalk  Age  Education  Income  \n",
              "0         0         0    4          5       8  \n",
              "1         0         0    8          6       8  \n",
              "2        10         1   11          5       4  \n",
              "3         0         0    1          6       7  \n",
              "4         0         0    2          6       7  "
            ],
            "text/html": [
              "\n",
              "  <div id=\"df-c1bc2c13-c84d-40c1-b587-3d202efc9974\" class=\"colab-df-container\">\n",
              "    <div>\n",
              "<style scoped>\n",
              "    .dataframe tbody tr th:only-of-type {\n",
              "        vertical-align: middle;\n",
              "    }\n",
              "\n",
              "    .dataframe tbody tr th {\n",
              "        vertical-align: top;\n",
              "    }\n",
              "\n",
              "    .dataframe thead th {\n",
              "        text-align: right;\n",
              "    }\n",
              "</style>\n",
              "<table border=\"1\" class=\"dataframe\">\n",
              "  <thead>\n",
              "    <tr style=\"text-align: right;\">\n",
              "      <th></th>\n",
              "      <th>Diabetes_binary</th>\n",
              "      <th>HighBP</th>\n",
              "      <th>HighChol</th>\n",
              "      <th>BMI</th>\n",
              "      <th>Smoker</th>\n",
              "      <th>Stroke</th>\n",
              "      <th>HeartDiseaseorAttack</th>\n",
              "      <th>PhysActivity</th>\n",
              "      <th>HvyAlcoholConsump</th>\n",
              "      <th>GenHlth</th>\n",
              "      <th>MentHlth</th>\n",
              "      <th>PhysHlth</th>\n",
              "      <th>DiffWalk</th>\n",
              "      <th>Age</th>\n",
              "      <th>Education</th>\n",
              "      <th>Income</th>\n",
              "    </tr>\n",
              "  </thead>\n",
              "  <tbody>\n",
              "    <tr>\n",
              "      <th>0</th>\n",
              "      <td>0</td>\n",
              "      <td>0</td>\n",
              "      <td>0</td>\n",
              "      <td>21</td>\n",
              "      <td>0</td>\n",
              "      <td>0</td>\n",
              "      <td>0</td>\n",
              "      <td>1</td>\n",
              "      <td>0</td>\n",
              "      <td>2</td>\n",
              "      <td>1</td>\n",
              "      <td>0</td>\n",
              "      <td>0</td>\n",
              "      <td>4</td>\n",
              "      <td>5</td>\n",
              "      <td>8</td>\n",
              "    </tr>\n",
              "    <tr>\n",
              "      <th>1</th>\n",
              "      <td>0</td>\n",
              "      <td>0</td>\n",
              "      <td>1</td>\n",
              "      <td>35</td>\n",
              "      <td>0</td>\n",
              "      <td>0</td>\n",
              "      <td>0</td>\n",
              "      <td>1</td>\n",
              "      <td>0</td>\n",
              "      <td>1</td>\n",
              "      <td>5</td>\n",
              "      <td>0</td>\n",
              "      <td>0</td>\n",
              "      <td>8</td>\n",
              "      <td>6</td>\n",
              "      <td>8</td>\n",
              "    </tr>\n",
              "    <tr>\n",
              "      <th>2</th>\n",
              "      <td>1</td>\n",
              "      <td>0</td>\n",
              "      <td>0</td>\n",
              "      <td>33</td>\n",
              "      <td>0</td>\n",
              "      <td>0</td>\n",
              "      <td>0</td>\n",
              "      <td>0</td>\n",
              "      <td>0</td>\n",
              "      <td>4</td>\n",
              "      <td>0</td>\n",
              "      <td>10</td>\n",
              "      <td>1</td>\n",
              "      <td>11</td>\n",
              "      <td>5</td>\n",
              "      <td>4</td>\n",
              "    </tr>\n",
              "    <tr>\n",
              "      <th>3</th>\n",
              "      <td>0</td>\n",
              "      <td>0</td>\n",
              "      <td>0</td>\n",
              "      <td>24</td>\n",
              "      <td>0</td>\n",
              "      <td>0</td>\n",
              "      <td>0</td>\n",
              "      <td>1</td>\n",
              "      <td>0</td>\n",
              "      <td>2</td>\n",
              "      <td>0</td>\n",
              "      <td>0</td>\n",
              "      <td>0</td>\n",
              "      <td>1</td>\n",
              "      <td>6</td>\n",
              "      <td>7</td>\n",
              "    </tr>\n",
              "    <tr>\n",
              "      <th>4</th>\n",
              "      <td>0</td>\n",
              "      <td>0</td>\n",
              "      <td>0</td>\n",
              "      <td>32</td>\n",
              "      <td>0</td>\n",
              "      <td>0</td>\n",
              "      <td>0</td>\n",
              "      <td>1</td>\n",
              "      <td>0</td>\n",
              "      <td>3</td>\n",
              "      <td>0</td>\n",
              "      <td>0</td>\n",
              "      <td>0</td>\n",
              "      <td>2</td>\n",
              "      <td>6</td>\n",
              "      <td>7</td>\n",
              "    </tr>\n",
              "  </tbody>\n",
              "</table>\n",
              "</div>\n",
              "    <div class=\"colab-df-buttons\">\n",
              "\n",
              "  <div class=\"colab-df-container\">\n",
              "    <button class=\"colab-df-convert\" onclick=\"convertToInteractive('df-c1bc2c13-c84d-40c1-b587-3d202efc9974')\"\n",
              "            title=\"Convert this dataframe to an interactive table.\"\n",
              "            style=\"display:none;\">\n",
              "\n",
              "  <svg xmlns=\"http://www.w3.org/2000/svg\" height=\"24px\" viewBox=\"0 -960 960 960\">\n",
              "    <path d=\"M120-120v-720h720v720H120Zm60-500h600v-160H180v160Zm220 220h160v-160H400v160Zm0 220h160v-160H400v160ZM180-400h160v-160H180v160Zm440 0h160v-160H620v160ZM180-180h160v-160H180v160Zm440 0h160v-160H620v160Z\"/>\n",
              "  </svg>\n",
              "    </button>\n",
              "\n",
              "  <style>\n",
              "    .colab-df-container {\n",
              "      display:flex;\n",
              "      gap: 12px;\n",
              "    }\n",
              "\n",
              "    .colab-df-convert {\n",
              "      background-color: #E8F0FE;\n",
              "      border: none;\n",
              "      border-radius: 50%;\n",
              "      cursor: pointer;\n",
              "      display: none;\n",
              "      fill: #1967D2;\n",
              "      height: 32px;\n",
              "      padding: 0 0 0 0;\n",
              "      width: 32px;\n",
              "    }\n",
              "\n",
              "    .colab-df-convert:hover {\n",
              "      background-color: #E2EBFA;\n",
              "      box-shadow: 0px 1px 2px rgba(60, 64, 67, 0.3), 0px 1px 3px 1px rgba(60, 64, 67, 0.15);\n",
              "      fill: #174EA6;\n",
              "    }\n",
              "\n",
              "    .colab-df-buttons div {\n",
              "      margin-bottom: 4px;\n",
              "    }\n",
              "\n",
              "    [theme=dark] .colab-df-convert {\n",
              "      background-color: #3B4455;\n",
              "      fill: #D2E3FC;\n",
              "    }\n",
              "\n",
              "    [theme=dark] .colab-df-convert:hover {\n",
              "      background-color: #434B5C;\n",
              "      box-shadow: 0px 1px 3px 1px rgba(0, 0, 0, 0.15);\n",
              "      filter: drop-shadow(0px 1px 2px rgba(0, 0, 0, 0.3));\n",
              "      fill: #FFFFFF;\n",
              "    }\n",
              "  </style>\n",
              "\n",
              "    <script>\n",
              "      const buttonEl =\n",
              "        document.querySelector('#df-c1bc2c13-c84d-40c1-b587-3d202efc9974 button.colab-df-convert');\n",
              "      buttonEl.style.display =\n",
              "        google.colab.kernel.accessAllowed ? 'block' : 'none';\n",
              "\n",
              "      async function convertToInteractive(key) {\n",
              "        const element = document.querySelector('#df-c1bc2c13-c84d-40c1-b587-3d202efc9974');\n",
              "        const dataTable =\n",
              "          await google.colab.kernel.invokeFunction('convertToInteractive',\n",
              "                                                    [key], {});\n",
              "        if (!dataTable) return;\n",
              "\n",
              "        const docLinkHtml = 'Like what you see? Visit the ' +\n",
              "          '<a target=\"_blank\" href=https://colab.research.google.com/notebooks/data_table.ipynb>data table notebook</a>'\n",
              "          + ' to learn more about interactive tables.';\n",
              "        element.innerHTML = '';\n",
              "        dataTable['output_type'] = 'display_data';\n",
              "        await google.colab.output.renderOutput(dataTable, element);\n",
              "        const docLink = document.createElement('div');\n",
              "        docLink.innerHTML = docLinkHtml;\n",
              "        element.appendChild(docLink);\n",
              "      }\n",
              "    </script>\n",
              "  </div>\n",
              "\n",
              "\n",
              "<div id=\"df-71ab0cf4-f756-47c0-90bf-829b48e0fb13\">\n",
              "  <button class=\"colab-df-quickchart\" onclick=\"quickchart('df-71ab0cf4-f756-47c0-90bf-829b48e0fb13')\"\n",
              "            title=\"Suggest charts\"\n",
              "            style=\"display:none;\">\n",
              "\n",
              "<svg xmlns=\"http://www.w3.org/2000/svg\" height=\"24px\"viewBox=\"0 0 24 24\"\n",
              "     width=\"24px\">\n",
              "    <g>\n",
              "        <path d=\"M19 3H5c-1.1 0-2 .9-2 2v14c0 1.1.9 2 2 2h14c1.1 0 2-.9 2-2V5c0-1.1-.9-2-2-2zM9 17H7v-7h2v7zm4 0h-2V7h2v10zm4 0h-2v-4h2v4z\"/>\n",
              "    </g>\n",
              "</svg>\n",
              "  </button>\n",
              "\n",
              "<style>\n",
              "  .colab-df-quickchart {\n",
              "      --bg-color: #E8F0FE;\n",
              "      --fill-color: #1967D2;\n",
              "      --hover-bg-color: #E2EBFA;\n",
              "      --hover-fill-color: #174EA6;\n",
              "      --disabled-fill-color: #AAA;\n",
              "      --disabled-bg-color: #DDD;\n",
              "  }\n",
              "\n",
              "  [theme=dark] .colab-df-quickchart {\n",
              "      --bg-color: #3B4455;\n",
              "      --fill-color: #D2E3FC;\n",
              "      --hover-bg-color: #434B5C;\n",
              "      --hover-fill-color: #FFFFFF;\n",
              "      --disabled-bg-color: #3B4455;\n",
              "      --disabled-fill-color: #666;\n",
              "  }\n",
              "\n",
              "  .colab-df-quickchart {\n",
              "    background-color: var(--bg-color);\n",
              "    border: none;\n",
              "    border-radius: 50%;\n",
              "    cursor: pointer;\n",
              "    display: none;\n",
              "    fill: var(--fill-color);\n",
              "    height: 32px;\n",
              "    padding: 0;\n",
              "    width: 32px;\n",
              "  }\n",
              "\n",
              "  .colab-df-quickchart:hover {\n",
              "    background-color: var(--hover-bg-color);\n",
              "    box-shadow: 0 1px 2px rgba(60, 64, 67, 0.3), 0 1px 3px 1px rgba(60, 64, 67, 0.15);\n",
              "    fill: var(--button-hover-fill-color);\n",
              "  }\n",
              "\n",
              "  .colab-df-quickchart-complete:disabled,\n",
              "  .colab-df-quickchart-complete:disabled:hover {\n",
              "    background-color: var(--disabled-bg-color);\n",
              "    fill: var(--disabled-fill-color);\n",
              "    box-shadow: none;\n",
              "  }\n",
              "\n",
              "  .colab-df-spinner {\n",
              "    border: 2px solid var(--fill-color);\n",
              "    border-color: transparent;\n",
              "    border-bottom-color: var(--fill-color);\n",
              "    animation:\n",
              "      spin 1s steps(1) infinite;\n",
              "  }\n",
              "\n",
              "  @keyframes spin {\n",
              "    0% {\n",
              "      border-color: transparent;\n",
              "      border-bottom-color: var(--fill-color);\n",
              "      border-left-color: var(--fill-color);\n",
              "    }\n",
              "    20% {\n",
              "      border-color: transparent;\n",
              "      border-left-color: var(--fill-color);\n",
              "      border-top-color: var(--fill-color);\n",
              "    }\n",
              "    30% {\n",
              "      border-color: transparent;\n",
              "      border-left-color: var(--fill-color);\n",
              "      border-top-color: var(--fill-color);\n",
              "      border-right-color: var(--fill-color);\n",
              "    }\n",
              "    40% {\n",
              "      border-color: transparent;\n",
              "      border-right-color: var(--fill-color);\n",
              "      border-top-color: var(--fill-color);\n",
              "    }\n",
              "    60% {\n",
              "      border-color: transparent;\n",
              "      border-right-color: var(--fill-color);\n",
              "    }\n",
              "    80% {\n",
              "      border-color: transparent;\n",
              "      border-right-color: var(--fill-color);\n",
              "      border-bottom-color: var(--fill-color);\n",
              "    }\n",
              "    90% {\n",
              "      border-color: transparent;\n",
              "      border-bottom-color: var(--fill-color);\n",
              "    }\n",
              "  }\n",
              "</style>\n",
              "\n",
              "  <script>\n",
              "    async function quickchart(key) {\n",
              "      const quickchartButtonEl =\n",
              "        document.querySelector('#' + key + ' button');\n",
              "      quickchartButtonEl.disabled = true;  // To prevent multiple clicks.\n",
              "      quickchartButtonEl.classList.add('colab-df-spinner');\n",
              "      try {\n",
              "        const charts = await google.colab.kernel.invokeFunction(\n",
              "            'suggestCharts', [key], {});\n",
              "      } catch (error) {\n",
              "        console.error('Error during call to suggestCharts:', error);\n",
              "      }\n",
              "      quickchartButtonEl.classList.remove('colab-df-spinner');\n",
              "      quickchartButtonEl.classList.add('colab-df-quickchart-complete');\n",
              "    }\n",
              "    (() => {\n",
              "      let quickchartButtonEl =\n",
              "        document.querySelector('#df-71ab0cf4-f756-47c0-90bf-829b48e0fb13 button');\n",
              "      quickchartButtonEl.style.display =\n",
              "        google.colab.kernel.accessAllowed ? 'block' : 'none';\n",
              "    })();\n",
              "  </script>\n",
              "</div>\n",
              "\n",
              "    </div>\n",
              "  </div>\n"
            ],
            "application/vnd.google.colaboratory.intrinsic+json": {
              "type": "dataframe",
              "summary": "{\n  \"name\": \"eda(data)\",\n  \"rows\": 5,\n  \"fields\": [\n    {\n      \"column\": \"Diabetes_binary\",\n      \"properties\": {\n        \"dtype\": \"number\",\n        \"std\": 0,\n        \"min\": 0,\n        \"max\": 1,\n        \"num_unique_values\": 2,\n        \"samples\": [\n          1,\n          0\n        ],\n        \"semantic_type\": \"\",\n        \"description\": \"\"\n      }\n    },\n    {\n      \"column\": \"HighBP\",\n      \"properties\": {\n        \"dtype\": \"number\",\n        \"std\": 0,\n        \"min\": 0,\n        \"max\": 0,\n        \"num_unique_values\": 1,\n        \"samples\": [\n          0\n        ],\n        \"semantic_type\": \"\",\n        \"description\": \"\"\n      }\n    },\n    {\n      \"column\": \"HighChol\",\n      \"properties\": {\n        \"dtype\": \"number\",\n        \"std\": 0,\n        \"min\": 0,\n        \"max\": 1,\n        \"num_unique_values\": 2,\n        \"samples\": [\n          1\n        ],\n        \"semantic_type\": \"\",\n        \"description\": \"\"\n      }\n    },\n    {\n      \"column\": \"BMI\",\n      \"properties\": {\n        \"dtype\": \"number\",\n        \"std\": 6,\n        \"min\": 21,\n        \"max\": 35,\n        \"num_unique_values\": 5,\n        \"samples\": [\n          35\n        ],\n        \"semantic_type\": \"\",\n        \"description\": \"\"\n      }\n    },\n    {\n      \"column\": \"Smoker\",\n      \"properties\": {\n        \"dtype\": \"number\",\n        \"std\": 0,\n        \"min\": 0,\n        \"max\": 0,\n        \"num_unique_values\": 1,\n        \"samples\": [\n          0\n        ],\n        \"semantic_type\": \"\",\n        \"description\": \"\"\n      }\n    },\n    {\n      \"column\": \"Stroke\",\n      \"properties\": {\n        \"dtype\": \"number\",\n        \"std\": 0,\n        \"min\": 0,\n        \"max\": 0,\n        \"num_unique_values\": 1,\n        \"samples\": [\n          0\n        ],\n        \"semantic_type\": \"\",\n        \"description\": \"\"\n      }\n    },\n    {\n      \"column\": \"HeartDiseaseorAttack\",\n      \"properties\": {\n        \"dtype\": \"number\",\n        \"std\": 0,\n        \"min\": 0,\n        \"max\": 0,\n        \"num_unique_values\": 1,\n        \"samples\": [\n          0\n        ],\n        \"semantic_type\": \"\",\n        \"description\": \"\"\n      }\n    },\n    {\n      \"column\": \"PhysActivity\",\n      \"properties\": {\n        \"dtype\": \"number\",\n        \"std\": 0,\n        \"min\": 0,\n        \"max\": 1,\n        \"num_unique_values\": 2,\n        \"samples\": [\n          0\n        ],\n        \"semantic_type\": \"\",\n        \"description\": \"\"\n      }\n    },\n    {\n      \"column\": \"HvyAlcoholConsump\",\n      \"properties\": {\n        \"dtype\": \"number\",\n        \"std\": 0,\n        \"min\": 0,\n        \"max\": 0,\n        \"num_unique_values\": 1,\n        \"samples\": [\n          0\n        ],\n        \"semantic_type\": \"\",\n        \"description\": \"\"\n      }\n    },\n    {\n      \"column\": \"GenHlth\",\n      \"properties\": {\n        \"dtype\": \"number\",\n        \"std\": 1,\n        \"min\": 1,\n        \"max\": 4,\n        \"num_unique_values\": 4,\n        \"samples\": [\n          1\n        ],\n        \"semantic_type\": \"\",\n        \"description\": \"\"\n      }\n    },\n    {\n      \"column\": \"MentHlth\",\n      \"properties\": {\n        \"dtype\": \"number\",\n        \"std\": 2,\n        \"min\": 0,\n        \"max\": 5,\n        \"num_unique_values\": 3,\n        \"samples\": [\n          1\n        ],\n        \"semantic_type\": \"\",\n        \"description\": \"\"\n      }\n    },\n    {\n      \"column\": \"PhysHlth\",\n      \"properties\": {\n        \"dtype\": \"number\",\n        \"std\": 4,\n        \"min\": 0,\n        \"max\": 10,\n        \"num_unique_values\": 2,\n        \"samples\": [\n          10\n        ],\n        \"semantic_type\": \"\",\n        \"description\": \"\"\n      }\n    },\n    {\n      \"column\": \"DiffWalk\",\n      \"properties\": {\n        \"dtype\": \"number\",\n        \"std\": 0,\n        \"min\": 0,\n        \"max\": 1,\n        \"num_unique_values\": 2,\n        \"samples\": [\n          1\n        ],\n        \"semantic_type\": \"\",\n        \"description\": \"\"\n      }\n    },\n    {\n      \"column\": \"Age\",\n      \"properties\": {\n        \"dtype\": \"number\",\n        \"std\": 4,\n        \"min\": 1,\n        \"max\": 11,\n        \"num_unique_values\": 5,\n        \"samples\": [\n          8\n        ],\n        \"semantic_type\": \"\",\n        \"description\": \"\"\n      }\n    },\n    {\n      \"column\": \"Education\",\n      \"properties\": {\n        \"dtype\": \"number\",\n        \"std\": 0,\n        \"min\": 5,\n        \"max\": 6,\n        \"num_unique_values\": 2,\n        \"samples\": [\n          6\n        ],\n        \"semantic_type\": \"\",\n        \"description\": \"\"\n      }\n    },\n    {\n      \"column\": \"Income\",\n      \"properties\": {\n        \"dtype\": \"number\",\n        \"std\": 1,\n        \"min\": 4,\n        \"max\": 8,\n        \"num_unique_values\": 3,\n        \"samples\": [\n          8\n        ],\n        \"semantic_type\": \"\",\n        \"description\": \"\"\n      }\n    }\n  ]\n}"
            }
          },
          "metadata": {},
          "execution_count": 4
        }
      ],
      "source": [
        "#Exploratory Data Analysis\n",
        "def eda(dataframe):\n",
        "    print(f\"\"\"\n",
        "\n",
        "    -- dtypes --\n",
        "\n",
        "    {dataframe.dtypes}\n",
        "\n",
        "    -- NaN Values --\n",
        "\n",
        "    {dataframe.isnull().sum()}\n",
        "\n",
        "    -- Shape --\n",
        "\n",
        "    {dataframe.shape}\n",
        "\n",
        "    -- Head --\n",
        "    \"\"\")\n",
        "\n",
        "\n",
        "    return dataframe.head()\n",
        "eda(data)"
      ]
    },
    {
      "cell_type": "code",
      "execution_count": null,
      "metadata": {
        "id": "ytrzXUE5Ut_H"
      },
      "outputs": [],
      "source": [
        "# That help us to show the relation between features clearly\n",
        "data2 = data.copy()\n",
        "data2[\"Diabetes_binary_str\"]= data2[\"Diabetes_binary\"].replace({0:\"Tidak Diabetes\",1:\"Diabetes\"})\n",
        "\n",
        "data2.Age[data2['Age'] == 1] = '18 - 24'\n",
        "data2.Age[data2['Age'] == 2] = '25 - 29'\n",
        "data2.Age[data2['Age'] == 3] = '30 - 34'\n",
        "data2.Age[data2['Age'] == 4] = '35 - 39'\n",
        "data2.Age[data2['Age'] == 5] = '40 - 44'\n",
        "data2.Age[data2['Age'] == 6] = '45 - 49'\n",
        "data2.Age[data2['Age'] == 7] = '50 - 54'\n",
        "data2.Age[data2['Age'] == 8] = '55 - 59'\n",
        "data2.Age[data2['Age'] == 9] = '60 - 64'\n",
        "data2.Age[data2['Age'] == 10] = '65 - 69'\n",
        "data2.Age[data2['Age'] == 11] = '70 - 74'\n",
        "data2.Age[data2['Age'] == 12] = '75 - 79'\n",
        "data2.Age[data2['Age'] == 13] = '> 80'\n",
        "\n",
        "data2.Diabetes_binary[data2['Diabetes_binary'] == 0] = 'Tidak Diabetes'\n",
        "data2.Diabetes_binary[data2['Diabetes_binary'] == 1] = 'Diabetes'\n",
        "\n",
        "data2.HighBP[data2['HighBP'] == 0] = 'Tidak'\n",
        "data2.HighBP[data2['HighBP'] == 1] = 'Ya'\n",
        "\n",
        "data2.HighChol[data2['HighChol'] == 0] = 'Tidak'\n",
        "data2.HighChol[data2['HighChol'] == 1] = 'Ya'\n",
        "\n",
        "data2.Smoker[data2['Smoker'] == 0] = 'Tidak'\n",
        "data2.Smoker[data2['Smoker'] == 1] = 'Ya'\n",
        "\n",
        "data2.Stroke[data2['Stroke'] == 0] = 'Tidak'\n",
        "data2.Stroke[data2['Stroke'] == 1] = 'Ya'\n",
        "\n",
        "data2.HeartDiseaseorAttack[data2['HeartDiseaseorAttack'] == 0] = 'Tidak'\n",
        "data2.HeartDiseaseorAttack[data2['HeartDiseaseorAttack'] == 1] = 'Ya'\n",
        "\n",
        "data2.PhysActivity[data2['PhysActivity'] == 0] = 'Tidak'\n",
        "data2.PhysActivity[data2['PhysActivity'] == 1] = 'Ya'\n",
        "\n",
        "data2.HvyAlcoholConsump[data2['HvyAlcoholConsump'] == 0] = 'Tidak'\n",
        "data2.HvyAlcoholConsump[data2['HvyAlcoholConsump'] == 1] = 'Ya'\n",
        "\n",
        "data2.GenHlth[data2['GenHlth'] == 5] = 'Sangat Baik Sekali'\n",
        "data2.GenHlth[data2['GenHlth'] == 4] = 'Baik Sekali'\n",
        "data2.GenHlth[data2['GenHlth'] == 3] = 'Baik'\n",
        "data2.GenHlth[data2['GenHlth'] == 2] = 'Cukup Baik'\n",
        "data2.GenHlth[data2['GenHlth'] == 1] = 'Tidak Baik'\n",
        "\n",
        "data2.DiffWalk[data2['DiffWalk'] == 0] = 'Tidak'\n",
        "data2.DiffWalk[data2['DiffWalk'] == 1] = 'Ya'\n",
        "\n",
        "data2.Education[data2['Education'] == 1] = 'Tidak pernah sekolah'\n",
        "data2.Education[data2['Education'] == 2] = 'SD'\n",
        "data2.Education[data2['Education'] == 3] = 'SLTP'\n",
        "data2.Education[data2['Education'] == 4] = 'SLTA'\n",
        "data2.Education[data2['Education'] == 5] = 'S1/Diploma'\n",
        "data2.Education[data2['Education'] == 6] = 'Magister'\n",
        "\n",
        "data2.Income[data2['Income'] == 1] = '< $10,000'\n",
        "data2.Income[data2['Income'] == 2] = '10,000-$15,000'\n",
        "data2.Income[data2['Income'] == 3] = '$15,000-$20,000'\n",
        "data2.Income[data2['Income'] == 4] = '$20,000-$25,000'\n",
        "data2.Income[data2['Income'] == 5] = '$25,000-$35,000'\n",
        "data2.Income[data2['Income'] == 6] = '$35,000-$50,000'\n",
        "data2.Income[data2['Income'] == 7] = '$50,000-$75,000'\n",
        "data2.Income[data2['Income'] == 8] = '> $75,000'"
      ]
    },
    {
      "cell_type": "markdown",
      "metadata": {
        "id": "rmepDDJJVzDo"
      },
      "source": [
        "#STATISTIKA DESKRIPTIF"
      ]
    },
    {
      "cell_type": "code",
      "execution_count": null,
      "metadata": {
        "colab": {
          "base_uri": "https://localhost:8080/",
          "height": 431
        },
        "id": "35umd1QmSWL2",
        "outputId": "8cbb9483-dbf4-4cc0-f0fb-66f8aaba3676"
      },
      "outputs": [
        {
          "output_type": "display_data",
          "data": {
            "text/plain": [
              "<Figure size 1000x1500 with 1 Axes>"
            ],
            "image/png": "[encoded data removed]"
          },
          "metadata": {}
        }
      ],
      "source": [
        "#Statistika Deskriptif Variabel Respon\n",
        "l = list(data['Diabetes_binary'].value_counts())\n",
        "circle = [l[0] / sum(l) * 100,l[1] / sum(l) * 100]\n",
        "\n",
        "plt.figure(figsize=(10, 15))\n",
        "plt.subplot(1,2,1)\n",
        "plt.pie(circle,labels = ['Not Diabetic','Diabetic'],autopct = '%1.1f%%',startangle = 90,explode = (0.1,0),colors = ['BLUE','RED'],\n",
        "       wedgeprops = {'edgecolor' : 'black','linewidth': 1,'antialiased' : True})\n",
        "plt.title('Visualization of Diabetes Respons Variables');"
      ]
    },
    {
      "cell_type": "code",
      "execution_count": null,
      "metadata": {
        "colab": {
          "base_uri": "https://localhost:8080/",
          "height": 321
        },
        "id": "OKH-E22NV2KR",
        "outputId": "9a8c73e2-409d-402b-f43c-0683a74148cb"
      },
      "outputs": [
        {
          "output_type": "execute_result",
          "data": {
            "text/plain": [
              "                BMI      MentHlth      PhysHlth\n",
              "count  25000.000000  25000.000000  25000.000000\n",
              "mean      28.484680      3.156680      4.216320\n",
              "std        6.612134      7.368624      8.735899\n",
              "min       12.000000      0.000000      0.000000\n",
              "25%       24.000000      0.000000      0.000000\n",
              "50%       27.000000      0.000000      0.000000\n",
              "75%       31.000000      2.000000      3.000000\n",
              "max       95.000000     30.000000     30.000000"
            ],
            "text/html": [
              "\n",
              "  <div id=\"df-5bb0ac7f-c1e9-4b63-b036-6cbe25439ef8\" class=\"colab-df-container\">\n",
              "    <div>\n",
              "<style scoped>\n",
              "    .dataframe tbody tr th:only-of-type {\n",
              "        vertical-align: middle;\n",
              "    }\n",
              "\n",
              "    .dataframe tbody tr th {\n",
              "        vertical-align: top;\n",
              "    }\n",
              "\n",
              "    .dataframe thead th {\n",
              "        text-align: right;\n",
              "    }\n",
              "</style>\n",
              "<table border=\"1\" class=\"dataframe\">\n",
              "  <thead>\n",
              "    <tr style=\"text-align: right;\">\n",
              "      <th></th>\n",
              "      <th>BMI</th>\n",
              "      <th>MentHlth</th>\n",
              "      <th>PhysHlth</th>\n",
              "    </tr>\n",
              "  </thead>\n",
              "  <tbody>\n",
              "    <tr>\n",
              "      <th>count</th>\n",
              "      <td>25000.000000</td>\n",
              "      <td>25000.000000</td>\n",
              "      <td>25000.000000</td>\n",
              "    </tr>\n",
              "    <tr>\n",
              "      <th>mean</th>\n",
              "      <td>28.484680</td>\n",
              "      <td>3.156680</td>\n",
              "      <td>4.216320</td>\n",
              "    </tr>\n",
              "    <tr>\n",
              "      <th>std</th>\n",
              "      <td>6.612134</td>\n",
              "      <td>7.368624</td>\n",
              "      <td>8.735899</td>\n",
              "    </tr>\n",
              "    <tr>\n",
              "      <th>min</th>\n",
              "      <td>12.000000</td>\n",
              "      <td>0.000000</td>\n",
              "      <td>0.000000</td>\n",
              "    </tr>\n",
              "    <tr>\n",
              "      <th>25%</th>\n",
              "      <td>24.000000</td>\n",
              "      <td>0.000000</td>\n",
              "      <td>0.000000</td>\n",
              "    </tr>\n",
              "    <tr>\n",
              "      <th>50%</th>\n",
              "      <td>27.000000</td>\n",
              "      <td>0.000000</td>\n",
              "      <td>0.000000</td>\n",
              "    </tr>\n",
              "    <tr>\n",
              "      <th>75%</th>\n",
              "      <td>31.000000</td>\n",
              "      <td>2.000000</td>\n",
              "      <td>3.000000</td>\n",
              "    </tr>\n",
              "    <tr>\n",
              "      <th>max</th>\n",
              "      <td>95.000000</td>\n",
              "      <td>30.000000</td>\n",
              "      <td>30.000000</td>\n",
              "    </tr>\n",
              "  </tbody>\n",
              "</table>\n",
              "</div>\n",
              "    <div class=\"colab-df-buttons\">\n",
              "\n",
              "  <div class=\"colab-df-container\">\n",
              "    <button class=\"colab-df-convert\" onclick=\"convertToInteractive('df-5bb0ac7f-c1e9-4b63-b036-6cbe25439ef8')\"\n",
              "            title=\"Convert this dataframe to an interactive table.\"\n",
              "            style=\"display:none;\">\n",
              "\n",
              "  <svg xmlns=\"http://www.w3.org/2000/svg\" height=\"24px\" viewBox=\"0 -960 960 960\">\n",
              "    <path d=\"M120-120v-720h720v720H120Zm60-500h600v-160H180v160Zm220 220h160v-160H400v160Zm0 220h160v-160H400v160ZM180-400h160v-160H180v160Zm440 0h160v-160H620v160ZM180-180h160v-160H180v160Zm440 0h160v-160H620v160Z\"/>\n",
              "  </svg>\n",
              "    </button>\n",
              "\n",
              "  <style>\n",
              "    .colab-df-container {\n",
              "      display:flex;\n",
              "      gap: 12px;\n",
              "    }\n",
              "\n",
              "    .colab-df-convert {\n",
              "      background-color: #E8F0FE;\n",
              "      border: none;\n",
              "      border-radius: 50%;\n",
              "      cursor: pointer;\n",
              "      display: none;\n",
              "      fill: #1967D2;\n",
              "      height: 32px;\n",
              "      padding: 0 0 0 0;\n",
              "      width: 32px;\n",
              "    }\n",
              "\n",
              "    .colab-df-convert:hover {\n",
              "      background-color: #E2EBFA;\n",
              "      box-shadow: 0px 1px 2px rgba(60, 64, 67, 0.3), 0px 1px 3px 1px rgba(60, 64, 67, 0.15);\n",
              "      fill: #174EA6;\n",
              "    }\n",
              "\n",
              "    .colab-df-buttons div {\n",
              "      margin-bottom: 4px;\n",
              "    }\n",
              "\n",
              "    [theme=dark] .colab-df-convert {\n",
              "      background-color: #3B4455;\n",
              "      fill: #D2E3FC;\n",
              "    }\n",
              "\n",
              "    [theme=dark] .colab-df-convert:hover {\n",
              "      background-color: #434B5C;\n",
              "      box-shadow: 0px 1px 3px 1px rgba(0, 0, 0, 0.15);\n",
              "      filter: drop-shadow(0px 1px 2px rgba(0, 0, 0, 0.3));\n",
              "      fill: #FFFFFF;\n",
              "    }\n",
              "  </style>\n",
              "\n",
              "    <script>\n",
              "      const buttonEl =\n",
              "        document.querySelector('#df-5bb0ac7f-c1e9-4b63-b036-6cbe25439ef8 button.colab-df-convert');\n",
              "      buttonEl.style.display =\n",
              "        google.colab.kernel.accessAllowed ? 'block' : 'none';\n",
              "\n",
              "      async function convertToInteractive(key) {\n",
              "        const element = document.querySelector('#df-5bb0ac7f-c1e9-4b63-b036-6cbe25439ef8');\n",
              "        const dataTable =\n",
              "          await google.colab.kernel.invokeFunction('convertToInteractive',\n",
              "                                                    [key], {});\n",
              "        if (!dataTable) return;\n",
              "\n",
              "        const docLinkHtml = 'Like what you see? Visit the ' +\n",
              "          '<a target=\"_blank\" href=https://colab.research.google.com/notebooks/data_table.ipynb>data table notebook</a>'\n",
              "          + ' to learn more about interactive tables.';\n",
              "        element.innerHTML = '';\n",
              "        dataTable['output_type'] = 'display_data';\n",
              "        await google.colab.output.renderOutput(dataTable, element);\n",
              "        const docLink = document.createElement('div');\n",
              "        docLink.innerHTML = docLinkHtml;\n",
              "        element.appendChild(docLink);\n",
              "      }\n",
              "    </script>\n",
              "  </div>\n",
              "\n",
              "\n",
              "<div id=\"df-0d694a22-b75e-4958-a434-1a2267752143\">\n",
              "  <button class=\"colab-df-quickchart\" onclick=\"quickchart('df-0d694a22-b75e-4958-a434-1a2267752143')\"\n",
              "            title=\"Suggest charts\"\n",
              "            style=\"display:none;\">\n",
              "\n",
              "<svg xmlns=\"http://www.w3.org/2000/svg\" height=\"24px\"viewBox=\"0 0 24 24\"\n",
              "     width=\"24px\">\n",
              "    <g>\n",
              "        <path d=\"M19 3H5c-1.1 0-2 .9-2 2v14c0 1.1.9 2 2 2h14c1.1 0 2-.9 2-2V5c0-1.1-.9-2-2-2zM9 17H7v-7h2v7zm4 0h-2V7h2v10zm4 0h-2v-4h2v4z\"/>\n",
              "    </g>\n",
              "</svg>\n",
              "  </button>\n",
              "\n",
              "<style>\n",
              "  .colab-df-quickchart {\n",
              "      --bg-color: #E8F0FE;\n",
              "      --fill-color: #1967D2;\n",
              "      --hover-bg-color: #E2EBFA;\n",
              "      --hover-fill-color: #174EA6;\n",
              "      --disabled-fill-color: #AAA;\n",
              "      --disabled-bg-color: #DDD;\n",
              "  }\n",
              "\n",
              "  [theme=dark] .colab-df-quickchart {\n",
              "      --bg-color: #3B4455;\n",
              "      --fill-color: #D2E3FC;\n",
              "      --hover-bg-color: #434B5C;\n",
              "      --hover-fill-color: #FFFFFF;\n",
              "      --disabled-bg-color: #3B4455;\n",
              "      --disabled-fill-color: #666;\n",
              "  }\n",
              "\n",
              "  .colab-df-quickchart {\n",
              "    background-color: var(--bg-color);\n",
              "    border: none;\n",
              "    border-radius: 50%;\n",
              "    cursor: pointer;\n",
              "    display: none;\n",
              "    fill: var(--fill-color);\n",
              "    height: 32px;\n",
              "    padding: 0;\n",
              "    width: 32px;\n",
              "  }\n",
              "\n",
              "  .colab-df-quickchart:hover {\n",
              "    background-color: var(--hover-bg-color);\n",
              "    box-shadow: 0 1px 2px rgba(60, 64, 67, 0.3), 0 1px 3px 1px rgba(60, 64, 67, 0.15);\n",
              "    fill: var(--button-hover-fill-color);\n",
              "  }\n",
              "\n",
              "  .colab-df-quickchart-complete:disabled,\n",
              "  .colab-df-quickchart-complete:disabled:hover {\n",
              "    background-color: var(--disabled-bg-color);\n",
              "    fill: var(--disabled-fill-color);\n",
              "    box-shadow: none;\n",
              "  }\n",
              "\n",
              "  .colab-df-spinner {\n",
              "    border: 2px solid var(--fill-color);\n",
              "    border-color: transparent;\n",
              "    border-bottom-color: var(--fill-color);\n",
              "    animation:\n",
              "      spin 1s steps(1) infinite;\n",
              "  }\n",
              "\n",
              "  @keyframes spin {\n",
              "    0% {\n",
              "      border-color: transparent;\n",
              "      border-bottom-color: var(--fill-color);\n",
              "      border-left-color: var(--fill-color);\n",
              "    }\n",
              "    20% {\n",
              "      border-color: transparent;\n",
              "      border-left-color: var(--fill-color);\n",
              "      border-top-color: var(--fill-color);\n",
              "    }\n",
              "    30% {\n",
              "      border-color: transparent;\n",
              "      border-left-color: var(--fill-color);\n",
              "      border-top-color: var(--fill-color);\n",
              "      border-right-color: var(--fill-color);\n",
              "    }\n",
              "    40% {\n",
              "      border-color: transparent;\n",
              "      border-right-color: var(--fill-color);\n",
              "      border-top-color: var(--fill-color);\n",
              "    }\n",
              "    60% {\n",
              "      border-color: transparent;\n",
              "      border-right-color: var(--fill-color);\n",
              "    }\n",
              "    80% {\n",
              "      border-color: transparent;\n",
              "      border-right-color: var(--fill-color);\n",
              "      border-bottom-color: var(--fill-color);\n",
              "    }\n",
              "    90% {\n",
              "      border-color: transparent;\n",
              "      border-bottom-color: var(--fill-color);\n",
              "    }\n",
              "  }\n",
              "</style>\n",
              "\n",
              "  <script>\n",
              "    async function quickchart(key) {\n",
              "      const quickchartButtonEl =\n",
              "        document.querySelector('#' + key + ' button');\n",
              "      quickchartButtonEl.disabled = true;  // To prevent multiple clicks.\n",
              "      quickchartButtonEl.classList.add('colab-df-spinner');\n",
              "      try {\n",
              "        const charts = await google.colab.kernel.invokeFunction(\n",
              "            'suggestCharts', [key], {});\n",
              "      } catch (error) {\n",
              "        console.error('Error during call to suggestCharts:', error);\n",
              "      }\n",
              "      quickchartButtonEl.classList.remove('colab-df-spinner');\n",
              "      quickchartButtonEl.classList.add('colab-df-quickchart-complete');\n",
              "    }\n",
              "    (() => {\n",
              "      let quickchartButtonEl =\n",
              "        document.querySelector('#df-0d694a22-b75e-4958-a434-1a2267752143 button');\n",
              "      quickchartButtonEl.style.display =\n",
              "        google.colab.kernel.accessAllowed ? 'block' : 'none';\n",
              "    })();\n",
              "  </script>\n",
              "</div>\n",
              "    </div>\n",
              "  </div>\n"
            ],
            "application/vnd.google.colaboratory.intrinsic+json": {
              "type": "dataframe",
              "summary": "{\n  \"name\": \"data2\",\n  \"rows\": 8,\n  \"fields\": [\n    {\n      \"column\": \"BMI\",\n      \"properties\": {\n        \"dtype\": \"number\",\n        \"std\": 8827.557562121428,\n        \"min\": 6.612133854525664,\n        \"max\": 25000.0,\n        \"num_unique_values\": 8,\n        \"samples\": [\n          28.48468,\n          27.0,\n          25000.0\n        ],\n        \"semantic_type\": \"\",\n        \"description\": \"\"\n      }\n    },\n    {\n      \"column\": \"MentHlth\",\n      \"properties\": {\n        \"dtype\": \"number\",\n        \"std\": 8836.692651015199,\n        \"min\": 0.0,\n        \"max\": 25000.0,\n        \"num_unique_values\": 6,\n        \"samples\": [\n          25000.0,\n          3.15668,\n          30.0\n        ],\n        \"semantic_type\": \"\",\n        \"description\": \"\"\n      }\n    },\n    {\n      \"column\": \"PhysHlth\",\n      \"properties\": {\n        \"dtype\": \"number\",\n        \"std\": 8836.519497203843,\n        \"min\": 0.0,\n        \"max\": 25000.0,\n        \"num_unique_values\": 6,\n        \"samples\": [\n          25000.0,\n          4.21632,\n          30.0\n        ],\n        \"semantic_type\": \"\",\n        \"description\": \"\"\n      }\n    }\n  ]\n}"
            }
          },
          "metadata": {},
          "execution_count": 8
        }
      ],
      "source": [
        "data2.describe() # Untuk fitur numerik (atau continous)"
      ]
    },
    {
      "cell_type": "code",
      "source": [
        "#Statistika Deskriptif untuk fitur kategorik\n",
        "print(data2.HighBP.value_counts()) #HighBP\n",
        "print(data2.HighChol.value_counts()) #HighChol\n",
        "print(data2.Smoker.value_counts()) # Smoker\n",
        "print(data2.Stroke.value_counts()) # Stroke\n",
        "print(data2.HeartDiseaseorAttack.value_counts()) #HeartDiseaseorAttack\n",
        "print(data2.PhysActivity.value_counts()) #PhysActivity\n",
        "print(data2.HvyAlcoholConsump.value_counts()) #HvyAlcoholConsump\n",
        "print(data2.GenHlth.value_counts()) #GenHlth\n",
        "print(data2.DiffWalk.value_counts()) #DiffWalk\n",
        "print(data2.Age.value_counts()) #Age\n",
        "print(data2.Education.value_counts()) #Education\n",
        "print(data2.Income.value_counts()) #Income"
      ],
      "metadata": {
        "colab": {
          "base_uri": "https://localhost:8080/"
        },
        "id": "miaIxpKAJeuR",
        "outputId": "3e42dca1-3abb-48c7-9d4c-da78f6c93879"
      },
      "execution_count": null,
      "outputs": [
        {
          "output_type": "stream",
          "name": "stdout",
          "text": [
            "HighBP\n",
            "Tidak    14166\n",
            "Ya       10834\n",
            "Name: count, dtype: int64\n",
            "HighChol\n",
            "Tidak    14323\n",
            "Ya       10677\n",
            "Name: count, dtype: int64\n",
            "Smoker\n",
            "Tidak    13910\n",
            "Ya       11090\n",
            "Name: count, dtype: int64\n",
            "Stroke\n",
            "Tidak    23998\n",
            "Ya        1002\n",
            "Name: count, dtype: int64\n",
            "HeartDiseaseorAttack\n",
            "Tidak    22634\n",
            "Ya        2366\n",
            "Name: count, dtype: int64\n",
            "PhysActivity\n",
            "Ya       18963\n",
            "Tidak     6037\n",
            "Name: count, dtype: int64\n",
            "HvyAlcoholConsump\n",
            "Tidak    23597\n",
            "Ya        1403\n",
            "Name: count, dtype: int64\n",
            "GenHlth\n",
            "Cukup Baik            8797\n",
            "Baik                  7409\n",
            "Tidak Baik            4471\n",
            "Baik Sekali           3123\n",
            "Sangat Baik Sekali    1200\n",
            "Name: count, dtype: int64\n",
            "DiffWalk\n",
            "Tidak    20778\n",
            "Ya        4222\n",
            "Name: count, dtype: int64\n",
            "Age\n",
            "60 - 64    3324\n",
            "65 - 69    3112\n",
            "55 - 59    2971\n",
            "50 - 54    2645\n",
            "70 - 74    2334\n",
            "45 - 49    1951\n",
            "> 80       1695\n",
            "75 - 79    1627\n",
            "40 - 44    1562\n",
            "35 - 39    1388\n",
            "30 - 34    1099\n",
            "25 - 29     744\n",
            "18 - 24     548\n",
            "Name: count, dtype: int64\n",
            "Education\n",
            "Magister                10558\n",
            "S1/Diploma               6957\n",
            "SLTA                     6174\n",
            "SLTP                      929\n",
            "SD                        367\n",
            "Tidak pernah sekolah       15\n",
            "Name: count, dtype: int64\n",
            "Income\n",
            "> $75,000          8921\n",
            "$50,000-$75,000    4250\n",
            "$35,000-$50,000    3646\n",
            "$25,000-$35,000    2540\n",
            "$20,000-$25,000    1928\n",
            "$15,000-$20,000    1609\n",
            "10,000-$15,000     1176\n",
            "< $10,000           930\n",
            "Name: count, dtype: int64\n"
          ]
        }
      ]
    },
    {
      "cell_type": "markdown",
      "metadata": {
        "id": "XoI1OOfUAvPu"
      },
      "source": [
        "#PREPROCESSING DATA"
      ]
    },
    {
      "cell_type": "markdown",
      "source": [
        "###Uji Multikolinearitas"
      ],
      "metadata": {
        "id": "OXzesTLq5neP"
      }
    },
    {
      "cell_type": "code",
      "source": [
        "def calc_VIF(x):\n",
        "    vif= pd.DataFrame()\n",
        "    vif['variables']=x.columns\n",
        "    vif[\"VIF\"]=[variance_inflation_factor(x.values,i) for i in range(x.shape[1])]\n",
        "    return(vif)\n",
        "\n",
        "\n",
        "X = add_constant(data)\n",
        "ds=pd.Series([variance_inflation_factor(X.values, i) for i in range(X.shape[1])],index=X.columns)\n",
        "print(ds)"
      ],
      "metadata": {
        "colab": {
          "base_uri": "https://localhost:8080/"
        },
        "id": "2nngIFPw58zY",
        "outputId": "e85fbd2d-c2ff-4310-836a-e66f2bc3a980"
      },
      "execution_count": null,
      "outputs": [
        {
          "output_type": "stream",
          "name": "stdout",
          "text": [
            "const                   82.905424\n",
            "Diabetes_binary          1.194731\n",
            "HighBP                   1.338243\n",
            "HighChol                 1.184741\n",
            "BMI                      1.163058\n",
            "Smoker                   1.071830\n",
            "Stroke                   1.078650\n",
            "HeartDiseaseorAttack     1.169385\n",
            "PhysActivity             1.134553\n",
            "HvyAlcoholConsump        1.022798\n",
            "GenHlth                  1.868009\n",
            "MentHlth                 1.229087\n",
            "PhysHlth                 1.633908\n",
            "DiffWalk                 1.533954\n",
            "Age                      1.298842\n",
            "Education                1.308215\n",
            "Income                   1.434887\n",
            "dtype: float64\n"
          ]
        }
      ]
    },
    {
      "cell_type": "markdown",
      "metadata": {
        "id": "9IdpmtHVXjOI"
      },
      "source": [
        "##Menghapus Duplikasi Data"
      ]
    },
    {
      "cell_type": "code",
      "execution_count": null,
      "metadata": {
        "colab": {
          "base_uri": "https://localhost:8080/"
        },
        "id": "sB9AzfwQXcl6",
        "outputId": "8ab5ec8e-42cf-4ba8-eafe-d24da4cc974a"
      },
      "outputs": [
        {
          "output_type": "execute_result",
          "data": {
            "text/plain": [
              "1706"
            ]
          },
          "metadata": {},
          "execution_count": 11
        }
      ],
      "source": [
        "data.duplicated().sum()"
      ]
    },
    {
      "cell_type": "code",
      "execution_count": null,
      "metadata": {
        "colab": {
          "base_uri": "https://localhost:8080/"
        },
        "id": "v_n9lyurXm4X",
        "outputId": "b0739aa7-1232-4873-b62a-d99aa2b7276b"
      },
      "outputs": [
        {
          "output_type": "execute_result",
          "data": {
            "text/plain": [
              "0"
            ]
          },
          "metadata": {},
          "execution_count": 12
        }
      ],
      "source": [
        "data.drop_duplicates(inplace = True)\n",
        "data.duplicated().sum()"
      ]
    },
    {
      "cell_type": "markdown",
      "metadata": {
        "id": "5FGp_A51Aypp"
      },
      "source": [
        "#SMOTENC"
      ]
    },
    {
      "cell_type": "code",
      "execution_count": null,
      "metadata": {
        "id": "LBV77zKdX6de"
      },
      "outputs": [],
      "source": [
        "X=data.drop(\"Diabetes_binary\",axis=1)\n",
        "Y=data[\"Diabetes_binary\"]"
      ]
    },
    {
      "cell_type": "code",
      "execution_count": null,
      "metadata": {
        "colab": {
          "base_uri": "https://localhost:8080/",
          "height": 507
        },
        "id": "UxP6c7ovYtXd",
        "outputId": "bdf8164a-cd32-445e-dfbc-a97103e4df7c"
      },
      "outputs": [
        {
          "output_type": "display_data",
          "data": {
            "text/plain": [
              "<Figure size 500x500 with 1 Axes>"
            ],
            "image/png": "[encoded data removed]"
          },
          "metadata": {}
        }
      ],
      "source": [
        "#Visualisasi Sebelum SMOTENC\n",
        "plt.figure(figsize=(5, 5))\n",
        "ax = sns.countplot(x=\"Diabetes_binary_str\", hue=\"Diabetes_binary\", data=data2, palette = ['BLUE','RED'])\n",
        "plt.title('Perbandingan Kelas Target Sebelum SMOTENC')\n",
        "plt.xlabel('Kelas Target')\n",
        "plt.ylabel('Frekuensi')\n",
        "plt.show()"
      ]
    },
    {
      "cell_type": "code",
      "execution_count": null,
      "metadata": {
        "colab": {
          "base_uri": "https://localhost:8080/"
        },
        "id": "b17VDUXNYm2G",
        "outputId": "31beccc9-e634-4170-f6c4-7bd93d103e82"
      },
      "outputs": [
        {
          "output_type": "stream",
          "name": "stdout",
          "text": [
            "Original Data :  (23294, 15) (23294,)\n",
            "Smote Data :  (39712, 15) (39712,)\n"
          ]
        }
      ],
      "source": [
        "#Resampling SMOTENC\n",
        "cat_cols =[0,1,3,4,5,6,7,8,11,12,13,14]\n",
        "oversample = SMOTENC(random_state=77, categorical_features=cat_cols)\n",
        "print(\"Original Data : \", X.shape, Y.shape)\n",
        "\n",
        "X_smote, y_smote = oversample.fit_resample(X, Y)\n",
        "print(\"Smote Data : \", X_smote.shape, y_smote.shape)"
      ]
    },
    {
      "cell_type": "code",
      "execution_count": null,
      "metadata": {
        "colab": {
          "base_uri": "https://localhost:8080/"
        },
        "id": "RFt78ADZbFOE",
        "outputId": "09515854-bdb2-4402-e3ff-a08d4d86b325"
      },
      "outputs": [
        {
          "output_type": "execute_result",
          "data": {
            "text/plain": [
              "Diabetes_binary\n",
              "0    19856\n",
              "1    19856\n",
              "Name: count, dtype: int64"
            ]
          },
          "metadata": {},
          "execution_count": 16
        }
      ],
      "source": [
        "y_smote.value_counts()"
      ]
    },
    {
      "cell_type": "code",
      "execution_count": null,
      "metadata": {
        "colab": {
          "base_uri": "https://localhost:8080/",
          "height": 507
        },
        "id": "fiRrC6-mbmLk",
        "outputId": "fb0a4029-b958-4d77-e9a4-614d87fba7ef"
      },
      "outputs": [
        {
          "output_type": "display_data",
          "data": {
            "text/plain": [
              "<Figure size 500x500 with 1 Axes>"
            ],
            "image/png": "[encoded data removed]"
          },
          "metadata": {}
        }
      ],
      "source": [
        "#Visualisasi Setelah\n",
        "plt.figure(figsize=(5, 5))\n",
        "ax=sns.countplot(x=y_smote, data=data2, palette = ['BLUE','RED'])\n",
        "plt.title('Perbandingan Kelas Target Setelah SMOTENC')\n",
        "plt.xlabel('Kelas Target')\n",
        "plt.ylabel('Frekuensi')\n",
        "plt.show()"
      ]
    },
    {
      "cell_type": "markdown",
      "metadata": {
        "id": "j7xanyWFA24U"
      },
      "source": [
        "#SPLITTING DATA"
      ]
    },
    {
      "cell_type": "code",
      "execution_count": null,
      "metadata": {
        "colab": {
          "base_uri": "https://localhost:8080/"
        },
        "id": "cURgYvlacLSK",
        "outputId": "c3be3075-8976-4d12-f320-be7cc093d845"
      },
      "outputs": [
        {
          "output_type": "stream",
          "name": "stdout",
          "text": [
            "Training Data Shape :  (27798, 15) (27798,)\n",
            "Test Data Shape :  (11914, 15) (11914,)\n"
          ]
        }
      ],
      "source": [
        "X_train, X_test, y_train, y_test = train_test_split(X_smote, y_smote, test_size=0.3, stratify=y_smote, random_state=77)\n",
        "\n",
        "print(\"Training Data Shape : \", X_train.shape, y_train.shape)\n",
        "print(\"Test Data Shape : \", X_test.shape, y_test.shape)"
      ]
    },
    {
      "cell_type": "markdown",
      "metadata": {
        "id": "aanypiSIA5Sv"
      },
      "source": [
        "#HYPERPARAMETER TUNING"
      ]
    },
    {
      "cell_type": "code",
      "execution_count": null,
      "metadata": {
        "id": "OZTW-HYydLfV"
      },
      "outputs": [],
      "source": [
        "# Mendefinisikan parameter grid untuk hyperparameter tuning\n",
        "param_grid = {'learning_rate':[0.05, 0.08, 0.09],\n",
        "              'n_estimators': [100, 300, 500],\n",
        "              'max_depth': [6, 12, 16 ],\n",
        "              'subsample': [0.1, 0.5, 1.0],\n",
        "              'min_child_samples': [1, 10, 20],\n",
        "              'num_leaves': [24, 32, 64]}"
      ]
    },
    {
      "cell_type": "code",
      "execution_count": null,
      "metadata": {
        "id": "TrczV0zZBJul",
        "outputId": "9a34a875-7a0a-4f13-fde0-6b5539097beb",
        "colab": {
          "base_uri": "https://localhost:8080/",
          "height": 196
        }
      },
      "outputs": [
        {
          "output_type": "error",
          "ename": "NameError",
          "evalue": "name 'lgb' is not defined",
          "traceback": [
            "\u001b[0;31m---------------------------------------------------------------------------\u001b[0m",
            "\u001b[0;31mNameError\u001b[0m                                 Traceback (most recent call last)",
            "\u001b[0;32m<ipython-input-1-92554ca73958>\u001b[0m in \u001b[0;36m<cell line: 2>\u001b[0;34m()\u001b[0m\n\u001b[1;32m      1\u001b[0m \u001b[0;31m#Inisialisasi LGBMRegressor estimattor\u001b[0m\u001b[0;34m\u001b[0m\u001b[0;34m\u001b[0m\u001b[0m\n\u001b[0;32m----> 2\u001b[0;31m estimator = lgb.LGBMRegressor(objective='binary',\n\u001b[0m\u001b[1;32m      3\u001b[0m                               random_state=77)\n",
            "\u001b[0;31mNameError\u001b[0m: name 'lgb' is not defined"
          ]
        }
      ],
      "source": [
        "#Inisialisasi LGBMRegressor estimattor\n",
        "estimator = lgb.LGBMRegressor(objective='binary',\n",
        "                              random_state=77)"
      ]
    },
    {
      "cell_type": "code",
      "execution_count": null,
      "metadata": {
        "colab": {
          "base_uri": "https://localhost:8080/",
          "height": 261
        },
        "id": "aZ5WOVZTNGdN",
        "outputId": "fe29d052-964d-47dd-b5a0-506048c443b4"
      },
      "outputs": [
        {
          "output_type": "stream",
          "name": "stdout",
          "text": [
            "[LightGBM] [Info] Number of positive: 13899, number of negative: 13899\n",
            "[LightGBM] [Info] Auto-choosing row-wise multi-threading, the overhead of testing was 0.005127 seconds.\n",
            "You can set `force_row_wise=true` to remove the overhead.\n",
            "And if memory is not enough, you can set `force_col_wise=true`.\n",
            "[LightGBM] [Info] Total Bins 180\n",
            "[LightGBM] [Info] Number of data points in the train set: 27798, number of used features: 15\n",
            "[LightGBM] [Info] [binary:BoostFromScore]: pavg=0.500000 -> initscore=0.000000\n"
          ]
        },
        {
          "output_type": "execute_result",
          "data": {
            "text/plain": [
              "GridSearchCV(cv=3, estimator=LGBMRegressor(objective='binary', random_state=77),\n",
              "             n_jobs=-1,\n",
              "             param_grid={'learning_rate': [0.05, 0.08, 0.09],\n",
              "                         'max_depth': [6, 12, 16],\n",
              "                         'min_child_samples': [1, 10, 20],\n",
              "                         'n_estimators': [100, 300, 500],\n",
              "                         'num_leaves': [24, 32, 64],\n",
              "                         'subsample': [0.1, 0.5, 1.0]},\n",
              "             scoring='neg_root_mean_squared_error')"
            ],
            "text/html": [
              "<style>#sk-container-id-1 {color: black;background-color: white;}#sk-container-id-1 pre{padding: 0;}#sk-container-id-1 div.sk-toggleable {background-color: white;}#sk-container-id-1 label.sk-toggleable__label {cursor: pointer;display: block;width: 100%;margin-bottom: 0;padding: 0.3em;box-sizing: border-box;text-align: center;}#sk-container-id-1 label.sk-toggleable__label-arrow:before {content: \"▸\";float: left;margin-right: 0.25em;color: #696969;}#sk-container-id-1 label.sk-toggleable__label-arrow:hover:before {color: black;}#sk-container-id-1 div.sk-estimator:hover label.sk-toggleable__label-arrow:before {color: black;}#sk-container-id-1 div.sk-toggleable__content {max-height: 0;max-width: 0;overflow: hidden;text-align: left;background-color: #f0f8ff;}#sk-container-id-1 div.sk-toggleable__content pre {margin: 0.2em;color: black;border-radius: 0.25em;background-color: #f0f8ff;}#sk-container-id-1 input.sk-toggleable__control:checked~div.sk-toggleable__content {max-height: 200px;max-width: 100%;overflow: auto;}#sk-container-id-1 input.sk-toggleable__control:checked~label.sk-toggleable__label-arrow:before {content: \"▾\";}#sk-container-id-1 div.sk-estimator input.sk-toggleable__control:checked~label.sk-toggleable__label {background-color: #d4ebff;}#sk-container-id-1 div.sk-label input.sk-toggleable__control:checked~label.sk-toggleable__label {background-color: #d4ebff;}#sk-container-id-1 input.sk-hidden--visually {border: 0;clip: rect(1px 1px 1px 1px);clip: rect(1px, 1px, 1px, 1px);height: 1px;margin: -1px;overflow: hidden;padding: 0;position: absolute;width: 1px;}#sk-container-id-1 div.sk-estimator {font-family: monospace;background-color: #f0f8ff;border: 1px dotted black;border-radius: 0.25em;box-sizing: border-box;margin-bottom: 0.5em;}#sk-container-id-1 div.sk-estimator:hover {background-color: #d4ebff;}#sk-container-id-1 div.sk-parallel-item::after {content: \"\";width: 100%;border-bottom: 1px solid gray;flex-grow: 1;}#sk-container-id-1 div.sk-label:hover label.sk-toggleable__label {background-color: #d4ebff;}#sk-container-id-1 div.sk-serial::before {content: \"\";position: absolute;border-left: 1px solid gray;box-sizing: border-box;top: 0;bottom: 0;left: 50%;z-index: 0;}#sk-container-id-1 div.sk-serial {display: flex;flex-direction: column;align-items: center;background-color: white;padding-right: 0.2em;padding-left: 0.2em;position: relative;}#sk-container-id-1 div.sk-item {position: relative;z-index: 1;}#sk-container-id-1 div.sk-parallel {display: flex;align-items: stretch;justify-content: center;background-color: white;position: relative;}#sk-container-id-1 div.sk-item::before, #sk-container-id-1 div.sk-parallel-item::before {content: \"\";position: absolute;border-left: 1px solid gray;box-sizing: border-box;top: 0;bottom: 0;left: 50%;z-index: -1;}#sk-container-id-1 div.sk-parallel-item {display: flex;flex-direction: column;z-index: 1;position: relative;background-color: white;}#sk-container-id-1 div.sk-parallel-item:first-child::after {align-self: flex-end;width: 50%;}#sk-container-id-1 div.sk-parallel-item:last-child::after {align-self: flex-start;width: 50%;}#sk-container-id-1 div.sk-parallel-item:only-child::after {width: 0;}#sk-container-id-1 div.sk-dashed-wrapped {border: 1px dashed gray;margin: 0 0.4em 0.5em 0.4em;box-sizing: border-box;padding-bottom: 0.4em;background-color: white;}#sk-container-id-1 div.sk-label label {font-family: monospace;font-weight: bold;display: inline-block;line-height: 1.2em;}#sk-container-id-1 div.sk-label-container {text-align: center;}#sk-container-id-1 div.sk-container {/* jupyter's `normalize.less` sets `[hidden] { display: none; }` but bootstrap.min.css set `[hidden] { display: none !important; }` so we also need the `!important` here to be able to override the default hidden behavior on the sphinx rendered scikit-learn.org. See: https://github.com/scikit-learn/scikit-learn/issues/21755 */display: inline-block !important;position: relative;}#sk-container-id-1 div.sk-text-repr-fallback {display: none;}</style><div id=\"sk-container-id-1\" class=\"sk-top-container\"><div class=\"sk-text-repr-fallback\"><pre>GridSearchCV(cv=3, estimator=LGBMRegressor(objective=&#x27;binary&#x27;, random_state=77),\n",
              "             n_jobs=-1,\n",
              "             param_grid={&#x27;learning_rate&#x27;: [0.05, 0.08, 0.09],\n",
              "                         &#x27;max_depth&#x27;: [6, 12, 16],\n",
              "                         &#x27;min_child_samples&#x27;: [1, 10, 20],\n",
              "                         &#x27;n_estimators&#x27;: [100, 300, 500],\n",
              "                         &#x27;num_leaves&#x27;: [24, 32, 64],\n",
              "                         &#x27;subsample&#x27;: [0.1, 0.5, 1.0]},\n",
              "             scoring=&#x27;neg_root_mean_squared_error&#x27;)</pre><b>In a Jupyter environment, please rerun this cell to show the HTML representation or trust the notebook. <br />On GitHub, the HTML representation is unable to render, please try loading this page with nbviewer.org.</b></div><div class=\"sk-container\" hidden><div class=\"sk-item sk-dashed-wrapped\"><div class=\"sk-label-container\"><div class=\"sk-label sk-toggleable\"><input class=\"sk-toggleable__control sk-hidden--visually\" id=\"sk-estimator-id-1\" type=\"checkbox\" ><label for=\"sk-estimator-id-1\" class=\"sk-toggleable__label sk-toggleable__label-arrow\">GridSearchCV</label><div class=\"sk-toggleable__content\"><pre>GridSearchCV(cv=3, estimator=LGBMRegressor(objective=&#x27;binary&#x27;, random_state=77),\n",
              "             n_jobs=-1,\n",
              "             param_grid={&#x27;learning_rate&#x27;: [0.05, 0.08, 0.09],\n",
              "                         &#x27;max_depth&#x27;: [6, 12, 16],\n",
              "                         &#x27;min_child_samples&#x27;: [1, 10, 20],\n",
              "                         &#x27;n_estimators&#x27;: [100, 300, 500],\n",
              "                         &#x27;num_leaves&#x27;: [24, 32, 64],\n",
              "                         &#x27;subsample&#x27;: [0.1, 0.5, 1.0]},\n",
              "             scoring=&#x27;neg_root_mean_squared_error&#x27;)</pre></div></div></div><div class=\"sk-parallel\"><div class=\"sk-parallel-item\"><div class=\"sk-item\"><div class=\"sk-label-container\"><div class=\"sk-label sk-toggleable\"><input class=\"sk-toggleable__control sk-hidden--visually\" id=\"sk-estimator-id-2\" type=\"checkbox\" ><label for=\"sk-estimator-id-2\" class=\"sk-toggleable__label sk-toggleable__label-arrow\">estimator: LGBMRegressor</label><div class=\"sk-toggleable__content\"><pre>LGBMRegressor(objective=&#x27;binary&#x27;, random_state=77)</pre></div></div></div><div class=\"sk-serial\"><div class=\"sk-item\"><div class=\"sk-estimator sk-toggleable\"><input class=\"sk-toggleable__control sk-hidden--visually\" id=\"sk-estimator-id-3\" type=\"checkbox\" ><label for=\"sk-estimator-id-3\" class=\"sk-toggleable__label sk-toggleable__label-arrow\">LGBMRegressor</label><div class=\"sk-toggleable__content\"><pre>LGBMRegressor(objective=&#x27;binary&#x27;, random_state=77)</pre></div></div></div></div></div></div></div></div></div></div>"
            ]
          },
          "metadata": {},
          "execution_count": 21
        }
      ],
      "source": [
        "# Inisialisasi Grid Search dengan 3-fold cross validation and fit model .\n",
        "model = GridSearchCV(estimator=estimator,\n",
        "                     param_grid=param_grid,\n",
        "                     cv=3, n_jobs=-1,\n",
        "                     scoring='neg_root_mean_squared_error')\n",
        "model.fit(X_train, y_train)"
      ]
    },
    {
      "cell_type": "code",
      "execution_count": null,
      "metadata": {
        "colab": {
          "base_uri": "https://localhost:8080/"
        },
        "id": "gi-NxpsEiX3G",
        "outputId": "8fcb580b-a50c-4f07-f3b1-86e31196d00d"
      },
      "outputs": [
        {
          "output_type": "stream",
          "name": "stdout",
          "text": [
            "LGBMRegressor(learning_rate=0.09, max_depth=16, n_estimators=500, num_leaves=64,\n",
            "              objective='binary', random_state=77, subsample=0.1)\n"
          ]
        }
      ],
      "source": [
        "# Step 4: Print best parameters\n",
        "best_params = model.best_estimator_\n",
        "print(best_params)"
      ]
    },
    {
      "cell_type": "markdown",
      "metadata": {
        "id": "as3OugjMA8Jx"
      },
      "source": [
        "#KLASIFIKASI SMOTENC-LGBM"
      ]
    },
    {
      "cell_type": "code",
      "execution_count": null,
      "metadata": {
        "colab": {
          "base_uri": "https://localhost:8080/",
          "height": 234
        },
        "id": "DRWjDYjqgfs6",
        "outputId": "23a96c6b-690e-4686-c68c-a21640d5bd1a"
      },
      "outputs": [
        {
          "output_type": "stream",
          "name": "stdout",
          "text": [
            "[LightGBM] [Info] Number of positive: 13899, number of negative: 13899\n",
            "[LightGBM] [Info] Auto-choosing col-wise multi-threading, the overhead of testing was 0.011149 seconds.\n",
            "You can set `force_col_wise=true` to remove the overhead.\n",
            "[LightGBM] [Info] Total Bins 180\n",
            "[LightGBM] [Info] Number of data points in the train set: 27798, number of used features: 15\n",
            "[LightGBM] [Info] [binary:BoostFromScore]: pavg=0.500000 -> initscore=0.000000\n"
          ]
        },
        {
          "output_type": "execute_result",
          "data": {
            "text/plain": [
              "LGBMClassifier(learning_rate=0.09, max_depth=16, min_child_samples=1,\n",
              "               n_estimators=500, num_leaves=64, objective='binary',\n",
              "               random_state=77, subsample=0.1)"
            ],
            "text/html": [
              "<style>#sk-container-id-2 {color: black;background-color: white;}#sk-container-id-2 pre{padding: 0;}#sk-container-id-2 div.sk-toggleable {background-color: white;}#sk-container-id-2 label.sk-toggleable__label {cursor: pointer;display: block;width: 100%;margin-bottom: 0;padding: 0.3em;box-sizing: border-box;text-align: center;}#sk-container-id-2 label.sk-toggleable__label-arrow:before {content: \"▸\";float: left;margin-right: 0.25em;color: #696969;}#sk-container-id-2 label.sk-toggleable__label-arrow:hover:before {color: black;}#sk-container-id-2 div.sk-estimator:hover label.sk-toggleable__label-arrow:before {color: black;}#sk-container-id-2 div.sk-toggleable__content {max-height: 0;max-width: 0;overflow: hidden;text-align: left;background-color: #f0f8ff;}#sk-container-id-2 div.sk-toggleable__content pre {margin: 0.2em;color: black;border-radius: 0.25em;background-color: #f0f8ff;}#sk-container-id-2 input.sk-toggleable__control:checked~div.sk-toggleable__content {max-height: 200px;max-width: 100%;overflow: auto;}#sk-container-id-2 input.sk-toggleable__control:checked~label.sk-toggleable__label-arrow:before {content: \"▾\";}#sk-container-id-2 div.sk-estimator input.sk-toggleable__control:checked~label.sk-toggleable__label {background-color: #d4ebff;}#sk-container-id-2 div.sk-label input.sk-toggleable__control:checked~label.sk-toggleable__label {background-color: #d4ebff;}#sk-container-id-2 input.sk-hidden--visually {border: 0;clip: rect(1px 1px 1px 1px);clip: rect(1px, 1px, 1px, 1px);height: 1px;margin: -1px;overflow: hidden;padding: 0;position: absolute;width: 1px;}#sk-container-id-2 div.sk-estimator {font-family: monospace;background-color: #f0f8ff;border: 1px dotted black;border-radius: 0.25em;box-sizing: border-box;margin-bottom: 0.5em;}#sk-container-id-2 div.sk-estimator:hover {background-color: #d4ebff;}#sk-container-id-2 div.sk-parallel-item::after {content: \"\";width: 100%;border-bottom: 1px solid gray;flex-grow: 1;}#sk-container-id-2 div.sk-label:hover label.sk-toggleable__label {background-color: #d4ebff;}#sk-container-id-2 div.sk-serial::before {content: \"\";position: absolute;border-left: 1px solid gray;box-sizing: border-box;top: 0;bottom: 0;left: 50%;z-index: 0;}#sk-container-id-2 div.sk-serial {display: flex;flex-direction: column;align-items: center;background-color: white;padding-right: 0.2em;padding-left: 0.2em;position: relative;}#sk-container-id-2 div.sk-item {position: relative;z-index: 1;}#sk-container-id-2 div.sk-parallel {display: flex;align-items: stretch;justify-content: center;background-color: white;position: relative;}#sk-container-id-2 div.sk-item::before, #sk-container-id-2 div.sk-parallel-item::before {content: \"\";position: absolute;border-left: 1px solid gray;box-sizing: border-box;top: 0;bottom: 0;left: 50%;z-index: -1;}#sk-container-id-2 div.sk-parallel-item {display: flex;flex-direction: column;z-index: 1;position: relative;background-color: white;}#sk-container-id-2 div.sk-parallel-item:first-child::after {align-self: flex-end;width: 50%;}#sk-container-id-2 div.sk-parallel-item:last-child::after {align-self: flex-start;width: 50%;}#sk-container-id-2 div.sk-parallel-item:only-child::after {width: 0;}#sk-container-id-2 div.sk-dashed-wrapped {border: 1px dashed gray;margin: 0 0.4em 0.5em 0.4em;box-sizing: border-box;padding-bottom: 0.4em;background-color: white;}#sk-container-id-2 div.sk-label label {font-family: monospace;font-weight: bold;display: inline-block;line-height: 1.2em;}#sk-container-id-2 div.sk-label-container {text-align: center;}#sk-container-id-2 div.sk-container {/* jupyter's `normalize.less` sets `[hidden] { display: none; }` but bootstrap.min.css set `[hidden] { display: none !important; }` so we also need the `!important` here to be able to override the default hidden behavior on the sphinx rendered scikit-learn.org. See: https://github.com/scikit-learn/scikit-learn/issues/21755 */display: inline-block !important;position: relative;}#sk-container-id-2 div.sk-text-repr-fallback {display: none;}</style><div id=\"sk-container-id-2\" class=\"sk-top-container\"><div class=\"sk-text-repr-fallback\"><pre>LGBMClassifier(learning_rate=0.09, max_depth=16, min_child_samples=1,\n",
              "               n_estimators=500, num_leaves=64, objective=&#x27;binary&#x27;,\n",
              "               random_state=77, subsample=0.1)</pre><b>In a Jupyter environment, please rerun this cell to show the HTML representation or trust the notebook. <br />On GitHub, the HTML representation is unable to render, please try loading this page with nbviewer.org.</b></div><div class=\"sk-container\" hidden><div class=\"sk-item\"><div class=\"sk-estimator sk-toggleable\"><input class=\"sk-toggleable__control sk-hidden--visually\" id=\"sk-estimator-id-4\" type=\"checkbox\" checked><label for=\"sk-estimator-id-4\" class=\"sk-toggleable__label sk-toggleable__label-arrow\">LGBMClassifier</label><div class=\"sk-toggleable__content\"><pre>LGBMClassifier(learning_rate=0.09, max_depth=16, min_child_samples=1,\n",
              "               n_estimators=500, num_leaves=64, objective=&#x27;binary&#x27;,\n",
              "               random_state=77, subsample=0.1)</pre></div></div></div></div></div>"
            ]
          },
          "metadata": {},
          "execution_count": 23
        }
      ],
      "source": [
        "lgbm = LGBMClassifier(learning_rate=0.09, max_depth=16, min_child_samples=1,\n",
        "              n_estimators=500, num_leaves=64, objective='binary',\n",
        "              random_state=77, subsample=0.1)\n",
        "lgbm.fit(X_train, y_train)"
      ]
    },
    {
      "cell_type": "code",
      "execution_count": null,
      "metadata": {
        "id": "XDNJU0KKn-iO"
      },
      "outputs": [],
      "source": [
        "y_pred=lgbm.predict(X_test)"
      ]
    },
    {
      "cell_type": "code",
      "execution_count": null,
      "metadata": {
        "colab": {
          "base_uri": "https://localhost:8080/",
          "height": 211
        },
        "id": "eZrmvt1yoyl0",
        "outputId": "69e6af4c-0a71-4eb0-bd11-cf006bc11d47"
      },
      "outputs": [
        {
          "output_type": "error",
          "ename": "NameError",
          "evalue": "name 'confusion_matrix' is not defined",
          "traceback": [
            "\u001b[0;31m---------------------------------------------------------------------------\u001b[0m",
            "\u001b[0;31mNameError\u001b[0m                                 Traceback (most recent call last)",
            "\u001b[0;32m<ipython-input-1-6555dac7a87c>\u001b[0m in \u001b[0;36m<cell line: 2>\u001b[0;34m()\u001b[0m\n\u001b[1;32m      1\u001b[0m \u001b[0;31m# calculating and plotting the confusion matrix\u001b[0m\u001b[0;34m\u001b[0m\u001b[0;34m\u001b[0m\u001b[0m\n\u001b[0;32m----> 2\u001b[0;31m \u001b[0mcm1\u001b[0m \u001b[0;34m=\u001b[0m \u001b[0mconfusion_matrix\u001b[0m\u001b[0;34m(\u001b[0m\u001b[0my_test\u001b[0m\u001b[0;34m,\u001b[0m\u001b[0my_pred\u001b[0m\u001b[0;34m)\u001b[0m\u001b[0;34m\u001b[0m\u001b[0;34m\u001b[0m\u001b[0m\n\u001b[0m\u001b[1;32m      3\u001b[0m plot_confusion_matrix(conf_mat=cm1,show_absolute=True,\n\u001b[1;32m      4\u001b[0m                                 \u001b[0mshow_normed\u001b[0m\u001b[0;34m=\u001b[0m\u001b[0;32mTrue\u001b[0m\u001b[0;34m,\u001b[0m\u001b[0;34m\u001b[0m\u001b[0;34m\u001b[0m\u001b[0m\n\u001b[1;32m      5\u001b[0m                                 colorbar=True)\n",
            "\u001b[0;31mNameError\u001b[0m: name 'confusion_matrix' is not defined"
          ]
        }
      ],
      "source": [
        "# calculating and plotting the confusion matrix\n",
        "cm1 = confusion_matrix(y_test,y_pred)\n",
        "plot_confusion_matrix(conf_mat=cm1,show_absolute=True,\n",
        "                                show_normed=True,\n",
        "                                colorbar=True)\n",
        "plt.show()"
      ]
    },
    {
      "cell_type": "markdown",
      "source": [
        "#EVALUASI MODEL"
      ],
      "metadata": {
        "id": "N78vjs8wr-Mu"
      }
    },
    {
      "cell_type": "code",
      "source": [
        "print('Training set score: {:.4f}'.format(lgbm.score(X_train, y_train)))\n",
        "print('Test set score: {:.4f}'.format(lgbm.score(X_test, y_test)))"
      ],
      "metadata": {
        "colab": {
          "base_uri": "https://localhost:8080/"
        },
        "id": "QB5-yf6YsMV6",
        "outputId": "8ac2faa5-cbe6-4f6a-e22a-9608a49152c9"
      },
      "execution_count": null,
      "outputs": [
        {
          "output_type": "stream",
          "name": "stdout",
          "text": [
            "Training set score: 0.9388\n",
            "Test set score: 0.8434\n"
          ]
        }
      ]
    },
    {
      "cell_type": "code",
      "execution_count": null,
      "metadata": {
        "colab": {
          "base_uri": "https://localhost:8080/"
        },
        "id": "bV5YcyjDAOwu",
        "outputId": "55e87750-c0c8-498b-a7c5-0b567eb69ba0"
      },
      "outputs": [
        {
          "output_type": "stream",
          "name": "stdout",
          "text": [
            "              precision    recall  f1-score   support\n",
            "\n",
            "           0       0.88      0.80      0.84      5957\n",
            "           1       0.81      0.89      0.85      5957\n",
            "\n",
            "    accuracy                           0.84     11914\n",
            "   macro avg       0.85      0.84      0.84     11914\n",
            "weighted avg       0.85      0.84      0.84     11914\n",
            "\n"
          ]
        }
      ],
      "source": [
        "matrix = classification_report(y_test,y_pred)\n",
        "print(matrix)"
      ]
    },
    {
      "cell_type": "code",
      "execution_count": null,
      "metadata": {
        "colab": {
          "base_uri": "https://localhost:8080/"
        },
        "id": "j7hd9U8fo7QO",
        "outputId": "850fdbc9-b8ac-4e2d-f1b6-7e48fc944469"
      },
      "outputs": [
        {
          "output_type": "stream",
          "name": "stdout",
          "text": [
            "ROC AUC: 0.8434\n"
          ]
        }
      ],
      "source": [
        "from sklearn.metrics import auc, roc_curve\n",
        "fpr, tpr, _ = roc_curve(y_test, y_pred)\n",
        "score = auc(fpr, tpr)\n",
        "print(f\"ROC AUC: {score:.4f}\")"
      ]
    },
    {
      "cell_type": "markdown",
      "source": [
        "#DIAGRAM POHON KLASIFIKASI"
      ],
      "metadata": {
        "id": "8-96mgal9FuN"
      }
    },
    {
      "cell_type": "code",
      "source": [
        "lgb.create_tree_digraph(lgbm, orientation='vertical')"
      ],
      "metadata": {
        "colab": {
          "base_uri": "https://localhost:8080/",
          "height": 1000
        },
        "id": "Tb8rWixj9D7b",
        "outputId": "150aa379-96e0-4305-d7d7-8945ea399ba4"
      },
      "execution_count": null,
      "outputs": [
        {
          "output_type": "execute_result",
          "data": {
            "image/svg+xml": "<?xml version=\"1.0\" encoding=\"UTF-8\" standalone=\"no\"?>\n<!DOCTYPE svg PUBLIC \"-//W3C//DTD SVG 1.1//EN\"\n \"http://www.w3.org/Graphics/SVG/1.1/DTD/svg11.dtd\">\n<!-- Generated by graphviz version 2.43.0 (0)\n -->\n<!-- Title: %3 Pages: 1 -->\n<svg width=\"3690pt\" height=\"847pt\"\n viewBox=\"0.00 0.00 3690.14 847.00\" xmlns=\"http://www.w3.org/2000/svg\" xmlns:xlink=\"http://www.w3.org/1999/xlink\">\n<g id=\"graph0\" class=\"graph\" transform=\"scale(1 1) rotate(0) translate(4 843)\">\n<title>%3</title>\n<polygon fill=\"white\" stroke=\"transparent\" points=\"-4,4 -4,-843 3686.14,-843 3686.14,4 -4,4\"/>\n<!-- leaf0 -->\n<g id=\"node1\" class=\"node\">\n<title>leaf0</title>\n<ellipse fill=\"none\" stroke=\"black\" cx=\"331.69\" cy=\"-602\" rx=\"59.29\" ry=\"18\"/>\n<text text-anchor=\"start\" x=\"294.19\" y=\"-599.3\" font-family=\"Times,serif\" font-size=\"14.00\">leaf 0: </text>\n<text text-anchor=\"start\" x=\"333.19\" y=\"-599.3\" font-family=\"Times,serif\" font-weight=\"bold\" font-size=\"14.00\">&#45;0.172</text>\n</g>\n<!-- split8 -->\n<g id=\"node2\" class=\"node\">\n<title>split8</title>\n<polygon fill=\"none\" stroke=\"black\" points=\"482.69,-693 400.69,-693 400.69,-657 482.69,-657 482.69,-693\"/>\n<text text-anchor=\"start\" x=\"408.69\" y=\"-672.3\" font-family=\"Times,serif\" font-weight=\"bold\" font-size=\"14.00\">Age</text>\n<text text-anchor=\"start\" x=\"431.69\" y=\"-672.3\" font-family=\"Times,serif\" font-size=\"14.00\"> ≤</text>\n<text text-anchor=\"start\" x=\"443.69\" y=\"-672.3\" font-family=\"Times,serif\" font-weight=\"bold\" font-size=\"14.00\">6.500</text>\n</g>\n<!-- split8&#45;&gt;leaf0 -->\n<g id=\"edge1\" class=\"edge\">\n<title>split8&#45;&gt;leaf0</title>\n<path fill=\"none\" stroke=\"black\" d=\"M415.35,-656.99C400.12,-647.16 380.82,-634.71 364.6,-624.24\"/>\n<polygon fill=\"black\" stroke=\"black\" points=\"366.25,-621.14 355.95,-618.65 362.45,-627.02 366.25,-621.14\"/>\n<text text-anchor=\"middle\" x=\"406.19\" y=\"-634.8\" font-family=\"Times,serif\" font-size=\"14.00\">yes</text>\n</g>\n<!-- split24 -->\n<g id=\"node4\" class=\"node\">\n<title>split24</title>\n<polygon fill=\"none\" stroke=\"black\" points=\"488.69,-620 394.69,-620 394.69,-584 488.69,-584 488.69,-620\"/>\n<text text-anchor=\"start\" x=\"402.69\" y=\"-599.3\" font-family=\"Times,serif\" font-weight=\"bold\" font-size=\"14.00\">BMI</text>\n<text text-anchor=\"start\" x=\"430.69\" y=\"-599.3\" font-family=\"Times,serif\" font-size=\"14.00\"> ≤</text>\n<text text-anchor=\"start\" x=\"442.69\" y=\"-599.3\" font-family=\"Times,serif\" font-weight=\"bold\" font-size=\"14.00\">24.500</text>\n</g>\n<!-- split8&#45;&gt;split24 -->\n<g id=\"edge14\" class=\"edge\">\n<title>split8&#45;&gt;split24</title>\n<path fill=\"none\" stroke=\"black\" d=\"M441.69,-656.81C441.69,-648.79 441.69,-639.05 441.69,-630.07\"/>\n<polygon fill=\"black\" stroke=\"black\" points=\"445.19,-630.03 441.69,-620.03 438.19,-630.03 445.19,-630.03\"/>\n<text text-anchor=\"middle\" x=\"448.69\" y=\"-634.8\" font-family=\"Times,serif\" font-size=\"14.00\">no</text>\n</g>\n<!-- leaf9 -->\n<g id=\"node3\" class=\"node\">\n<title>leaf9</title>\n<ellipse fill=\"none\" stroke=\"black\" cx=\"322.69\" cy=\"-529\" rx=\"59.29\" ry=\"18\"/>\n<text text-anchor=\"start\" x=\"285.19\" y=\"-526.3\" font-family=\"Times,serif\" font-size=\"14.00\">leaf 9: </text>\n<text text-anchor=\"start\" x=\"324.19\" y=\"-526.3\" font-family=\"Times,serif\" font-weight=\"bold\" font-size=\"14.00\">&#45;0.141</text>\n</g>\n<!-- split24&#45;&gt;leaf9 -->\n<g id=\"edge2\" class=\"edge\">\n<title>split24&#45;&gt;leaf9</title>\n<path fill=\"none\" stroke=\"black\" d=\"M413.19,-583.99C396.44,-574 375.15,-561.3 357.43,-550.72\"/>\n<polygon fill=\"black\" stroke=\"black\" points=\"358.91,-547.53 348.53,-545.41 355.32,-553.54 358.91,-547.53\"/>\n<text text-anchor=\"middle\" x=\"403.19\" y=\"-561.8\" font-family=\"Times,serif\" font-size=\"14.00\">yes</text>\n</g>\n<!-- split36 -->\n<g id=\"node8\" class=\"node\">\n<title>split36</title>\n<polygon fill=\"none\" stroke=\"black\" points=\"497.19,-547 386.19,-547 386.19,-511 497.19,-511 497.19,-547\"/>\n<text text-anchor=\"start\" x=\"394.19\" y=\"-526.3\" font-family=\"Times,serif\" font-weight=\"bold\" font-size=\"14.00\">GenHlth</text>\n<text text-anchor=\"start\" x=\"446.19\" y=\"-526.3\" font-family=\"Times,serif\" font-size=\"14.00\"> ≤</text>\n<text text-anchor=\"start\" x=\"458.19\" y=\"-526.3\" font-family=\"Times,serif\" font-weight=\"bold\" font-size=\"14.00\">1.500</text>\n</g>\n<!-- split24&#45;&gt;split36 -->\n<g id=\"edge13\" class=\"edge\">\n<title>split24&#45;&gt;split36</title>\n<path fill=\"none\" stroke=\"black\" d=\"M441.69,-583.81C441.69,-575.79 441.69,-566.05 441.69,-557.07\"/>\n<polygon fill=\"black\" stroke=\"black\" points=\"445.19,-557.03 441.69,-547.03 438.19,-557.03 445.19,-557.03\"/>\n<text text-anchor=\"middle\" x=\"448.69\" y=\"-561.8\" font-family=\"Times,serif\" font-size=\"14.00\">no</text>\n</g>\n<!-- leaf25 -->\n<g id=\"node5\" class=\"node\">\n<title>leaf25</title>\n<ellipse fill=\"none\" stroke=\"black\" cx=\"63.69\" cy=\"-383\" rx=\"63.89\" ry=\"18\"/>\n<text text-anchor=\"start\" x=\"22.69\" y=\"-380.3\" font-family=\"Times,serif\" font-size=\"14.00\">leaf 25: </text>\n<text text-anchor=\"start\" x=\"68.69\" y=\"-380.3\" font-family=\"Times,serif\" font-weight=\"bold\" font-size=\"14.00\">&#45;0.143</text>\n</g>\n<!-- split56 -->\n<g id=\"node6\" class=\"node\">\n<title>split56</title>\n<polygon fill=\"none\" stroke=\"black\" points=\"238.69,-474 150.69,-474 150.69,-438 238.69,-438 238.69,-474\"/>\n<text text-anchor=\"start\" x=\"158.69\" y=\"-453.3\" font-family=\"Times,serif\" font-weight=\"bold\" font-size=\"14.00\">Age</text>\n<text text-anchor=\"start\" x=\"181.69\" y=\"-453.3\" font-family=\"Times,serif\" font-size=\"14.00\"> ≤</text>\n<text text-anchor=\"start\" x=\"193.69\" y=\"-453.3\" font-family=\"Times,serif\" font-weight=\"bold\" font-size=\"14.00\">11.500</text>\n</g>\n<!-- split56&#45;&gt;leaf25 -->\n<g id=\"edge3\" class=\"edge\">\n<title>split56&#45;&gt;leaf25</title>\n<path fill=\"none\" stroke=\"black\" d=\"M163.32,-437.99C144.5,-427.79 120.46,-414.77 100.72,-404.07\"/>\n<polygon fill=\"black\" stroke=\"black\" points=\"102.16,-400.86 91.7,-399.18 98.82,-407.02 102.16,-400.86\"/>\n<text text-anchor=\"middle\" x=\"151.19\" y=\"-415.8\" font-family=\"Times,serif\" font-size=\"14.00\">yes</text>\n</g>\n<!-- leaf57 -->\n<g id=\"node7\" class=\"node\">\n<title>leaf57</title>\n<ellipse fill=\"none\" stroke=\"black\" cx=\"194.69\" cy=\"-383\" rx=\"63.89\" ry=\"18\"/>\n<text text-anchor=\"start\" x=\"153.69\" y=\"-380.3\" font-family=\"Times,serif\" font-size=\"14.00\">leaf 57: </text>\n<text text-anchor=\"start\" x=\"199.69\" y=\"-380.3\" font-family=\"Times,serif\" font-weight=\"bold\" font-size=\"14.00\">&#45;0.057</text>\n</g>\n<!-- split56&#45;&gt;leaf57 -->\n<g id=\"edge4\" class=\"edge\">\n<title>split56&#45;&gt;leaf57</title>\n<path fill=\"none\" stroke=\"black\" d=\"M194.69,-437.81C194.69,-429.79 194.69,-420.05 194.69,-411.07\"/>\n<polygon fill=\"black\" stroke=\"black\" points=\"198.19,-411.03 194.69,-401.03 191.19,-411.03 198.19,-411.03\"/>\n<text text-anchor=\"middle\" x=\"201.69\" y=\"-415.8\" font-family=\"Times,serif\" font-size=\"14.00\">no</text>\n</g>\n<!-- split36&#45;&gt;split56 -->\n<g id=\"edge5\" class=\"edge\">\n<title>split36&#45;&gt;split56</title>\n<path fill=\"none\" stroke=\"black\" d=\"M385.95,-511.98C344.81,-500.15 289.14,-484.15 248.47,-472.46\"/>\n<polygon fill=\"black\" stroke=\"black\" points=\"249.31,-469.06 238.73,-469.66 247.37,-475.78 249.31,-469.06\"/>\n<text text-anchor=\"middle\" x=\"350.19\" y=\"-488.8\" font-family=\"Times,serif\" font-size=\"14.00\">yes</text>\n</g>\n<!-- split48 -->\n<g id=\"node14\" class=\"node\">\n<title>split48</title>\n<polygon fill=\"none\" stroke=\"black\" points=\"500.69,-474 382.69,-474 382.69,-438 500.69,-438 500.69,-474\"/>\n<text text-anchor=\"start\" x=\"390.69\" y=\"-453.3\" font-family=\"Times,serif\" font-weight=\"bold\" font-size=\"14.00\">MentHlth</text>\n<text text-anchor=\"start\" x=\"449.69\" y=\"-453.3\" font-family=\"Times,serif\" font-size=\"14.00\"> ≤</text>\n<text text-anchor=\"start\" x=\"461.69\" y=\"-453.3\" font-family=\"Times,serif\" font-weight=\"bold\" font-size=\"14.00\">1.500</text>\n</g>\n<!-- split36&#45;&gt;split48 -->\n<g id=\"edge12\" class=\"edge\">\n<title>split36&#45;&gt;split48</title>\n<path fill=\"none\" stroke=\"black\" d=\"M441.69,-510.81C441.69,-502.79 441.69,-493.05 441.69,-484.07\"/>\n<polygon fill=\"black\" stroke=\"black\" points=\"445.19,-484.03 441.69,-474.03 438.19,-484.03 445.19,-484.03\"/>\n<text text-anchor=\"middle\" x=\"448.69\" y=\"-488.8\" font-family=\"Times,serif\" font-size=\"14.00\">no</text>\n</g>\n<!-- leaf37 -->\n<g id=\"node9\" class=\"node\">\n<title>leaf37</title>\n<ellipse fill=\"none\" stroke=\"black\" cx=\"207.69\" cy=\"-237\" rx=\"63.89\" ry=\"18\"/>\n<text text-anchor=\"start\" x=\"166.69\" y=\"-234.3\" font-family=\"Times,serif\" font-size=\"14.00\">leaf 37: </text>\n<text text-anchor=\"start\" x=\"212.69\" y=\"-234.3\" font-family=\"Times,serif\" font-weight=\"bold\" font-size=\"14.00\">&#45;0.130</text>\n</g>\n<!-- split61 -->\n<g id=\"node10\" class=\"node\">\n<title>split61</title>\n<polygon fill=\"none\" stroke=\"black\" points=\"324.19,-328 221.19,-328 221.19,-292 324.19,-292 324.19,-328\"/>\n<text text-anchor=\"start\" x=\"229.19\" y=\"-307.3\" font-family=\"Times,serif\" font-weight=\"bold\" font-size=\"14.00\">Income</text>\n<text text-anchor=\"start\" x=\"273.19\" y=\"-307.3\" font-family=\"Times,serif\" font-size=\"14.00\"> ≤</text>\n<text text-anchor=\"start\" x=\"285.19\" y=\"-307.3\" font-family=\"Times,serif\" font-weight=\"bold\" font-size=\"14.00\">4.500</text>\n</g>\n<!-- split61&#45;&gt;leaf37 -->\n<g id=\"edge6\" class=\"edge\">\n<title>split61&#45;&gt;leaf37</title>\n<path fill=\"none\" stroke=\"black\" d=\"M256.96,-291.81C248.78,-282.88 238.64,-271.8 229.7,-262.03\"/>\n<polygon fill=\"black\" stroke=\"black\" points=\"232.17,-259.55 222.84,-254.54 227.01,-264.28 232.17,-259.55\"/>\n<text text-anchor=\"middle\" x=\"256.19\" y=\"-269.8\" font-family=\"Times,serif\" font-size=\"14.00\">yes</text>\n</g>\n<!-- leaf62 -->\n<g id=\"node11\" class=\"node\">\n<title>leaf62</title>\n<ellipse fill=\"none\" stroke=\"black\" cx=\"338.69\" cy=\"-237\" rx=\"63.89\" ry=\"18\"/>\n<text text-anchor=\"start\" x=\"297.69\" y=\"-234.3\" font-family=\"Times,serif\" font-size=\"14.00\">leaf 62: </text>\n<text text-anchor=\"start\" x=\"343.69\" y=\"-234.3\" font-family=\"Times,serif\" font-weight=\"bold\" font-size=\"14.00\">&#45;0.070</text>\n</g>\n<!-- split61&#45;&gt;leaf62 -->\n<g id=\"edge7\" class=\"edge\">\n<title>split61&#45;&gt;leaf62</title>\n<path fill=\"none\" stroke=\"black\" d=\"M288.67,-291.81C296.98,-282.88 307.27,-271.8 316.35,-262.03\"/>\n<polygon fill=\"black\" stroke=\"black\" points=\"319.07,-264.25 323.32,-254.54 313.95,-259.48 319.07,-264.25\"/>\n<text text-anchor=\"middle\" x=\"318.69\" y=\"-269.8\" font-family=\"Times,serif\" font-size=\"14.00\">no</text>\n</g>\n<!-- split60 -->\n<g id=\"node12\" class=\"node\">\n<title>split60</title>\n<polygon fill=\"none\" stroke=\"black\" points=\"447.19,-401 262.19,-401 262.19,-365 447.19,-365 447.19,-401\"/>\n<text text-anchor=\"start\" x=\"270.19\" y=\"-380.3\" font-family=\"Times,serif\" font-weight=\"bold\" font-size=\"14.00\">HvyAlcoholConsump</text>\n<text text-anchor=\"start\" x=\"396.19\" y=\"-380.3\" font-family=\"Times,serif\" font-size=\"14.00\"> ≤</text>\n<text text-anchor=\"start\" x=\"408.19\" y=\"-380.3\" font-family=\"Times,serif\" font-weight=\"bold\" font-size=\"14.00\">0.000</text>\n</g>\n<!-- split60&#45;&gt;split61 -->\n<g id=\"edge8\" class=\"edge\">\n<title>split60&#45;&gt;split61</title>\n<path fill=\"none\" stroke=\"black\" d=\"M334.84,-364.81C324.37,-355.74 311.36,-344.48 299.95,-334.6\"/>\n<polygon fill=\"black\" stroke=\"black\" points=\"302.21,-331.93 292.36,-328.03 297.63,-337.22 302.21,-331.93\"/>\n<text text-anchor=\"middle\" x=\"331.19\" y=\"-342.8\" font-family=\"Times,serif\" font-size=\"14.00\">yes</text>\n</g>\n<!-- leaf61 -->\n<g id=\"node13\" class=\"node\">\n<title>leaf61</title>\n<ellipse fill=\"none\" stroke=\"black\" cx=\"391.69\" cy=\"-310\" rx=\"63.89\" ry=\"18\"/>\n<text text-anchor=\"start\" x=\"350.69\" y=\"-307.3\" font-family=\"Times,serif\" font-size=\"14.00\">leaf 61: </text>\n<text text-anchor=\"start\" x=\"396.69\" y=\"-307.3\" font-family=\"Times,serif\" font-weight=\"bold\" font-size=\"14.00\">&#45;0.180</text>\n</g>\n<!-- split60&#45;&gt;leaf61 -->\n<g id=\"edge9\" class=\"edge\">\n<title>split60&#45;&gt;leaf61</title>\n<path fill=\"none\" stroke=\"black\" d=\"M363.65,-364.81C368.01,-356.44 373.35,-346.2 378.2,-336.9\"/>\n<polygon fill=\"black\" stroke=\"black\" points=\"381.3,-338.51 382.82,-328.03 375.09,-335.28 381.3,-338.51\"/>\n<text text-anchor=\"middle\" x=\"383.69\" y=\"-342.8\" font-family=\"Times,serif\" font-size=\"14.00\">no</text>\n</g>\n<!-- split48&#45;&gt;split60 -->\n<g id=\"edge10\" class=\"edge\">\n<title>split48&#45;&gt;split60</title>\n<path fill=\"none\" stroke=\"black\" d=\"M420.63,-437.81C409.52,-428.74 395.72,-417.48 383.61,-407.6\"/>\n<polygon fill=\"black\" stroke=\"black\" points=\"385.52,-404.64 375.56,-401.03 381.1,-410.06 385.52,-404.64\"/>\n<text text-anchor=\"middle\" x=\"416.19\" y=\"-415.8\" font-family=\"Times,serif\" font-size=\"14.00\">yes</text>\n</g>\n<!-- leaf49 -->\n<g id=\"node15\" class=\"node\">\n<title>leaf49</title>\n<ellipse fill=\"none\" stroke=\"black\" cx=\"514.69\" cy=\"-383\" rx=\"63.89\" ry=\"18\"/>\n<text text-anchor=\"start\" x=\"473.69\" y=\"-380.3\" font-family=\"Times,serif\" font-size=\"14.00\">leaf 49: </text>\n<text text-anchor=\"start\" x=\"519.69\" y=\"-380.3\" font-family=\"Times,serif\" font-weight=\"bold\" font-size=\"14.00\">&#45;0.137</text>\n</g>\n<!-- split48&#45;&gt;leaf49 -->\n<g id=\"edge11\" class=\"edge\">\n<title>split48&#45;&gt;leaf49</title>\n<path fill=\"none\" stroke=\"black\" d=\"M459.37,-437.81C468.65,-428.79 480.16,-417.59 490.28,-407.74\"/>\n<polygon fill=\"black\" stroke=\"black\" points=\"492.96,-410.02 497.69,-400.54 488.08,-405 492.96,-410.02\"/>\n<text text-anchor=\"middle\" x=\"492.69\" y=\"-415.8\" font-family=\"Times,serif\" font-size=\"14.00\">no</text>\n</g>\n<!-- split2 -->\n<g id=\"node16\" class=\"node\">\n<title>split2</title>\n<polygon fill=\"none\" stroke=\"black\" points=\"934.19,-766 823.19,-766 823.19,-730 934.19,-730 934.19,-766\"/>\n<text text-anchor=\"start\" x=\"831.19\" y=\"-745.3\" font-family=\"Times,serif\" font-weight=\"bold\" font-size=\"14.00\">GenHlth</text>\n<text text-anchor=\"start\" x=\"883.19\" y=\"-745.3\" font-family=\"Times,serif\" font-size=\"14.00\"> ≤</text>\n<text text-anchor=\"start\" x=\"895.19\" y=\"-745.3\" font-family=\"Times,serif\" font-weight=\"bold\" font-size=\"14.00\">2.500</text>\n</g>\n<!-- split2&#45;&gt;split8 -->\n<g id=\"edge15\" class=\"edge\">\n<title>split2&#45;&gt;split8</title>\n<path fill=\"none\" stroke=\"black\" d=\"M822.9,-737.94C737.42,-724.05 575.29,-697.71 492.74,-684.29\"/>\n<polygon fill=\"black\" stroke=\"black\" points=\"493.27,-680.83 482.84,-682.69 492.15,-687.74 493.27,-680.83\"/>\n<text text-anchor=\"middle\" x=\"709.19\" y=\"-707.8\" font-family=\"Times,serif\" font-size=\"14.00\">yes</text>\n</g>\n<!-- split4 -->\n<g id=\"node20\" class=\"node\">\n<title>split4</title>\n<polygon fill=\"none\" stroke=\"black\" points=\"919.69,-693 837.69,-693 837.69,-657 919.69,-657 919.69,-693\"/>\n<text text-anchor=\"start\" x=\"845.69\" y=\"-672.3\" font-family=\"Times,serif\" font-weight=\"bold\" font-size=\"14.00\">Age</text>\n<text text-anchor=\"start\" x=\"868.69\" y=\"-672.3\" font-family=\"Times,serif\" font-size=\"14.00\"> ≤</text>\n<text text-anchor=\"start\" x=\"880.69\" y=\"-672.3\" font-family=\"Times,serif\" font-weight=\"bold\" font-size=\"14.00\">4.500</text>\n</g>\n<!-- split2&#45;&gt;split4 -->\n<g id=\"edge48\" class=\"edge\">\n<title>split2&#45;&gt;split4</title>\n<path fill=\"none\" stroke=\"black\" d=\"M878.69,-729.81C878.69,-721.79 878.69,-712.05 878.69,-703.07\"/>\n<polygon fill=\"black\" stroke=\"black\" points=\"882.19,-703.03 878.69,-693.03 875.19,-703.03 882.19,-703.03\"/>\n<text text-anchor=\"middle\" x=\"885.69\" y=\"-707.8\" font-family=\"Times,serif\" font-size=\"14.00\">no</text>\n</g>\n<!-- leaf3 -->\n<g id=\"node17\" class=\"node\">\n<title>leaf3</title>\n<ellipse fill=\"none\" stroke=\"black\" cx=\"693.69\" cy=\"-529\" rx=\"59.29\" ry=\"18\"/>\n<text text-anchor=\"start\" x=\"656.19\" y=\"-526.3\" font-family=\"Times,serif\" font-size=\"14.00\">leaf 3: </text>\n<text text-anchor=\"start\" x=\"695.19\" y=\"-526.3\" font-family=\"Times,serif\" font-weight=\"bold\" font-size=\"14.00\">&#45;0.168</text>\n</g>\n<!-- split43 -->\n<g id=\"node18\" class=\"node\">\n<title>split43</title>\n<polygon fill=\"none\" stroke=\"black\" points=\"879.19,-620 762.19,-620 762.19,-584 879.19,-584 879.19,-620\"/>\n<text text-anchor=\"start\" x=\"770.19\" y=\"-599.3\" font-family=\"Times,serif\" font-weight=\"bold\" font-size=\"14.00\">HighChol</text>\n<text text-anchor=\"start\" x=\"828.19\" y=\"-599.3\" font-family=\"Times,serif\" font-size=\"14.00\"> ≤</text>\n<text text-anchor=\"start\" x=\"840.19\" y=\"-599.3\" font-family=\"Times,serif\" font-weight=\"bold\" font-size=\"14.00\">0.000</text>\n</g>\n<!-- split43&#45;&gt;leaf3 -->\n<g id=\"edge16\" class=\"edge\">\n<title>split43&#45;&gt;leaf3</title>\n<path fill=\"none\" stroke=\"black\" d=\"M790.27,-583.99C772.03,-573.79 748.73,-560.77 729.59,-550.07\"/>\n<polygon fill=\"black\" stroke=\"black\" points=\"731.28,-547 720.84,-545.18 727.86,-553.11 731.28,-547\"/>\n<text text-anchor=\"middle\" x=\"778.19\" y=\"-561.8\" font-family=\"Times,serif\" font-size=\"14.00\">yes</text>\n</g>\n<!-- leaf44 -->\n<g id=\"node19\" class=\"node\">\n<title>leaf44</title>\n<ellipse fill=\"none\" stroke=\"black\" cx=\"820.69\" cy=\"-529\" rx=\"63.89\" ry=\"18\"/>\n<text text-anchor=\"start\" x=\"779.69\" y=\"-526.3\" font-family=\"Times,serif\" font-size=\"14.00\">leaf 44: </text>\n<text text-anchor=\"start\" x=\"825.69\" y=\"-526.3\" font-family=\"Times,serif\" font-weight=\"bold\" font-size=\"14.00\">&#45;0.089</text>\n</g>\n<!-- split43&#45;&gt;leaf44 -->\n<g id=\"edge17\" class=\"edge\">\n<title>split43&#45;&gt;leaf44</title>\n<path fill=\"none\" stroke=\"black\" d=\"M820.69,-583.81C820.69,-575.79 820.69,-566.05 820.69,-557.07\"/>\n<polygon fill=\"black\" stroke=\"black\" points=\"824.19,-557.03 820.69,-547.03 817.19,-557.03 824.19,-557.03\"/>\n<text text-anchor=\"middle\" x=\"827.69\" y=\"-561.8\" font-family=\"Times,serif\" font-size=\"14.00\">no</text>\n</g>\n<!-- split4&#45;&gt;split43 -->\n<g id=\"edge18\" class=\"edge\">\n<title>split4&#45;&gt;split43</title>\n<path fill=\"none\" stroke=\"black\" d=\"M864.65,-656.81C857.6,-648.18 848.92,-637.56 841.14,-628.03\"/>\n<polygon fill=\"black\" stroke=\"black\" points=\"843.64,-625.56 834.61,-620.03 838.22,-629.99 843.64,-625.56\"/>\n<text text-anchor=\"middle\" x=\"865.19\" y=\"-634.8\" font-family=\"Times,serif\" font-size=\"14.00\">yes</text>\n</g>\n<!-- split9 -->\n<g id=\"node30\" class=\"node\">\n<title>split9</title>\n<polygon fill=\"none\" stroke=\"black\" points=\"976.69,-620 894.69,-620 894.69,-584 976.69,-584 976.69,-620\"/>\n<text text-anchor=\"start\" x=\"902.69\" y=\"-599.3\" font-family=\"Times,serif\" font-weight=\"bold\" font-size=\"14.00\">Age</text>\n<text text-anchor=\"start\" x=\"925.69\" y=\"-599.3\" font-family=\"Times,serif\" font-size=\"14.00\"> ≤</text>\n<text text-anchor=\"start\" x=\"937.69\" y=\"-599.3\" font-family=\"Times,serif\" font-weight=\"bold\" font-size=\"14.00\">8.500</text>\n</g>\n<!-- split4&#45;&gt;split9 -->\n<g id=\"edge47\" class=\"edge\">\n<title>split4&#45;&gt;split9</title>\n<path fill=\"none\" stroke=\"black\" d=\"M892.49,-656.81C899.42,-648.18 907.95,-637.56 915.6,-628.03\"/>\n<polygon fill=\"black\" stroke=\"black\" points=\"918.49,-630.02 922.02,-620.03 913.03,-625.64 918.49,-630.02\"/>\n<text text-anchor=\"middle\" x=\"919.69\" y=\"-634.8\" font-family=\"Times,serif\" font-size=\"14.00\">no</text>\n</g>\n<!-- leaf5 -->\n<g id=\"node21\" class=\"node\">\n<title>leaf5</title>\n<ellipse fill=\"none\" stroke=\"black\" cx=\"641.69\" cy=\"-383\" rx=\"59.29\" ry=\"18\"/>\n<text text-anchor=\"start\" x=\"604.19\" y=\"-380.3\" font-family=\"Times,serif\" font-size=\"14.00\">leaf 5: </text>\n<text text-anchor=\"start\" x=\"643.19\" y=\"-380.3\" font-family=\"Times,serif\" font-weight=\"bold\" font-size=\"14.00\">&#45;0.143</text>\n</g>\n<!-- split15 -->\n<g id=\"node22\" class=\"node\">\n<title>split15</title>\n<polygon fill=\"none\" stroke=\"black\" points=\"827.19,-474 710.19,-474 710.19,-438 827.19,-438 827.19,-474\"/>\n<text text-anchor=\"start\" x=\"718.19\" y=\"-453.3\" font-family=\"Times,serif\" font-weight=\"bold\" font-size=\"14.00\">HighChol</text>\n<text text-anchor=\"start\" x=\"776.19\" y=\"-453.3\" font-family=\"Times,serif\" font-size=\"14.00\"> ≤</text>\n<text text-anchor=\"start\" x=\"788.19\" y=\"-453.3\" font-family=\"Times,serif\" font-weight=\"bold\" font-size=\"14.00\">0.000</text>\n</g>\n<!-- split15&#45;&gt;leaf5 -->\n<g id=\"edge19\" class=\"edge\">\n<title>split15&#45;&gt;leaf5</title>\n<path fill=\"none\" stroke=\"black\" d=\"M738.27,-437.99C720.03,-427.79 696.73,-414.77 677.59,-404.07\"/>\n<polygon fill=\"black\" stroke=\"black\" points=\"679.28,-401 668.84,-399.18 675.86,-407.11 679.28,-401\"/>\n<text text-anchor=\"middle\" x=\"726.19\" y=\"-415.8\" font-family=\"Times,serif\" font-size=\"14.00\">yes</text>\n</g>\n<!-- leaf16 -->\n<g id=\"node23\" class=\"node\">\n<title>leaf16</title>\n<ellipse fill=\"none\" stroke=\"black\" cx=\"768.69\" cy=\"-383\" rx=\"63.89\" ry=\"18\"/>\n<text text-anchor=\"start\" x=\"727.69\" y=\"-380.3\" font-family=\"Times,serif\" font-size=\"14.00\">leaf 16: </text>\n<text text-anchor=\"start\" x=\"773.69\" y=\"-380.3\" font-family=\"Times,serif\" font-weight=\"bold\" font-size=\"14.00\">&#45;0.029</text>\n</g>\n<!-- split15&#45;&gt;leaf16 -->\n<g id=\"edge20\" class=\"edge\">\n<title>split15&#45;&gt;leaf16</title>\n<path fill=\"none\" stroke=\"black\" d=\"M768.69,-437.81C768.69,-429.79 768.69,-420.05 768.69,-411.07\"/>\n<polygon fill=\"black\" stroke=\"black\" points=\"772.19,-411.03 768.69,-401.03 765.19,-411.03 772.19,-411.03\"/>\n<text text-anchor=\"middle\" x=\"775.69\" y=\"-415.8\" font-family=\"Times,serif\" font-size=\"14.00\">no</text>\n</g>\n<!-- split13 -->\n<g id=\"node24\" class=\"node\">\n<title>split13</title>\n<polygon fill=\"none\" stroke=\"black\" points=\"982.69,-547 888.69,-547 888.69,-511 982.69,-511 982.69,-547\"/>\n<text text-anchor=\"start\" x=\"896.69\" y=\"-526.3\" font-family=\"Times,serif\" font-weight=\"bold\" font-size=\"14.00\">BMI</text>\n<text text-anchor=\"start\" x=\"924.69\" y=\"-526.3\" font-family=\"Times,serif\" font-size=\"14.00\"> ≤</text>\n<text text-anchor=\"start\" x=\"936.69\" y=\"-526.3\" font-family=\"Times,serif\" font-weight=\"bold\" font-size=\"14.00\">27.500</text>\n</g>\n<!-- split13&#45;&gt;split15 -->\n<g id=\"edge21\" class=\"edge\">\n<title>split13&#45;&gt;split15</title>\n<path fill=\"none\" stroke=\"black\" d=\"M895.69,-510.99C872.42,-501.1 842.89,-488.54 818.17,-478.03\"/>\n<polygon fill=\"black\" stroke=\"black\" points=\"819.52,-474.81 808.95,-474.11 816.78,-481.25 819.52,-474.81\"/>\n<text text-anchor=\"middle\" x=\"877.19\" y=\"-488.8\" font-family=\"Times,serif\" font-size=\"14.00\">yes</text>\n</g>\n<!-- split30 -->\n<g id=\"node26\" class=\"node\">\n<title>split30</title>\n<polygon fill=\"none\" stroke=\"black\" points=\"1002.19,-474 869.19,-474 869.19,-438 1002.19,-438 1002.19,-474\"/>\n<text text-anchor=\"start\" x=\"877.19\" y=\"-453.3\" font-family=\"Times,serif\" font-weight=\"bold\" font-size=\"14.00\">PhysActivity</text>\n<text text-anchor=\"start\" x=\"951.19\" y=\"-453.3\" font-family=\"Times,serif\" font-size=\"14.00\"> ≤</text>\n<text text-anchor=\"start\" x=\"963.19\" y=\"-453.3\" font-family=\"Times,serif\" font-weight=\"bold\" font-size=\"14.00\">0.000</text>\n</g>\n<!-- split13&#45;&gt;split30 -->\n<g id=\"edge26\" class=\"edge\">\n<title>split13&#45;&gt;split30</title>\n<path fill=\"none\" stroke=\"black\" d=\"M935.69,-510.81C935.69,-502.79 935.69,-493.05 935.69,-484.07\"/>\n<polygon fill=\"black\" stroke=\"black\" points=\"939.19,-484.03 935.69,-474.03 932.19,-484.03 939.19,-484.03\"/>\n<text text-anchor=\"middle\" x=\"942.69\" y=\"-488.8\" font-family=\"Times,serif\" font-size=\"14.00\">no</text>\n</g>\n<!-- leaf14 -->\n<g id=\"node25\" class=\"node\">\n<title>leaf14</title>\n<ellipse fill=\"none\" stroke=\"black\" cx=\"899.69\" cy=\"-383\" rx=\"63.89\" ry=\"18\"/>\n<text text-anchor=\"start\" x=\"858.69\" y=\"-380.3\" font-family=\"Times,serif\" font-size=\"14.00\">leaf 14: </text>\n<text text-anchor=\"start\" x=\"904.69\" y=\"-380.3\" font-family=\"Times,serif\" font-weight=\"bold\" font-size=\"14.00\">&#45;0.071</text>\n</g>\n<!-- split30&#45;&gt;leaf14 -->\n<g id=\"edge22\" class=\"edge\">\n<title>split30&#45;&gt;leaf14</title>\n<path fill=\"none\" stroke=\"black\" d=\"M926.98,-437.81C922.78,-429.53 917.65,-419.41 912.98,-410.19\"/>\n<polygon fill=\"black\" stroke=\"black\" points=\"915.97,-408.37 908.33,-401.03 909.73,-411.53 915.97,-408.37\"/>\n<text text-anchor=\"middle\" x=\"931.19\" y=\"-415.8\" font-family=\"Times,serif\" font-size=\"14.00\">yes</text>\n</g>\n<!-- split49 -->\n<g id=\"node28\" class=\"node\">\n<title>split49</title>\n<polygon fill=\"none\" stroke=\"black\" points=\"1152.19,-401 967.19,-401 967.19,-365 1152.19,-365 1152.19,-401\"/>\n<text text-anchor=\"start\" x=\"975.19\" y=\"-380.3\" font-family=\"Times,serif\" font-weight=\"bold\" font-size=\"14.00\">HvyAlcoholConsump</text>\n<text text-anchor=\"start\" x=\"1101.19\" y=\"-380.3\" font-family=\"Times,serif\" font-size=\"14.00\"> ≤</text>\n<text text-anchor=\"start\" x=\"1113.19\" y=\"-380.3\" font-family=\"Times,serif\" font-weight=\"bold\" font-size=\"14.00\">0.000</text>\n</g>\n<!-- split30&#45;&gt;split49 -->\n<g id=\"edge25\" class=\"edge\">\n<title>split30&#45;&gt;split49</title>\n<path fill=\"none\" stroke=\"black\" d=\"M965.4,-437.99C981.99,-428.49 1002.87,-416.54 1020.76,-406.29\"/>\n<polygon fill=\"black\" stroke=\"black\" points=\"1022.87,-409.12 1029.81,-401.11 1019.39,-403.05 1022.87,-409.12\"/>\n<text text-anchor=\"middle\" x=\"1016.69\" y=\"-415.8\" font-family=\"Times,serif\" font-size=\"14.00\">no</text>\n</g>\n<!-- leaf31 -->\n<g id=\"node27\" class=\"node\">\n<title>leaf31</title>\n<ellipse fill=\"none\" stroke=\"black\" cx=\"918.69\" cy=\"-310\" rx=\"60.39\" ry=\"18\"/>\n<text text-anchor=\"start\" x=\"880.19\" y=\"-307.3\" font-family=\"Times,serif\" font-size=\"14.00\">leaf 31: </text>\n<text text-anchor=\"start\" x=\"926.19\" y=\"-307.3\" font-family=\"Times,serif\" font-weight=\"bold\" font-size=\"14.00\">0.004</text>\n</g>\n<!-- split49&#45;&gt;leaf31 -->\n<g id=\"edge23\" class=\"edge\">\n<title>split49&#45;&gt;leaf31</title>\n<path fill=\"none\" stroke=\"black\" d=\"M1025.92,-364.99C1005.34,-354.63 978.97,-341.35 957.52,-330.55\"/>\n<polygon fill=\"black\" stroke=\"black\" points=\"958.87,-327.31 948.36,-325.94 955.72,-333.56 958.87,-327.31\"/>\n<text text-anchor=\"middle\" x=\"1012.19\" y=\"-342.8\" font-family=\"Times,serif\" font-size=\"14.00\">yes</text>\n</g>\n<!-- leaf50 -->\n<g id=\"node29\" class=\"node\">\n<title>leaf50</title>\n<ellipse fill=\"none\" stroke=\"black\" cx=\"1046.69\" cy=\"-310\" rx=\"63.89\" ry=\"18\"/>\n<text text-anchor=\"start\" x=\"1005.69\" y=\"-307.3\" font-family=\"Times,serif\" font-size=\"14.00\">leaf 50: </text>\n<text text-anchor=\"start\" x=\"1051.69\" y=\"-307.3\" font-family=\"Times,serif\" font-weight=\"bold\" font-size=\"14.00\">&#45;0.165</text>\n</g>\n<!-- split49&#45;&gt;leaf50 -->\n<g id=\"edge24\" class=\"edge\">\n<title>split49&#45;&gt;leaf50</title>\n<path fill=\"none\" stroke=\"black\" d=\"M1056.55,-364.81C1055.08,-356.79 1053.29,-347.05 1051.65,-338.07\"/>\n<polygon fill=\"black\" stroke=\"black\" points=\"1055.06,-337.23 1049.81,-328.03 1048.17,-338.5 1055.06,-337.23\"/>\n<text text-anchor=\"middle\" x=\"1061.69\" y=\"-342.8\" font-family=\"Times,serif\" font-size=\"14.00\">no</text>\n</g>\n<!-- split9&#45;&gt;split13 -->\n<g id=\"edge27\" class=\"edge\">\n<title>split9&#45;&gt;split13</title>\n<path fill=\"none\" stroke=\"black\" d=\"M935.69,-583.81C935.69,-575.79 935.69,-566.05 935.69,-557.07\"/>\n<polygon fill=\"black\" stroke=\"black\" points=\"939.19,-557.03 935.69,-547.03 932.19,-557.03 939.19,-557.03\"/>\n<text text-anchor=\"middle\" x=\"945.19\" y=\"-561.8\" font-family=\"Times,serif\" font-size=\"14.00\">yes</text>\n</g>\n<!-- split12 -->\n<g id=\"node32\" class=\"node\">\n<title>split12</title>\n<polygon fill=\"none\" stroke=\"black\" points=\"1163.69,-547 1069.69,-547 1069.69,-511 1163.69,-511 1163.69,-547\"/>\n<text text-anchor=\"start\" x=\"1077.69\" y=\"-526.3\" font-family=\"Times,serif\" font-weight=\"bold\" font-size=\"14.00\">BMI</text>\n<text text-anchor=\"start\" x=\"1105.69\" y=\"-526.3\" font-family=\"Times,serif\" font-size=\"14.00\"> ≤</text>\n<text text-anchor=\"start\" x=\"1117.69\" y=\"-526.3\" font-family=\"Times,serif\" font-weight=\"bold\" font-size=\"14.00\">21.500</text>\n</g>\n<!-- split9&#45;&gt;split12 -->\n<g id=\"edge46\" class=\"edge\">\n<title>split9&#45;&gt;split12</title>\n<path fill=\"none\" stroke=\"black\" d=\"M976.77,-584.89C1002.52,-574.79 1035.97,-561.67 1063.71,-550.78\"/>\n<polygon fill=\"black\" stroke=\"black\" points=\"1065.23,-553.95 1073.26,-547.04 1062.67,-547.43 1065.23,-553.95\"/>\n<text text-anchor=\"middle\" x=\"1049.69\" y=\"-561.8\" font-family=\"Times,serif\" font-size=\"14.00\">no</text>\n</g>\n<!-- leaf10 -->\n<g id=\"node31\" class=\"node\">\n<title>leaf10</title>\n<ellipse fill=\"none\" stroke=\"black\" cx=\"1116.69\" cy=\"-456\" rx=\"63.09\" ry=\"18\"/>\n<text text-anchor=\"start\" x=\"1076.19\" y=\"-453.3\" font-family=\"Times,serif\" font-size=\"14.00\">leaf 10: </text>\n<text text-anchor=\"start\" x=\"1122.19\" y=\"-453.3\" font-family=\"Times,serif\" font-weight=\"bold\" font-size=\"14.00\">&#45;0.113</text>\n</g>\n<!-- split12&#45;&gt;leaf10 -->\n<g id=\"edge28\" class=\"edge\">\n<title>split12&#45;&gt;leaf10</title>\n<path fill=\"none\" stroke=\"black\" d=\"M1116.69,-510.81C1116.69,-502.79 1116.69,-493.05 1116.69,-484.07\"/>\n<polygon fill=\"black\" stroke=\"black\" points=\"1120.19,-484.03 1116.69,-474.03 1113.19,-484.03 1120.19,-484.03\"/>\n<text text-anchor=\"middle\" x=\"1126.19\" y=\"-488.8\" font-family=\"Times,serif\" font-size=\"14.00\">yes</text>\n</g>\n<!-- split20 -->\n<g id=\"node46\" class=\"node\">\n<title>split20</title>\n<polygon fill=\"none\" stroke=\"black\" points=\"1321.69,-474 1227.69,-474 1227.69,-438 1321.69,-438 1321.69,-474\"/>\n<text text-anchor=\"start\" x=\"1235.69\" y=\"-453.3\" font-family=\"Times,serif\" font-weight=\"bold\" font-size=\"14.00\">BMI</text>\n<text text-anchor=\"start\" x=\"1263.69\" y=\"-453.3\" font-family=\"Times,serif\" font-size=\"14.00\"> ≤</text>\n<text text-anchor=\"start\" x=\"1275.69\" y=\"-453.3\" font-family=\"Times,serif\" font-weight=\"bold\" font-size=\"14.00\">31.500</text>\n</g>\n<!-- split12&#45;&gt;split20 -->\n<g id=\"edge45\" class=\"edge\">\n<title>split12&#45;&gt;split20</title>\n<path fill=\"none\" stroke=\"black\" d=\"M1154.54,-510.99C1176.36,-501.19 1204,-488.77 1227.27,-478.31\"/>\n<polygon fill=\"black\" stroke=\"black\" points=\"1228.92,-481.4 1236.61,-474.11 1226.05,-475.02 1228.92,-481.4\"/>\n<text text-anchor=\"middle\" x=\"1217.69\" y=\"-488.8\" font-family=\"Times,serif\" font-size=\"14.00\">no</text>\n</g>\n<!-- leaf13 -->\n<g id=\"node33\" class=\"node\">\n<title>leaf13</title>\n<ellipse fill=\"none\" stroke=\"black\" cx=\"895.69\" cy=\"-91\" rx=\"60.39\" ry=\"18\"/>\n<text text-anchor=\"start\" x=\"857.19\" y=\"-88.3\" font-family=\"Times,serif\" font-size=\"14.00\">leaf 13: </text>\n<text text-anchor=\"start\" x=\"903.19\" y=\"-88.3\" font-family=\"Times,serif\" font-weight=\"bold\" font-size=\"14.00\">0.007</text>\n</g>\n<!-- split59 -->\n<g id=\"node34\" class=\"node\">\n<title>split59</title>\n<polygon fill=\"none\" stroke=\"black\" points=\"1083.19,-182 962.19,-182 962.19,-146 1083.19,-146 1083.19,-182\"/>\n<text text-anchor=\"start\" x=\"970.19\" y=\"-161.3\" font-family=\"Times,serif\" font-weight=\"bold\" font-size=\"14.00\">PhysHlth</text>\n<text text-anchor=\"start\" x=\"1025.19\" y=\"-161.3\" font-family=\"Times,serif\" font-size=\"14.00\"> ≤</text>\n<text text-anchor=\"start\" x=\"1037.19\" y=\"-161.3\" font-family=\"Times,serif\" font-weight=\"bold\" font-size=\"14.00\">14.500</text>\n</g>\n<!-- split59&#45;&gt;leaf13 -->\n<g id=\"edge29\" class=\"edge\">\n<title>split59&#45;&gt;leaf13</title>\n<path fill=\"none\" stroke=\"black\" d=\"M992.27,-145.99C974.03,-135.79 950.73,-122.77 931.59,-112.07\"/>\n<polygon fill=\"black\" stroke=\"black\" points=\"933.28,-109 922.84,-107.18 929.86,-115.11 933.28,-109\"/>\n<text text-anchor=\"middle\" x=\"980.19\" y=\"-123.8\" font-family=\"Times,serif\" font-size=\"14.00\">yes</text>\n</g>\n<!-- leaf60 -->\n<g id=\"node35\" class=\"node\">\n<title>leaf60</title>\n<ellipse fill=\"none\" stroke=\"black\" cx=\"1022.69\" cy=\"-91\" rx=\"63.09\" ry=\"18\"/>\n<text text-anchor=\"start\" x=\"982.19\" y=\"-88.3\" font-family=\"Times,serif\" font-size=\"14.00\">leaf 60: </text>\n<text text-anchor=\"start\" x=\"1028.19\" y=\"-88.3\" font-family=\"Times,serif\" font-weight=\"bold\" font-size=\"14.00\">&#45;0.110</text>\n</g>\n<!-- split59&#45;&gt;leaf60 -->\n<g id=\"edge30\" class=\"edge\">\n<title>split59&#45;&gt;leaf60</title>\n<path fill=\"none\" stroke=\"black\" d=\"M1022.69,-145.81C1022.69,-137.79 1022.69,-128.05 1022.69,-119.07\"/>\n<polygon fill=\"black\" stroke=\"black\" points=\"1026.19,-119.03 1022.69,-109.03 1019.19,-119.03 1026.19,-119.03\"/>\n<text text-anchor=\"middle\" x=\"1029.69\" y=\"-123.8\" font-family=\"Times,serif\" font-size=\"14.00\">no</text>\n</g>\n<!-- split53 -->\n<g id=\"node36\" class=\"node\">\n<title>split53</title>\n<polygon fill=\"none\" stroke=\"black\" points=\"1141.19,-255 1052.19,-255 1052.19,-219 1141.19,-219 1141.19,-255\"/>\n<text text-anchor=\"start\" x=\"1060.19\" y=\"-234.3\" font-family=\"Times,serif\" font-weight=\"bold\" font-size=\"14.00\">Age</text>\n<text text-anchor=\"start\" x=\"1083.19\" y=\"-234.3\" font-family=\"Times,serif\" font-size=\"14.00\"> ≤</text>\n<text text-anchor=\"start\" x=\"1095.19\" y=\"-234.3\" font-family=\"Times,serif\" font-weight=\"bold\" font-size=\"14.00\">10.500</text>\n</g>\n<!-- split53&#45;&gt;split59 -->\n<g id=\"edge31\" class=\"edge\">\n<title>split53&#45;&gt;split59</title>\n<path fill=\"none\" stroke=\"black\" d=\"M1078.78,-218.81C1069.51,-209.92 1058.04,-198.91 1047.89,-189.17\"/>\n<polygon fill=\"black\" stroke=\"black\" points=\"1050.08,-186.43 1040.44,-182.03 1045.24,-191.48 1050.08,-186.43\"/>\n<text text-anchor=\"middle\" x=\"1076.19\" y=\"-196.8\" font-family=\"Times,serif\" font-size=\"14.00\">yes</text>\n</g>\n<!-- split54 -->\n<g id=\"node40\" class=\"node\">\n<title>split54</title>\n<polygon fill=\"none\" stroke=\"black\" points=\"1195.69,-182 1097.69,-182 1097.69,-146 1195.69,-146 1195.69,-182\"/>\n<text text-anchor=\"start\" x=\"1105.69\" y=\"-161.3\" font-family=\"Times,serif\" font-weight=\"bold\" font-size=\"14.00\">Stroke</text>\n<text text-anchor=\"start\" x=\"1144.69\" y=\"-161.3\" font-family=\"Times,serif\" font-size=\"14.00\"> ≤</text>\n<text text-anchor=\"start\" x=\"1156.69\" y=\"-161.3\" font-family=\"Times,serif\" font-weight=\"bold\" font-size=\"14.00\">0.000</text>\n</g>\n<!-- split53&#45;&gt;split54 -->\n<g id=\"edge36\" class=\"edge\">\n<title>split53&#45;&gt;split54</title>\n<path fill=\"none\" stroke=\"black\" d=\"M1108.8,-218.81C1114.82,-210.27 1122.21,-199.77 1128.86,-190.32\"/>\n<polygon fill=\"black\" stroke=\"black\" points=\"1131.81,-192.22 1134.7,-182.03 1126.08,-188.19 1131.81,-192.22\"/>\n<text text-anchor=\"middle\" x=\"1133.69\" y=\"-196.8\" font-family=\"Times,serif\" font-size=\"14.00\">no</text>\n</g>\n<!-- leaf54 -->\n<g id=\"node37\" class=\"node\">\n<title>leaf54</title>\n<ellipse fill=\"none\" stroke=\"black\" cx=\"1082.69\" cy=\"-18\" rx=\"60.39\" ry=\"18\"/>\n<text text-anchor=\"start\" x=\"1044.19\" y=\"-15.3\" font-family=\"Times,serif\" font-size=\"14.00\">leaf 54: </text>\n<text text-anchor=\"start\" x=\"1090.19\" y=\"-15.3\" font-family=\"Times,serif\" font-weight=\"bold\" font-size=\"14.00\">0.063</text>\n</g>\n<!-- split62 -->\n<g id=\"node38\" class=\"node\">\n<title>split62</title>\n<polygon fill=\"none\" stroke=\"black\" points=\"1203.69,-109 1089.69,-109 1089.69,-73 1203.69,-73 1203.69,-109\"/>\n<text text-anchor=\"start\" x=\"1097.69\" y=\"-88.3\" font-family=\"Times,serif\" font-weight=\"bold\" font-size=\"14.00\">DiffWalk</text>\n<text text-anchor=\"start\" x=\"1152.69\" y=\"-88.3\" font-family=\"Times,serif\" font-size=\"14.00\"> ≤</text>\n<text text-anchor=\"start\" x=\"1164.69\" y=\"-88.3\" font-family=\"Times,serif\" font-weight=\"bold\" font-size=\"14.00\">0.000</text>\n</g>\n<!-- split62&#45;&gt;leaf54 -->\n<g id=\"edge32\" class=\"edge\">\n<title>split62&#45;&gt;leaf54</title>\n<path fill=\"none\" stroke=\"black\" d=\"M1131.2,-72.81C1123.15,-63.88 1113.17,-52.8 1104.36,-43.03\"/>\n<polygon fill=\"black\" stroke=\"black\" points=\"1106.9,-40.62 1097.6,-35.54 1101.7,-45.31 1106.9,-40.62\"/>\n<text text-anchor=\"middle\" x=\"1130.19\" y=\"-50.8\" font-family=\"Times,serif\" font-size=\"14.00\">yes</text>\n</g>\n<!-- leaf63 -->\n<g id=\"node39\" class=\"node\">\n<title>leaf63</title>\n<ellipse fill=\"none\" stroke=\"black\" cx=\"1210.69\" cy=\"-18\" rx=\"63.89\" ry=\"18\"/>\n<text text-anchor=\"start\" x=\"1169.69\" y=\"-15.3\" font-family=\"Times,serif\" font-size=\"14.00\">leaf 63: </text>\n<text text-anchor=\"start\" x=\"1215.69\" y=\"-15.3\" font-family=\"Times,serif\" font-weight=\"bold\" font-size=\"14.00\">&#45;0.004</text>\n</g>\n<!-- split62&#45;&gt;leaf63 -->\n<g id=\"edge33\" class=\"edge\">\n<title>split62&#45;&gt;leaf63</title>\n<path fill=\"none\" stroke=\"black\" d=\"M1162.19,-72.81C1170.24,-63.88 1180.22,-52.8 1189.03,-43.03\"/>\n<polygon fill=\"black\" stroke=\"black\" points=\"1191.69,-45.31 1195.79,-35.54 1186.49,-40.62 1191.69,-45.31\"/>\n<text text-anchor=\"middle\" x=\"1191.69\" y=\"-50.8\" font-family=\"Times,serif\" font-size=\"14.00\">no</text>\n</g>\n<!-- split54&#45;&gt;split62 -->\n<g id=\"edge34\" class=\"edge\">\n<title>split54&#45;&gt;split62</title>\n<path fill=\"none\" stroke=\"black\" d=\"M1146.69,-145.81C1146.69,-137.79 1146.69,-128.05 1146.69,-119.07\"/>\n<polygon fill=\"black\" stroke=\"black\" points=\"1150.19,-119.03 1146.69,-109.03 1143.19,-119.03 1150.19,-119.03\"/>\n<text text-anchor=\"middle\" x=\"1156.19\" y=\"-123.8\" font-family=\"Times,serif\" font-size=\"14.00\">yes</text>\n</g>\n<!-- leaf55 -->\n<g id=\"node41\" class=\"node\">\n<title>leaf55</title>\n<ellipse fill=\"none\" stroke=\"black\" cx=\"1271.69\" cy=\"-91\" rx=\"63.89\" ry=\"18\"/>\n<text text-anchor=\"start\" x=\"1230.69\" y=\"-88.3\" font-family=\"Times,serif\" font-size=\"14.00\">leaf 55: </text>\n<text text-anchor=\"start\" x=\"1276.69\" y=\"-88.3\" font-family=\"Times,serif\" font-weight=\"bold\" font-size=\"14.00\">&#45;0.133</text>\n</g>\n<!-- split54&#45;&gt;leaf55 -->\n<g id=\"edge35\" class=\"edge\">\n<title>split54&#45;&gt;leaf55</title>\n<path fill=\"none\" stroke=\"black\" d=\"M1176.63,-145.99C1194.39,-135.91 1217,-123.07 1235.72,-112.43\"/>\n<polygon fill=\"black\" stroke=\"black\" points=\"1237.59,-115.4 1244.56,-107.41 1234.13,-109.31 1237.59,-115.4\"/>\n<text text-anchor=\"middle\" x=\"1227.69\" y=\"-123.8\" font-family=\"Times,serif\" font-size=\"14.00\">no</text>\n</g>\n<!-- split39 -->\n<g id=\"node42\" class=\"node\">\n<title>split39</title>\n<polygon fill=\"none\" stroke=\"black\" points=\"1232.69,-328 1114.69,-328 1114.69,-292 1232.69,-292 1232.69,-328\"/>\n<text text-anchor=\"start\" x=\"1122.69\" y=\"-307.3\" font-family=\"Times,serif\" font-weight=\"bold\" font-size=\"14.00\">MentHlth</text>\n<text text-anchor=\"start\" x=\"1181.69\" y=\"-307.3\" font-family=\"Times,serif\" font-size=\"14.00\"> ≤</text>\n<text text-anchor=\"start\" x=\"1193.69\" y=\"-307.3\" font-family=\"Times,serif\" font-weight=\"bold\" font-size=\"14.00\">1.500</text>\n</g>\n<!-- split39&#45;&gt;split53 -->\n<g id=\"edge37\" class=\"edge\">\n<title>split39&#45;&gt;split53</title>\n<path fill=\"none\" stroke=\"black\" d=\"M1155.05,-291.81C1145.31,-282.83 1133.23,-271.69 1122.6,-261.89\"/>\n<polygon fill=\"black\" stroke=\"black\" points=\"1124.89,-259.23 1115.16,-255.03 1120.14,-264.38 1124.89,-259.23\"/>\n<text text-anchor=\"middle\" x=\"1152.19\" y=\"-269.8\" font-family=\"Times,serif\" font-size=\"14.00\">yes</text>\n</g>\n<!-- leaf40 -->\n<g id=\"node43\" class=\"node\">\n<title>leaf40</title>\n<ellipse fill=\"none\" stroke=\"black\" cx=\"1208.69\" cy=\"-237\" rx=\"63.89\" ry=\"18\"/>\n<text text-anchor=\"start\" x=\"1167.69\" y=\"-234.3\" font-family=\"Times,serif\" font-size=\"14.00\">leaf 40: </text>\n<text text-anchor=\"start\" x=\"1213.69\" y=\"-234.3\" font-family=\"Times,serif\" font-weight=\"bold\" font-size=\"14.00\">&#45;0.034</text>\n</g>\n<!-- split39&#45;&gt;leaf40 -->\n<g id=\"edge38\" class=\"edge\">\n<title>split39&#45;&gt;leaf40</title>\n<path fill=\"none\" stroke=\"black\" d=\"M1182.17,-291.81C1186.25,-283.53 1191.24,-273.41 1195.78,-264.19\"/>\n<polygon fill=\"black\" stroke=\"black\" points=\"1199.02,-265.55 1200.3,-255.03 1192.74,-262.45 1199.02,-265.55\"/>\n<text text-anchor=\"middle\" x=\"1201.69\" y=\"-269.8\" font-family=\"Times,serif\" font-size=\"14.00\">no</text>\n</g>\n<!-- split33 -->\n<g id=\"node44\" class=\"node\">\n<title>split33</title>\n<polygon fill=\"none\" stroke=\"black\" points=\"1367.19,-401 1182.19,-401 1182.19,-365 1367.19,-365 1367.19,-401\"/>\n<text text-anchor=\"start\" x=\"1190.19\" y=\"-380.3\" font-family=\"Times,serif\" font-weight=\"bold\" font-size=\"14.00\">HvyAlcoholConsump</text>\n<text text-anchor=\"start\" x=\"1316.19\" y=\"-380.3\" font-family=\"Times,serif\" font-size=\"14.00\"> ≤</text>\n<text text-anchor=\"start\" x=\"1328.19\" y=\"-380.3\" font-family=\"Times,serif\" font-weight=\"bold\" font-size=\"14.00\">0.000</text>\n</g>\n<!-- split33&#45;&gt;split39 -->\n<g id=\"edge39\" class=\"edge\">\n<title>split33&#45;&gt;split39</title>\n<path fill=\"none\" stroke=\"black\" d=\"M1250.5,-364.99C1237.36,-355.75 1220.91,-344.19 1206.61,-334.14\"/>\n<polygon fill=\"black\" stroke=\"black\" points=\"1208.23,-331 1198.04,-328.11 1204.21,-336.73 1208.23,-331\"/>\n<text text-anchor=\"middle\" x=\"1243.19\" y=\"-342.8\" font-family=\"Times,serif\" font-size=\"14.00\">yes</text>\n</g>\n<!-- leaf34 -->\n<g id=\"node45\" class=\"node\">\n<title>leaf34</title>\n<ellipse fill=\"none\" stroke=\"black\" cx=\"1300.69\" cy=\"-310\" rx=\"63.89\" ry=\"18\"/>\n<text text-anchor=\"start\" x=\"1259.69\" y=\"-307.3\" font-family=\"Times,serif\" font-size=\"14.00\">leaf 34: </text>\n<text text-anchor=\"start\" x=\"1305.69\" y=\"-307.3\" font-family=\"Times,serif\" font-weight=\"bold\" font-size=\"14.00\">&#45;0.151</text>\n</g>\n<!-- split33&#45;&gt;leaf34 -->\n<g id=\"edge40\" class=\"edge\">\n<title>split33&#45;&gt;leaf34</title>\n<path fill=\"none\" stroke=\"black\" d=\"M1280.99,-364.81C1283.99,-356.62 1287.65,-346.62 1291,-337.48\"/>\n<polygon fill=\"black\" stroke=\"black\" points=\"1294.31,-338.62 1294.46,-328.03 1287.73,-336.22 1294.31,-338.62\"/>\n<text text-anchor=\"middle\" x=\"1297.69\" y=\"-342.8\" font-family=\"Times,serif\" font-size=\"14.00\">no</text>\n</g>\n<!-- split20&#45;&gt;split33 -->\n<g id=\"edge41\" class=\"edge\">\n<title>split20&#45;&gt;split33</title>\n<path fill=\"none\" stroke=\"black\" d=\"M1274.69,-437.81C1274.69,-429.79 1274.69,-420.05 1274.69,-411.07\"/>\n<polygon fill=\"black\" stroke=\"black\" points=\"1278.19,-411.03 1274.69,-401.03 1271.19,-411.03 1278.19,-411.03\"/>\n<text text-anchor=\"middle\" x=\"1284.19\" y=\"-415.8\" font-family=\"Times,serif\" font-size=\"14.00\">yes</text>\n</g>\n<!-- split58 -->\n<g id=\"node48\" class=\"node\">\n<title>split58</title>\n<polygon fill=\"none\" stroke=\"black\" points=\"1473.19,-401 1384.19,-401 1384.19,-365 1473.19,-365 1473.19,-401\"/>\n<text text-anchor=\"start\" x=\"1392.19\" y=\"-380.3\" font-family=\"Times,serif\" font-weight=\"bold\" font-size=\"14.00\">Age</text>\n<text text-anchor=\"start\" x=\"1415.19\" y=\"-380.3\" font-family=\"Times,serif\" font-size=\"14.00\"> ≤</text>\n<text text-anchor=\"start\" x=\"1427.19\" y=\"-380.3\" font-family=\"Times,serif\" font-weight=\"bold\" font-size=\"14.00\">12.500</text>\n</g>\n<!-- split20&#45;&gt;split58 -->\n<g id=\"edge44\" class=\"edge\">\n<title>split20&#45;&gt;split58</title>\n<path fill=\"none\" stroke=\"black\" d=\"M1311.58,-437.99C1332.85,-428.19 1359.79,-415.77 1382.47,-405.31\"/>\n<polygon fill=\"black\" stroke=\"black\" points=\"1383.96,-408.48 1391.57,-401.11 1381.03,-402.12 1383.96,-408.48\"/>\n<text text-anchor=\"middle\" x=\"1372.69\" y=\"-415.8\" font-family=\"Times,serif\" font-size=\"14.00\">no</text>\n</g>\n<!-- leaf21 -->\n<g id=\"node47\" class=\"node\">\n<title>leaf21</title>\n<ellipse fill=\"none\" stroke=\"black\" cx=\"1428.69\" cy=\"-310\" rx=\"60.39\" ry=\"18\"/>\n<text text-anchor=\"start\" x=\"1390.19\" y=\"-307.3\" font-family=\"Times,serif\" font-size=\"14.00\">leaf 21: </text>\n<text text-anchor=\"start\" x=\"1436.19\" y=\"-307.3\" font-family=\"Times,serif\" font-weight=\"bold\" font-size=\"14.00\">0.074</text>\n</g>\n<!-- split58&#45;&gt;leaf21 -->\n<g id=\"edge42\" class=\"edge\">\n<title>split58&#45;&gt;leaf21</title>\n<path fill=\"none\" stroke=\"black\" d=\"M1428.69,-364.81C1428.69,-356.79 1428.69,-347.05 1428.69,-338.07\"/>\n<polygon fill=\"black\" stroke=\"black\" points=\"1432.19,-338.03 1428.69,-328.03 1425.19,-338.03 1432.19,-338.03\"/>\n<text text-anchor=\"middle\" x=\"1438.19\" y=\"-342.8\" font-family=\"Times,serif\" font-size=\"14.00\">yes</text>\n</g>\n<!-- leaf59 -->\n<g id=\"node49\" class=\"node\">\n<title>leaf59</title>\n<ellipse fill=\"none\" stroke=\"black\" cx=\"1556.69\" cy=\"-310\" rx=\"63.89\" ry=\"18\"/>\n<text text-anchor=\"start\" x=\"1515.69\" y=\"-307.3\" font-family=\"Times,serif\" font-size=\"14.00\">leaf 59: </text>\n<text text-anchor=\"start\" x=\"1561.69\" y=\"-307.3\" font-family=\"Times,serif\" font-weight=\"bold\" font-size=\"14.00\">&#45;0.090</text>\n</g>\n<!-- split58&#45;&gt;leaf59 -->\n<g id=\"edge43\" class=\"edge\">\n<title>split58&#45;&gt;leaf59</title>\n<path fill=\"none\" stroke=\"black\" d=\"M1459.35,-364.99C1477.61,-354.86 1500.9,-341.95 1520.12,-331.29\"/>\n<polygon fill=\"black\" stroke=\"black\" points=\"1521.86,-334.33 1528.9,-326.41 1518.46,-328.2 1521.86,-334.33\"/>\n<text text-anchor=\"middle\" x=\"1511.69\" y=\"-342.8\" font-family=\"Times,serif\" font-size=\"14.00\">no</text>\n</g>\n<!-- split0 -->\n<g id=\"node50\" class=\"node\">\n<title>split0</title>\n<polygon fill=\"none\" stroke=\"black\" points=\"1260.69,-839 1154.69,-839 1154.69,-803 1260.69,-803 1260.69,-839\"/>\n<text text-anchor=\"start\" x=\"1162.69\" y=\"-818.3\" font-family=\"Times,serif\" font-weight=\"bold\" font-size=\"14.00\">HighBP</text>\n<text text-anchor=\"start\" x=\"1209.69\" y=\"-818.3\" font-family=\"Times,serif\" font-size=\"14.00\"> ≤</text>\n<text text-anchor=\"start\" x=\"1221.69\" y=\"-818.3\" font-family=\"Times,serif\" font-weight=\"bold\" font-size=\"14.00\">0.000</text>\n</g>\n<!-- split0&#45;&gt;split2 -->\n<g id=\"edge49\" class=\"edge\">\n<title>split0&#45;&gt;split2</title>\n<path fill=\"none\" stroke=\"black\" d=\"M1154.47,-808.51C1097.19,-796.15 1006.02,-776.48 944.33,-763.17\"/>\n<polygon fill=\"black\" stroke=\"black\" points=\"944.83,-759.69 934.32,-761 943.35,-766.53 944.83,-759.69\"/>\n<text text-anchor=\"middle\" x=\"1082.19\" y=\"-780.8\" font-family=\"Times,serif\" font-size=\"14.00\">yes</text>\n</g>\n<!-- split1 -->\n<g id=\"node76\" class=\"node\">\n<title>split1</title>\n<polygon fill=\"none\" stroke=\"black\" points=\"1732.19,-766 1621.19,-766 1621.19,-730 1732.19,-730 1732.19,-766\"/>\n<text text-anchor=\"start\" x=\"1629.19\" y=\"-745.3\" font-family=\"Times,serif\" font-weight=\"bold\" font-size=\"14.00\">GenHlth</text>\n<text text-anchor=\"start\" x=\"1681.19\" y=\"-745.3\" font-family=\"Times,serif\" font-size=\"14.00\"> ≤</text>\n<text text-anchor=\"start\" x=\"1693.19\" y=\"-745.3\" font-family=\"Times,serif\" font-weight=\"bold\" font-size=\"14.00\">2.500</text>\n</g>\n<!-- split0&#45;&gt;split1 -->\n<g id=\"edge126\" class=\"edge\">\n<title>split0&#45;&gt;split1</title>\n<path fill=\"none\" stroke=\"black\" d=\"M1261.04,-811.92C1347.33,-798.86 1517.29,-773.13 1610.93,-758.96\"/>\n<polygon fill=\"black\" stroke=\"black\" points=\"1611.49,-762.41 1620.86,-757.45 1610.45,-755.49 1611.49,-762.41\"/>\n<text text-anchor=\"middle\" x=\"1491.69\" y=\"-780.8\" font-family=\"Times,serif\" font-size=\"14.00\">no</text>\n</g>\n<!-- leaf1 -->\n<g id=\"node51\" class=\"node\">\n<title>leaf1</title>\n<ellipse fill=\"none\" stroke=\"black\" cx=\"1643.69\" cy=\"-602\" rx=\"59.29\" ry=\"18\"/>\n<text text-anchor=\"start\" x=\"1606.19\" y=\"-599.3\" font-family=\"Times,serif\" font-size=\"14.00\">leaf 1: </text>\n<text text-anchor=\"start\" x=\"1645.19\" y=\"-599.3\" font-family=\"Times,serif\" font-weight=\"bold\" font-size=\"14.00\">&#45;0.126</text>\n</g>\n<!-- split5 -->\n<g id=\"node52\" class=\"node\">\n<title>split5</title>\n<polygon fill=\"none\" stroke=\"black\" points=\"1732.19,-693 1621.19,-693 1621.19,-657 1732.19,-657 1732.19,-693\"/>\n<text text-anchor=\"start\" x=\"1629.19\" y=\"-672.3\" font-family=\"Times,serif\" font-weight=\"bold\" font-size=\"14.00\">GenHlth</text>\n<text text-anchor=\"start\" x=\"1681.19\" y=\"-672.3\" font-family=\"Times,serif\" font-size=\"14.00\"> ≤</text>\n<text text-anchor=\"start\" x=\"1693.19\" y=\"-672.3\" font-family=\"Times,serif\" font-weight=\"bold\" font-size=\"14.00\">1.500</text>\n</g>\n<!-- split5&#45;&gt;leaf1 -->\n<g id=\"edge50\" class=\"edge\">\n<title>split5&#45;&gt;leaf1</title>\n<path fill=\"none\" stroke=\"black\" d=\"M1668.71,-656.81C1664.86,-648.53 1660.15,-638.41 1655.87,-629.19\"/>\n<polygon fill=\"black\" stroke=\"black\" points=\"1659,-627.62 1651.61,-620.03 1652.65,-630.57 1659,-627.62\"/>\n<text text-anchor=\"middle\" x=\"1673.19\" y=\"-634.8\" font-family=\"Times,serif\" font-size=\"14.00\">yes</text>\n</g>\n<!-- split6 -->\n<g id=\"node56\" class=\"node\">\n<title>split6</title>\n<polygon fill=\"none\" stroke=\"black\" points=\"1788.69,-620 1706.69,-620 1706.69,-584 1788.69,-584 1788.69,-620\"/>\n<text text-anchor=\"start\" x=\"1714.69\" y=\"-599.3\" font-family=\"Times,serif\" font-weight=\"bold\" font-size=\"14.00\">Age</text>\n<text text-anchor=\"start\" x=\"1737.69\" y=\"-599.3\" font-family=\"Times,serif\" font-size=\"14.00\"> ≤</text>\n<text text-anchor=\"start\" x=\"1749.69\" y=\"-599.3\" font-family=\"Times,serif\" font-weight=\"bold\" font-size=\"14.00\">7.500</text>\n</g>\n<!-- split5&#45;&gt;split6 -->\n<g id=\"edge73\" class=\"edge\">\n<title>split5&#45;&gt;split6</title>\n<path fill=\"none\" stroke=\"black\" d=\"M1693.88,-656.81C1702.78,-647.92 1713.78,-636.91 1723.52,-627.17\"/>\n<polygon fill=\"black\" stroke=\"black\" points=\"1726.07,-629.57 1730.67,-620.03 1721.12,-624.63 1726.07,-629.57\"/>\n<text text-anchor=\"middle\" x=\"1725.69\" y=\"-634.8\" font-family=\"Times,serif\" font-size=\"14.00\">no</text>\n</g>\n<!-- leaf6 -->\n<g id=\"node53\" class=\"node\">\n<title>leaf6</title>\n<ellipse fill=\"none\" stroke=\"black\" cx=\"1573.69\" cy=\"-456\" rx=\"59.29\" ry=\"18\"/>\n<text text-anchor=\"start\" x=\"1536.19\" y=\"-453.3\" font-family=\"Times,serif\" font-size=\"14.00\">leaf 6: </text>\n<text text-anchor=\"start\" x=\"1575.19\" y=\"-453.3\" font-family=\"Times,serif\" font-weight=\"bold\" font-size=\"14.00\">&#45;0.146</text>\n</g>\n<!-- split32 -->\n<g id=\"node54\" class=\"node\">\n<title>split32</title>\n<polygon fill=\"none\" stroke=\"black\" points=\"1741.69,-547 1659.69,-547 1659.69,-511 1741.69,-511 1741.69,-547\"/>\n<text text-anchor=\"start\" x=\"1667.69\" y=\"-526.3\" font-family=\"Times,serif\" font-weight=\"bold\" font-size=\"14.00\">Age</text>\n<text text-anchor=\"start\" x=\"1690.69\" y=\"-526.3\" font-family=\"Times,serif\" font-size=\"14.00\"> ≤</text>\n<text text-anchor=\"start\" x=\"1702.69\" y=\"-526.3\" font-family=\"Times,serif\" font-weight=\"bold\" font-size=\"14.00\">6.500</text>\n</g>\n<!-- split32&#45;&gt;leaf6 -->\n<g id=\"edge51\" class=\"edge\">\n<title>split32&#45;&gt;leaf6</title>\n<path fill=\"none\" stroke=\"black\" d=\"M1670.27,-510.99C1652.03,-500.79 1628.73,-487.77 1609.59,-477.07\"/>\n<polygon fill=\"black\" stroke=\"black\" points=\"1611.28,-474 1600.84,-472.18 1607.86,-480.11 1611.28,-474\"/>\n<text text-anchor=\"middle\" x=\"1658.19\" y=\"-488.8\" font-family=\"Times,serif\" font-size=\"14.00\">yes</text>\n</g>\n<!-- leaf33 -->\n<g id=\"node55\" class=\"node\">\n<title>leaf33</title>\n<ellipse fill=\"none\" stroke=\"black\" cx=\"1700.69\" cy=\"-456\" rx=\"63.89\" ry=\"18\"/>\n<text text-anchor=\"start\" x=\"1659.69\" y=\"-453.3\" font-family=\"Times,serif\" font-size=\"14.00\">leaf 33: </text>\n<text text-anchor=\"start\" x=\"1705.69\" y=\"-453.3\" font-family=\"Times,serif\" font-weight=\"bold\" font-size=\"14.00\">&#45;0.062</text>\n</g>\n<!-- split32&#45;&gt;leaf33 -->\n<g id=\"edge52\" class=\"edge\">\n<title>split32&#45;&gt;leaf33</title>\n<path fill=\"none\" stroke=\"black\" d=\"M1700.69,-510.81C1700.69,-502.79 1700.69,-493.05 1700.69,-484.07\"/>\n<polygon fill=\"black\" stroke=\"black\" points=\"1704.19,-484.03 1700.69,-474.03 1697.19,-484.03 1704.19,-484.03\"/>\n<text text-anchor=\"middle\" x=\"1707.69\" y=\"-488.8\" font-family=\"Times,serif\" font-size=\"14.00\">no</text>\n</g>\n<!-- split6&#45;&gt;split32 -->\n<g id=\"edge53\" class=\"edge\">\n<title>split6&#45;&gt;split32</title>\n<path fill=\"none\" stroke=\"black\" d=\"M1736.32,-583.81C1730.72,-575.35 1723.85,-564.98 1717.65,-555.61\"/>\n<polygon fill=\"black\" stroke=\"black\" points=\"1720.41,-553.44 1711.97,-547.03 1714.57,-557.3 1720.41,-553.44\"/>\n<text text-anchor=\"middle\" x=\"1738.19\" y=\"-561.8\" font-family=\"Times,serif\" font-size=\"14.00\">yes</text>\n</g>\n<!-- split10 -->\n<g id=\"node62\" class=\"node\">\n<title>split10</title>\n<polygon fill=\"none\" stroke=\"black\" points=\"1862.69,-547 1768.69,-547 1768.69,-511 1862.69,-511 1862.69,-547\"/>\n<text text-anchor=\"start\" x=\"1776.69\" y=\"-526.3\" font-family=\"Times,serif\" font-weight=\"bold\" font-size=\"14.00\">BMI</text>\n<text text-anchor=\"start\" x=\"1804.69\" y=\"-526.3\" font-family=\"Times,serif\" font-size=\"14.00\"> ≤</text>\n<text text-anchor=\"start\" x=\"1816.69\" y=\"-526.3\" font-family=\"Times,serif\" font-weight=\"bold\" font-size=\"14.00\">25.500</text>\n</g>\n<!-- split6&#45;&gt;split10 -->\n<g id=\"edge72\" class=\"edge\">\n<title>split6&#45;&gt;split10</title>\n<path fill=\"none\" stroke=\"black\" d=\"M1764.16,-583.81C1772.59,-575 1783.01,-564.13 1792.27,-554.46\"/>\n<polygon fill=\"black\" stroke=\"black\" points=\"1795,-556.67 1799.39,-547.03 1789.94,-551.83 1795,-556.67\"/>\n<text text-anchor=\"middle\" x=\"1795.69\" y=\"-561.8\" font-family=\"Times,serif\" font-size=\"14.00\">no</text>\n</g>\n<!-- leaf7 -->\n<g id=\"node57\" class=\"node\">\n<title>leaf7</title>\n<ellipse fill=\"none\" stroke=\"black\" cx=\"1693.69\" cy=\"-383\" rx=\"59.29\" ry=\"18\"/>\n<text text-anchor=\"start\" x=\"1656.19\" y=\"-380.3\" font-family=\"Times,serif\" font-size=\"14.00\">leaf 7: </text>\n<text text-anchor=\"start\" x=\"1695.19\" y=\"-380.3\" font-family=\"Times,serif\" font-weight=\"bold\" font-size=\"14.00\">&#45;0.169</text>\n</g>\n<!-- split27 -->\n<g id=\"node58\" class=\"node\">\n<title>split27</title>\n<polygon fill=\"none\" stroke=\"black\" points=\"1862.69,-474 1768.69,-474 1768.69,-438 1862.69,-438 1862.69,-474\"/>\n<text text-anchor=\"start\" x=\"1776.69\" y=\"-453.3\" font-family=\"Times,serif\" font-weight=\"bold\" font-size=\"14.00\">BMI</text>\n<text text-anchor=\"start\" x=\"1804.69\" y=\"-453.3\" font-family=\"Times,serif\" font-size=\"14.00\"> ≤</text>\n<text text-anchor=\"start\" x=\"1816.69\" y=\"-453.3\" font-family=\"Times,serif\" font-weight=\"bold\" font-size=\"14.00\">20.500</text>\n</g>\n<!-- split27&#45;&gt;leaf7 -->\n<g id=\"edge54\" class=\"edge\">\n<title>split27&#45;&gt;leaf7</title>\n<path fill=\"none\" stroke=\"black\" d=\"M1786.47,-437.99C1769.03,-427.84 1746.77,-414.89 1728.42,-404.21\"/>\n<polygon fill=\"black\" stroke=\"black\" points=\"1730.18,-401.18 1719.77,-399.18 1726.66,-407.23 1730.18,-401.18\"/>\n<text text-anchor=\"middle\" x=\"1775.19\" y=\"-415.8\" font-family=\"Times,serif\" font-size=\"14.00\">yes</text>\n</g>\n<!-- split41 -->\n<g id=\"node60\" class=\"node\">\n<title>split41</title>\n<polygon fill=\"none\" stroke=\"black\" points=\"1874.19,-401 1757.19,-401 1757.19,-365 1874.19,-365 1874.19,-401\"/>\n<text text-anchor=\"start\" x=\"1765.19\" y=\"-380.3\" font-family=\"Times,serif\" font-weight=\"bold\" font-size=\"14.00\">HighChol</text>\n<text text-anchor=\"start\" x=\"1823.19\" y=\"-380.3\" font-family=\"Times,serif\" font-size=\"14.00\"> ≤</text>\n<text text-anchor=\"start\" x=\"1835.19\" y=\"-380.3\" font-family=\"Times,serif\" font-weight=\"bold\" font-size=\"14.00\">0.000</text>\n</g>\n<!-- split27&#45;&gt;split41 -->\n<g id=\"edge57\" class=\"edge\">\n<title>split27&#45;&gt;split41</title>\n<path fill=\"none\" stroke=\"black\" d=\"M1815.69,-437.81C1815.69,-429.79 1815.69,-420.05 1815.69,-411.07\"/>\n<polygon fill=\"black\" stroke=\"black\" points=\"1819.19,-411.03 1815.69,-401.03 1812.19,-411.03 1819.19,-411.03\"/>\n<text text-anchor=\"middle\" x=\"1822.69\" y=\"-415.8\" font-family=\"Times,serif\" font-size=\"14.00\">no</text>\n</g>\n<!-- leaf28 -->\n<g id=\"node59\" class=\"node\">\n<title>leaf28</title>\n<ellipse fill=\"none\" stroke=\"black\" cx=\"1687.69\" cy=\"-310\" rx=\"63.89\" ry=\"18\"/>\n<text text-anchor=\"start\" x=\"1646.69\" y=\"-307.3\" font-family=\"Times,serif\" font-size=\"14.00\">leaf 28: </text>\n<text text-anchor=\"start\" x=\"1692.69\" y=\"-307.3\" font-family=\"Times,serif\" font-weight=\"bold\" font-size=\"14.00\">&#45;0.070</text>\n</g>\n<!-- split41&#45;&gt;leaf28 -->\n<g id=\"edge55\" class=\"edge\">\n<title>split41&#45;&gt;leaf28</title>\n<path fill=\"none\" stroke=\"black\" d=\"M1785.04,-364.99C1766.77,-354.86 1743.49,-341.95 1724.27,-331.29\"/>\n<polygon fill=\"black\" stroke=\"black\" points=\"1725.93,-328.2 1715.48,-326.41 1722.53,-334.33 1725.93,-328.2\"/>\n<text text-anchor=\"middle\" x=\"1773.19\" y=\"-342.8\" font-family=\"Times,serif\" font-size=\"14.00\">yes</text>\n</g>\n<!-- leaf42 -->\n<g id=\"node61\" class=\"node\">\n<title>leaf42</title>\n<ellipse fill=\"none\" stroke=\"black\" cx=\"1815.69\" cy=\"-310\" rx=\"60.39\" ry=\"18\"/>\n<text text-anchor=\"start\" x=\"1777.19\" y=\"-307.3\" font-family=\"Times,serif\" font-size=\"14.00\">leaf 42: </text>\n<text text-anchor=\"start\" x=\"1823.19\" y=\"-307.3\" font-family=\"Times,serif\" font-weight=\"bold\" font-size=\"14.00\">0.003</text>\n</g>\n<!-- split41&#45;&gt;leaf42 -->\n<g id=\"edge56\" class=\"edge\">\n<title>split41&#45;&gt;leaf42</title>\n<path fill=\"none\" stroke=\"black\" d=\"M1815.69,-364.81C1815.69,-356.79 1815.69,-347.05 1815.69,-338.07\"/>\n<polygon fill=\"black\" stroke=\"black\" points=\"1819.19,-338.03 1815.69,-328.03 1812.19,-338.03 1819.19,-338.03\"/>\n<text text-anchor=\"middle\" x=\"1822.69\" y=\"-342.8\" font-family=\"Times,serif\" font-size=\"14.00\">no</text>\n</g>\n<!-- split10&#45;&gt;split27 -->\n<g id=\"edge58\" class=\"edge\">\n<title>split10&#45;&gt;split27</title>\n<path fill=\"none\" stroke=\"black\" d=\"M1815.69,-510.81C1815.69,-502.79 1815.69,-493.05 1815.69,-484.07\"/>\n<polygon fill=\"black\" stroke=\"black\" points=\"1819.19,-484.03 1815.69,-474.03 1812.19,-484.03 1819.19,-484.03\"/>\n<text text-anchor=\"middle\" x=\"1825.19\" y=\"-488.8\" font-family=\"Times,serif\" font-size=\"14.00\">yes</text>\n</g>\n<!-- split19 -->\n<g id=\"node72\" class=\"node\">\n<title>split19</title>\n<polygon fill=\"none\" stroke=\"black\" points=\"2046.69,-474 1932.69,-474 1932.69,-438 2046.69,-438 2046.69,-474\"/>\n<text text-anchor=\"start\" x=\"1940.69\" y=\"-453.3\" font-family=\"Times,serif\" font-weight=\"bold\" font-size=\"14.00\">PhysHlth</text>\n<text text-anchor=\"start\" x=\"1995.69\" y=\"-453.3\" font-family=\"Times,serif\" font-size=\"14.00\"> ≤</text>\n<text text-anchor=\"start\" x=\"2007.69\" y=\"-453.3\" font-family=\"Times,serif\" font-weight=\"bold\" font-size=\"14.00\">1.500</text>\n</g>\n<!-- split10&#45;&gt;split19 -->\n<g id=\"edge71\" class=\"edge\">\n<title>split10&#45;&gt;split19</title>\n<path fill=\"none\" stroke=\"black\" d=\"M1857.37,-510.99C1881.73,-501.06 1912.66,-488.43 1938.49,-477.89\"/>\n<polygon fill=\"black\" stroke=\"black\" points=\"1939.82,-481.13 1947.75,-474.11 1937.17,-474.65 1939.82,-481.13\"/>\n<text text-anchor=\"middle\" x=\"1925.69\" y=\"-488.8\" font-family=\"Times,serif\" font-size=\"14.00\">no</text>\n</g>\n<!-- leaf11 -->\n<g id=\"node63\" class=\"node\">\n<title>leaf11</title>\n<ellipse fill=\"none\" stroke=\"black\" cx=\"1799.69\" cy=\"-164\" rx=\"60.39\" ry=\"18\"/>\n<text text-anchor=\"start\" x=\"1761.19\" y=\"-161.3\" font-family=\"Times,serif\" font-size=\"14.00\">leaf 11: </text>\n<text text-anchor=\"start\" x=\"1807.19\" y=\"-161.3\" font-family=\"Times,serif\" font-weight=\"bold\" font-size=\"14.00\">0.068</text>\n</g>\n<!-- split51 -->\n<g id=\"node64\" class=\"node\">\n<title>split51</title>\n<polygon fill=\"none\" stroke=\"black\" points=\"1895.69,-255 1777.69,-255 1777.69,-219 1895.69,-219 1895.69,-255\"/>\n<text text-anchor=\"start\" x=\"1785.69\" y=\"-234.3\" font-family=\"Times,serif\" font-weight=\"bold\" font-size=\"14.00\">MentHlth</text>\n<text text-anchor=\"start\" x=\"1844.69\" y=\"-234.3\" font-family=\"Times,serif\" font-size=\"14.00\"> ≤</text>\n<text text-anchor=\"start\" x=\"1856.69\" y=\"-234.3\" font-family=\"Times,serif\" font-weight=\"bold\" font-size=\"14.00\">1.500</text>\n</g>\n<!-- split51&#45;&gt;leaf11 -->\n<g id=\"edge59\" class=\"edge\">\n<title>split51&#45;&gt;leaf11</title>\n<path fill=\"none\" stroke=\"black\" d=\"M1827.74,-218.81C1823.37,-210.44 1818.04,-200.2 1813.19,-190.9\"/>\n<polygon fill=\"black\" stroke=\"black\" points=\"1816.29,-189.28 1808.57,-182.03 1810.09,-192.51 1816.29,-189.28\"/>\n<text text-anchor=\"middle\" x=\"1831.19\" y=\"-196.8\" font-family=\"Times,serif\" font-size=\"14.00\">yes</text>\n</g>\n<!-- split57 -->\n<g id=\"node66\" class=\"node\">\n<title>split57</title>\n<polygon fill=\"none\" stroke=\"black\" points=\"1977.69,-182 1863.69,-182 1863.69,-146 1977.69,-146 1977.69,-182\"/>\n<text text-anchor=\"start\" x=\"1871.69\" y=\"-161.3\" font-family=\"Times,serif\" font-weight=\"bold\" font-size=\"14.00\">PhysHlth</text>\n<text text-anchor=\"start\" x=\"1926.69\" y=\"-161.3\" font-family=\"Times,serif\" font-size=\"14.00\"> ≤</text>\n<text text-anchor=\"start\" x=\"1938.69\" y=\"-161.3\" font-family=\"Times,serif\" font-weight=\"bold\" font-size=\"14.00\">0.000</text>\n</g>\n<!-- split51&#45;&gt;split57 -->\n<g id=\"edge62\" class=\"edge\">\n<title>split51&#45;&gt;split57</title>\n<path fill=\"none\" stroke=\"black\" d=\"M1857.03,-218.81C1867.76,-209.74 1881.09,-198.48 1892.77,-188.6\"/>\n<polygon fill=\"black\" stroke=\"black\" points=\"1895.17,-191.16 1900.55,-182.03 1890.65,-185.81 1895.17,-191.16\"/>\n<text text-anchor=\"middle\" x=\"1893.69\" y=\"-196.8\" font-family=\"Times,serif\" font-size=\"14.00\">no</text>\n</g>\n<!-- leaf52 -->\n<g id=\"node65\" class=\"node\">\n<title>leaf52</title>\n<ellipse fill=\"none\" stroke=\"black\" cx=\"1856.69\" cy=\"-91\" rx=\"63.89\" ry=\"18\"/>\n<text text-anchor=\"start\" x=\"1815.69\" y=\"-88.3\" font-family=\"Times,serif\" font-size=\"14.00\">leaf 52: </text>\n<text text-anchor=\"start\" x=\"1861.69\" y=\"-88.3\" font-family=\"Times,serif\" font-weight=\"bold\" font-size=\"14.00\">&#45;0.035</text>\n</g>\n<!-- split57&#45;&gt;leaf52 -->\n<g id=\"edge60\" class=\"edge\">\n<title>split57&#45;&gt;leaf52</title>\n<path fill=\"none\" stroke=\"black\" d=\"M1905.2,-145.81C1897.15,-136.88 1887.17,-125.8 1878.36,-116.03\"/>\n<polygon fill=\"black\" stroke=\"black\" points=\"1880.9,-113.62 1871.6,-108.54 1875.7,-118.31 1880.9,-113.62\"/>\n<text text-anchor=\"middle\" x=\"1904.19\" y=\"-123.8\" font-family=\"Times,serif\" font-size=\"14.00\">yes</text>\n</g>\n<!-- leaf58 -->\n<g id=\"node67\" class=\"node\">\n<title>leaf58</title>\n<ellipse fill=\"none\" stroke=\"black\" cx=\"1984.69\" cy=\"-91\" rx=\"60.39\" ry=\"18\"/>\n<text text-anchor=\"start\" x=\"1946.19\" y=\"-88.3\" font-family=\"Times,serif\" font-size=\"14.00\">leaf 58: </text>\n<text text-anchor=\"start\" x=\"1992.19\" y=\"-88.3\" font-family=\"Times,serif\" font-weight=\"bold\" font-size=\"14.00\">0.133</text>\n</g>\n<!-- split57&#45;&gt;leaf58 -->\n<g id=\"edge61\" class=\"edge\">\n<title>split57&#45;&gt;leaf58</title>\n<path fill=\"none\" stroke=\"black\" d=\"M1936.19,-145.81C1944.24,-136.88 1954.22,-125.8 1963.03,-116.03\"/>\n<polygon fill=\"black\" stroke=\"black\" points=\"1965.69,-118.31 1969.79,-108.54 1960.49,-113.62 1965.69,-118.31\"/>\n<text text-anchor=\"middle\" x=\"1965.69\" y=\"-123.8\" font-family=\"Times,serif\" font-size=\"14.00\">no</text>\n</g>\n<!-- split50 -->\n<g id=\"node68\" class=\"node\">\n<title>split50</title>\n<polygon fill=\"none\" stroke=\"black\" points=\"1969.19,-328 1880.19,-328 1880.19,-292 1969.19,-292 1969.19,-328\"/>\n<text text-anchor=\"start\" x=\"1888.19\" y=\"-307.3\" font-family=\"Times,serif\" font-weight=\"bold\" font-size=\"14.00\">Age</text>\n<text text-anchor=\"start\" x=\"1911.19\" y=\"-307.3\" font-family=\"Times,serif\" font-size=\"14.00\"> ≤</text>\n<text text-anchor=\"start\" x=\"1923.19\" y=\"-307.3\" font-family=\"Times,serif\" font-weight=\"bold\" font-size=\"14.00\">12.500</text>\n</g>\n<!-- split50&#45;&gt;split51 -->\n<g id=\"edge63\" class=\"edge\">\n<title>split50&#45;&gt;split51</title>\n<path fill=\"none\" stroke=\"black\" d=\"M1903.39,-291.81C1892.04,-282.66 1877.92,-271.26 1865.59,-261.32\"/>\n<polygon fill=\"black\" stroke=\"black\" points=\"1867.78,-258.58 1857.8,-255.03 1863.39,-264.03 1867.78,-258.58\"/>\n<text text-anchor=\"middle\" x=\"1898.19\" y=\"-269.8\" font-family=\"Times,serif\" font-size=\"14.00\">yes</text>\n</g>\n<!-- leaf51 -->\n<g id=\"node69\" class=\"node\">\n<title>leaf51</title>\n<ellipse fill=\"none\" stroke=\"black\" cx=\"1963.69\" cy=\"-237\" rx=\"63.89\" ry=\"18\"/>\n<text text-anchor=\"start\" x=\"1922.69\" y=\"-234.3\" font-family=\"Times,serif\" font-size=\"14.00\">leaf 51: </text>\n<text text-anchor=\"start\" x=\"1968.69\" y=\"-234.3\" font-family=\"Times,serif\" font-weight=\"bold\" font-size=\"14.00\">&#45;0.015</text>\n</g>\n<!-- split50&#45;&gt;leaf51 -->\n<g id=\"edge64\" class=\"edge\">\n<title>split50&#45;&gt;leaf51</title>\n<path fill=\"none\" stroke=\"black\" d=\"M1934.14,-291.81C1938.73,-283.44 1944.36,-273.2 1949.47,-263.9\"/>\n<polygon fill=\"black\" stroke=\"black\" points=\"1952.59,-265.48 1954.34,-255.03 1946.46,-262.11 1952.59,-265.48\"/>\n<text text-anchor=\"middle\" x=\"1954.69\" y=\"-269.8\" font-family=\"Times,serif\" font-size=\"14.00\">no</text>\n</g>\n<!-- split38 -->\n<g id=\"node70\" class=\"node\">\n<title>split38</title>\n<polygon fill=\"none\" stroke=\"black\" points=\"2082.19,-401 1897.19,-401 1897.19,-365 2082.19,-365 2082.19,-401\"/>\n<text text-anchor=\"start\" x=\"1905.19\" y=\"-380.3\" font-family=\"Times,serif\" font-weight=\"bold\" font-size=\"14.00\">HvyAlcoholConsump</text>\n<text text-anchor=\"start\" x=\"2031.19\" y=\"-380.3\" font-family=\"Times,serif\" font-size=\"14.00\"> ≤</text>\n<text text-anchor=\"start\" x=\"2043.19\" y=\"-380.3\" font-family=\"Times,serif\" font-weight=\"bold\" font-size=\"14.00\">0.000</text>\n</g>\n<!-- split38&#45;&gt;split50 -->\n<g id=\"edge65\" class=\"edge\">\n<title>split38&#45;&gt;split50</title>\n<path fill=\"none\" stroke=\"black\" d=\"M1973.96,-364.81C1965.9,-356 1955.94,-345.13 1947.09,-335.46\"/>\n<polygon fill=\"black\" stroke=\"black\" points=\"1949.62,-333.04 1940.28,-328.03 1944.46,-337.77 1949.62,-333.04\"/>\n<text text-anchor=\"middle\" x=\"1973.19\" y=\"-342.8\" font-family=\"Times,serif\" font-size=\"14.00\">yes</text>\n</g>\n<!-- leaf39 -->\n<g id=\"node71\" class=\"node\">\n<title>leaf39</title>\n<ellipse fill=\"none\" stroke=\"black\" cx=\"2036.69\" cy=\"-310\" rx=\"63.89\" ry=\"18\"/>\n<text text-anchor=\"start\" x=\"1995.69\" y=\"-307.3\" font-family=\"Times,serif\" font-size=\"14.00\">leaf 39: </text>\n<text text-anchor=\"start\" x=\"2041.69\" y=\"-307.3\" font-family=\"Times,serif\" font-weight=\"bold\" font-size=\"14.00\">&#45;0.057</text>\n</g>\n<!-- split38&#45;&gt;leaf39 -->\n<g id=\"edge66\" class=\"edge\">\n<title>split38&#45;&gt;leaf39</title>\n<path fill=\"none\" stroke=\"black\" d=\"M2001.07,-364.81C2006.67,-356.35 2013.54,-345.98 2019.74,-336.61\"/>\n<polygon fill=\"black\" stroke=\"black\" points=\"2022.82,-338.3 2025.42,-328.03 2016.98,-334.44 2022.82,-338.3\"/>\n<text text-anchor=\"middle\" x=\"2024.69\" y=\"-342.8\" font-family=\"Times,serif\" font-size=\"14.00\">no</text>\n</g>\n<!-- split19&#45;&gt;split38 -->\n<g id=\"edge67\" class=\"edge\">\n<title>split19&#45;&gt;split38</title>\n<path fill=\"none\" stroke=\"black\" d=\"M1989.69,-437.81C1989.69,-429.79 1989.69,-420.05 1989.69,-411.07\"/>\n<polygon fill=\"black\" stroke=\"black\" points=\"1993.19,-411.03 1989.69,-401.03 1986.19,-411.03 1993.19,-411.03\"/>\n<text text-anchor=\"middle\" x=\"1999.19\" y=\"-415.8\" font-family=\"Times,serif\" font-size=\"14.00\">yes</text>\n</g>\n<!-- split25 -->\n<g id=\"node74\" class=\"node\">\n<title>split25</title>\n<polygon fill=\"none\" stroke=\"black\" points=\"2223.19,-401 2106.19,-401 2106.19,-365 2223.19,-365 2223.19,-401\"/>\n<text text-anchor=\"start\" x=\"2114.19\" y=\"-380.3\" font-family=\"Times,serif\" font-weight=\"bold\" font-size=\"14.00\">HighChol</text>\n<text text-anchor=\"start\" x=\"2172.19\" y=\"-380.3\" font-family=\"Times,serif\" font-size=\"14.00\"> ≤</text>\n<text text-anchor=\"start\" x=\"2184.19\" y=\"-380.3\" font-family=\"Times,serif\" font-weight=\"bold\" font-size=\"14.00\">0.000</text>\n</g>\n<!-- split19&#45;&gt;split25 -->\n<g id=\"edge70\" class=\"edge\">\n<title>split19&#45;&gt;split25</title>\n<path fill=\"none\" stroke=\"black\" d=\"M2031.61,-437.99C2056.11,-428.06 2087.22,-415.43 2113.2,-404.89\"/>\n<polygon fill=\"black\" stroke=\"black\" points=\"2114.56,-408.12 2122.51,-401.11 2111.93,-401.63 2114.56,-408.12\"/>\n<text text-anchor=\"middle\" x=\"2100.69\" y=\"-415.8\" font-family=\"Times,serif\" font-size=\"14.00\">no</text>\n</g>\n<!-- leaf20 -->\n<g id=\"node73\" class=\"node\">\n<title>leaf20</title>\n<ellipse fill=\"none\" stroke=\"black\" cx=\"2167.69\" cy=\"-310\" rx=\"63.89\" ry=\"18\"/>\n<text text-anchor=\"start\" x=\"2126.69\" y=\"-307.3\" font-family=\"Times,serif\" font-size=\"14.00\">leaf 20: </text>\n<text text-anchor=\"start\" x=\"2172.69\" y=\"-307.3\" font-family=\"Times,serif\" font-weight=\"bold\" font-size=\"14.00\">&#45;0.107</text>\n</g>\n<!-- split25&#45;&gt;leaf20 -->\n<g id=\"edge68\" class=\"edge\">\n<title>split25&#45;&gt;leaf20</title>\n<path fill=\"none\" stroke=\"black\" d=\"M2165.42,-364.81C2165.76,-356.79 2166.17,-347.05 2166.55,-338.07\"/>\n<polygon fill=\"black\" stroke=\"black\" points=\"2170.05,-338.17 2166.97,-328.03 2163.06,-337.87 2170.05,-338.17\"/>\n<text text-anchor=\"middle\" x=\"2176.19\" y=\"-342.8\" font-family=\"Times,serif\" font-size=\"14.00\">yes</text>\n</g>\n<!-- leaf26 -->\n<g id=\"node75\" class=\"node\">\n<title>leaf26</title>\n<ellipse fill=\"none\" stroke=\"black\" cx=\"2295.69\" cy=\"-310\" rx=\"60.39\" ry=\"18\"/>\n<text text-anchor=\"start\" x=\"2257.19\" y=\"-307.3\" font-family=\"Times,serif\" font-size=\"14.00\">leaf 26: </text>\n<text text-anchor=\"start\" x=\"2303.19\" y=\"-307.3\" font-family=\"Times,serif\" font-weight=\"bold\" font-size=\"14.00\">0.019</text>\n</g>\n<!-- split25&#45;&gt;leaf26 -->\n<g id=\"edge69\" class=\"edge\">\n<title>split25&#45;&gt;leaf26</title>\n<path fill=\"none\" stroke=\"black\" d=\"M2196.07,-364.99C2214.89,-354.79 2238.92,-341.77 2258.67,-331.07\"/>\n<polygon fill=\"black\" stroke=\"black\" points=\"2260.57,-334.02 2267.69,-326.18 2257.23,-327.86 2260.57,-334.02\"/>\n<text text-anchor=\"middle\" x=\"2249.69\" y=\"-342.8\" font-family=\"Times,serif\" font-size=\"14.00\">no</text>\n</g>\n<!-- split1&#45;&gt;split5 -->\n<g id=\"edge74\" class=\"edge\">\n<title>split1&#45;&gt;split5</title>\n<path fill=\"none\" stroke=\"black\" d=\"M1676.69,-729.81C1676.69,-721.79 1676.69,-712.05 1676.69,-703.07\"/>\n<polygon fill=\"black\" stroke=\"black\" points=\"1680.19,-703.03 1676.69,-693.03 1673.19,-703.03 1680.19,-703.03\"/>\n<text text-anchor=\"middle\" x=\"1686.19\" y=\"-707.8\" font-family=\"Times,serif\" font-size=\"14.00\">yes</text>\n</g>\n<!-- split3 -->\n<g id=\"node98\" class=\"node\">\n<title>split3</title>\n<polygon fill=\"none\" stroke=\"black\" points=\"2619.19,-693 2502.19,-693 2502.19,-657 2619.19,-657 2619.19,-693\"/>\n<text text-anchor=\"start\" x=\"2510.19\" y=\"-672.3\" font-family=\"Times,serif\" font-weight=\"bold\" font-size=\"14.00\">HighChol</text>\n<text text-anchor=\"start\" x=\"2568.19\" y=\"-672.3\" font-family=\"Times,serif\" font-size=\"14.00\"> ≤</text>\n<text text-anchor=\"start\" x=\"2580.19\" y=\"-672.3\" font-family=\"Times,serif\" font-weight=\"bold\" font-size=\"14.00\">0.000</text>\n</g>\n<!-- split1&#45;&gt;split3 -->\n<g id=\"edge125\" class=\"edge\">\n<title>split1&#45;&gt;split3</title>\n<path fill=\"none\" stroke=\"black\" d=\"M1732.33,-742.53C1887.11,-730.1 2322.52,-695.13 2491.99,-681.52\"/>\n<polygon fill=\"black\" stroke=\"black\" points=\"2492.35,-685 2502.03,-680.71 2491.79,-678.02 2492.35,-685\"/>\n<text text-anchor=\"middle\" x=\"2205.69\" y=\"-707.8\" font-family=\"Times,serif\" font-size=\"14.00\">no</text>\n</g>\n<!-- leaf2 -->\n<g id=\"node77\" class=\"node\">\n<title>leaf2</title>\n<ellipse fill=\"none\" stroke=\"black\" cx=\"2286.69\" cy=\"-383\" rx=\"59.29\" ry=\"18\"/>\n<text text-anchor=\"start\" x=\"2249.19\" y=\"-380.3\" font-family=\"Times,serif\" font-size=\"14.00\">leaf 2: </text>\n<text text-anchor=\"start\" x=\"2288.19\" y=\"-380.3\" font-family=\"Times,serif\" font-weight=\"bold\" font-size=\"14.00\">&#45;0.133</text>\n</g>\n<!-- split31 -->\n<g id=\"node78\" class=\"node\">\n<title>split31</title>\n<polygon fill=\"none\" stroke=\"black\" points=\"2453.69,-474 2359.69,-474 2359.69,-438 2453.69,-438 2453.69,-474\"/>\n<text text-anchor=\"start\" x=\"2367.69\" y=\"-453.3\" font-family=\"Times,serif\" font-weight=\"bold\" font-size=\"14.00\">BMI</text>\n<text text-anchor=\"start\" x=\"2395.69\" y=\"-453.3\" font-family=\"Times,serif\" font-size=\"14.00\"> ≤</text>\n<text text-anchor=\"start\" x=\"2407.69\" y=\"-453.3\" font-family=\"Times,serif\" font-weight=\"bold\" font-size=\"14.00\">37.500</text>\n</g>\n<!-- split31&#45;&gt;leaf2 -->\n<g id=\"edge75\" class=\"edge\">\n<title>split31&#45;&gt;leaf2</title>\n<path fill=\"none\" stroke=\"black\" d=\"M2377.95,-437.99C2361.06,-428 2339.59,-415.3 2321.72,-404.72\"/>\n<polygon fill=\"black\" stroke=\"black\" points=\"2323.14,-401.49 2312.75,-399.41 2319.57,-407.52 2323.14,-401.49\"/>\n<text text-anchor=\"middle\" x=\"2367.19\" y=\"-415.8\" font-family=\"Times,serif\" font-size=\"14.00\">yes</text>\n</g>\n<!-- leaf32 -->\n<g id=\"node79\" class=\"node\">\n<title>leaf32</title>\n<ellipse fill=\"none\" stroke=\"black\" cx=\"2410.69\" cy=\"-383\" rx=\"60.39\" ry=\"18\"/>\n<text text-anchor=\"start\" x=\"2372.19\" y=\"-380.3\" font-family=\"Times,serif\" font-size=\"14.00\">leaf 32: </text>\n<text text-anchor=\"start\" x=\"2418.19\" y=\"-380.3\" font-family=\"Times,serif\" font-weight=\"bold\" font-size=\"14.00\">0.010</text>\n</g>\n<!-- split31&#45;&gt;leaf32 -->\n<g id=\"edge76\" class=\"edge\">\n<title>split31&#45;&gt;leaf32</title>\n<path fill=\"none\" stroke=\"black\" d=\"M2407.66,-437.81C2408.11,-429.79 2408.66,-420.05 2409.17,-411.07\"/>\n<polygon fill=\"black\" stroke=\"black\" points=\"2412.67,-411.21 2409.73,-401.03 2405.68,-410.82 2412.67,-411.21\"/>\n<text text-anchor=\"middle\" x=\"2416.69\" y=\"-415.8\" font-family=\"Times,serif\" font-size=\"14.00\">no</text>\n</g>\n<!-- split22 -->\n<g id=\"node80\" class=\"node\">\n<title>split22</title>\n<polygon fill=\"none\" stroke=\"black\" points=\"2556.19,-547 2445.19,-547 2445.19,-511 2556.19,-511 2556.19,-547\"/>\n<text text-anchor=\"start\" x=\"2453.19\" y=\"-526.3\" font-family=\"Times,serif\" font-weight=\"bold\" font-size=\"14.00\">GenHlth</text>\n<text text-anchor=\"start\" x=\"2505.19\" y=\"-526.3\" font-family=\"Times,serif\" font-size=\"14.00\"> ≤</text>\n<text text-anchor=\"start\" x=\"2517.19\" y=\"-526.3\" font-family=\"Times,serif\" font-weight=\"bold\" font-size=\"14.00\">3.500</text>\n</g>\n<!-- split22&#45;&gt;split31 -->\n<g id=\"edge77\" class=\"edge\">\n<title>split22&#45;&gt;split31</title>\n<path fill=\"none\" stroke=\"black\" d=\"M2477.94,-510.81C2465.82,-501.66 2450.73,-490.26 2437.56,-480.32\"/>\n<polygon fill=\"black\" stroke=\"black\" points=\"2439.33,-477.26 2429.24,-474.03 2435.11,-482.85 2439.33,-477.26\"/>\n<text text-anchor=\"middle\" x=\"2472.19\" y=\"-488.8\" font-family=\"Times,serif\" font-size=\"14.00\">yes</text>\n</g>\n<!-- leaf23 -->\n<g id=\"node81\" class=\"node\">\n<title>leaf23</title>\n<ellipse fill=\"none\" stroke=\"black\" cx=\"2517.69\" cy=\"-456\" rx=\"60.39\" ry=\"18\"/>\n<text text-anchor=\"start\" x=\"2479.19\" y=\"-453.3\" font-family=\"Times,serif\" font-size=\"14.00\">leaf 23: </text>\n<text text-anchor=\"start\" x=\"2525.19\" y=\"-453.3\" font-family=\"Times,serif\" font-weight=\"bold\" font-size=\"14.00\">0.016</text>\n</g>\n<!-- split22&#45;&gt;leaf23 -->\n<g id=\"edge78\" class=\"edge\">\n<title>split22&#45;&gt;leaf23</title>\n<path fill=\"none\" stroke=\"black\" d=\"M2504.81,-510.81C2506.75,-502.7 2509.11,-492.84 2511.28,-483.78\"/>\n<polygon fill=\"black\" stroke=\"black\" points=\"2514.69,-484.57 2513.62,-474.03 2507.88,-482.94 2514.69,-484.57\"/>\n<text text-anchor=\"middle\" x=\"2518.69\" y=\"-488.8\" font-family=\"Times,serif\" font-size=\"14.00\">no</text>\n</g>\n<!-- split11 -->\n<g id=\"node82\" class=\"node\">\n<title>split11</title>\n<polygon fill=\"none\" stroke=\"black\" points=\"2601.69,-620 2519.69,-620 2519.69,-584 2601.69,-584 2601.69,-620\"/>\n<text text-anchor=\"start\" x=\"2527.69\" y=\"-599.3\" font-family=\"Times,serif\" font-weight=\"bold\" font-size=\"14.00\">Age</text>\n<text text-anchor=\"start\" x=\"2550.69\" y=\"-599.3\" font-family=\"Times,serif\" font-size=\"14.00\"> ≤</text>\n<text text-anchor=\"start\" x=\"2562.69\" y=\"-599.3\" font-family=\"Times,serif\" font-weight=\"bold\" font-size=\"14.00\">6.500</text>\n</g>\n<!-- split11&#45;&gt;split22 -->\n<g id=\"edge79\" class=\"edge\">\n<title>split11&#45;&gt;split22</title>\n<path fill=\"none\" stroke=\"black\" d=\"M2546.17,-583.81C2538.8,-575.09 2529.71,-564.34 2521.61,-554.75\"/>\n<polygon fill=\"black\" stroke=\"black\" points=\"2524.21,-552.41 2515.08,-547.03 2518.87,-556.93 2524.21,-552.41\"/>\n<text text-anchor=\"middle\" x=\"2546.19\" y=\"-561.8\" font-family=\"Times,serif\" font-size=\"14.00\">yes</text>\n</g>\n<!-- split17 -->\n<g id=\"node96\" class=\"node\">\n<title>split17</title>\n<polygon fill=\"none\" stroke=\"black\" points=\"2745.19,-547 2560.19,-547 2560.19,-511 2745.19,-511 2745.19,-547\"/>\n<text text-anchor=\"start\" x=\"2568.19\" y=\"-526.3\" font-family=\"Times,serif\" font-weight=\"bold\" font-size=\"14.00\">HvyAlcoholConsump</text>\n<text text-anchor=\"start\" x=\"2694.19\" y=\"-526.3\" font-family=\"Times,serif\" font-size=\"14.00\"> ≤</text>\n<text text-anchor=\"start\" x=\"2706.19\" y=\"-526.3\" font-family=\"Times,serif\" font-weight=\"bold\" font-size=\"14.00\">0.000</text>\n</g>\n<!-- split11&#45;&gt;split17 -->\n<g id=\"edge94\" class=\"edge\">\n<title>split11&#45;&gt;split17</title>\n<path fill=\"none\" stroke=\"black\" d=\"M2582.96,-583.81C2594.83,-574.66 2609.6,-563.26 2622.48,-553.32\"/>\n<polygon fill=\"black\" stroke=\"black\" points=\"2624.85,-555.91 2630.63,-547.03 2620.57,-550.37 2624.85,-555.91\"/>\n<text text-anchor=\"middle\" x=\"2622.69\" y=\"-561.8\" font-family=\"Times,serif\" font-size=\"14.00\">no</text>\n</g>\n<!-- leaf12 -->\n<g id=\"node83\" class=\"node\">\n<title>leaf12</title>\n<ellipse fill=\"none\" stroke=\"black\" cx=\"2310.69\" cy=\"-237\" rx=\"60.39\" ry=\"18\"/>\n<text text-anchor=\"start\" x=\"2272.19\" y=\"-234.3\" font-family=\"Times,serif\" font-size=\"14.00\">leaf 12: </text>\n<text text-anchor=\"start\" x=\"2318.19\" y=\"-234.3\" font-family=\"Times,serif\" font-weight=\"bold\" font-size=\"14.00\">0.060</text>\n</g>\n<!-- split42 -->\n<g id=\"node84\" class=\"node\">\n<title>split42</title>\n<polygon fill=\"none\" stroke=\"black\" points=\"2464.19,-328 2361.19,-328 2361.19,-292 2464.19,-292 2464.19,-328\"/>\n<text text-anchor=\"start\" x=\"2369.19\" y=\"-307.3\" font-family=\"Times,serif\" font-weight=\"bold\" font-size=\"14.00\">Income</text>\n<text text-anchor=\"start\" x=\"2413.19\" y=\"-307.3\" font-family=\"Times,serif\" font-size=\"14.00\"> ≤</text>\n<text text-anchor=\"start\" x=\"2425.19\" y=\"-307.3\" font-family=\"Times,serif\" font-weight=\"bold\" font-size=\"14.00\">5.500</text>\n</g>\n<!-- split42&#45;&gt;leaf12 -->\n<g id=\"edge80\" class=\"edge\">\n<title>split42&#45;&gt;leaf12</title>\n<path fill=\"none\" stroke=\"black\" d=\"M2388.26,-291.99C2374.37,-282.32 2356.83,-270.11 2341.94,-259.75\"/>\n<polygon fill=\"black\" stroke=\"black\" points=\"2343.74,-256.73 2333.53,-253.89 2339.74,-262.48 2343.74,-256.73\"/>\n<text text-anchor=\"middle\" x=\"2381.19\" y=\"-269.8\" font-family=\"Times,serif\" font-size=\"14.00\">yes</text>\n</g>\n<!-- leaf43 -->\n<g id=\"node85\" class=\"node\">\n<title>leaf43</title>\n<ellipse fill=\"none\" stroke=\"black\" cx=\"2438.69\" cy=\"-237\" rx=\"63.89\" ry=\"18\"/>\n<text text-anchor=\"start\" x=\"2397.69\" y=\"-234.3\" font-family=\"Times,serif\" font-size=\"14.00\">leaf 43: </text>\n<text text-anchor=\"start\" x=\"2443.69\" y=\"-234.3\" font-family=\"Times,serif\" font-weight=\"bold\" font-size=\"14.00\">&#45;0.001</text>\n</g>\n<!-- split42&#45;&gt;leaf43 -->\n<g id=\"edge81\" class=\"edge\">\n<title>split42&#45;&gt;leaf43</title>\n<path fill=\"none\" stroke=\"black\" d=\"M2418.99,-291.81C2421.99,-283.62 2425.65,-273.62 2429,-264.48\"/>\n<polygon fill=\"black\" stroke=\"black\" points=\"2432.31,-265.62 2432.46,-255.03 2425.73,-263.22 2432.31,-265.62\"/>\n<text text-anchor=\"middle\" x=\"2435.69\" y=\"-269.8\" font-family=\"Times,serif\" font-size=\"14.00\">no</text>\n</g>\n<!-- split23 -->\n<g id=\"node86\" class=\"node\">\n<title>split23</title>\n<polygon fill=\"none\" stroke=\"black\" points=\"2592.69,-401 2474.69,-401 2474.69,-365 2592.69,-365 2592.69,-401\"/>\n<text text-anchor=\"start\" x=\"2482.69\" y=\"-380.3\" font-family=\"Times,serif\" font-weight=\"bold\" font-size=\"14.00\">MentHlth</text>\n<text text-anchor=\"start\" x=\"2541.69\" y=\"-380.3\" font-family=\"Times,serif\" font-size=\"14.00\"> ≤</text>\n<text text-anchor=\"start\" x=\"2553.69\" y=\"-380.3\" font-family=\"Times,serif\" font-weight=\"bold\" font-size=\"14.00\">4.500</text>\n</g>\n<!-- split23&#45;&gt;split42 -->\n<g id=\"edge82\" class=\"edge\">\n<title>split23&#45;&gt;split42</title>\n<path fill=\"none\" stroke=\"black\" d=\"M2504.71,-364.99C2488.52,-355.49 2468.14,-343.54 2450.69,-333.29\"/>\n<polygon fill=\"black\" stroke=\"black\" points=\"2452.26,-330.16 2441.86,-328.11 2448.71,-336.19 2452.26,-330.16\"/>\n<text text-anchor=\"middle\" x=\"2494.19\" y=\"-342.8\" font-family=\"Times,serif\" font-size=\"14.00\">yes</text>\n</g>\n<!-- leaf24 -->\n<g id=\"node87\" class=\"node\">\n<title>leaf24</title>\n<ellipse fill=\"none\" stroke=\"black\" cx=\"2531.69\" cy=\"-310\" rx=\"63.89\" ry=\"18\"/>\n<text text-anchor=\"start\" x=\"2490.69\" y=\"-307.3\" font-family=\"Times,serif\" font-size=\"14.00\">leaf 24: </text>\n<text text-anchor=\"start\" x=\"2536.69\" y=\"-307.3\" font-family=\"Times,serif\" font-weight=\"bold\" font-size=\"14.00\">&#45;0.076</text>\n</g>\n<!-- split23&#45;&gt;leaf24 -->\n<g id=\"edge83\" class=\"edge\">\n<title>split23&#45;&gt;leaf24</title>\n<path fill=\"none\" stroke=\"black\" d=\"M2533.21,-364.81C2532.98,-356.79 2532.71,-347.05 2532.46,-338.07\"/>\n<polygon fill=\"black\" stroke=\"black\" points=\"2535.95,-337.93 2532.17,-328.03 2528.96,-338.12 2535.95,-337.93\"/>\n<text text-anchor=\"middle\" x=\"2540.69\" y=\"-342.8\" font-family=\"Times,serif\" font-size=\"14.00\">no</text>\n</g>\n<!-- split21 -->\n<g id=\"node88\" class=\"node\">\n<title>split21</title>\n<polygon fill=\"none\" stroke=\"black\" points=\"2685.69,-474 2591.69,-474 2591.69,-438 2685.69,-438 2685.69,-474\"/>\n<text text-anchor=\"start\" x=\"2599.69\" y=\"-453.3\" font-family=\"Times,serif\" font-weight=\"bold\" font-size=\"14.00\">BMI</text>\n<text text-anchor=\"start\" x=\"2627.69\" y=\"-453.3\" font-family=\"Times,serif\" font-size=\"14.00\"> ≤</text>\n<text text-anchor=\"start\" x=\"2639.69\" y=\"-453.3\" font-family=\"Times,serif\" font-weight=\"bold\" font-size=\"14.00\">28.500</text>\n</g>\n<!-- split21&#45;&gt;split23 -->\n<g id=\"edge84\" class=\"edge\">\n<title>split21&#45;&gt;split23</title>\n<path fill=\"none\" stroke=\"black\" d=\"M2613.54,-437.99C2599.75,-428.67 2582.46,-416.97 2567.5,-406.86\"/>\n<polygon fill=\"black\" stroke=\"black\" points=\"2569.25,-403.82 2559,-401.11 2565.33,-409.61 2569.25,-403.82\"/>\n<text text-anchor=\"middle\" x=\"2605.19\" y=\"-415.8\" font-family=\"Times,serif\" font-size=\"14.00\">yes</text>\n</g>\n<!-- split29 -->\n<g id=\"node94\" class=\"node\">\n<title>split29</title>\n<polygon fill=\"none\" stroke=\"black\" points=\"2712.19,-401 2601.19,-401 2601.19,-365 2712.19,-365 2712.19,-401\"/>\n<text text-anchor=\"start\" x=\"2609.19\" y=\"-380.3\" font-family=\"Times,serif\" font-weight=\"bold\" font-size=\"14.00\">GenHlth</text>\n<text text-anchor=\"start\" x=\"2661.19\" y=\"-380.3\" font-family=\"Times,serif\" font-size=\"14.00\"> ≤</text>\n<text text-anchor=\"start\" x=\"2673.19\" y=\"-380.3\" font-family=\"Times,serif\" font-weight=\"bold\" font-size=\"14.00\">3.500</text>\n</g>\n<!-- split21&#45;&gt;split29 -->\n<g id=\"edge91\" class=\"edge\">\n<title>split21&#45;&gt;split29</title>\n<path fill=\"none\" stroke=\"black\" d=\"M2643.05,-437.81C2645.11,-429.7 2647.61,-419.84 2649.91,-410.78\"/>\n<polygon fill=\"black\" stroke=\"black\" points=\"2653.31,-411.58 2652.38,-401.03 2646.53,-409.86 2653.31,-411.58\"/>\n<text text-anchor=\"middle\" x=\"2656.69\" y=\"-415.8\" font-family=\"Times,serif\" font-size=\"14.00\">no</text>\n</g>\n<!-- leaf22 -->\n<g id=\"node89\" class=\"node\">\n<title>leaf22</title>\n<ellipse fill=\"none\" stroke=\"black\" cx=\"2546.69\" cy=\"-164\" rx=\"60.39\" ry=\"18\"/>\n<text text-anchor=\"start\" x=\"2508.19\" y=\"-161.3\" font-family=\"Times,serif\" font-size=\"14.00\">leaf 22: </text>\n<text text-anchor=\"start\" x=\"2554.19\" y=\"-161.3\" font-family=\"Times,serif\" font-weight=\"bold\" font-size=\"14.00\">0.009</text>\n</g>\n<!-- split46 -->\n<g id=\"node90\" class=\"node\">\n<title>split46</title>\n<polygon fill=\"none\" stroke=\"black\" points=\"2660.19,-255 2557.19,-255 2557.19,-219 2660.19,-219 2660.19,-255\"/>\n<text text-anchor=\"start\" x=\"2565.19\" y=\"-234.3\" font-family=\"Times,serif\" font-weight=\"bold\" font-size=\"14.00\">Income</text>\n<text text-anchor=\"start\" x=\"2609.19\" y=\"-234.3\" font-family=\"Times,serif\" font-size=\"14.00\"> ≤</text>\n<text text-anchor=\"start\" x=\"2621.19\" y=\"-234.3\" font-family=\"Times,serif\" font-weight=\"bold\" font-size=\"14.00\">5.500</text>\n</g>\n<!-- split46&#45;&gt;leaf22 -->\n<g id=\"edge85\" class=\"edge\">\n<title>split46&#45;&gt;leaf22</title>\n<path fill=\"none\" stroke=\"black\" d=\"M2593.69,-218.81C2585.96,-209.96 2576.41,-199.02 2567.93,-189.32\"/>\n<polygon fill=\"black\" stroke=\"black\" points=\"2570.35,-186.77 2561.14,-181.54 2565.08,-191.37 2570.35,-186.77\"/>\n<text text-anchor=\"middle\" x=\"2593.19\" y=\"-196.8\" font-family=\"Times,serif\" font-size=\"14.00\">yes</text>\n</g>\n<!-- leaf47 -->\n<g id=\"node91\" class=\"node\">\n<title>leaf47</title>\n<ellipse fill=\"none\" stroke=\"black\" cx=\"2671.69\" cy=\"-164\" rx=\"60.39\" ry=\"18\"/>\n<text text-anchor=\"start\" x=\"2633.19\" y=\"-161.3\" font-family=\"Times,serif\" font-size=\"14.00\">leaf 47: </text>\n<text text-anchor=\"start\" x=\"2679.19\" y=\"-161.3\" font-family=\"Times,serif\" font-weight=\"bold\" font-size=\"14.00\">0.074</text>\n</g>\n<!-- split46&#45;&gt;leaf47 -->\n<g id=\"edge86\" class=\"edge\">\n<title>split46&#45;&gt;leaf47</title>\n<path fill=\"none\" stroke=\"black\" d=\"M2623.94,-218.81C2631.88,-209.88 2641.7,-198.8 2650.37,-189.03\"/>\n<polygon fill=\"black\" stroke=\"black\" points=\"2653,-191.34 2657.02,-181.54 2647.76,-186.7 2653,-191.34\"/>\n<text text-anchor=\"middle\" x=\"2653.69\" y=\"-196.8\" font-family=\"Times,serif\" font-size=\"14.00\">no</text>\n</g>\n<!-- split34 -->\n<g id=\"node92\" class=\"node\">\n<title>split34</title>\n<polygon fill=\"none\" stroke=\"black\" points=\"2713.69,-328 2599.69,-328 2599.69,-292 2713.69,-292 2713.69,-328\"/>\n<text text-anchor=\"start\" x=\"2607.69\" y=\"-307.3\" font-family=\"Times,serif\" font-weight=\"bold\" font-size=\"14.00\">PhysHlth</text>\n<text text-anchor=\"start\" x=\"2662.69\" y=\"-307.3\" font-family=\"Times,serif\" font-size=\"14.00\"> ≤</text>\n<text text-anchor=\"start\" x=\"2674.69\" y=\"-307.3\" font-family=\"Times,serif\" font-weight=\"bold\" font-size=\"14.00\">4.500</text>\n</g>\n<!-- split34&#45;&gt;split46 -->\n<g id=\"edge87\" class=\"edge\">\n<title>split34&#45;&gt;split46</title>\n<path fill=\"none\" stroke=\"black\" d=\"M2645.07,-291.81C2639.3,-283.27 2632.2,-272.77 2625.81,-263.32\"/>\n<polygon fill=\"black\" stroke=\"black\" points=\"2628.71,-261.35 2620.21,-255.03 2622.91,-265.27 2628.71,-261.35\"/>\n<text text-anchor=\"middle\" x=\"2647.19\" y=\"-269.8\" font-family=\"Times,serif\" font-size=\"14.00\">yes</text>\n</g>\n<!-- leaf35 -->\n<g id=\"node93\" class=\"node\">\n<title>leaf35</title>\n<ellipse fill=\"none\" stroke=\"black\" cx=\"2727.69\" cy=\"-237\" rx=\"63.89\" ry=\"18\"/>\n<text text-anchor=\"start\" x=\"2686.69\" y=\"-234.3\" font-family=\"Times,serif\" font-size=\"14.00\">leaf 35: </text>\n<text text-anchor=\"start\" x=\"2732.69\" y=\"-234.3\" font-family=\"Times,serif\" font-weight=\"bold\" font-size=\"14.00\">&#45;0.040</text>\n</g>\n<!-- split34&#45;&gt;leaf35 -->\n<g id=\"edge88\" class=\"edge\">\n<title>split34&#45;&gt;leaf35</title>\n<path fill=\"none\" stroke=\"black\" d=\"M2673.88,-291.81C2682.91,-282.79 2694.11,-271.59 2703.95,-261.74\"/>\n<polygon fill=\"black\" stroke=\"black\" points=\"2706.56,-264.09 2711.15,-254.54 2701.61,-259.14 2706.56,-264.09\"/>\n<text text-anchor=\"middle\" x=\"2705.69\" y=\"-269.8\" font-family=\"Times,serif\" font-size=\"14.00\">no</text>\n</g>\n<!-- split29&#45;&gt;split34 -->\n<g id=\"edge89\" class=\"edge\">\n<title>split29&#45;&gt;split34</title>\n<path fill=\"none\" stroke=\"black\" d=\"M2656.69,-364.81C2656.69,-356.79 2656.69,-347.05 2656.69,-338.07\"/>\n<polygon fill=\"black\" stroke=\"black\" points=\"2660.19,-338.03 2656.69,-328.03 2653.19,-338.03 2660.19,-338.03\"/>\n<text text-anchor=\"middle\" x=\"2666.19\" y=\"-342.8\" font-family=\"Times,serif\" font-size=\"14.00\">yes</text>\n</g>\n<!-- leaf30 -->\n<g id=\"node95\" class=\"node\">\n<title>leaf30</title>\n<ellipse fill=\"none\" stroke=\"black\" cx=\"2777.69\" cy=\"-310\" rx=\"60.39\" ry=\"18\"/>\n<text text-anchor=\"start\" x=\"2739.19\" y=\"-307.3\" font-family=\"Times,serif\" font-size=\"14.00\">leaf 30: </text>\n<text text-anchor=\"start\" x=\"2785.19\" y=\"-307.3\" font-family=\"Times,serif\" font-weight=\"bold\" font-size=\"14.00\">0.096</text>\n</g>\n<!-- split29&#45;&gt;leaf30 -->\n<g id=\"edge90\" class=\"edge\">\n<title>split29&#45;&gt;leaf30</title>\n<path fill=\"none\" stroke=\"black\" d=\"M2685.68,-364.99C2702.7,-355 2724.35,-342.3 2742.37,-331.72\"/>\n<polygon fill=\"black\" stroke=\"black\" points=\"2744.57,-334.49 2751.42,-326.41 2741.03,-328.46 2744.57,-334.49\"/>\n<text text-anchor=\"middle\" x=\"2735.69\" y=\"-342.8\" font-family=\"Times,serif\" font-size=\"14.00\">no</text>\n</g>\n<!-- split17&#45;&gt;split21 -->\n<g id=\"edge92\" class=\"edge\">\n<title>split17&#45;&gt;split21</title>\n<path fill=\"none\" stroke=\"black\" d=\"M2649.31,-510.81C2647.72,-502.79 2645.8,-493.05 2644.03,-484.07\"/>\n<polygon fill=\"black\" stroke=\"black\" points=\"2647.42,-483.16 2642.05,-474.03 2640.55,-484.52 2647.42,-483.16\"/>\n<text text-anchor=\"middle\" x=\"2657.19\" y=\"-488.8\" font-family=\"Times,serif\" font-size=\"14.00\">yes</text>\n</g>\n<!-- leaf18 -->\n<g id=\"node97\" class=\"node\">\n<title>leaf18</title>\n<ellipse fill=\"none\" stroke=\"black\" cx=\"2753.69\" cy=\"-456\" rx=\"63.89\" ry=\"18\"/>\n<text text-anchor=\"start\" x=\"2712.69\" y=\"-453.3\" font-family=\"Times,serif\" font-size=\"14.00\">leaf 18: </text>\n<text text-anchor=\"start\" x=\"2758.69\" y=\"-453.3\" font-family=\"Times,serif\" font-weight=\"bold\" font-size=\"14.00\">&#45;0.133</text>\n</g>\n<!-- split17&#45;&gt;leaf18 -->\n<g id=\"edge93\" class=\"edge\">\n<title>split17&#45;&gt;leaf18</title>\n<path fill=\"none\" stroke=\"black\" d=\"M2676.89,-510.99C2690.64,-501.32 2708.01,-489.11 2722.76,-478.75\"/>\n<polygon fill=\"black\" stroke=\"black\" points=\"2724.92,-481.51 2731.08,-472.89 2720.89,-475.78 2724.92,-481.51\"/>\n<text text-anchor=\"middle\" x=\"2719.69\" y=\"-488.8\" font-family=\"Times,serif\" font-size=\"14.00\">no</text>\n</g>\n<!-- split3&#45;&gt;split11 -->\n<g id=\"edge95\" class=\"edge\">\n<title>split3&#45;&gt;split11</title>\n<path fill=\"none\" stroke=\"black\" d=\"M2560.69,-656.81C2560.69,-648.79 2560.69,-639.05 2560.69,-630.07\"/>\n<polygon fill=\"black\" stroke=\"black\" points=\"2564.19,-630.03 2560.69,-620.03 2557.19,-630.03 2564.19,-630.03\"/>\n<text text-anchor=\"middle\" x=\"2570.19\" y=\"-634.8\" font-family=\"Times,serif\" font-size=\"14.00\">yes</text>\n</g>\n<!-- split7 -->\n<g id=\"node126\" class=\"node\">\n<title>split7</title>\n<polygon fill=\"none\" stroke=\"black\" points=\"3106.19,-620 2921.19,-620 2921.19,-584 3106.19,-584 3106.19,-620\"/>\n<text text-anchor=\"start\" x=\"2929.19\" y=\"-599.3\" font-family=\"Times,serif\" font-weight=\"bold\" font-size=\"14.00\">HvyAlcoholConsump</text>\n<text text-anchor=\"start\" x=\"3055.19\" y=\"-599.3\" font-family=\"Times,serif\" font-size=\"14.00\"> ≤</text>\n<text text-anchor=\"start\" x=\"3067.19\" y=\"-599.3\" font-family=\"Times,serif\" font-weight=\"bold\" font-size=\"14.00\">0.000</text>\n</g>\n<!-- split3&#45;&gt;split7 -->\n<g id=\"edge124\" class=\"edge\">\n<title>split3&#45;&gt;split7</title>\n<path fill=\"none\" stroke=\"black\" d=\"M2619.45,-664.79C2693.18,-653.24 2820.84,-633.23 2910.88,-619.11\"/>\n<polygon fill=\"black\" stroke=\"black\" points=\"2911.51,-622.56 2920.85,-617.55 2910.43,-615.64 2911.51,-622.56\"/>\n<text text-anchor=\"middle\" x=\"2835.69\" y=\"-634.8\" font-family=\"Times,serif\" font-size=\"14.00\">no</text>\n</g>\n<!-- leaf4 -->\n<g id=\"node99\" class=\"node\">\n<title>leaf4</title>\n<ellipse fill=\"none\" stroke=\"black\" cx=\"2901.69\" cy=\"-310\" rx=\"59.29\" ry=\"18\"/>\n<text text-anchor=\"start\" x=\"2864.19\" y=\"-307.3\" font-family=\"Times,serif\" font-size=\"14.00\">leaf 4: </text>\n<text text-anchor=\"start\" x=\"2903.19\" y=\"-307.3\" font-family=\"Times,serif\" font-weight=\"bold\" font-size=\"14.00\">&#45;0.120</text>\n</g>\n<!-- split35 -->\n<g id=\"node100\" class=\"node\">\n<title>split35</title>\n<polygon fill=\"none\" stroke=\"black\" points=\"2976.69,-401 2894.69,-401 2894.69,-365 2976.69,-365 2976.69,-401\"/>\n<text text-anchor=\"start\" x=\"2902.69\" y=\"-380.3\" font-family=\"Times,serif\" font-weight=\"bold\" font-size=\"14.00\">Age</text>\n<text text-anchor=\"start\" x=\"2925.69\" y=\"-380.3\" font-family=\"Times,serif\" font-size=\"14.00\"> ≤</text>\n<text text-anchor=\"start\" x=\"2937.69\" y=\"-380.3\" font-family=\"Times,serif\" font-weight=\"bold\" font-size=\"14.00\">6.500</text>\n</g>\n<!-- split35&#45;&gt;leaf4 -->\n<g id=\"edge96\" class=\"edge\">\n<title>split35&#45;&gt;leaf4</title>\n<path fill=\"none\" stroke=\"black\" d=\"M2927.46,-364.81C2923.5,-356.53 2918.65,-346.41 2914.24,-337.19\"/>\n<polygon fill=\"black\" stroke=\"black\" points=\"2917.32,-335.54 2909.85,-328.03 2911.01,-338.56 2917.32,-335.54\"/>\n<text text-anchor=\"middle\" x=\"2932.19\" y=\"-342.8\" font-family=\"Times,serif\" font-size=\"14.00\">yes</text>\n</g>\n<!-- split37 -->\n<g id=\"node102\" class=\"node\">\n<title>split37</title>\n<polygon fill=\"none\" stroke=\"black\" points=\"3058.69,-328 2964.69,-328 2964.69,-292 3058.69,-292 3058.69,-328\"/>\n<text text-anchor=\"start\" x=\"2972.69\" y=\"-307.3\" font-family=\"Times,serif\" font-weight=\"bold\" font-size=\"14.00\">BMI</text>\n<text text-anchor=\"start\" x=\"3000.69\" y=\"-307.3\" font-family=\"Times,serif\" font-size=\"14.00\"> ≤</text>\n<text text-anchor=\"start\" x=\"3012.69\" y=\"-307.3\" font-family=\"Times,serif\" font-weight=\"bold\" font-size=\"14.00\">20.500</text>\n</g>\n<!-- split35&#45;&gt;split37 -->\n<g id=\"edge99\" class=\"edge\">\n<title>split35&#45;&gt;split37</title>\n<path fill=\"none\" stroke=\"black\" d=\"M2954.09,-364.81C2963.71,-355.83 2975.63,-344.69 2986.13,-334.89\"/>\n<polygon fill=\"black\" stroke=\"black\" points=\"2988.55,-337.41 2993.47,-328.03 2983.77,-332.3 2988.55,-337.41\"/>\n<text text-anchor=\"middle\" x=\"2987.69\" y=\"-342.8\" font-family=\"Times,serif\" font-size=\"14.00\">no</text>\n</g>\n<!-- leaf36 -->\n<g id=\"node101\" class=\"node\">\n<title>leaf36</title>\n<ellipse fill=\"none\" stroke=\"black\" cx=\"2883.69\" cy=\"-237\" rx=\"63.89\" ry=\"18\"/>\n<text text-anchor=\"start\" x=\"2842.69\" y=\"-234.3\" font-family=\"Times,serif\" font-size=\"14.00\">leaf 36: </text>\n<text text-anchor=\"start\" x=\"2888.69\" y=\"-234.3\" font-family=\"Times,serif\" font-weight=\"bold\" font-size=\"14.00\">&#45;0.046</text>\n</g>\n<!-- split37&#45;&gt;leaf36 -->\n<g id=\"edge97\" class=\"edge\">\n<title>split37&#45;&gt;leaf36</title>\n<path fill=\"none\" stroke=\"black\" d=\"M2981.04,-291.99C2962.77,-281.86 2939.49,-268.95 2920.27,-258.29\"/>\n<polygon fill=\"black\" stroke=\"black\" points=\"2921.93,-255.2 2911.48,-253.41 2918.53,-261.33 2921.93,-255.2\"/>\n<text text-anchor=\"middle\" x=\"2969.19\" y=\"-269.8\" font-family=\"Times,serif\" font-size=\"14.00\">yes</text>\n</g>\n<!-- leaf38 -->\n<g id=\"node103\" class=\"node\">\n<title>leaf38</title>\n<ellipse fill=\"none\" stroke=\"black\" cx=\"3011.69\" cy=\"-237\" rx=\"60.39\" ry=\"18\"/>\n<text text-anchor=\"start\" x=\"2973.19\" y=\"-234.3\" font-family=\"Times,serif\" font-size=\"14.00\">leaf 38: </text>\n<text text-anchor=\"start\" x=\"3019.19\" y=\"-234.3\" font-family=\"Times,serif\" font-weight=\"bold\" font-size=\"14.00\">0.063</text>\n</g>\n<!-- split37&#45;&gt;leaf38 -->\n<g id=\"edge98\" class=\"edge\">\n<title>split37&#45;&gt;leaf38</title>\n<path fill=\"none\" stroke=\"black\" d=\"M3011.69,-291.81C3011.69,-283.79 3011.69,-274.05 3011.69,-265.07\"/>\n<polygon fill=\"black\" stroke=\"black\" points=\"3015.19,-265.03 3011.69,-255.03 3008.19,-265.03 3015.19,-265.03\"/>\n<text text-anchor=\"middle\" x=\"3018.69\" y=\"-269.8\" font-family=\"Times,serif\" font-size=\"14.00\">no</text>\n</g>\n<!-- split26 -->\n<g id=\"node104\" class=\"node\">\n<title>split26</title>\n<polygon fill=\"none\" stroke=\"black\" points=\"3069.19,-474 2958.19,-474 2958.19,-438 3069.19,-438 3069.19,-474\"/>\n<text text-anchor=\"start\" x=\"2966.19\" y=\"-453.3\" font-family=\"Times,serif\" font-weight=\"bold\" font-size=\"14.00\">GenHlth</text>\n<text text-anchor=\"start\" x=\"3018.19\" y=\"-453.3\" font-family=\"Times,serif\" font-size=\"14.00\"> ≤</text>\n<text text-anchor=\"start\" x=\"3030.19\" y=\"-453.3\" font-family=\"Times,serif\" font-weight=\"bold\" font-size=\"14.00\">4.500</text>\n</g>\n<!-- split26&#45;&gt;split35 -->\n<g id=\"edge100\" class=\"edge\">\n<title>split26&#45;&gt;split35</title>\n<path fill=\"none\" stroke=\"black\" d=\"M2994.81,-437.81C2984.94,-428.83 2972.71,-417.69 2961.93,-407.89\"/>\n<polygon fill=\"black\" stroke=\"black\" points=\"2964.15,-405.17 2954.4,-401.03 2959.44,-410.35 2964.15,-405.17\"/>\n<text text-anchor=\"middle\" x=\"2991.19\" y=\"-415.8\" font-family=\"Times,serif\" font-size=\"14.00\">yes</text>\n</g>\n<!-- leaf27 -->\n<g id=\"node105\" class=\"node\">\n<title>leaf27</title>\n<ellipse fill=\"none\" stroke=\"black\" cx=\"3040.69\" cy=\"-383\" rx=\"60.39\" ry=\"18\"/>\n<text text-anchor=\"start\" x=\"3002.19\" y=\"-380.3\" font-family=\"Times,serif\" font-size=\"14.00\">leaf 27: </text>\n<text text-anchor=\"start\" x=\"3048.19\" y=\"-380.3\" font-family=\"Times,serif\" font-weight=\"bold\" font-size=\"14.00\">0.124</text>\n</g>\n<!-- split26&#45;&gt;leaf27 -->\n<g id=\"edge101\" class=\"edge\">\n<title>split26&#45;&gt;leaf27</title>\n<path fill=\"none\" stroke=\"black\" d=\"M3020.23,-437.81C3023.35,-429.62 3027.15,-419.62 3030.62,-410.48\"/>\n<polygon fill=\"black\" stroke=\"black\" points=\"3033.94,-411.62 3034.22,-401.03 3027.39,-409.13 3033.94,-411.62\"/>\n<text text-anchor=\"middle\" x=\"3036.69\" y=\"-415.8\" font-family=\"Times,serif\" font-size=\"14.00\">no</text>\n</g>\n<!-- split14 -->\n<g id=\"node106\" class=\"node\">\n<title>split14</title>\n<polygon fill=\"none\" stroke=\"black\" points=\"3060.69,-547 2966.69,-547 2966.69,-511 3060.69,-511 3060.69,-547\"/>\n<text text-anchor=\"start\" x=\"2974.69\" y=\"-526.3\" font-family=\"Times,serif\" font-weight=\"bold\" font-size=\"14.00\">BMI</text>\n<text text-anchor=\"start\" x=\"3002.69\" y=\"-526.3\" font-family=\"Times,serif\" font-size=\"14.00\"> ≤</text>\n<text text-anchor=\"start\" x=\"3014.69\" y=\"-526.3\" font-family=\"Times,serif\" font-weight=\"bold\" font-size=\"14.00\">25.500</text>\n</g>\n<!-- split14&#45;&gt;split26 -->\n<g id=\"edge102\" class=\"edge\">\n<title>split14&#45;&gt;split26</title>\n<path fill=\"none\" stroke=\"black\" d=\"M3013.69,-510.81C3013.69,-502.79 3013.69,-493.05 3013.69,-484.07\"/>\n<polygon fill=\"black\" stroke=\"black\" points=\"3017.19,-484.03 3013.69,-474.03 3010.19,-484.03 3017.19,-484.03\"/>\n<text text-anchor=\"middle\" x=\"3023.19\" y=\"-488.8\" font-family=\"Times,serif\" font-size=\"14.00\">yes</text>\n</g>\n<!-- split16 -->\n<g id=\"node122\" class=\"node\">\n<title>split16</title>\n<polygon fill=\"none\" stroke=\"black\" points=\"3385.19,-474 3274.19,-474 3274.19,-438 3385.19,-438 3385.19,-474\"/>\n<text text-anchor=\"start\" x=\"3282.19\" y=\"-453.3\" font-family=\"Times,serif\" font-weight=\"bold\" font-size=\"14.00\">GenHlth</text>\n<text text-anchor=\"start\" x=\"3334.19\" y=\"-453.3\" font-family=\"Times,serif\" font-size=\"14.00\"> ≤</text>\n<text text-anchor=\"start\" x=\"3346.19\" y=\"-453.3\" font-family=\"Times,serif\" font-weight=\"bold\" font-size=\"14.00\">3.500</text>\n</g>\n<!-- split14&#45;&gt;split16 -->\n<g id=\"edge121\" class=\"edge\">\n<title>split14&#45;&gt;split16</title>\n<path fill=\"none\" stroke=\"black\" d=\"M3060.87,-512.05C3062.16,-511.69 3063.43,-511.34 3064.69,-511 3131.91,-493.02 3210.11,-477.76 3264.06,-468.1\"/>\n<polygon fill=\"black\" stroke=\"black\" points=\"3264.94,-471.49 3274.17,-466.3 3263.72,-464.6 3264.94,-471.49\"/>\n<text text-anchor=\"middle\" x=\"3180.69\" y=\"-488.8\" font-family=\"Times,serif\" font-size=\"14.00\">no</text>\n</g>\n<!-- leaf15 -->\n<g id=\"node107\" class=\"node\">\n<title>leaf15</title>\n<ellipse fill=\"none\" stroke=\"black\" cx=\"3139.69\" cy=\"-237\" rx=\"63.89\" ry=\"18\"/>\n<text text-anchor=\"start\" x=\"3098.69\" y=\"-234.3\" font-family=\"Times,serif\" font-size=\"14.00\">leaf 15: </text>\n<text text-anchor=\"start\" x=\"3144.69\" y=\"-234.3\" font-family=\"Times,serif\" font-weight=\"bold\" font-size=\"14.00\">&#45;0.085</text>\n</g>\n<!-- split28 -->\n<g id=\"node108\" class=\"node\">\n<title>split28</title>\n<polygon fill=\"none\" stroke=\"black\" points=\"3314.69,-328 3220.69,-328 3220.69,-292 3314.69,-292 3314.69,-328\"/>\n<text text-anchor=\"start\" x=\"3228.69\" y=\"-307.3\" font-family=\"Times,serif\" font-weight=\"bold\" font-size=\"14.00\">BMI</text>\n<text text-anchor=\"start\" x=\"3256.69\" y=\"-307.3\" font-family=\"Times,serif\" font-size=\"14.00\"> ≤</text>\n<text text-anchor=\"start\" x=\"3268.69\" y=\"-307.3\" font-family=\"Times,serif\" font-weight=\"bold\" font-size=\"14.00\">45.500</text>\n</g>\n<!-- split28&#45;&gt;leaf15 -->\n<g id=\"edge103\" class=\"edge\">\n<title>split28&#45;&gt;leaf15</title>\n<path fill=\"none\" stroke=\"black\" d=\"M3237.04,-291.99C3218.77,-281.86 3195.49,-268.95 3176.27,-258.29\"/>\n<polygon fill=\"black\" stroke=\"black\" points=\"3177.93,-255.2 3167.48,-253.41 3174.53,-261.33 3177.93,-255.2\"/>\n<text text-anchor=\"middle\" x=\"3225.19\" y=\"-269.8\" font-family=\"Times,serif\" font-size=\"14.00\">yes</text>\n</g>\n<!-- leaf29 -->\n<g id=\"node109\" class=\"node\">\n<title>leaf29</title>\n<ellipse fill=\"none\" stroke=\"black\" cx=\"3267.69\" cy=\"-237\" rx=\"60.39\" ry=\"18\"/>\n<text text-anchor=\"start\" x=\"3229.19\" y=\"-234.3\" font-family=\"Times,serif\" font-size=\"14.00\">leaf 29: </text>\n<text text-anchor=\"start\" x=\"3275.19\" y=\"-234.3\" font-family=\"Times,serif\" font-weight=\"bold\" font-size=\"14.00\">0.153</text>\n</g>\n<!-- split28&#45;&gt;leaf29 -->\n<g id=\"edge104\" class=\"edge\">\n<title>split28&#45;&gt;leaf29</title>\n<path fill=\"none\" stroke=\"black\" d=\"M3267.69,-291.81C3267.69,-283.79 3267.69,-274.05 3267.69,-265.07\"/>\n<polygon fill=\"black\" stroke=\"black\" points=\"3271.19,-265.03 3267.69,-255.03 3264.19,-265.03 3271.19,-265.03\"/>\n<text text-anchor=\"middle\" x=\"3274.69\" y=\"-269.8\" font-family=\"Times,serif\" font-size=\"14.00\">no</text>\n</g>\n<!-- split18 -->\n<g id=\"node110\" class=\"node\">\n<title>split18</title>\n<polygon fill=\"none\" stroke=\"black\" points=\"3370.69,-401 3288.69,-401 3288.69,-365 3370.69,-365 3370.69,-401\"/>\n<text text-anchor=\"start\" x=\"3296.69\" y=\"-380.3\" font-family=\"Times,serif\" font-weight=\"bold\" font-size=\"14.00\">Age</text>\n<text text-anchor=\"start\" x=\"3319.69\" y=\"-380.3\" font-family=\"Times,serif\" font-size=\"14.00\"> ≤</text>\n<text text-anchor=\"start\" x=\"3331.69\" y=\"-380.3\" font-family=\"Times,serif\" font-weight=\"bold\" font-size=\"14.00\">5.500</text>\n</g>\n<!-- split18&#45;&gt;split28 -->\n<g id=\"edge105\" class=\"edge\">\n<title>split18&#45;&gt;split28</title>\n<path fill=\"none\" stroke=\"black\" d=\"M3314.69,-364.81C3307.07,-356.09 3297.68,-345.34 3289.3,-335.75\"/>\n<polygon fill=\"black\" stroke=\"black\" points=\"3291.78,-333.26 3282.56,-328.03 3286.51,-337.86 3291.78,-333.26\"/>\n<text text-anchor=\"middle\" x=\"3314.19\" y=\"-342.8\" font-family=\"Times,serif\" font-size=\"14.00\">yes</text>\n</g>\n<!-- split40 -->\n<g id=\"node118\" class=\"node\">\n<title>split40</title>\n<polygon fill=\"none\" stroke=\"black\" points=\"3417.69,-328 3323.69,-328 3323.69,-292 3417.69,-292 3417.69,-328\"/>\n<text text-anchor=\"start\" x=\"3331.69\" y=\"-307.3\" font-family=\"Times,serif\" font-weight=\"bold\" font-size=\"14.00\">BMI</text>\n<text text-anchor=\"start\" x=\"3359.69\" y=\"-307.3\" font-family=\"Times,serif\" font-size=\"14.00\"> ≤</text>\n<text text-anchor=\"start\" x=\"3371.69\" y=\"-307.3\" font-family=\"Times,serif\" font-weight=\"bold\" font-size=\"14.00\">31.500</text>\n</g>\n<!-- split18&#45;&gt;split40 -->\n<g id=\"edge116\" class=\"edge\">\n<title>split18&#45;&gt;split40</title>\n<path fill=\"none\" stroke=\"black\" d=\"M3339.62,-364.81C3344.45,-356.44 3350.37,-346.2 3355.74,-336.9\"/>\n<polygon fill=\"black\" stroke=\"black\" points=\"3358.89,-338.44 3360.86,-328.03 3352.83,-334.94 3358.89,-338.44\"/>\n<text text-anchor=\"middle\" x=\"3361.69\" y=\"-342.8\" font-family=\"Times,serif\" font-size=\"14.00\">no</text>\n</g>\n<!-- leaf19 -->\n<g id=\"node111\" class=\"node\">\n<title>leaf19</title>\n<ellipse fill=\"none\" stroke=\"black\" cx=\"3125.69\" cy=\"-91\" rx=\"60.39\" ry=\"18\"/>\n<text text-anchor=\"start\" x=\"3087.19\" y=\"-88.3\" font-family=\"Times,serif\" font-size=\"14.00\">leaf 19: </text>\n<text text-anchor=\"start\" x=\"3133.19\" y=\"-88.3\" font-family=\"Times,serif\" font-weight=\"bold\" font-size=\"14.00\">0.045</text>\n</g>\n<!-- split45 -->\n<g id=\"node112\" class=\"node\">\n<title>split45</title>\n<polygon fill=\"none\" stroke=\"black\" points=\"3291.69,-182 3209.69,-182 3209.69,-146 3291.69,-146 3291.69,-182\"/>\n<text text-anchor=\"start\" x=\"3217.69\" y=\"-161.3\" font-family=\"Times,serif\" font-weight=\"bold\" font-size=\"14.00\">Age</text>\n<text text-anchor=\"start\" x=\"3240.69\" y=\"-161.3\" font-family=\"Times,serif\" font-size=\"14.00\"> ≤</text>\n<text text-anchor=\"start\" x=\"3252.69\" y=\"-161.3\" font-family=\"Times,serif\" font-weight=\"bold\" font-size=\"14.00\">8.500</text>\n</g>\n<!-- split45&#45;&gt;leaf19 -->\n<g id=\"edge106\" class=\"edge\">\n<title>split45&#45;&gt;leaf19</title>\n<path fill=\"none\" stroke=\"black\" d=\"M3220.75,-145.99C3202.88,-135.84 3180.07,-122.89 3161.28,-112.21\"/>\n<polygon fill=\"black\" stroke=\"black\" points=\"3162.84,-109.07 3152.41,-107.18 3159.38,-115.16 3162.84,-109.07\"/>\n<text text-anchor=\"middle\" x=\"3209.19\" y=\"-123.8\" font-family=\"Times,serif\" font-size=\"14.00\">yes</text>\n</g>\n<!-- leaf46 -->\n<g id=\"node113\" class=\"node\">\n<title>leaf46</title>\n<ellipse fill=\"none\" stroke=\"black\" cx=\"3250.69\" cy=\"-91\" rx=\"60.39\" ry=\"18\"/>\n<text text-anchor=\"start\" x=\"3212.19\" y=\"-88.3\" font-family=\"Times,serif\" font-size=\"14.00\">leaf 46: </text>\n<text text-anchor=\"start\" x=\"3258.19\" y=\"-88.3\" font-family=\"Times,serif\" font-weight=\"bold\" font-size=\"14.00\">0.110</text>\n</g>\n<!-- split45&#45;&gt;leaf46 -->\n<g id=\"edge107\" class=\"edge\">\n<title>split45&#45;&gt;leaf46</title>\n<path fill=\"none\" stroke=\"black\" d=\"M3250.69,-145.81C3250.69,-137.79 3250.69,-128.05 3250.69,-119.07\"/>\n<polygon fill=\"black\" stroke=\"black\" points=\"3254.19,-119.03 3250.69,-109.03 3247.19,-119.03 3254.19,-119.03\"/>\n<text text-anchor=\"middle\" x=\"3257.69\" y=\"-123.8\" font-family=\"Times,serif\" font-size=\"14.00\">no</text>\n</g>\n<!-- split44 -->\n<g id=\"node114\" class=\"node\">\n<title>split44</title>\n<polygon fill=\"none\" stroke=\"black\" points=\"3419.69,-255 3331.69,-255 3331.69,-219 3419.69,-219 3419.69,-255\"/>\n<text text-anchor=\"start\" x=\"3339.69\" y=\"-234.3\" font-family=\"Times,serif\" font-weight=\"bold\" font-size=\"14.00\">Age</text>\n<text text-anchor=\"start\" x=\"3362.69\" y=\"-234.3\" font-family=\"Times,serif\" font-size=\"14.00\"> ≤</text>\n<text text-anchor=\"start\" x=\"3374.69\" y=\"-234.3\" font-family=\"Times,serif\" font-weight=\"bold\" font-size=\"14.00\">11.500</text>\n</g>\n<!-- split44&#45;&gt;split45 -->\n<g id=\"edge108\" class=\"edge\">\n<title>split44&#45;&gt;split45</title>\n<path fill=\"none\" stroke=\"black\" d=\"M3345.75,-218.99C3329.02,-209.49 3307.98,-197.54 3289.94,-187.29\"/>\n<polygon fill=\"black\" stroke=\"black\" points=\"3291.25,-184.01 3280.82,-182.11 3287.79,-190.1 3291.25,-184.01\"/>\n<text text-anchor=\"middle\" x=\"3334.19\" y=\"-196.8\" font-family=\"Times,serif\" font-size=\"14.00\">yes</text>\n</g>\n<!-- split52 -->\n<g id=\"node116\" class=\"node\">\n<title>split52</title>\n<polygon fill=\"none\" stroke=\"black\" points=\"3432.69,-182 3318.69,-182 3318.69,-146 3432.69,-146 3432.69,-182\"/>\n<text text-anchor=\"start\" x=\"3326.69\" y=\"-161.3\" font-family=\"Times,serif\" font-weight=\"bold\" font-size=\"14.00\">DiffWalk</text>\n<text text-anchor=\"start\" x=\"3381.69\" y=\"-161.3\" font-family=\"Times,serif\" font-size=\"14.00\"> ≤</text>\n<text text-anchor=\"start\" x=\"3393.69\" y=\"-161.3\" font-family=\"Times,serif\" font-weight=\"bold\" font-size=\"14.00\">0.000</text>\n</g>\n<!-- split44&#45;&gt;split52 -->\n<g id=\"edge111\" class=\"edge\">\n<title>split44&#45;&gt;split52</title>\n<path fill=\"none\" stroke=\"black\" d=\"M3375.69,-218.81C3375.69,-210.79 3375.69,-201.05 3375.69,-192.07\"/>\n<polygon fill=\"black\" stroke=\"black\" points=\"3379.19,-192.03 3375.69,-182.03 3372.19,-192.03 3379.19,-192.03\"/>\n<text text-anchor=\"middle\" x=\"3382.69\" y=\"-196.8\" font-family=\"Times,serif\" font-size=\"14.00\">no</text>\n</g>\n<!-- leaf45 -->\n<g id=\"node115\" class=\"node\">\n<title>leaf45</title>\n<ellipse fill=\"none\" stroke=\"black\" cx=\"3375.69\" cy=\"-91\" rx=\"60.39\" ry=\"18\"/>\n<text text-anchor=\"start\" x=\"3337.19\" y=\"-88.3\" font-family=\"Times,serif\" font-size=\"14.00\">leaf 45: </text>\n<text text-anchor=\"start\" x=\"3383.19\" y=\"-88.3\" font-family=\"Times,serif\" font-weight=\"bold\" font-size=\"14.00\">0.004</text>\n</g>\n<!-- split52&#45;&gt;leaf45 -->\n<g id=\"edge109\" class=\"edge\">\n<title>split52&#45;&gt;leaf45</title>\n<path fill=\"none\" stroke=\"black\" d=\"M3375.69,-145.81C3375.69,-137.79 3375.69,-128.05 3375.69,-119.07\"/>\n<polygon fill=\"black\" stroke=\"black\" points=\"3379.19,-119.03 3375.69,-109.03 3372.19,-119.03 3379.19,-119.03\"/>\n<text text-anchor=\"middle\" x=\"3385.19\" y=\"-123.8\" font-family=\"Times,serif\" font-size=\"14.00\">yes</text>\n</g>\n<!-- leaf53 -->\n<g id=\"node117\" class=\"node\">\n<title>leaf53</title>\n<ellipse fill=\"none\" stroke=\"black\" cx=\"3500.69\" cy=\"-91\" rx=\"60.39\" ry=\"18\"/>\n<text text-anchor=\"start\" x=\"3462.19\" y=\"-88.3\" font-family=\"Times,serif\" font-size=\"14.00\">leaf 53: </text>\n<text text-anchor=\"start\" x=\"3508.19\" y=\"-88.3\" font-family=\"Times,serif\" font-weight=\"bold\" font-size=\"14.00\">0.095</text>\n</g>\n<!-- split52&#45;&gt;leaf53 -->\n<g id=\"edge110\" class=\"edge\">\n<title>split52&#45;&gt;leaf53</title>\n<path fill=\"none\" stroke=\"black\" d=\"M3405.63,-145.99C3423.51,-135.84 3446.32,-122.89 3465.11,-112.21\"/>\n<polygon fill=\"black\" stroke=\"black\" points=\"3467.01,-115.16 3473.97,-107.18 3463.55,-109.07 3467.01,-115.16\"/>\n<text text-anchor=\"middle\" x=\"3456.69\" y=\"-123.8\" font-family=\"Times,serif\" font-size=\"14.00\">no</text>\n</g>\n<!-- split40&#45;&gt;split44 -->\n<g id=\"edge112\" class=\"edge\">\n<title>split40&#45;&gt;split44</title>\n<path fill=\"none\" stroke=\"black\" d=\"M3371.9,-291.81C3372.47,-283.79 3373.16,-274.05 3373.79,-265.07\"/>\n<polygon fill=\"black\" stroke=\"black\" points=\"3377.28,-265.25 3374.5,-255.03 3370.3,-264.76 3377.28,-265.25\"/>\n<text text-anchor=\"middle\" x=\"3383.19\" y=\"-269.8\" font-family=\"Times,serif\" font-size=\"14.00\">yes</text>\n</g>\n<!-- split55 -->\n<g id=\"node120\" class=\"node\">\n<title>split55</title>\n<polygon fill=\"none\" stroke=\"black\" points=\"3557.19,-255 3436.19,-255 3436.19,-219 3557.19,-219 3557.19,-255\"/>\n<text text-anchor=\"start\" x=\"3444.19\" y=\"-234.3\" font-family=\"Times,serif\" font-weight=\"bold\" font-size=\"14.00\">PhysHlth</text>\n<text text-anchor=\"start\" x=\"3499.19\" y=\"-234.3\" font-family=\"Times,serif\" font-size=\"14.00\"> ≤</text>\n<text text-anchor=\"start\" x=\"3511.19\" y=\"-234.3\" font-family=\"Times,serif\" font-weight=\"bold\" font-size=\"14.00\">20.500</text>\n</g>\n<!-- split40&#45;&gt;split55 -->\n<g id=\"edge115\" class=\"edge\">\n<title>split40&#45;&gt;split55</title>\n<path fill=\"none\" stroke=\"black\" d=\"M3400.87,-291.99C3417.74,-282.49 3438.95,-270.54 3457.13,-260.29\"/>\n<polygon fill=\"black\" stroke=\"black\" points=\"3459.33,-263.07 3466.32,-255.11 3455.89,-256.97 3459.33,-263.07\"/>\n<text text-anchor=\"middle\" x=\"3452.69\" y=\"-269.8\" font-family=\"Times,serif\" font-size=\"14.00\">no</text>\n</g>\n<!-- leaf41 -->\n<g id=\"node119\" class=\"node\">\n<title>leaf41</title>\n<ellipse fill=\"none\" stroke=\"black\" cx=\"3496.69\" cy=\"-164\" rx=\"60.39\" ry=\"18\"/>\n<text text-anchor=\"start\" x=\"3458.19\" y=\"-161.3\" font-family=\"Times,serif\" font-size=\"14.00\">leaf 41: </text>\n<text text-anchor=\"start\" x=\"3504.19\" y=\"-161.3\" font-family=\"Times,serif\" font-weight=\"bold\" font-size=\"14.00\">0.121</text>\n</g>\n<!-- split55&#45;&gt;leaf41 -->\n<g id=\"edge113\" class=\"edge\">\n<title>split55&#45;&gt;leaf41</title>\n<path fill=\"none\" stroke=\"black\" d=\"M3496.69,-218.81C3496.69,-210.79 3496.69,-201.05 3496.69,-192.07\"/>\n<polygon fill=\"black\" stroke=\"black\" points=\"3500.19,-192.03 3496.69,-182.03 3493.19,-192.03 3500.19,-192.03\"/>\n<text text-anchor=\"middle\" x=\"3506.19\" y=\"-196.8\" font-family=\"Times,serif\" font-size=\"14.00\">yes</text>\n</g>\n<!-- leaf56 -->\n<g id=\"node121\" class=\"node\">\n<title>leaf56</title>\n<ellipse fill=\"none\" stroke=\"black\" cx=\"3621.69\" cy=\"-164\" rx=\"60.39\" ry=\"18\"/>\n<text text-anchor=\"start\" x=\"3583.19\" y=\"-161.3\" font-family=\"Times,serif\" font-size=\"14.00\">leaf 56: </text>\n<text text-anchor=\"start\" x=\"3629.19\" y=\"-161.3\" font-family=\"Times,serif\" font-weight=\"bold\" font-size=\"14.00\">0.023</text>\n</g>\n<!-- split55&#45;&gt;leaf56 -->\n<g id=\"edge114\" class=\"edge\">\n<title>split55&#45;&gt;leaf56</title>\n<path fill=\"none\" stroke=\"black\" d=\"M3526.63,-218.99C3544.51,-208.84 3567.32,-195.89 3586.11,-185.21\"/>\n<polygon fill=\"black\" stroke=\"black\" points=\"3588.01,-188.16 3594.97,-180.18 3584.55,-182.07 3588.01,-188.16\"/>\n<text text-anchor=\"middle\" x=\"3577.69\" y=\"-196.8\" font-family=\"Times,serif\" font-size=\"14.00\">no</text>\n</g>\n<!-- split16&#45;&gt;split18 -->\n<g id=\"edge117\" class=\"edge\">\n<title>split16&#45;&gt;split18</title>\n<path fill=\"none\" stroke=\"black\" d=\"M3329.69,-437.81C3329.69,-429.79 3329.69,-420.05 3329.69,-411.07\"/>\n<polygon fill=\"black\" stroke=\"black\" points=\"3333.19,-411.03 3329.69,-401.03 3326.19,-411.03 3333.19,-411.03\"/>\n<text text-anchor=\"middle\" x=\"3339.19\" y=\"-415.8\" font-family=\"Times,serif\" font-size=\"14.00\">yes</text>\n</g>\n<!-- split47 -->\n<g id=\"node124\" class=\"node\">\n<title>split47</title>\n<polygon fill=\"none\" stroke=\"black\" points=\"3522.69,-401 3440.69,-401 3440.69,-365 3522.69,-365 3522.69,-401\"/>\n<text text-anchor=\"start\" x=\"3448.69\" y=\"-380.3\" font-family=\"Times,serif\" font-weight=\"bold\" font-size=\"14.00\">Age</text>\n<text text-anchor=\"start\" x=\"3471.69\" y=\"-380.3\" font-family=\"Times,serif\" font-size=\"14.00\"> ≤</text>\n<text text-anchor=\"start\" x=\"3483.69\" y=\"-380.3\" font-family=\"Times,serif\" font-weight=\"bold\" font-size=\"14.00\">6.500</text>\n</g>\n<!-- split16&#45;&gt;split47 -->\n<g id=\"edge120\" class=\"edge\">\n<title>split16&#45;&gt;split47</title>\n<path fill=\"none\" stroke=\"black\" d=\"M3366.1,-437.99C3387.01,-428.23 3413.45,-415.88 3435.77,-405.45\"/>\n<polygon fill=\"black\" stroke=\"black\" points=\"3437.48,-408.52 3445.06,-401.11 3434.52,-402.17 3437.48,-408.52\"/>\n<text text-anchor=\"middle\" x=\"3426.69\" y=\"-415.8\" font-family=\"Times,serif\" font-size=\"14.00\">no</text>\n</g>\n<!-- leaf17 -->\n<g id=\"node123\" class=\"node\">\n<title>leaf17</title>\n<ellipse fill=\"none\" stroke=\"black\" cx=\"3481.69\" cy=\"-310\" rx=\"60.39\" ry=\"18\"/>\n<text text-anchor=\"start\" x=\"3443.19\" y=\"-307.3\" font-family=\"Times,serif\" font-size=\"14.00\">leaf 17: </text>\n<text text-anchor=\"start\" x=\"3489.19\" y=\"-307.3\" font-family=\"Times,serif\" font-weight=\"bold\" font-size=\"14.00\">0.085</text>\n</g>\n<!-- split47&#45;&gt;leaf17 -->\n<g id=\"edge118\" class=\"edge\">\n<title>split47&#45;&gt;leaf17</title>\n<path fill=\"none\" stroke=\"black\" d=\"M3481.69,-364.81C3481.69,-356.79 3481.69,-347.05 3481.69,-338.07\"/>\n<polygon fill=\"black\" stroke=\"black\" points=\"3485.19,-338.03 3481.69,-328.03 3478.19,-338.03 3485.19,-338.03\"/>\n<text text-anchor=\"middle\" x=\"3491.19\" y=\"-342.8\" font-family=\"Times,serif\" font-size=\"14.00\">yes</text>\n</g>\n<!-- leaf48 -->\n<g id=\"node125\" class=\"node\">\n<title>leaf48</title>\n<ellipse fill=\"none\" stroke=\"black\" cx=\"3606.69\" cy=\"-310\" rx=\"60.39\" ry=\"18\"/>\n<text text-anchor=\"start\" x=\"3568.19\" y=\"-307.3\" font-family=\"Times,serif\" font-size=\"14.00\">leaf 48: </text>\n<text text-anchor=\"start\" x=\"3614.19\" y=\"-307.3\" font-family=\"Times,serif\" font-weight=\"bold\" font-size=\"14.00\">0.136</text>\n</g>\n<!-- split47&#45;&gt;leaf48 -->\n<g id=\"edge119\" class=\"edge\">\n<title>split47&#45;&gt;leaf48</title>\n<path fill=\"none\" stroke=\"black\" d=\"M3511.63,-364.99C3529.51,-354.84 3552.32,-341.89 3571.11,-331.21\"/>\n<polygon fill=\"black\" stroke=\"black\" points=\"3573.01,-334.16 3579.97,-326.18 3569.55,-328.07 3573.01,-334.16\"/>\n<text text-anchor=\"middle\" x=\"3562.69\" y=\"-342.8\" font-family=\"Times,serif\" font-size=\"14.00\">no</text>\n</g>\n<!-- split7&#45;&gt;split14 -->\n<g id=\"edge122\" class=\"edge\">\n<title>split7&#45;&gt;split14</title>\n<path fill=\"none\" stroke=\"black\" d=\"M3013.69,-583.81C3013.69,-575.79 3013.69,-566.05 3013.69,-557.07\"/>\n<polygon fill=\"black\" stroke=\"black\" points=\"3017.19,-557.03 3013.69,-547.03 3010.19,-557.03 3017.19,-557.03\"/>\n<text text-anchor=\"middle\" x=\"3023.19\" y=\"-561.8\" font-family=\"Times,serif\" font-size=\"14.00\">yes</text>\n</g>\n<!-- leaf8 -->\n<g id=\"node127\" class=\"node\">\n<title>leaf8</title>\n<ellipse fill=\"none\" stroke=\"black\" cx=\"3123.69\" cy=\"-529\" rx=\"59.29\" ry=\"18\"/>\n<text text-anchor=\"start\" x=\"3086.19\" y=\"-526.3\" font-family=\"Times,serif\" font-size=\"14.00\">leaf 8: </text>\n<text text-anchor=\"start\" x=\"3125.19\" y=\"-526.3\" font-family=\"Times,serif\" font-weight=\"bold\" font-size=\"14.00\">&#45;0.131</text>\n</g>\n<!-- split7&#45;&gt;leaf8 -->\n<g id=\"edge123\" class=\"edge\">\n<title>split7&#45;&gt;leaf8</title>\n<path fill=\"none\" stroke=\"black\" d=\"M3040.04,-583.99C3055.27,-574.16 3074.57,-561.71 3090.79,-551.24\"/>\n<polygon fill=\"black\" stroke=\"black\" points=\"3092.94,-554.02 3099.44,-545.65 3089.14,-548.14 3092.94,-554.02\"/>\n<text text-anchor=\"middle\" x=\"3085.69\" y=\"-561.8\" font-family=\"Times,serif\" font-size=\"14.00\">no</text>\n</g>\n</g>\n</svg>\n",
            "text/plain": [
              "<graphviz.graphs.Digraph at 0x78393be6bd60>"
            ]
          },
          "metadata": {},
          "execution_count": 32
        }
      ]
    },
    {
      "cell_type": "markdown",
      "metadata": {
        "id": "rFJZ372rdcKN"
      },
      "source": [
        "#PERBANDINGAN MODEL TANPA SMOTENC"
      ]
    },
    {
      "cell_type": "markdown",
      "source": [
        "###Splitting dataset"
      ],
      "metadata": {
        "id": "Gc8esVdfhT9i"
      }
    },
    {
      "cell_type": "code",
      "execution_count": null,
      "metadata": {
        "colab": {
          "base_uri": "https://localhost:8080/"
        },
        "id": "7BxTdNUidgax",
        "outputId": "c8da1901-ac13-40ec-e8b3-639f41bec782"
      },
      "outputs": [
        {
          "output_type": "stream",
          "name": "stdout",
          "text": [
            "Training Data Shape :  (16305, 15) (16305,)\n",
            "Test Data Shape :  (6989, 15) (6989,)\n"
          ]
        }
      ],
      "source": [
        "X_train1, X_test1, y_train1, y_test1 = train_test_split(X,Y, test_size=0.3, stratify=Y, random_state=77)\n",
        "\n",
        "print(\"Training Data Shape : \", X_train1.shape, y_train1.shape)\n",
        "print(\"Test Data Shape : \", X_test1.shape, y_test1.shape)"
      ]
    },
    {
      "cell_type": "markdown",
      "source": [
        "###Tuning Hyperparameter"
      ],
      "metadata": {
        "id": "IOmdqrBVhXev"
      }
    },
    {
      "cell_type": "code",
      "execution_count": null,
      "metadata": {
        "colab": {
          "base_uri": "https://localhost:8080/",
          "height": 278
        },
        "id": "TfQtQ8GScB9Y",
        "outputId": "a4b1e81c-5b80-4171-e244-3fdfe42041bc"
      },
      "outputs": [
        {
          "output_type": "stream",
          "name": "stdout",
          "text": [
            "[LightGBM] [Info] Number of positive: 2406, number of negative: 13899\n",
            "[LightGBM] [Info] Auto-choosing row-wise multi-threading, the overhead of testing was 0.002654 seconds.\n",
            "You can set `force_row_wise=true` to remove the overhead.\n",
            "And if memory is not enough, you can set `force_col_wise=true`.\n",
            "[LightGBM] [Info] Total Bins 170\n",
            "[LightGBM] [Info] Number of data points in the train set: 16305, number of used features: 15\n",
            "[LightGBM] [Info] [binary:BoostFromScore]: pavg=0.147562 -> initscore=-1.753851\n",
            "[LightGBM] [Info] Start training from score -1.753851\n"
          ]
        },
        {
          "output_type": "execute_result",
          "data": {
            "text/plain": [
              "GridSearchCV(cv=3, estimator=LGBMRegressor(objective='binary', random_state=77),\n",
              "             n_jobs=-1,\n",
              "             param_grid={'learning_rate': [0.05, 0.08, 0.09],\n",
              "                         'max_depth': [6, 12, 16],\n",
              "                         'min_child_samples': [1, 10, 20],\n",
              "                         'n_estimators': [100, 300, 500],\n",
              "                         'num_leaves': [24, 32, 64],\n",
              "                         'subsample': [0.1, 0.5, 1.0]},\n",
              "             scoring='neg_root_mean_squared_error')"
            ],
            "text/html": [
              "<style>#sk-container-id-3 {color: black;background-color: white;}#sk-container-id-3 pre{padding: 0;}#sk-container-id-3 div.sk-toggleable {background-color: white;}#sk-container-id-3 label.sk-toggleable__label {cursor: pointer;display: block;width: 100%;margin-bottom: 0;padding: 0.3em;box-sizing: border-box;text-align: center;}#sk-container-id-3 label.sk-toggleable__label-arrow:before {content: \"▸\";float: left;margin-right: 0.25em;color: #696969;}#sk-container-id-3 label.sk-toggleable__label-arrow:hover:before {color: black;}#sk-container-id-3 div.sk-estimator:hover label.sk-toggleable__label-arrow:before {color: black;}#sk-container-id-3 div.sk-toggleable__content {max-height: 0;max-width: 0;overflow: hidden;text-align: left;background-color: #f0f8ff;}#sk-container-id-3 div.sk-toggleable__content pre {margin: 0.2em;color: black;border-radius: 0.25em;background-color: #f0f8ff;}#sk-container-id-3 input.sk-toggleable__control:checked~div.sk-toggleable__content {max-height: 200px;max-width: 100%;overflow: auto;}#sk-container-id-3 input.sk-toggleable__control:checked~label.sk-toggleable__label-arrow:before {content: \"▾\";}#sk-container-id-3 div.sk-estimator input.sk-toggleable__control:checked~label.sk-toggleable__label {background-color: #d4ebff;}#sk-container-id-3 div.sk-label input.sk-toggleable__control:checked~label.sk-toggleable__label {background-color: #d4ebff;}#sk-container-id-3 input.sk-hidden--visually {border: 0;clip: rect(1px 1px 1px 1px);clip: rect(1px, 1px, 1px, 1px);height: 1px;margin: -1px;overflow: hidden;padding: 0;position: absolute;width: 1px;}#sk-container-id-3 div.sk-estimator {font-family: monospace;background-color: #f0f8ff;border: 1px dotted black;border-radius: 0.25em;box-sizing: border-box;margin-bottom: 0.5em;}#sk-container-id-3 div.sk-estimator:hover {background-color: #d4ebff;}#sk-container-id-3 div.sk-parallel-item::after {content: \"\";width: 100%;border-bottom: 1px solid gray;flex-grow: 1;}#sk-container-id-3 div.sk-label:hover label.sk-toggleable__label {background-color: #d4ebff;}#sk-container-id-3 div.sk-serial::before {content: \"\";position: absolute;border-left: 1px solid gray;box-sizing: border-box;top: 0;bottom: 0;left: 50%;z-index: 0;}#sk-container-id-3 div.sk-serial {display: flex;flex-direction: column;align-items: center;background-color: white;padding-right: 0.2em;padding-left: 0.2em;position: relative;}#sk-container-id-3 div.sk-item {position: relative;z-index: 1;}#sk-container-id-3 div.sk-parallel {display: flex;align-items: stretch;justify-content: center;background-color: white;position: relative;}#sk-container-id-3 div.sk-item::before, #sk-container-id-3 div.sk-parallel-item::before {content: \"\";position: absolute;border-left: 1px solid gray;box-sizing: border-box;top: 0;bottom: 0;left: 50%;z-index: -1;}#sk-container-id-3 div.sk-parallel-item {display: flex;flex-direction: column;z-index: 1;position: relative;background-color: white;}#sk-container-id-3 div.sk-parallel-item:first-child::after {align-self: flex-end;width: 50%;}#sk-container-id-3 div.sk-parallel-item:last-child::after {align-self: flex-start;width: 50%;}#sk-container-id-3 div.sk-parallel-item:only-child::after {width: 0;}#sk-container-id-3 div.sk-dashed-wrapped {border: 1px dashed gray;margin: 0 0.4em 0.5em 0.4em;box-sizing: border-box;padding-bottom: 0.4em;background-color: white;}#sk-container-id-3 div.sk-label label {font-family: monospace;font-weight: bold;display: inline-block;line-height: 1.2em;}#sk-container-id-3 div.sk-label-container {text-align: center;}#sk-container-id-3 div.sk-container {/* jupyter's `normalize.less` sets `[hidden] { display: none; }` but bootstrap.min.css set `[hidden] { display: none !important; }` so we also need the `!important` here to be able to override the default hidden behavior on the sphinx rendered scikit-learn.org. See: https://github.com/scikit-learn/scikit-learn/issues/21755 */display: inline-block !important;position: relative;}#sk-container-id-3 div.sk-text-repr-fallback {display: none;}</style><div id=\"sk-container-id-3\" class=\"sk-top-container\"><div class=\"sk-text-repr-fallback\"><pre>GridSearchCV(cv=3, estimator=LGBMRegressor(objective=&#x27;binary&#x27;, random_state=77),\n",
              "             n_jobs=-1,\n",
              "             param_grid={&#x27;learning_rate&#x27;: [0.05, 0.08, 0.09],\n",
              "                         &#x27;max_depth&#x27;: [6, 12, 16],\n",
              "                         &#x27;min_child_samples&#x27;: [1, 10, 20],\n",
              "                         &#x27;n_estimators&#x27;: [100, 300, 500],\n",
              "                         &#x27;num_leaves&#x27;: [24, 32, 64],\n",
              "                         &#x27;subsample&#x27;: [0.1, 0.5, 1.0]},\n",
              "             scoring=&#x27;neg_root_mean_squared_error&#x27;)</pre><b>In a Jupyter environment, please rerun this cell to show the HTML representation or trust the notebook. <br />On GitHub, the HTML representation is unable to render, please try loading this page with nbviewer.org.</b></div><div class=\"sk-container\" hidden><div class=\"sk-item sk-dashed-wrapped\"><div class=\"sk-label-container\"><div class=\"sk-label sk-toggleable\"><input class=\"sk-toggleable__control sk-hidden--visually\" id=\"sk-estimator-id-5\" type=\"checkbox\" ><label for=\"sk-estimator-id-5\" class=\"sk-toggleable__label sk-toggleable__label-arrow\">GridSearchCV</label><div class=\"sk-toggleable__content\"><pre>GridSearchCV(cv=3, estimator=LGBMRegressor(objective=&#x27;binary&#x27;, random_state=77),\n",
              "             n_jobs=-1,\n",
              "             param_grid={&#x27;learning_rate&#x27;: [0.05, 0.08, 0.09],\n",
              "                         &#x27;max_depth&#x27;: [6, 12, 16],\n",
              "                         &#x27;min_child_samples&#x27;: [1, 10, 20],\n",
              "                         &#x27;n_estimators&#x27;: [100, 300, 500],\n",
              "                         &#x27;num_leaves&#x27;: [24, 32, 64],\n",
              "                         &#x27;subsample&#x27;: [0.1, 0.5, 1.0]},\n",
              "             scoring=&#x27;neg_root_mean_squared_error&#x27;)</pre></div></div></div><div class=\"sk-parallel\"><div class=\"sk-parallel-item\"><div class=\"sk-item\"><div class=\"sk-label-container\"><div class=\"sk-label sk-toggleable\"><input class=\"sk-toggleable__control sk-hidden--visually\" id=\"sk-estimator-id-6\" type=\"checkbox\" ><label for=\"sk-estimator-id-6\" class=\"sk-toggleable__label sk-toggleable__label-arrow\">estimator: LGBMRegressor</label><div class=\"sk-toggleable__content\"><pre>LGBMRegressor(objective=&#x27;binary&#x27;, random_state=77)</pre></div></div></div><div class=\"sk-serial\"><div class=\"sk-item\"><div class=\"sk-estimator sk-toggleable\"><input class=\"sk-toggleable__control sk-hidden--visually\" id=\"sk-estimator-id-7\" type=\"checkbox\" ><label for=\"sk-estimator-id-7\" class=\"sk-toggleable__label sk-toggleable__label-arrow\">LGBMRegressor</label><div class=\"sk-toggleable__content\"><pre>LGBMRegressor(objective=&#x27;binary&#x27;, random_state=77)</pre></div></div></div></div></div></div></div></div></div></div>"
            ]
          },
          "metadata": {},
          "execution_count": 34
        }
      ],
      "source": [
        "model.fit(X_train1, y_train1)"
      ]
    },
    {
      "cell_type": "code",
      "execution_count": null,
      "metadata": {
        "colab": {
          "base_uri": "https://localhost:8080/"
        },
        "id": "yHyLSVq5qFET",
        "outputId": "dc5fe9b1-0526-4ad7-a450-bdaacc8f6e90"
      },
      "outputs": [
        {
          "output_type": "stream",
          "name": "stdout",
          "text": [
            "LGBMRegressor(learning_rate=0.05, max_depth=6, min_child_samples=10,\n",
            "              num_leaves=24, objective='binary', random_state=77,\n",
            "              subsample=0.1)\n"
          ]
        }
      ],
      "source": [
        "# Step 4: Print best parameters\n",
        "best_params1 = model.best_estimator_\n",
        "print(best_params1)"
      ]
    },
    {
      "cell_type": "markdown",
      "source": [
        "###Klasifikasi LGBM"
      ],
      "metadata": {
        "id": "SBkw8Wx9hf1Y"
      }
    },
    {
      "cell_type": "code",
      "execution_count": null,
      "metadata": {
        "colab": {
          "base_uri": "https://localhost:8080/",
          "height": 269
        },
        "id": "31rskSiXda7O",
        "outputId": "ed184393-9e1a-4d7f-9ec5-3dbe6948edc1"
      },
      "outputs": [
        {
          "output_type": "stream",
          "name": "stdout",
          "text": [
            "[LightGBM] [Info] Number of positive: 2406, number of negative: 13899\n",
            "[LightGBM] [Info] Auto-choosing row-wise multi-threading, the overhead of testing was 0.003278 seconds.\n",
            "You can set `force_row_wise=true` to remove the overhead.\n",
            "And if memory is not enough, you can set `force_col_wise=true`.\n",
            "[LightGBM] [Info] Total Bins 170\n",
            "[LightGBM] [Info] Number of data points in the train set: 16305, number of used features: 15\n",
            "[LightGBM] [Info] [binary:BoostFromScore]: pavg=0.147562 -> initscore=-1.753851\n",
            "[LightGBM] [Info] Start training from score -1.753851\n"
          ]
        },
        {
          "output_type": "execute_result",
          "data": {
            "text/plain": [
              "LGBMClassifier(learning_rate=0.05, max_depth=6, min_child_samples=10,\n",
              "               num_leaves=24, objective='binary', random_state=77,\n",
              "               subsample=0.1)"
            ],
            "text/html": [
              "<style>#sk-container-id-4 {color: black;background-color: white;}#sk-container-id-4 pre{padding: 0;}#sk-container-id-4 div.sk-toggleable {background-color: white;}#sk-container-id-4 label.sk-toggleable__label {cursor: pointer;display: block;width: 100%;margin-bottom: 0;padding: 0.3em;box-sizing: border-box;text-align: center;}#sk-container-id-4 label.sk-toggleable__label-arrow:before {content: \"▸\";float: left;margin-right: 0.25em;color: #696969;}#sk-container-id-4 label.sk-toggleable__label-arrow:hover:before {color: black;}#sk-container-id-4 div.sk-estimator:hover label.sk-toggleable__label-arrow:before {color: black;}#sk-container-id-4 div.sk-toggleable__content {max-height: 0;max-width: 0;overflow: hidden;text-align: left;background-color: #f0f8ff;}#sk-container-id-4 div.sk-toggleable__content pre {margin: 0.2em;color: black;border-radius: 0.25em;background-color: #f0f8ff;}#sk-container-id-4 input.sk-toggleable__control:checked~div.sk-toggleable__content {max-height: 200px;max-width: 100%;overflow: auto;}#sk-container-id-4 input.sk-toggleable__control:checked~label.sk-toggleable__label-arrow:before {content: \"▾\";}#sk-container-id-4 div.sk-estimator input.sk-toggleable__control:checked~label.sk-toggleable__label {background-color: #d4ebff;}#sk-container-id-4 div.sk-label input.sk-toggleable__control:checked~label.sk-toggleable__label {background-color: #d4ebff;}#sk-container-id-4 input.sk-hidden--visually {border: 0;clip: rect(1px 1px 1px 1px);clip: rect(1px, 1px, 1px, 1px);height: 1px;margin: -1px;overflow: hidden;padding: 0;position: absolute;width: 1px;}#sk-container-id-4 div.sk-estimator {font-family: monospace;background-color: #f0f8ff;border: 1px dotted black;border-radius: 0.25em;box-sizing: border-box;margin-bottom: 0.5em;}#sk-container-id-4 div.sk-estimator:hover {background-color: #d4ebff;}#sk-container-id-4 div.sk-parallel-item::after {content: \"\";width: 100%;border-bottom: 1px solid gray;flex-grow: 1;}#sk-container-id-4 div.sk-label:hover label.sk-toggleable__label {background-color: #d4ebff;}#sk-container-id-4 div.sk-serial::before {content: \"\";position: absolute;border-left: 1px solid gray;box-sizing: border-box;top: 0;bottom: 0;left: 50%;z-index: 0;}#sk-container-id-4 div.sk-serial {display: flex;flex-direction: column;align-items: center;background-color: white;padding-right: 0.2em;padding-left: 0.2em;position: relative;}#sk-container-id-4 div.sk-item {position: relative;z-index: 1;}#sk-container-id-4 div.sk-parallel {display: flex;align-items: stretch;justify-content: center;background-color: white;position: relative;}#sk-container-id-4 div.sk-item::before, #sk-container-id-4 div.sk-parallel-item::before {content: \"\";position: absolute;border-left: 1px solid gray;box-sizing: border-box;top: 0;bottom: 0;left: 50%;z-index: -1;}#sk-container-id-4 div.sk-parallel-item {display: flex;flex-direction: column;z-index: 1;position: relative;background-color: white;}#sk-container-id-4 div.sk-parallel-item:first-child::after {align-self: flex-end;width: 50%;}#sk-container-id-4 div.sk-parallel-item:last-child::after {align-self: flex-start;width: 50%;}#sk-container-id-4 div.sk-parallel-item:only-child::after {width: 0;}#sk-container-id-4 div.sk-dashed-wrapped {border: 1px dashed gray;margin: 0 0.4em 0.5em 0.4em;box-sizing: border-box;padding-bottom: 0.4em;background-color: white;}#sk-container-id-4 div.sk-label label {font-family: monospace;font-weight: bold;display: inline-block;line-height: 1.2em;}#sk-container-id-4 div.sk-label-container {text-align: center;}#sk-container-id-4 div.sk-container {/* jupyter's `normalize.less` sets `[hidden] { display: none; }` but bootstrap.min.css set `[hidden] { display: none !important; }` so we also need the `!important` here to be able to override the default hidden behavior on the sphinx rendered scikit-learn.org. See: https://github.com/scikit-learn/scikit-learn/issues/21755 */display: inline-block !important;position: relative;}#sk-container-id-4 div.sk-text-repr-fallback {display: none;}</style><div id=\"sk-container-id-4\" class=\"sk-top-container\"><div class=\"sk-text-repr-fallback\"><pre>LGBMClassifier(learning_rate=0.05, max_depth=6, min_child_samples=10,\n",
              "               num_leaves=24, objective=&#x27;binary&#x27;, random_state=77,\n",
              "               subsample=0.1)</pre><b>In a Jupyter environment, please rerun this cell to show the HTML representation or trust the notebook. <br />On GitHub, the HTML representation is unable to render, please try loading this page with nbviewer.org.</b></div><div class=\"sk-container\" hidden><div class=\"sk-item\"><div class=\"sk-estimator sk-toggleable\"><input class=\"sk-toggleable__control sk-hidden--visually\" id=\"sk-estimator-id-8\" type=\"checkbox\" checked><label for=\"sk-estimator-id-8\" class=\"sk-toggleable__label sk-toggleable__label-arrow\">LGBMClassifier</label><div class=\"sk-toggleable__content\"><pre>LGBMClassifier(learning_rate=0.05, max_depth=6, min_child_samples=10,\n",
              "               num_leaves=24, objective=&#x27;binary&#x27;, random_state=77,\n",
              "               subsample=0.1)</pre></div></div></div></div></div>"
            ]
          },
          "metadata": {},
          "execution_count": 36
        }
      ],
      "source": [
        "lgb = LGBMClassifier(learning_rate=0.05, max_depth=6, min_child_samples=10,\n",
        "              num_leaves=24, objective='binary', random_state=77,\n",
        "              subsample=0.1)\n",
        "lgb.fit(X_train1, y_train1)"
      ]
    },
    {
      "cell_type": "code",
      "execution_count": null,
      "metadata": {
        "colab": {
          "base_uri": "https://localhost:8080/"
        },
        "id": "kWlK1Z8Xdzf_",
        "outputId": "41beb159-b189-4bd0-998c-ba7fb42b792d"
      },
      "outputs": [
        {
          "output_type": "stream",
          "name": "stdout",
          "text": [
            "Training set score: 0.8659\n",
            "Test set score: 0.8571\n"
          ]
        }
      ],
      "source": [
        "y_pred1=lgb.predict(X_test1)\n",
        "\n",
        "#Akurasi model LGBM\n",
        "print('Training set score: {:.4f}'.format(lgb.score(X_train1, y_train1)))\n",
        "\n",
        "print('Test set score: {:.4f}'.format(lgb.score(X_test1, y_test1)))"
      ]
    },
    {
      "cell_type": "code",
      "execution_count": null,
      "metadata": {
        "colab": {
          "base_uri": "https://localhost:8080/"
        },
        "id": "YbFb80aMoVf1",
        "outputId": "157e68a4-9791-4df6-9188-cf76ada622e0"
      },
      "outputs": [
        {
          "output_type": "stream",
          "name": "stdout",
          "text": [
            "ROC AUC: 0.5645\n"
          ]
        }
      ],
      "source": [
        "fpr, tpr, _ = roc_curve(y_test1, y_pred1)\n",
        "score = auc(fpr, tpr)\n",
        "print(f\"ROC AUC: {score:.4f}\")"
      ]
    },
    {
      "cell_type": "code",
      "source": [
        "matrix = classification_report(y_test1,y_pred1)\n",
        "print(matrix)"
      ],
      "metadata": {
        "colab": {
          "base_uri": "https://localhost:8080/"
        },
        "id": "HcyEeCaWiqyk",
        "outputId": "9b0fe349-36a2-4fca-f810-583cef54db4e"
      },
      "execution_count": null,
      "outputs": [
        {
          "output_type": "stream",
          "name": "stdout",
          "text": [
            "              precision    recall  f1-score   support\n",
            "\n",
            "           0       0.87      0.98      0.92      5957\n",
            "           1       0.56      0.15      0.24      1032\n",
            "\n",
            "    accuracy                           0.86      6989\n",
            "   macro avg       0.71      0.56      0.58      6989\n",
            "weighted avg       0.82      0.86      0.82      6989\n",
            "\n"
          ]
        }
      ]
    },
    {
      "cell_type": "markdown",
      "metadata": {
        "id": "a44xPUteBETV"
      },
      "source": [
        "#PERBANDINGAN SMOTENC-LGBM TANPA HYPERPARAMETER TUNING"
      ]
    },
    {
      "cell_type": "code",
      "execution_count": null,
      "metadata": {
        "colab": {
          "base_uri": "https://localhost:8080/",
          "height": 252
        },
        "id": "UG24vZBbqS_X",
        "outputId": "6200c528-7bab-484e-cb0d-bc04d1526b19"
      },
      "outputs": [
        {
          "output_type": "stream",
          "name": "stdout",
          "text": [
            "[LightGBM] [Warning] Accuracy may be bad since you didn't explicitly set num_leaves OR 2^max_depth > num_leaves. (num_leaves=31).\n",
            "[LightGBM] [Warning] Accuracy may be bad since you didn't explicitly set num_leaves OR 2^max_depth > num_leaves. (num_leaves=31).\n",
            "[LightGBM] [Info] Number of positive: 13899, number of negative: 13899\n",
            "[LightGBM] [Info] Auto-choosing row-wise multi-threading, the overhead of testing was 0.004958 seconds.\n",
            "You can set `force_row_wise=true` to remove the overhead.\n",
            "And if memory is not enough, you can set `force_col_wise=true`.\n",
            "[LightGBM] [Info] Total Bins 180\n",
            "[LightGBM] [Info] Number of data points in the train set: 27798, number of used features: 15\n",
            "[LightGBM] [Info] [binary:BoostFromScore]: pavg=0.500000 -> initscore=0.000000\n"
          ]
        },
        {
          "output_type": "execute_result",
          "data": {
            "text/plain": [
              "LGBMClassifier(max_depth=9, objective='binary', random_state=77)"
            ],
            "text/html": [
              "<style>#sk-container-id-5 {color: black;background-color: white;}#sk-container-id-5 pre{padding: 0;}#sk-container-id-5 div.sk-toggleable {background-color: white;}#sk-container-id-5 label.sk-toggleable__label {cursor: pointer;display: block;width: 100%;margin-bottom: 0;padding: 0.3em;box-sizing: border-box;text-align: center;}#sk-container-id-5 label.sk-toggleable__label-arrow:before {content: \"▸\";float: left;margin-right: 0.25em;color: #696969;}#sk-container-id-5 label.sk-toggleable__label-arrow:hover:before {color: black;}#sk-container-id-5 div.sk-estimator:hover label.sk-toggleable__label-arrow:before {color: black;}#sk-container-id-5 div.sk-toggleable__content {max-height: 0;max-width: 0;overflow: hidden;text-align: left;background-color: #f0f8ff;}#sk-container-id-5 div.sk-toggleable__content pre {margin: 0.2em;color: black;border-radius: 0.25em;background-color: #f0f8ff;}#sk-container-id-5 input.sk-toggleable__control:checked~div.sk-toggleable__content {max-height: 200px;max-width: 100%;overflow: auto;}#sk-container-id-5 input.sk-toggleable__control:checked~label.sk-toggleable__label-arrow:before {content: \"▾\";}#sk-container-id-5 div.sk-estimator input.sk-toggleable__control:checked~label.sk-toggleable__label {background-color: #d4ebff;}#sk-container-id-5 div.sk-label input.sk-toggleable__control:checked~label.sk-toggleable__label {background-color: #d4ebff;}#sk-container-id-5 input.sk-hidden--visually {border: 0;clip: rect(1px 1px 1px 1px);clip: rect(1px, 1px, 1px, 1px);height: 1px;margin: -1px;overflow: hidden;padding: 0;position: absolute;width: 1px;}#sk-container-id-5 div.sk-estimator {font-family: monospace;background-color: #f0f8ff;border: 1px dotted black;border-radius: 0.25em;box-sizing: border-box;margin-bottom: 0.5em;}#sk-container-id-5 div.sk-estimator:hover {background-color: #d4ebff;}#sk-container-id-5 div.sk-parallel-item::after {content: \"\";width: 100%;border-bottom: 1px solid gray;flex-grow: 1;}#sk-container-id-5 div.sk-label:hover label.sk-toggleable__label {background-color: #d4ebff;}#sk-container-id-5 div.sk-serial::before {content: \"\";position: absolute;border-left: 1px solid gray;box-sizing: border-box;top: 0;bottom: 0;left: 50%;z-index: 0;}#sk-container-id-5 div.sk-serial {display: flex;flex-direction: column;align-items: center;background-color: white;padding-right: 0.2em;padding-left: 0.2em;position: relative;}#sk-container-id-5 div.sk-item {position: relative;z-index: 1;}#sk-container-id-5 div.sk-parallel {display: flex;align-items: stretch;justify-content: center;background-color: white;position: relative;}#sk-container-id-5 div.sk-item::before, #sk-container-id-5 div.sk-parallel-item::before {content: \"\";position: absolute;border-left: 1px solid gray;box-sizing: border-box;top: 0;bottom: 0;left: 50%;z-index: -1;}#sk-container-id-5 div.sk-parallel-item {display: flex;flex-direction: column;z-index: 1;position: relative;background-color: white;}#sk-container-id-5 div.sk-parallel-item:first-child::after {align-self: flex-end;width: 50%;}#sk-container-id-5 div.sk-parallel-item:last-child::after {align-self: flex-start;width: 50%;}#sk-container-id-5 div.sk-parallel-item:only-child::after {width: 0;}#sk-container-id-5 div.sk-dashed-wrapped {border: 1px dashed gray;margin: 0 0.4em 0.5em 0.4em;box-sizing: border-box;padding-bottom: 0.4em;background-color: white;}#sk-container-id-5 div.sk-label label {font-family: monospace;font-weight: bold;display: inline-block;line-height: 1.2em;}#sk-container-id-5 div.sk-label-container {text-align: center;}#sk-container-id-5 div.sk-container {/* jupyter's `normalize.less` sets `[hidden] { display: none; }` but bootstrap.min.css set `[hidden] { display: none !important; }` so we also need the `!important` here to be able to override the default hidden behavior on the sphinx rendered scikit-learn.org. See: https://github.com/scikit-learn/scikit-learn/issues/21755 */display: inline-block !important;position: relative;}#sk-container-id-5 div.sk-text-repr-fallback {display: none;}</style><div id=\"sk-container-id-5\" class=\"sk-top-container\"><div class=\"sk-text-repr-fallback\"><pre>LGBMClassifier(max_depth=9, objective=&#x27;binary&#x27;, random_state=77)</pre><b>In a Jupyter environment, please rerun this cell to show the HTML representation or trust the notebook. <br />On GitHub, the HTML representation is unable to render, please try loading this page with nbviewer.org.</b></div><div class=\"sk-container\" hidden><div class=\"sk-item\"><div class=\"sk-estimator sk-toggleable\"><input class=\"sk-toggleable__control sk-hidden--visually\" id=\"sk-estimator-id-9\" type=\"checkbox\" checked><label for=\"sk-estimator-id-9\" class=\"sk-toggleable__label sk-toggleable__label-arrow\">LGBMClassifier</label><div class=\"sk-toggleable__content\"><pre>LGBMClassifier(max_depth=9, objective=&#x27;binary&#x27;, random_state=77)</pre></div></div></div></div></div>"
            ]
          },
          "metadata": {},
          "execution_count": 39
        }
      ],
      "source": [
        "lgbm = LGBMClassifier(learning_rate=0.1, max_depth=9, min_child_samples=20,\n",
        "                      n_estimators=100,num_leaves=31, objective='binary',\n",
        "                      random_state=77,subsample=1.0)\n",
        "lgbm.fit(X_train, y_train)"
      ]
    },
    {
      "cell_type": "code",
      "execution_count": null,
      "metadata": {
        "id": "ZuQWutsLqn6F"
      },
      "outputs": [],
      "source": [
        "y_pred2=lgb.predict(X_test)\n",
        "\n",
        "#Akurasi model LGBM\n",
        "print('Training set score: {:.4f}'.format(lgb.score(X_train, y_train)))\n",
        "\n",
        "print('Test set score: {:.4f}'.format(lgb.score(X_test, y_test)))"
      ]
    },
    {
      "cell_type": "code",
      "execution_count": null,
      "metadata": {
        "id": "y78BzouNq-Nj"
      },
      "outputs": [],
      "source": [
        "fpr, tpr, _ = roc_curve(y_test, y_pred2)\n",
        "score = auc(fpr, tpr)\n",
        "print(f\"ROC AUC: {score:.4f}\")"
      ]
    }
  ],
  "metadata": {
    "colab": {
      "provenance": []
    },
    "kernelspec": {
      "display_name": "Python 3",
      "name": "python3"
    },
    "language_info": {
      "name": "python"
    }
  },
  "nbformat": 4,
  "nbformat_minor": 0
}