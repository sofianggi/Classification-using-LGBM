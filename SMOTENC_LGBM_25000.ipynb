{
  "cells": [
    {
      "cell_type": "markdown",
      "metadata": {
        "id": "hbmQGb47ATMq"
      },
      "source": [
        "#IMPORT LIBRARY"
      ]
    },
    {
      "cell_type": "code",
      "execution_count": null,
      "metadata": {
        "id": "XBnDzKQvATjU"
      },
      "outputs": [],
      "source": [
        "#Import Library\n",
        "import joblib\n",
        "import pandas as pd\n",
        "import numpy as np\n",
        "import math\n",
        "from time import time\n",
        "import pprint\n",
        "import warnings\n",
        "warnings.filterwarnings(\"ignore\")\n",
        "\n",
        "#visualisasi\n",
        "import matplotlib.pyplot as plt\n",
        "import seaborn as sns\n",
        "\n",
        "#Preprocessing\n",
        "from sklearn.model_selection import train_test_split, cross_validate, GridSearchCV #cross validation & parameter tuning\n",
        "from statsmodels.tools.tools import add_constant\n",
        "from statsmodels.stats.outliers_influence import variance_inflation_factor\n",
        "\n",
        "#SMOTENC\n",
        "from imblearn.over_sampling import SMOTENC\n",
        "\n",
        "#modeling\n",
        "import lightgbm as lgb\n",
        "from lightgbm import LGBMClassifier, LGBMRegressor, create_tree_digraph\n",
        "\n",
        "#evaluasi\n",
        "from sklearn.metrics import accuracy_score, confusion_matrix, auc, roc_auc_score, classification_report #untuk evaluasi metric\n",
        "from mlxtend.plotting import plot_confusion_matrix"
      ]
    },
    {
      "cell_type": "markdown",
      "metadata": {
        "id": "ALy3vbewAnN7"
      },
      "source": [
        "#IMPORT DATASET"
      ]
    },
    {
      "cell_type": "code",
      "execution_count": null,
      "metadata": {
        "colab": {
          "base_uri": "https://localhost:8080/"
        },
        "id": "HEgqjwebArAs",
        "outputId": "67d34a8c-3ad4-4f26-bb79-1d0ac90e96d4"
      },
      "outputs": [
        {
          "output_type": "stream",
          "name": "stdout",
          "text": [
            "Mounted at /content/drive\n"
          ]
        }
      ],
      "source": [
        "#Import Dataset\n",
        "from google.colab import drive\n",
        "drive.mount('/content/drive')"
      ]
    },
    {
      "cell_type": "code",
      "execution_count": null,
      "metadata": {
        "id": "d6hk3B0jUSHB"
      },
      "outputs": [],
      "source": [
        "data = pd.read_csv('/content/drive/MyDrive/SKRIPSI/diabetes25.csv')"
      ]
    },
    {
      "cell_type": "markdown",
      "metadata": {
        "id": "CqxHlnuOAr1J"
      },
      "source": [
        "#EXPLORATORY DATA ANALYSIS"
      ]
    },
    {
      "cell_type": "code",
      "execution_count": null,
      "metadata": {
        "colab": {
          "base_uri": "https://localhost:8080/",
          "height": 1000
        },
        "id": "nSORur3FAu79",
        "outputId": "1f33adb0-b4f0-4ba8-fbb3-00d997fe0f51"
      },
      "outputs": [
        {
          "output_type": "stream",
          "name": "stdout",
          "text": [
            "\n",
            "\n",
            "    -- dtypes --\n",
            "\n",
            "    Diabetes_binary         int64\n",
            "HighBP                  int64\n",
            "HighChol                int64\n",
            "BMI                     int64\n",
            "Smoker                  int64\n",
            "Stroke                  int64\n",
            "HeartDiseaseorAttack    int64\n",
            "PhysActivity            int64\n",
            "HvyAlcoholConsump       int64\n",
            "GenHlth                 int64\n",
            "MentHlth                int64\n",
            "PhysHlth                int64\n",
            "DiffWalk                int64\n",
            "Age                     int64\n",
            "Education               int64\n",
            "Income                  int64\n",
            "dtype: object\n",
            "\n",
            "    -- NaN Values --\n",
            "\n",
            "    Diabetes_binary         0\n",
            "HighBP                  0\n",
            "HighChol                0\n",
            "BMI                     0\n",
            "Smoker                  0\n",
            "Stroke                  0\n",
            "HeartDiseaseorAttack    0\n",
            "PhysActivity            0\n",
            "HvyAlcoholConsump       0\n",
            "GenHlth                 0\n",
            "MentHlth                0\n",
            "PhysHlth                0\n",
            "DiffWalk                0\n",
            "Age                     0\n",
            "Education               0\n",
            "Income                  0\n",
            "dtype: int64\n",
            "\n",
            "    -- Shape --\n",
            "\n",
            "    (25000, 16)\n",
            "\n",
            "    -- Head --\n",
            "    \n"
          ]
        },
        {
          "output_type": "execute_result",
          "data": {
            "text/plain": [
              "   Diabetes_binary  HighBP  HighChol  BMI  Smoker  Stroke  \\\n",
              "0                0       0         0   21       0       0   \n",
              "1                0       0         1   35       0       0   \n",
              "2                1       0         0   33       0       0   \n",
              "3                0       0         0   24       0       0   \n",
              "4                0       0         0   32       0       0   \n",
              "\n",
              "   HeartDiseaseorAttack  PhysActivity  HvyAlcoholConsump  GenHlth  MentHlth  \\\n",
              "0                     0             1                  0        2         1   \n",
              "1                     0             1                  0        1         5   \n",
              "2                     0             0                  0        4         0   \n",
              "3                     0             1                  0        2         0   \n",
              "4                     0             1                  0        3         0   \n",
              "\n",
              "   PhysHlth  DiffWalk  Age  Education  Income  \n",
              "0         0         0    4          5       8  \n",
              "1         0         0    8          6       8  \n",
              "2        10         1   11          5       4  \n",
              "3         0         0    1          6       7  \n",
              "4         0         0    2          6       7  "
            ],
            "text/html": [
              "\n",
              "  <div id=\"df-ff392662-0242-40a2-99c7-ee77ccbc2a32\" class=\"colab-df-container\">\n",
              "    <div>\n",
              "<style scoped>\n",
              "    .dataframe tbody tr th:only-of-type {\n",
              "        vertical-align: middle;\n",
              "    }\n",
              "\n",
              "    .dataframe tbody tr th {\n",
              "        vertical-align: top;\n",
              "    }\n",
              "\n",
              "    .dataframe thead th {\n",
              "        text-align: right;\n",
              "    }\n",
              "</style>\n",
              "<table border=\"1\" class=\"dataframe\">\n",
              "  <thead>\n",
              "    <tr style=\"text-align: right;\">\n",
              "      <th></th>\n",
              "      <th>Diabetes_binary</th>\n",
              "      <th>HighBP</th>\n",
              "      <th>HighChol</th>\n",
              "      <th>BMI</th>\n",
              "      <th>Smoker</th>\n",
              "      <th>Stroke</th>\n",
              "      <th>HeartDiseaseorAttack</th>\n",
              "      <th>PhysActivity</th>\n",
              "      <th>HvyAlcoholConsump</th>\n",
              "      <th>GenHlth</th>\n",
              "      <th>MentHlth</th>\n",
              "      <th>PhysHlth</th>\n",
              "      <th>DiffWalk</th>\n",
              "      <th>Age</th>\n",
              "      <th>Education</th>\n",
              "      <th>Income</th>\n",
              "    </tr>\n",
              "  </thead>\n",
              "  <tbody>\n",
              "    <tr>\n",
              "      <th>0</th>\n",
              "      <td>0</td>\n",
              "      <td>0</td>\n",
              "      <td>0</td>\n",
              "      <td>21</td>\n",
              "      <td>0</td>\n",
              "      <td>0</td>\n",
              "      <td>0</td>\n",
              "      <td>1</td>\n",
              "      <td>0</td>\n",
              "      <td>2</td>\n",
              "      <td>1</td>\n",
              "      <td>0</td>\n",
              "      <td>0</td>\n",
              "      <td>4</td>\n",
              "      <td>5</td>\n",
              "      <td>8</td>\n",
              "    </tr>\n",
              "    <tr>\n",
              "      <th>1</th>\n",
              "      <td>0</td>\n",
              "      <td>0</td>\n",
              "      <td>1</td>\n",
              "      <td>35</td>\n",
              "      <td>0</td>\n",
              "      <td>0</td>\n",
              "      <td>0</td>\n",
              "      <td>1</td>\n",
              "      <td>0</td>\n",
              "      <td>1</td>\n",
              "      <td>5</td>\n",
              "      <td>0</td>\n",
              "      <td>0</td>\n",
              "      <td>8</td>\n",
              "      <td>6</td>\n",
              "      <td>8</td>\n",
              "    </tr>\n",
              "    <tr>\n",
              "      <th>2</th>\n",
              "      <td>1</td>\n",
              "      <td>0</td>\n",
              "      <td>0</td>\n",
              "      <td>33</td>\n",
              "      <td>0</td>\n",
              "      <td>0</td>\n",
              "      <td>0</td>\n",
              "      <td>0</td>\n",
              "      <td>0</td>\n",
              "      <td>4</td>\n",
              "      <td>0</td>\n",
              "      <td>10</td>\n",
              "      <td>1</td>\n",
              "      <td>11</td>\n",
              "      <td>5</td>\n",
              "      <td>4</td>\n",
              "    </tr>\n",
              "    <tr>\n",
              "      <th>3</th>\n",
              "      <td>0</td>\n",
              "      <td>0</td>\n",
              "      <td>0</td>\n",
              "      <td>24</td>\n",
              "      <td>0</td>\n",
              "      <td>0</td>\n",
              "      <td>0</td>\n",
              "      <td>1</td>\n",
              "      <td>0</td>\n",
              "      <td>2</td>\n",
              "      <td>0</td>\n",
              "      <td>0</td>\n",
              "      <td>0</td>\n",
              "      <td>1</td>\n",
              "      <td>6</td>\n",
              "      <td>7</td>\n",
              "    </tr>\n",
              "    <tr>\n",
              "      <th>4</th>\n",
              "      <td>0</td>\n",
              "      <td>0</td>\n",
              "      <td>0</td>\n",
              "      <td>32</td>\n",
              "      <td>0</td>\n",
              "      <td>0</td>\n",
              "      <td>0</td>\n",
              "      <td>1</td>\n",
              "      <td>0</td>\n",
              "      <td>3</td>\n",
              "      <td>0</td>\n",
              "      <td>0</td>\n",
              "      <td>0</td>\n",
              "      <td>2</td>\n",
              "      <td>6</td>\n",
              "      <td>7</td>\n",
              "    </tr>\n",
              "  </tbody>\n",
              "</table>\n",
              "</div>\n",
              "    <div class=\"colab-df-buttons\">\n",
              "\n",
              "  <div class=\"colab-df-container\">\n",
              "    <button class=\"colab-df-convert\" onclick=\"convertToInteractive('df-ff392662-0242-40a2-99c7-ee77ccbc2a32')\"\n",
              "            title=\"Convert this dataframe to an interactive table.\"\n",
              "            style=\"display:none;\">\n",
              "\n",
              "  <svg xmlns=\"http://www.w3.org/2000/svg\" height=\"24px\" viewBox=\"0 -960 960 960\">\n",
              "    <path d=\"M120-120v-720h720v720H120Zm60-500h600v-160H180v160Zm220 220h160v-160H400v160Zm0 220h160v-160H400v160ZM180-400h160v-160H180v160Zm440 0h160v-160H620v160ZM180-180h160v-160H180v160Zm440 0h160v-160H620v160Z\"/>\n",
              "  </svg>\n",
              "    </button>\n",
              "\n",
              "  <style>\n",
              "    .colab-df-container {\n",
              "      display:flex;\n",
              "      gap: 12px;\n",
              "    }\n",
              "\n",
              "    .colab-df-convert {\n",
              "      background-color: #E8F0FE;\n",
              "      border: none;\n",
              "      border-radius: 50%;\n",
              "      cursor: pointer;\n",
              "      display: none;\n",
              "      fill: #1967D2;\n",
              "      height: 32px;\n",
              "      padding: 0 0 0 0;\n",
              "      width: 32px;\n",
              "    }\n",
              "\n",
              "    .colab-df-convert:hover {\n",
              "      background-color: #E2EBFA;\n",
              "      box-shadow: 0px 1px 2px rgba(60, 64, 67, 0.3), 0px 1px 3px 1px rgba(60, 64, 67, 0.15);\n",
              "      fill: #174EA6;\n",
              "    }\n",
              "\n",
              "    .colab-df-buttons div {\n",
              "      margin-bottom: 4px;\n",
              "    }\n",
              "\n",
              "    [theme=dark] .colab-df-convert {\n",
              "      background-color: #3B4455;\n",
              "      fill: #D2E3FC;\n",
              "    }\n",
              "\n",
              "    [theme=dark] .colab-df-convert:hover {\n",
              "      background-color: #434B5C;\n",
              "      box-shadow: 0px 1px 3px 1px rgba(0, 0, 0, 0.15);\n",
              "      filter: drop-shadow(0px 1px 2px rgba(0, 0, 0, 0.3));\n",
              "      fill: #FFFFFF;\n",
              "    }\n",
              "  </style>\n",
              "\n",
              "    <script>\n",
              "      const buttonEl =\n",
              "        document.querySelector('#df-ff392662-0242-40a2-99c7-ee77ccbc2a32 button.colab-df-convert');\n",
              "      buttonEl.style.display =\n",
              "        google.colab.kernel.accessAllowed ? 'block' : 'none';\n",
              "\n",
              "      async function convertToInteractive(key) {\n",
              "        const element = document.querySelector('#df-ff392662-0242-40a2-99c7-ee77ccbc2a32');\n",
              "        const dataTable =\n",
              "          await google.colab.kernel.invokeFunction('convertToInteractive',\n",
              "                                                    [key], {});\n",
              "        if (!dataTable) return;\n",
              "\n",
              "        const docLinkHtml = 'Like what you see? Visit the ' +\n",
              "          '<a target=\"_blank\" href=https://colab.research.google.com/notebooks/data_table.ipynb>data table notebook</a>'\n",
              "          + ' to learn more about interactive tables.';\n",
              "        element.innerHTML = '';\n",
              "        dataTable['output_type'] = 'display_data';\n",
              "        await google.colab.output.renderOutput(dataTable, element);\n",
              "        const docLink = document.createElement('div');\n",
              "        docLink.innerHTML = docLinkHtml;\n",
              "        element.appendChild(docLink);\n",
              "      }\n",
              "    </script>\n",
              "  </div>\n",
              "\n",
              "\n",
              "<div id=\"df-449e55b9-0dfe-41bf-bcf5-9046e644dc20\">\n",
              "  <button class=\"colab-df-quickchart\" onclick=\"quickchart('df-449e55b9-0dfe-41bf-bcf5-9046e644dc20')\"\n",
              "            title=\"Suggest charts\"\n",
              "            style=\"display:none;\">\n",
              "\n",
              "<svg xmlns=\"http://www.w3.org/2000/svg\" height=\"24px\"viewBox=\"0 0 24 24\"\n",
              "     width=\"24px\">\n",
              "    <g>\n",
              "        <path d=\"M19 3H5c-1.1 0-2 .9-2 2v14c0 1.1.9 2 2 2h14c1.1 0 2-.9 2-2V5c0-1.1-.9-2-2-2zM9 17H7v-7h2v7zm4 0h-2V7h2v10zm4 0h-2v-4h2v4z\"/>\n",
              "    </g>\n",
              "</svg>\n",
              "  </button>\n",
              "\n",
              "<style>\n",
              "  .colab-df-quickchart {\n",
              "      --bg-color: #E8F0FE;\n",
              "      --fill-color: #1967D2;\n",
              "      --hover-bg-color: #E2EBFA;\n",
              "      --hover-fill-color: #174EA6;\n",
              "      --disabled-fill-color: #AAA;\n",
              "      --disabled-bg-color: #DDD;\n",
              "  }\n",
              "\n",
              "  [theme=dark] .colab-df-quickchart {\n",
              "      --bg-color: #3B4455;\n",
              "      --fill-color: #D2E3FC;\n",
              "      --hover-bg-color: #434B5C;\n",
              "      --hover-fill-color: #FFFFFF;\n",
              "      --disabled-bg-color: #3B4455;\n",
              "      --disabled-fill-color: #666;\n",
              "  }\n",
              "\n",
              "  .colab-df-quickchart {\n",
              "    background-color: var(--bg-color);\n",
              "    border: none;\n",
              "    border-radius: 50%;\n",
              "    cursor: pointer;\n",
              "    display: none;\n",
              "    fill: var(--fill-color);\n",
              "    height: 32px;\n",
              "    padding: 0;\n",
              "    width: 32px;\n",
              "  }\n",
              "\n",
              "  .colab-df-quickchart:hover {\n",
              "    background-color: var(--hover-bg-color);\n",
              "    box-shadow: 0 1px 2px rgba(60, 64, 67, 0.3), 0 1px 3px 1px rgba(60, 64, 67, 0.15);\n",
              "    fill: var(--button-hover-fill-color);\n",
              "  }\n",
              "\n",
              "  .colab-df-quickchart-complete:disabled,\n",
              "  .colab-df-quickchart-complete:disabled:hover {\n",
              "    background-color: var(--disabled-bg-color);\n",
              "    fill: var(--disabled-fill-color);\n",
              "    box-shadow: none;\n",
              "  }\n",
              "\n",
              "  .colab-df-spinner {\n",
              "    border: 2px solid var(--fill-color);\n",
              "    border-color: transparent;\n",
              "    border-bottom-color: var(--fill-color);\n",
              "    animation:\n",
              "      spin 1s steps(1) infinite;\n",
              "  }\n",
              "\n",
              "  @keyframes spin {\n",
              "    0% {\n",
              "      border-color: transparent;\n",
              "      border-bottom-color: var(--fill-color);\n",
              "      border-left-color: var(--fill-color);\n",
              "    }\n",
              "    20% {\n",
              "      border-color: transparent;\n",
              "      border-left-color: var(--fill-color);\n",
              "      border-top-color: var(--fill-color);\n",
              "    }\n",
              "    30% {\n",
              "      border-color: transparent;\n",
              "      border-left-color: var(--fill-color);\n",
              "      border-top-color: var(--fill-color);\n",
              "      border-right-color: var(--fill-color);\n",
              "    }\n",
              "    40% {\n",
              "      border-color: transparent;\n",
              "      border-right-color: var(--fill-color);\n",
              "      border-top-color: var(--fill-color);\n",
              "    }\n",
              "    60% {\n",
              "      border-color: transparent;\n",
              "      border-right-color: var(--fill-color);\n",
              "    }\n",
              "    80% {\n",
              "      border-color: transparent;\n",
              "      border-right-color: var(--fill-color);\n",
              "      border-bottom-color: var(--fill-color);\n",
              "    }\n",
              "    90% {\n",
              "      border-color: transparent;\n",
              "      border-bottom-color: var(--fill-color);\n",
              "    }\n",
              "  }\n",
              "</style>\n",
              "\n",
              "  <script>\n",
              "    async function quickchart(key) {\n",
              "      const quickchartButtonEl =\n",
              "        document.querySelector('#' + key + ' button');\n",
              "      quickchartButtonEl.disabled = true;  // To prevent multiple clicks.\n",
              "      quickchartButtonEl.classList.add('colab-df-spinner');\n",
              "      try {\n",
              "        const charts = await google.colab.kernel.invokeFunction(\n",
              "            'suggestCharts', [key], {});\n",
              "      } catch (error) {\n",
              "        console.error('Error during call to suggestCharts:', error);\n",
              "      }\n",
              "      quickchartButtonEl.classList.remove('colab-df-spinner');\n",
              "      quickchartButtonEl.classList.add('colab-df-quickchart-complete');\n",
              "    }\n",
              "    (() => {\n",
              "      let quickchartButtonEl =\n",
              "        document.querySelector('#df-449e55b9-0dfe-41bf-bcf5-9046e644dc20 button');\n",
              "      quickchartButtonEl.style.display =\n",
              "        google.colab.kernel.accessAllowed ? 'block' : 'none';\n",
              "    })();\n",
              "  </script>\n",
              "</div>\n",
              "    </div>\n",
              "  </div>\n"
            ],
            "application/vnd.google.colaboratory.intrinsic+json": {
              "type": "dataframe",
              "summary": "{\n  \"name\": \"eda(data)\",\n  \"rows\": 5,\n  \"fields\": [\n    {\n      \"column\": \"Diabetes_binary\",\n      \"properties\": {\n        \"dtype\": \"number\",\n        \"std\": 0,\n        \"min\": 0,\n        \"max\": 1,\n        \"num_unique_values\": 2,\n        \"samples\": [\n          1,\n          0\n        ],\n        \"semantic_type\": \"\",\n        \"description\": \"\"\n      }\n    },\n    {\n      \"column\": \"HighBP\",\n      \"properties\": {\n        \"dtype\": \"number\",\n        \"std\": 0,\n        \"min\": 0,\n        \"max\": 0,\n        \"num_unique_values\": 1,\n        \"samples\": [\n          0\n        ],\n        \"semantic_type\": \"\",\n        \"description\": \"\"\n      }\n    },\n    {\n      \"column\": \"HighChol\",\n      \"properties\": {\n        \"dtype\": \"number\",\n        \"std\": 0,\n        \"min\": 0,\n        \"max\": 1,\n        \"num_unique_values\": 2,\n        \"samples\": [\n          1\n        ],\n        \"semantic_type\": \"\",\n        \"description\": \"\"\n      }\n    },\n    {\n      \"column\": \"BMI\",\n      \"properties\": {\n        \"dtype\": \"number\",\n        \"std\": 6,\n        \"min\": 21,\n        \"max\": 35,\n        \"num_unique_values\": 5,\n        \"samples\": [\n          35\n        ],\n        \"semantic_type\": \"\",\n        \"description\": \"\"\n      }\n    },\n    {\n      \"column\": \"Smoker\",\n      \"properties\": {\n        \"dtype\": \"number\",\n        \"std\": 0,\n        \"min\": 0,\n        \"max\": 0,\n        \"num_unique_values\": 1,\n        \"samples\": [\n          0\n        ],\n        \"semantic_type\": \"\",\n        \"description\": \"\"\n      }\n    },\n    {\n      \"column\": \"Stroke\",\n      \"properties\": {\n        \"dtype\": \"number\",\n        \"std\": 0,\n        \"min\": 0,\n        \"max\": 0,\n        \"num_unique_values\": 1,\n        \"samples\": [\n          0\n        ],\n        \"semantic_type\": \"\",\n        \"description\": \"\"\n      }\n    },\n    {\n      \"column\": \"HeartDiseaseorAttack\",\n      \"properties\": {\n        \"dtype\": \"number\",\n        \"std\": 0,\n        \"min\": 0,\n        \"max\": 0,\n        \"num_unique_values\": 1,\n        \"samples\": [\n          0\n        ],\n        \"semantic_type\": \"\",\n        \"description\": \"\"\n      }\n    },\n    {\n      \"column\": \"PhysActivity\",\n      \"properties\": {\n        \"dtype\": \"number\",\n        \"std\": 0,\n        \"min\": 0,\n        \"max\": 1,\n        \"num_unique_values\": 2,\n        \"samples\": [\n          0\n        ],\n        \"semantic_type\": \"\",\n        \"description\": \"\"\n      }\n    },\n    {\n      \"column\": \"HvyAlcoholConsump\",\n      \"properties\": {\n        \"dtype\": \"number\",\n        \"std\": 0,\n        \"min\": 0,\n        \"max\": 0,\n        \"num_unique_values\": 1,\n        \"samples\": [\n          0\n        ],\n        \"semantic_type\": \"\",\n        \"description\": \"\"\n      }\n    },\n    {\n      \"column\": \"GenHlth\",\n      \"properties\": {\n        \"dtype\": \"number\",\n        \"std\": 1,\n        \"min\": 1,\n        \"max\": 4,\n        \"num_unique_values\": 4,\n        \"samples\": [\n          1\n        ],\n        \"semantic_type\": \"\",\n        \"description\": \"\"\n      }\n    },\n    {\n      \"column\": \"MentHlth\",\n      \"properties\": {\n        \"dtype\": \"number\",\n        \"std\": 2,\n        \"min\": 0,\n        \"max\": 5,\n        \"num_unique_values\": 3,\n        \"samples\": [\n          1\n        ],\n        \"semantic_type\": \"\",\n        \"description\": \"\"\n      }\n    },\n    {\n      \"column\": \"PhysHlth\",\n      \"properties\": {\n        \"dtype\": \"number\",\n        \"std\": 4,\n        \"min\": 0,\n        \"max\": 10,\n        \"num_unique_values\": 2,\n        \"samples\": [\n          10\n        ],\n        \"semantic_type\": \"\",\n        \"description\": \"\"\n      }\n    },\n    {\n      \"column\": \"DiffWalk\",\n      \"properties\": {\n        \"dtype\": \"number\",\n        \"std\": 0,\n        \"min\": 0,\n        \"max\": 1,\n        \"num_unique_values\": 2,\n        \"samples\": [\n          1\n        ],\n        \"semantic_type\": \"\",\n        \"description\": \"\"\n      }\n    },\n    {\n      \"column\": \"Age\",\n      \"properties\": {\n        \"dtype\": \"number\",\n        \"std\": 4,\n        \"min\": 1,\n        \"max\": 11,\n        \"num_unique_values\": 5,\n        \"samples\": [\n          8\n        ],\n        \"semantic_type\": \"\",\n        \"description\": \"\"\n      }\n    },\n    {\n      \"column\": \"Education\",\n      \"properties\": {\n        \"dtype\": \"number\",\n        \"std\": 0,\n        \"min\": 5,\n        \"max\": 6,\n        \"num_unique_values\": 2,\n        \"samples\": [\n          6\n        ],\n        \"semantic_type\": \"\",\n        \"description\": \"\"\n      }\n    },\n    {\n      \"column\": \"Income\",\n      \"properties\": {\n        \"dtype\": \"number\",\n        \"std\": 1,\n        \"min\": 4,\n        \"max\": 8,\n        \"num_unique_values\": 3,\n        \"samples\": [\n          8\n        ],\n        \"semantic_type\": \"\",\n        \"description\": \"\"\n      }\n    }\n  ]\n}"
            }
          },
          "metadata": {},
          "execution_count": 5
        }
      ],
      "source": [
        "#Exploratory Data Analysis\n",
        "def eda(dataframe):\n",
        "    print(f\"\"\"\n",
        "\n",
        "    -- dtypes --\n",
        "\n",
        "    {dataframe.dtypes}\n",
        "\n",
        "    -- NaN Values --\n",
        "\n",
        "    {dataframe.isnull().sum()}\n",
        "\n",
        "    -- Shape --\n",
        "\n",
        "    {dataframe.shape}\n",
        "\n",
        "    -- Head --\n",
        "    \"\"\")\n",
        "\n",
        "\n",
        "    return dataframe.head()\n",
        "eda(data)"
      ]
    },
    {
      "cell_type": "code",
      "execution_count": null,
      "metadata": {
        "id": "ytrzXUE5Ut_H"
      },
      "outputs": [],
      "source": [
        "# That help us to show the relation between features clearly\n",
        "data2 = data.copy()\n",
        "data2[\"Diabetes_binary_str\"]= data2[\"Diabetes_binary\"].replace({0:\"Tidak Diabetes\",1:\"Diabetes\"})\n",
        "\n",
        "data2.Age[data2['Age'] == 1] = '18 - 24'\n",
        "data2.Age[data2['Age'] == 2] = '25 - 29'\n",
        "data2.Age[data2['Age'] == 3] = '30 - 34'\n",
        "data2.Age[data2['Age'] == 4] = '35 - 39'\n",
        "data2.Age[data2['Age'] == 5] = '40 - 44'\n",
        "data2.Age[data2['Age'] == 6] = '45 - 49'\n",
        "data2.Age[data2['Age'] == 7] = '50 - 54'\n",
        "data2.Age[data2['Age'] == 8] = '55 - 59'\n",
        "data2.Age[data2['Age'] == 9] = '60 - 64'\n",
        "data2.Age[data2['Age'] == 10] = '65 - 69'\n",
        "data2.Age[data2['Age'] == 11] = '70 - 74'\n",
        "data2.Age[data2['Age'] == 12] = '75 - 79'\n",
        "data2.Age[data2['Age'] == 13] = '> 80'\n",
        "\n",
        "data2.Diabetes_binary[data2['Diabetes_binary'] == 0] = 'Tidak Diabetes'\n",
        "data2.Diabetes_binary[data2['Diabetes_binary'] == 1] = 'Diabetes'\n",
        "\n",
        "data2.HighBP[data2['HighBP'] == 0] = 'Tidak'\n",
        "data2.HighBP[data2['HighBP'] == 1] = 'Ya'\n",
        "\n",
        "data2.HighChol[data2['HighChol'] == 0] = 'Tidak'\n",
        "data2.HighChol[data2['HighChol'] == 1] = 'Ya'\n",
        "\n",
        "data2.Smoker[data2['Smoker'] == 0] = 'Tidak'\n",
        "data2.Smoker[data2['Smoker'] == 1] = 'Ya'\n",
        "\n",
        "data2.Stroke[data2['Stroke'] == 0] = 'Tidak'\n",
        "data2.Stroke[data2['Stroke'] == 1] = 'Ya'\n",
        "\n",
        "data2.HeartDiseaseorAttack[data2['HeartDiseaseorAttack'] == 0] = 'Tidak'\n",
        "data2.HeartDiseaseorAttack[data2['HeartDiseaseorAttack'] == 1] = 'Ya'\n",
        "\n",
        "data2.PhysActivity[data2['PhysActivity'] == 0] = 'Tidak'\n",
        "data2.PhysActivity[data2['PhysActivity'] == 1] = 'Ya'\n",
        "\n",
        "data2.HvyAlcoholConsump[data2['HvyAlcoholConsump'] == 0] = 'Tidak'\n",
        "data2.HvyAlcoholConsump[data2['HvyAlcoholConsump'] == 1] = 'Ya'\n",
        "\n",
        "data2.GenHlth[data2['GenHlth'] == 5] = 'Sangat Baik Sekali'\n",
        "data2.GenHlth[data2['GenHlth'] == 4] = 'Baik Sekali'\n",
        "data2.GenHlth[data2['GenHlth'] == 3] = 'Baik'\n",
        "data2.GenHlth[data2['GenHlth'] == 2] = 'Cukup Baik'\n",
        "data2.GenHlth[data2['GenHlth'] == 1] = 'Tidak Baik'\n",
        "\n",
        "data2.DiffWalk[data2['DiffWalk'] == 0] = 'Tidak'\n",
        "data2.DiffWalk[data2['DiffWalk'] == 1] = 'Ya'\n",
        "\n",
        "data2.Education[data2['Education'] == 1] = 'Tidak pernah sekolah'\n",
        "data2.Education[data2['Education'] == 2] = 'SD'\n",
        "data2.Education[data2['Education'] == 3] = 'SLTP'\n",
        "data2.Education[data2['Education'] == 4] = 'SLTA'\n",
        "data2.Education[data2['Education'] == 5] = 'S1/Diploma'\n",
        "data2.Education[data2['Education'] == 6] = 'Magister'\n",
        "\n",
        "data2.Income[data2['Income'] == 1] = '< $10,000'\n",
        "data2.Income[data2['Income'] == 2] = '10,000-$15,000'\n",
        "data2.Income[data2['Income'] == 3] = '$15,000-$20,000'\n",
        "data2.Income[data2['Income'] == 4] = '$20,000-$25,000'\n",
        "data2.Income[data2['Income'] == 5] = '$25,000-$35,000'\n",
        "data2.Income[data2['Income'] == 6] = '$35,000-$50,000'\n",
        "data2.Income[data2['Income'] == 7] = '$50,000-$75,000'\n",
        "data2.Income[data2['Income'] == 8] = '> $75,000'"
      ]
    },
    {
      "cell_type": "markdown",
      "metadata": {
        "id": "rmepDDJJVzDo"
      },
      "source": [
        "#STATISTIKA DESKRIPTIF"
      ]
    },
    {
      "cell_type": "code",
      "execution_count": null,
      "metadata": {
        "colab": {
          "base_uri": "https://localhost:8080/",
          "height": 431
        },
        "id": "35umd1QmSWL2",
        "outputId": "284cd926-4a91-403e-dc28-7415cc85f658"
      },
      "outputs": [
        {
          "output_type": "display_data",
          "data": {
            "text/plain": [
              "<Figure size 1000x1500 with 1 Axes>"
            ],
            "image/png": "[encoded data removed]"
          },
          "metadata": {}
        }
      ],
      "source": [
        "#Statistika Deskriptif Variabel Respon\n",
        "l = list(data['Diabetes_binary'].value_counts())\n",
        "circle = [l[0] / sum(l) * 100,l[1] / sum(l) * 100]\n",
        "\n",
        "plt.figure(figsize=(10, 15))\n",
        "plt.subplot(1,2,1)\n",
        "plt.pie(circle,labels = ['Tidak Diabetes','Diabetes'],autopct = '%1.1f%%',startangle = 90,explode = (0.1,0),colors = ['BLUE','RED'],\n",
        "       wedgeprops = {'edgecolor' : 'black','linewidth': 1,'antialiased' : True})\n",
        "plt.title('Visualisasi Variabel Respon Diabetes');"
      ]
    },
    {
      "cell_type": "code",
      "execution_count": null,
      "metadata": {
        "colab": {
          "base_uri": "https://localhost:8080/",
          "height": 321
        },
        "id": "OKH-E22NV2KR",
        "outputId": "f4c6bf93-1dba-4fc4-b75e-043fbf940817"
      },
      "outputs": [
        {
          "output_type": "execute_result",
          "data": {
            "text/plain": [
              "                BMI      MentHlth      PhysHlth\n",
              "count  25000.000000  25000.000000  25000.000000\n",
              "mean      28.484680      3.156680      4.216320\n",
              "std        6.612134      7.368624      8.735899\n",
              "min       12.000000      0.000000      0.000000\n",
              "25%       24.000000      0.000000      0.000000\n",
              "50%       27.000000      0.000000      0.000000\n",
              "75%       31.000000      2.000000      3.000000\n",
              "max       95.000000     30.000000     30.000000"
            ],
            "text/html": [
              "\n",
              "  <div id=\"df-e5db4aaf-fcca-4a00-91b8-847a71866c93\" class=\"colab-df-container\">\n",
              "    <div>\n",
              "<style scoped>\n",
              "    .dataframe tbody tr th:only-of-type {\n",
              "        vertical-align: middle;\n",
              "    }\n",
              "\n",
              "    .dataframe tbody tr th {\n",
              "        vertical-align: top;\n",
              "    }\n",
              "\n",
              "    .dataframe thead th {\n",
              "        text-align: right;\n",
              "    }\n",
              "</style>\n",
              "<table border=\"1\" class=\"dataframe\">\n",
              "  <thead>\n",
              "    <tr style=\"text-align: right;\">\n",
              "      <th></th>\n",
              "      <th>BMI</th>\n",
              "      <th>MentHlth</th>\n",
              "      <th>PhysHlth</th>\n",
              "    </tr>\n",
              "  </thead>\n",
              "  <tbody>\n",
              "    <tr>\n",
              "      <th>count</th>\n",
              "      <td>25000.000000</td>\n",
              "      <td>25000.000000</td>\n",
              "      <td>25000.000000</td>\n",
              "    </tr>\n",
              "    <tr>\n",
              "      <th>mean</th>\n",
              "      <td>28.484680</td>\n",
              "      <td>3.156680</td>\n",
              "      <td>4.216320</td>\n",
              "    </tr>\n",
              "    <tr>\n",
              "      <th>std</th>\n",
              "      <td>6.612134</td>\n",
              "      <td>7.368624</td>\n",
              "      <td>8.735899</td>\n",
              "    </tr>\n",
              "    <tr>\n",
              "      <th>min</th>\n",
              "      <td>12.000000</td>\n",
              "      <td>0.000000</td>\n",
              "      <td>0.000000</td>\n",
              "    </tr>\n",
              "    <tr>\n",
              "      <th>25%</th>\n",
              "      <td>24.000000</td>\n",
              "      <td>0.000000</td>\n",
              "      <td>0.000000</td>\n",
              "    </tr>\n",
              "    <tr>\n",
              "      <th>50%</th>\n",
              "      <td>27.000000</td>\n",
              "      <td>0.000000</td>\n",
              "      <td>0.000000</td>\n",
              "    </tr>\n",
              "    <tr>\n",
              "      <th>75%</th>\n",
              "      <td>31.000000</td>\n",
              "      <td>2.000000</td>\n",
              "      <td>3.000000</td>\n",
              "    </tr>\n",
              "    <tr>\n",
              "      <th>max</th>\n",
              "      <td>95.000000</td>\n",
              "      <td>30.000000</td>\n",
              "      <td>30.000000</td>\n",
              "    </tr>\n",
              "  </tbody>\n",
              "</table>\n",
              "</div>\n",
              "    <div class=\"colab-df-buttons\">\n",
              "\n",
              "  <div class=\"colab-df-container\">\n",
              "    <button class=\"colab-df-convert\" onclick=\"convertToInteractive('df-e5db4aaf-fcca-4a00-91b8-847a71866c93')\"\n",
              "            title=\"Convert this dataframe to an interactive table.\"\n",
              "            style=\"display:none;\">\n",
              "\n",
              "  <svg xmlns=\"http://www.w3.org/2000/svg\" height=\"24px\" viewBox=\"0 -960 960 960\">\n",
              "    <path d=\"M120-120v-720h720v720H120Zm60-500h600v-160H180v160Zm220 220h160v-160H400v160Zm0 220h160v-160H400v160ZM180-400h160v-160H180v160Zm440 0h160v-160H620v160ZM180-180h160v-160H180v160Zm440 0h160v-160H620v160Z\"/>\n",
              "  </svg>\n",
              "    </button>\n",
              "\n",
              "  <style>\n",
              "    .colab-df-container {\n",
              "      display:flex;\n",
              "      gap: 12px;\n",
              "    }\n",
              "\n",
              "    .colab-df-convert {\n",
              "      background-color: #E8F0FE;\n",
              "      border: none;\n",
              "      border-radius: 50%;\n",
              "      cursor: pointer;\n",
              "      display: none;\n",
              "      fill: #1967D2;\n",
              "      height: 32px;\n",
              "      padding: 0 0 0 0;\n",
              "      width: 32px;\n",
              "    }\n",
              "\n",
              "    .colab-df-convert:hover {\n",
              "      background-color: #E2EBFA;\n",
              "      box-shadow: 0px 1px 2px rgba(60, 64, 67, 0.3), 0px 1px 3px 1px rgba(60, 64, 67, 0.15);\n",
              "      fill: #174EA6;\n",
              "    }\n",
              "\n",
              "    .colab-df-buttons div {\n",
              "      margin-bottom: 4px;\n",
              "    }\n",
              "\n",
              "    [theme=dark] .colab-df-convert {\n",
              "      background-color: #3B4455;\n",
              "      fill: #D2E3FC;\n",
              "    }\n",
              "\n",
              "    [theme=dark] .colab-df-convert:hover {\n",
              "      background-color: #434B5C;\n",
              "      box-shadow: 0px 1px 3px 1px rgba(0, 0, 0, 0.15);\n",
              "      filter: drop-shadow(0px 1px 2px rgba(0, 0, 0, 0.3));\n",
              "      fill: #FFFFFF;\n",
              "    }\n",
              "  </style>\n",
              "\n",
              "    <script>\n",
              "      const buttonEl =\n",
              "        document.querySelector('#df-e5db4aaf-fcca-4a00-91b8-847a71866c93 button.colab-df-convert');\n",
              "      buttonEl.style.display =\n",
              "        google.colab.kernel.accessAllowed ? 'block' : 'none';\n",
              "\n",
              "      async function convertToInteractive(key) {\n",
              "        const element = document.querySelector('#df-e5db4aaf-fcca-4a00-91b8-847a71866c93');\n",
              "        const dataTable =\n",
              "          await google.colab.kernel.invokeFunction('convertToInteractive',\n",
              "                                                    [key], {});\n",
              "        if (!dataTable) return;\n",
              "\n",
              "        const docLinkHtml = 'Like what you see? Visit the ' +\n",
              "          '<a target=\"_blank\" href=https://colab.research.google.com/notebooks/data_table.ipynb>data table notebook</a>'\n",
              "          + ' to learn more about interactive tables.';\n",
              "        element.innerHTML = '';\n",
              "        dataTable['output_type'] = 'display_data';\n",
              "        await google.colab.output.renderOutput(dataTable, element);\n",
              "        const docLink = document.createElement('div');\n",
              "        docLink.innerHTML = docLinkHtml;\n",
              "        element.appendChild(docLink);\n",
              "      }\n",
              "    </script>\n",
              "  </div>\n",
              "\n",
              "\n",
              "<div id=\"df-606aad9a-3d77-478f-a622-5cff99c46edd\">\n",
              "  <button class=\"colab-df-quickchart\" onclick=\"quickchart('df-606aad9a-3d77-478f-a622-5cff99c46edd')\"\n",
              "            title=\"Suggest charts\"\n",
              "            style=\"display:none;\">\n",
              "\n",
              "<svg xmlns=\"http://www.w3.org/2000/svg\" height=\"24px\"viewBox=\"0 0 24 24\"\n",
              "     width=\"24px\">\n",
              "    <g>\n",
              "        <path d=\"M19 3H5c-1.1 0-2 .9-2 2v14c0 1.1.9 2 2 2h14c1.1 0 2-.9 2-2V5c0-1.1-.9-2-2-2zM9 17H7v-7h2v7zm4 0h-2V7h2v10zm4 0h-2v-4h2v4z\"/>\n",
              "    </g>\n",
              "</svg>\n",
              "  </button>\n",
              "\n",
              "<style>\n",
              "  .colab-df-quickchart {\n",
              "      --bg-color: #E8F0FE;\n",
              "      --fill-color: #1967D2;\n",
              "      --hover-bg-color: #E2EBFA;\n",
              "      --hover-fill-color: #174EA6;\n",
              "      --disabled-fill-color: #AAA;\n",
              "      --disabled-bg-color: #DDD;\n",
              "  }\n",
              "\n",
              "  [theme=dark] .colab-df-quickchart {\n",
              "      --bg-color: #3B4455;\n",
              "      --fill-color: #D2E3FC;\n",
              "      --hover-bg-color: #434B5C;\n",
              "      --hover-fill-color: #FFFFFF;\n",
              "      --disabled-bg-color: #3B4455;\n",
              "      --disabled-fill-color: #666;\n",
              "  }\n",
              "\n",
              "  .colab-df-quickchart {\n",
              "    background-color: var(--bg-color);\n",
              "    border: none;\n",
              "    border-radius: 50%;\n",
              "    cursor: pointer;\n",
              "    display: none;\n",
              "    fill: var(--fill-color);\n",
              "    height: 32px;\n",
              "    padding: 0;\n",
              "    width: 32px;\n",
              "  }\n",
              "\n",
              "  .colab-df-quickchart:hover {\n",
              "    background-color: var(--hover-bg-color);\n",
              "    box-shadow: 0 1px 2px rgba(60, 64, 67, 0.3), 0 1px 3px 1px rgba(60, 64, 67, 0.15);\n",
              "    fill: var(--button-hover-fill-color);\n",
              "  }\n",
              "\n",
              "  .colab-df-quickchart-complete:disabled,\n",
              "  .colab-df-quickchart-complete:disabled:hover {\n",
              "    background-color: var(--disabled-bg-color);\n",
              "    fill: var(--disabled-fill-color);\n",
              "    box-shadow: none;\n",
              "  }\n",
              "\n",
              "  .colab-df-spinner {\n",
              "    border: 2px solid var(--fill-color);\n",
              "    border-color: transparent;\n",
              "    border-bottom-color: var(--fill-color);\n",
              "    animation:\n",
              "      spin 1s steps(1) infinite;\n",
              "  }\n",
              "\n",
              "  @keyframes spin {\n",
              "    0% {\n",
              "      border-color: transparent;\n",
              "      border-bottom-color: var(--fill-color);\n",
              "      border-left-color: var(--fill-color);\n",
              "    }\n",
              "    20% {\n",
              "      border-color: transparent;\n",
              "      border-left-color: var(--fill-color);\n",
              "      border-top-color: var(--fill-color);\n",
              "    }\n",
              "    30% {\n",
              "      border-color: transparent;\n",
              "      border-left-color: var(--fill-color);\n",
              "      border-top-color: var(--fill-color);\n",
              "      border-right-color: var(--fill-color);\n",
              "    }\n",
              "    40% {\n",
              "      border-color: transparent;\n",
              "      border-right-color: var(--fill-color);\n",
              "      border-top-color: var(--fill-color);\n",
              "    }\n",
              "    60% {\n",
              "      border-color: transparent;\n",
              "      border-right-color: var(--fill-color);\n",
              "    }\n",
              "    80% {\n",
              "      border-color: transparent;\n",
              "      border-right-color: var(--fill-color);\n",
              "      border-bottom-color: var(--fill-color);\n",
              "    }\n",
              "    90% {\n",
              "      border-color: transparent;\n",
              "      border-bottom-color: var(--fill-color);\n",
              "    }\n",
              "  }\n",
              "</style>\n",
              "\n",
              "  <script>\n",
              "    async function quickchart(key) {\n",
              "      const quickchartButtonEl =\n",
              "        document.querySelector('#' + key + ' button');\n",
              "      quickchartButtonEl.disabled = true;  // To prevent multiple clicks.\n",
              "      quickchartButtonEl.classList.add('colab-df-spinner');\n",
              "      try {\n",
              "        const charts = await google.colab.kernel.invokeFunction(\n",
              "            'suggestCharts', [key], {});\n",
              "      } catch (error) {\n",
              "        console.error('Error during call to suggestCharts:', error);\n",
              "      }\n",
              "      quickchartButtonEl.classList.remove('colab-df-spinner');\n",
              "      quickchartButtonEl.classList.add('colab-df-quickchart-complete');\n",
              "    }\n",
              "    (() => {\n",
              "      let quickchartButtonEl =\n",
              "        document.querySelector('#df-606aad9a-3d77-478f-a622-5cff99c46edd button');\n",
              "      quickchartButtonEl.style.display =\n",
              "        google.colab.kernel.accessAllowed ? 'block' : 'none';\n",
              "    })();\n",
              "  </script>\n",
              "</div>\n",
              "    </div>\n",
              "  </div>\n"
            ],
            "application/vnd.google.colaboratory.intrinsic+json": {
              "type": "dataframe",
              "summary": "{\n  \"name\": \"data2\",\n  \"rows\": 8,\n  \"fields\": [\n    {\n      \"column\": \"BMI\",\n      \"properties\": {\n        \"dtype\": \"number\",\n        \"std\": 8827.557562121428,\n        \"min\": 6.612133854525664,\n        \"max\": 25000.0,\n        \"num_unique_values\": 8,\n        \"samples\": [\n          28.48468,\n          27.0,\n          25000.0\n        ],\n        \"semantic_type\": \"\",\n        \"description\": \"\"\n      }\n    },\n    {\n      \"column\": \"MentHlth\",\n      \"properties\": {\n        \"dtype\": \"number\",\n        \"std\": 8836.692651015199,\n        \"min\": 0.0,\n        \"max\": 25000.0,\n        \"num_unique_values\": 6,\n        \"samples\": [\n          25000.0,\n          3.15668,\n          30.0\n        ],\n        \"semantic_type\": \"\",\n        \"description\": \"\"\n      }\n    },\n    {\n      \"column\": \"PhysHlth\",\n      \"properties\": {\n        \"dtype\": \"number\",\n        \"std\": 8836.519497203843,\n        \"min\": 0.0,\n        \"max\": 25000.0,\n        \"num_unique_values\": 6,\n        \"samples\": [\n          25000.0,\n          4.21632,\n          30.0\n        ],\n        \"semantic_type\": \"\",\n        \"description\": \"\"\n      }\n    }\n  ]\n}"
            }
          },
          "metadata": {},
          "execution_count": 11
        }
      ],
      "source": [
        "data2.describe() # Untuk fitur numerik (atau continous)"
      ]
    },
    {
      "cell_type": "code",
      "source": [
        "#Statistika Deskriptif untuk fitur kategorik\n",
        "print(data2.HighBP.value_counts()) #HighBP\n",
        "print(data2.HighChol.value_counts()) #HighChol\n",
        "print(data2.Smoker.value_counts()) # Smoker\n",
        "print(data2.Stroke.value_counts()) # Stroke\n",
        "print(data2.HeartDiseaseorAttack.value_counts()) #HeartDiseaseorAttack\n",
        "print(data2.PhysActivity.value_counts()) #PhysActivity\n",
        "print(data2.HvyAlcoholConsump.value_counts()) #HvyAlcoholConsump\n",
        "print(data2.GenHlth.value_counts()) #GenHlth\n",
        "print(data2.DiffWalk.value_counts()) #DiffWalk\n",
        "print(data2.Age.value_counts()) #Age\n",
        "print(data2.Education.value_counts()) #Education\n",
        "print(data2.Income.value_counts()) #Income"
      ],
      "metadata": {
        "colab": {
          "base_uri": "https://localhost:8080/"
        },
        "id": "miaIxpKAJeuR",
        "outputId": "d262d69a-6a6b-480c-fa54-7a3ef87f89c0"
      },
      "execution_count": null,
      "outputs": [
        {
          "output_type": "stream",
          "name": "stdout",
          "text": [
            "HighBP\n",
            "Tidak    14166\n",
            "Ya       10834\n",
            "Name: count, dtype: int64\n",
            "HighChol\n",
            "Tidak    14323\n",
            "Ya       10677\n",
            "Name: count, dtype: int64\n",
            "Smoker\n",
            "Tidak    13910\n",
            "Ya       11090\n",
            "Name: count, dtype: int64\n",
            "Stroke\n",
            "Tidak    23998\n",
            "Ya        1002\n",
            "Name: count, dtype: int64\n",
            "HeartDiseaseorAttack\n",
            "Tidak    22634\n",
            "Ya        2366\n",
            "Name: count, dtype: int64\n",
            "PhysActivity\n",
            "Ya       18963\n",
            "Tidak     6037\n",
            "Name: count, dtype: int64\n",
            "HvyAlcoholConsump\n",
            "Tidak    23597\n",
            "Ya        1403\n",
            "Name: count, dtype: int64\n",
            "GenHlth\n",
            "Cukup Baik            8797\n",
            "Baik                  7409\n",
            "Tidak Baik            4471\n",
            "Baik Sekali           3123\n",
            "Sangat Baik Sekali    1200\n",
            "Name: count, dtype: int64\n",
            "DiffWalk\n",
            "Tidak    20778\n",
            "Ya        4222\n",
            "Name: count, dtype: int64\n",
            "Age\n",
            "60 - 64    3324\n",
            "65 - 69    3112\n",
            "55 - 59    2971\n",
            "50 - 54    2645\n",
            "70 - 74    2334\n",
            "45 - 49    1951\n",
            "> 80       1695\n",
            "75 - 79    1627\n",
            "40 - 44    1562\n",
            "35 - 39    1388\n",
            "30 - 34    1099\n",
            "25 - 29     744\n",
            "18 - 24     548\n",
            "Name: count, dtype: int64\n",
            "Education\n",
            "Magister                10558\n",
            "S1/Diploma               6957\n",
            "SLTA                     6174\n",
            "SLTP                      929\n",
            "SD                        367\n",
            "Tidak pernah sekolah       15\n",
            "Name: count, dtype: int64\n",
            "Income\n",
            "> $75,000          8921\n",
            "$50,000-$75,000    4250\n",
            "$35,000-$50,000    3646\n",
            "$25,000-$35,000    2540\n",
            "$20,000-$25,000    1928\n",
            "$15,000-$20,000    1609\n",
            "10,000-$15,000     1176\n",
            "< $10,000           930\n",
            "Name: count, dtype: int64\n"
          ]
        }
      ]
    },
    {
      "cell_type": "markdown",
      "metadata": {
        "id": "XoI1OOfUAvPu"
      },
      "source": [
        "#PREPROCESSING DATA"
      ]
    },
    {
      "cell_type": "markdown",
      "source": [
        "###Uji Multikolinearitas"
      ],
      "metadata": {
        "id": "OXzesTLq5neP"
      }
    },
    {
      "cell_type": "code",
      "source": [
        "def calc_VIF(x):\n",
        "    vif= pd.DataFrame()\n",
        "    vif['variables']=x.columns\n",
        "    vif[\"VIF\"]=[variance_inflation_factor(x.values,i) for i in range(x.shape[1])]\n",
        "    return(vif)\n",
        "\n",
        "\n",
        "X = add_constant(data)\n",
        "ds=pd.Series([variance_inflation_factor(X.values, i) for i in range(X.shape[1])],index=X.columns)\n",
        "print(ds)"
      ],
      "metadata": {
        "colab": {
          "base_uri": "https://localhost:8080/"
        },
        "id": "2nngIFPw58zY",
        "outputId": "0ed5ee04-b016-4e20-8b77-e3d8a264ff6a"
      },
      "execution_count": null,
      "outputs": [
        {
          "output_type": "stream",
          "name": "stdout",
          "text": [
            "const                   91.392546\n",
            "Diabetes_binary          1.197701\n",
            "HighBP                   1.346996\n",
            "HighChol                 1.185847\n",
            "BMI                      1.185177\n",
            "Smoker                   1.071117\n",
            "Stroke                   1.078012\n",
            "HeartDiseaseorAttack     1.169482\n",
            "PhysActivity             1.132759\n",
            "HvyAlcoholConsump        1.023525\n",
            "GenHlth                  1.867795\n",
            "MentHlth                 1.210646\n",
            "PhysHlth                 1.560737\n",
            "DiffWalk                 1.506040\n",
            "Age                      1.322673\n",
            "Education                1.310071\n",
            "Income                   1.434646\n",
            "dtype: float64\n"
          ]
        }
      ]
    },
    {
      "cell_type": "markdown",
      "metadata": {
        "id": "QmHzat5fWBOR"
      },
      "source": [
        "##Menangani Outlier"
      ]
    },
    {
      "cell_type": "code",
      "execution_count": null,
      "metadata": {
        "id": "mO3DKBZOiCto"
      },
      "outputs": [],
      "source": [
        "# Numerical variables:\n",
        "num_col = ['BMI','MentHlth','PhysHlth']\n",
        "\n",
        "# Categorical variables:\n",
        "cat_col = ['Diabetes_binary','HighBP','HighChol','Smoker','Stroke',\n",
        "            'HeartDiseaseorAttack','PhysActivity','HvyAlcoholConsump',\n",
        "            'GenHlth','DiffWalk','Age','Education', 'Income']"
      ]
    },
    {
      "cell_type": "code",
      "execution_count": null,
      "metadata": {
        "colab": {
          "base_uri": "https://localhost:8080/",
          "height": 341
        },
        "id": "OGsJUZJ-iIDY",
        "outputId": "a59f688d-2521-400a-a286-f19a583cd0a9"
      },
      "outputs": [
        {
          "output_type": "display_data",
          "data": {
            "text/plain": [
              "<Figure size 1600x800 with 3 Axes>"
            ],
            "image/png": "[encoded data removed]"
          },
          "metadata": {}
        }
      ],
      "source": [
        "##Visualisasi untuk deteksi Outlier\n",
        "plt.figure(figsize = (16,8))\n",
        "for i,x in enumerate(num_col):\n",
        "  plt.subplot(2,4,i+1)\n",
        "  sns.boxplot(data[x])"
      ]
    },
    {
      "cell_type": "code",
      "execution_count": null,
      "metadata": {
        "id": "M5YOXbhOWMej"
      },
      "outputs": [],
      "source": [
        "#Pendefinisian fungsi IQR\n",
        "def outlier_thresholds(dataframe, col_name, q1=0.25, q3=0.75):\n",
        "    quartile1 = dataframe[col_name].quantile(q1)\n",
        "    quartile3 = dataframe[col_name].quantile(q3)\n",
        "    interquantile_range = quartile3 - quartile1\n",
        "    up_limit = quartile3 + 1.5 * interquantile_range\n",
        "    low_limit = quartile1 - 1.5 * interquantile_range\n",
        "    return low_limit, up_limit"
      ]
    },
    {
      "cell_type": "code",
      "execution_count": null,
      "metadata": {
        "id": "p9uqmtrLWSRx"
      },
      "outputs": [],
      "source": [
        "def check_outlier(dataframe, col_name):\n",
        "    low_limit, up_limit = outlier_thresholds(dataframe, col_name)\n",
        "    if dataframe[(dataframe[col_name] > up_limit) | (dataframe[col_name] < low_limit)].any(axis=None):\n",
        "        return True\n",
        "    else:\n",
        "        return False"
      ]
    },
    {
      "cell_type": "code",
      "execution_count": null,
      "metadata": {
        "id": "NUmzwok-W3Ap"
      },
      "outputs": [],
      "source": [
        "#Pendefinisian fungsi untuk replace outlier\n",
        "def replace_with_thresholds(dataframe, variable):\n",
        "    low_limit, up_limit = outlier_thresholds(dataframe, variable)\n",
        "    dataframe.loc[(dataframe[variable] < low_limit), variable] = low_limit\n",
        "    dataframe.loc[(dataframe[variable] > up_limit), variable] = up_limit"
      ]
    },
    {
      "cell_type": "code",
      "execution_count": null,
      "metadata": {
        "colab": {
          "base_uri": "https://localhost:8080/"
        },
        "id": "IzCiEz86W6Pp",
        "outputId": "bcf0553d-a5aa-43da-ee4c-bcd5e8ee13cc"
      },
      "outputs": [
        {
          "output_type": "stream",
          "name": "stdout",
          "text": [
            "BMI True\n",
            "MentHlth True\n",
            "PhysHlth True\n"
          ]
        }
      ],
      "source": [
        "# Cek Outlier pada variabel numerik\n",
        "for x in num_col:\n",
        "  print(x,check_outlier(data,x))"
      ]
    },
    {
      "cell_type": "code",
      "execution_count": null,
      "metadata": {
        "id": "4S6lOxy2XTRd"
      },
      "outputs": [],
      "source": [
        "# Replace outlier\n",
        "for x in num_col:\n",
        "  replace_with_thresholds(data,x)"
      ]
    },
    {
      "cell_type": "code",
      "execution_count": null,
      "metadata": {
        "colab": {
          "base_uri": "https://localhost:8080/",
          "height": 341
        },
        "id": "y8VcskFpXZpF",
        "outputId": "7de19f33-8587-456f-e805-d8f75c091dfb"
      },
      "outputs": [
        {
          "output_type": "display_data",
          "data": {
            "text/plain": [
              "<Figure size 1600x800 with 3 Axes>"
            ],
            "image/png": "[encoded data removed]"
          },
          "metadata": {}
        }
      ],
      "source": [
        "#Visualisasi setelah penanganan outlier\n",
        "plt.figure(figsize = (16,8))\n",
        "for i,x in enumerate(num_col):\n",
        "  plt.subplot(2,4,i+1)\n",
        "  sns.boxplot(data[x])"
      ]
    },
    {
      "cell_type": "markdown",
      "metadata": {
        "id": "9IdpmtHVXjOI"
      },
      "source": [
        "##Menghapus Duplikasi Data"
      ]
    },
    {
      "cell_type": "code",
      "execution_count": null,
      "metadata": {
        "colab": {
          "base_uri": "https://localhost:8080/"
        },
        "id": "sB9AzfwQXcl6",
        "outputId": "5052e8d6-c64a-4daa-aab6-b6a86a406606"
      },
      "outputs": [
        {
          "output_type": "execute_result",
          "data": {
            "text/plain": [
              "1727"
            ]
          },
          "metadata": {},
          "execution_count": 25
        }
      ],
      "source": [
        "data.duplicated().sum()"
      ]
    },
    {
      "cell_type": "code",
      "execution_count": null,
      "metadata": {
        "colab": {
          "base_uri": "https://localhost:8080/"
        },
        "id": "v_n9lyurXm4X",
        "outputId": "50987344-3e03-4053-f77e-831abf340516"
      },
      "outputs": [
        {
          "output_type": "execute_result",
          "data": {
            "text/plain": [
              "0"
            ]
          },
          "metadata": {},
          "execution_count": 26
        }
      ],
      "source": [
        "data.drop_duplicates(inplace = True)\n",
        "data.duplicated().sum()"
      ]
    },
    {
      "cell_type": "markdown",
      "metadata": {
        "id": "5FGp_A51Aypp"
      },
      "source": [
        "#SMOTENC"
      ]
    },
    {
      "cell_type": "code",
      "execution_count": null,
      "metadata": {
        "id": "LBV77zKdX6de"
      },
      "outputs": [],
      "source": [
        "X=data.drop(\"Diabetes_binary\",axis=1)\n",
        "Y=data[\"Diabetes_binary\"]"
      ]
    },
    {
      "cell_type": "code",
      "execution_count": null,
      "metadata": {
        "colab": {
          "base_uri": "https://localhost:8080/",
          "height": 487
        },
        "id": "UxP6c7ovYtXd",
        "outputId": "dbea7d11-205a-45a1-ca0f-c0197d7f0db8"
      },
      "outputs": [
        {
          "output_type": "display_data",
          "data": {
            "text/plain": [
              "<Figure size 500x500 with 1 Axes>"
            ],
            "image/png": "[encoded data removed]"
          },
          "metadata": {}
        }
      ],
      "source": [
        "#Visualisasi Sebelum SMOTENC\n",
        "plt.figure(figsize=(5, 5))\n",
        "ax = sns.countplot(x=\"Diabetes_binary_str\", hue=\"Diabetes_binary\", data=data2, palette = ['BLUE','RED'])\n",
        "plt.title('Perbandingan Kelas Target Sebelum SMOTENC')\n",
        "plt.xlabel('Kelas Target')\n",
        "plt.ylabel('Frekuensi')\n",
        "plt.show()"
      ]
    },
    {
      "cell_type": "code",
      "execution_count": null,
      "metadata": {
        "colab": {
          "base_uri": "https://localhost:8080/"
        },
        "id": "b17VDUXNYm2G",
        "outputId": "fe80daf6-4baf-4024-c986-9109d47e7e09"
      },
      "outputs": [
        {
          "output_type": "stream",
          "name": "stdout",
          "text": [
            "Original Data :  (23273, 15) (23273,)\n",
            "Smote Data :  (39672, 15) (39672,)\n"
          ]
        }
      ],
      "source": [
        "#Resampling SMOTENC\n",
        "cat_cols =[0,1,3,4,5,6,7,8,11,12,13,14]\n",
        "oversample = SMOTENC(random_state=77, categorical_features=cat_cols)\n",
        "print(\"Original Data : \", X.shape, Y.shape)\n",
        "\n",
        "X_smote, y_smote = oversample.fit_resample(X, Y)\n",
        "print(\"Smote Data : \", X_smote.shape, y_smote.shape)"
      ]
    },
    {
      "cell_type": "code",
      "execution_count": null,
      "metadata": {
        "colab": {
          "base_uri": "https://localhost:8080/"
        },
        "id": "RFt78ADZbFOE",
        "outputId": "39ecb1aa-99b2-4348-e272-355e076e990f"
      },
      "outputs": [
        {
          "output_type": "execute_result",
          "data": {
            "text/plain": [
              "Diabetes_binary\n",
              "0    19836\n",
              "1    19836\n",
              "Name: count, dtype: int64"
            ]
          },
          "metadata": {},
          "execution_count": 27
        }
      ],
      "source": [
        "y_smote.value_counts()"
      ]
    },
    {
      "cell_type": "code",
      "execution_count": null,
      "metadata": {
        "colab": {
          "base_uri": "https://localhost:8080/",
          "height": 487
        },
        "id": "fiRrC6-mbmLk",
        "outputId": "d8fc4581-3fb3-4575-964a-95c490cd118a"
      },
      "outputs": [
        {
          "output_type": "display_data",
          "data": {
            "text/plain": [
              "<Figure size 500x500 with 1 Axes>"
            ],
            "image/png": "[encoded data removed]"
          },
          "metadata": {}
        }
      ],
      "source": [
        "#Visualisasi Setelah\n",
        "plt.figure(figsize=(5, 5))\n",
        "ax=sns.countplot(x=y_smote, data=data2, palette = ['BLUE','RED'])\n",
        "plt.title('Perbandingan Kelas Target Setelah SMOTENC')\n",
        "plt.xlabel('Kelas Target')\n",
        "plt.ylabel('Frekuensi')\n",
        "plt.show()"
      ]
    },
    {
      "cell_type": "markdown",
      "metadata": {
        "id": "j7xanyWFA24U"
      },
      "source": [
        "#SPLITTING DATA"
      ]
    },
    {
      "cell_type": "code",
      "execution_count": null,
      "metadata": {
        "colab": {
          "base_uri": "https://localhost:8080/"
        },
        "id": "cURgYvlacLSK",
        "outputId": "9518f82b-8557-42bf-8ed3-784f5477dd82"
      },
      "outputs": [
        {
          "output_type": "stream",
          "name": "stdout",
          "text": [
            "Training Data Shape :  (27770, 15) (27770,)\n",
            "Test Data Shape :  (11902, 15) (11902,)\n"
          ]
        }
      ],
      "source": [
        "X_train, X_test, y_train, y_test = train_test_split(X_smote, y_smote, test_size=0.3, stratify=y_smote, random_state=77)\n",
        "\n",
        "print(\"Training Data Shape : \", X_train.shape, y_train.shape)\n",
        "print(\"Test Data Shape : \", X_test.shape, y_test.shape)"
      ]
    },
    {
      "cell_type": "markdown",
      "metadata": {
        "id": "aanypiSIA5Sv"
      },
      "source": [
        "#HYPERPARAMETER TUNING"
      ]
    },
    {
      "cell_type": "code",
      "execution_count": null,
      "metadata": {
        "id": "OZTW-HYydLfV"
      },
      "outputs": [],
      "source": [
        "# Mendefinisikan parameter grid untuk hyperparameter tuning\n",
        "param_grid = {'learning_rate':[0.05, 0.08, 0.09],\n",
        "              'n_estimators': [100, 300, 500],\n",
        "              'max_depth': [6, 12, 16 ],\n",
        "              'subsample': [0.1, 0.5, 1.0],\n",
        "              'min_child_samples': [1, 10, 20],\n",
        "              'num_leaves': [24, 32, 64]}"
      ]
    },
    {
      "cell_type": "code",
      "execution_count": null,
      "metadata": {
        "id": "TrczV0zZBJul"
      },
      "outputs": [],
      "source": [
        "#Inisialisasi LGBMRegressor estimattor\n",
        "estimator = lgb.LGBMRegressor(objective='binary',\n",
        "                              random_state=77)"
      ]
    },
    {
      "cell_type": "code",
      "execution_count": null,
      "metadata": {
        "colab": {
          "base_uri": "https://localhost:8080/",
          "height": 259
        },
        "id": "aZ5WOVZTNGdN",
        "outputId": "d6502685-9f9d-4d97-b1f7-9a42b67d5a8d"
      },
      "outputs": [
        {
          "output_type": "stream",
          "name": "stdout",
          "text": [
            "[LightGBM] [Info] Number of positive: 13885, number of negative: 13885\n",
            "[LightGBM] [Info] Auto-choosing row-wise multi-threading, the overhead of testing was 0.003598 seconds.\n",
            "You can set `force_row_wise=true` to remove the overhead.\n",
            "And if memory is not enough, you can set `force_col_wise=true`.\n",
            "[LightGBM] [Info] Total Bins 568\n",
            "[LightGBM] [Info] Number of data points in the train set: 27770, number of used features: 15\n",
            "[LightGBM] [Info] [binary:BoostFromScore]: pavg=0.500000 -> initscore=0.000000\n"
          ]
        },
        {
          "output_type": "execute_result",
          "data": {
            "text/plain": [
              "GridSearchCV(cv=3, estimator=LGBMRegressor(objective='binary', random_state=77),\n",
              "             n_jobs=-1,\n",
              "             param_grid={'learning_rate': [0.05, 0.08, 0.09],\n",
              "                         'max_depth': [6, 12, 16],\n",
              "                         'min_child_samples': [1, 10, 20],\n",
              "                         'n_estimators': [100, 300, 500],\n",
              "                         'num_leaves': [24, 32, 64],\n",
              "                         'subsample': [0.1, 0.5, 1.0]},\n",
              "             scoring='neg_root_mean_squared_error')"
            ],
            "text/html": [
              "<style>#sk-container-id-1 {color: black;background-color: white;}#sk-container-id-1 pre{padding: 0;}#sk-container-id-1 div.sk-toggleable {background-color: white;}#sk-container-id-1 label.sk-toggleable__label {cursor: pointer;display: block;width: 100%;margin-bottom: 0;padding: 0.3em;box-sizing: border-box;text-align: center;}#sk-container-id-1 label.sk-toggleable__label-arrow:before {content: \"▸\";float: left;margin-right: 0.25em;color: #696969;}#sk-container-id-1 label.sk-toggleable__label-arrow:hover:before {color: black;}#sk-container-id-1 div.sk-estimator:hover label.sk-toggleable__label-arrow:before {color: black;}#sk-container-id-1 div.sk-toggleable__content {max-height: 0;max-width: 0;overflow: hidden;text-align: left;background-color: #f0f8ff;}#sk-container-id-1 div.sk-toggleable__content pre {margin: 0.2em;color: black;border-radius: 0.25em;background-color: #f0f8ff;}#sk-container-id-1 input.sk-toggleable__control:checked~div.sk-toggleable__content {max-height: 200px;max-width: 100%;overflow: auto;}#sk-container-id-1 input.sk-toggleable__control:checked~label.sk-toggleable__label-arrow:before {content: \"▾\";}#sk-container-id-1 div.sk-estimator input.sk-toggleable__control:checked~label.sk-toggleable__label {background-color: #d4ebff;}#sk-container-id-1 div.sk-label input.sk-toggleable__control:checked~label.sk-toggleable__label {background-color: #d4ebff;}#sk-container-id-1 input.sk-hidden--visually {border: 0;clip: rect(1px 1px 1px 1px);clip: rect(1px, 1px, 1px, 1px);height: 1px;margin: -1px;overflow: hidden;padding: 0;position: absolute;width: 1px;}#sk-container-id-1 div.sk-estimator {font-family: monospace;background-color: #f0f8ff;border: 1px dotted black;border-radius: 0.25em;box-sizing: border-box;margin-bottom: 0.5em;}#sk-container-id-1 div.sk-estimator:hover {background-color: #d4ebff;}#sk-container-id-1 div.sk-parallel-item::after {content: \"\";width: 100%;border-bottom: 1px solid gray;flex-grow: 1;}#sk-container-id-1 div.sk-label:hover label.sk-toggleable__label {background-color: #d4ebff;}#sk-container-id-1 div.sk-serial::before {content: \"\";position: absolute;border-left: 1px solid gray;box-sizing: border-box;top: 0;bottom: 0;left: 50%;z-index: 0;}#sk-container-id-1 div.sk-serial {display: flex;flex-direction: column;align-items: center;background-color: white;padding-right: 0.2em;padding-left: 0.2em;position: relative;}#sk-container-id-1 div.sk-item {position: relative;z-index: 1;}#sk-container-id-1 div.sk-parallel {display: flex;align-items: stretch;justify-content: center;background-color: white;position: relative;}#sk-container-id-1 div.sk-item::before, #sk-container-id-1 div.sk-parallel-item::before {content: \"\";position: absolute;border-left: 1px solid gray;box-sizing: border-box;top: 0;bottom: 0;left: 50%;z-index: -1;}#sk-container-id-1 div.sk-parallel-item {display: flex;flex-direction: column;z-index: 1;position: relative;background-color: white;}#sk-container-id-1 div.sk-parallel-item:first-child::after {align-self: flex-end;width: 50%;}#sk-container-id-1 div.sk-parallel-item:last-child::after {align-self: flex-start;width: 50%;}#sk-container-id-1 div.sk-parallel-item:only-child::after {width: 0;}#sk-container-id-1 div.sk-dashed-wrapped {border: 1px dashed gray;margin: 0 0.4em 0.5em 0.4em;box-sizing: border-box;padding-bottom: 0.4em;background-color: white;}#sk-container-id-1 div.sk-label label {font-family: monospace;font-weight: bold;display: inline-block;line-height: 1.2em;}#sk-container-id-1 div.sk-label-container {text-align: center;}#sk-container-id-1 div.sk-container {/* jupyter's `normalize.less` sets `[hidden] { display: none; }` but bootstrap.min.css set `[hidden] { display: none !important; }` so we also need the `!important` here to be able to override the default hidden behavior on the sphinx rendered scikit-learn.org. See: https://github.com/scikit-learn/scikit-learn/issues/21755 */display: inline-block !important;position: relative;}#sk-container-id-1 div.sk-text-repr-fallback {display: none;}</style><div id=\"sk-container-id-1\" class=\"sk-top-container\"><div class=\"sk-text-repr-fallback\"><pre>GridSearchCV(cv=3, estimator=LGBMRegressor(objective=&#x27;binary&#x27;, random_state=77),\n",
              "             n_jobs=-1,\n",
              "             param_grid={&#x27;learning_rate&#x27;: [0.05, 0.08, 0.09],\n",
              "                         &#x27;max_depth&#x27;: [6, 12, 16],\n",
              "                         &#x27;min_child_samples&#x27;: [1, 10, 20],\n",
              "                         &#x27;n_estimators&#x27;: [100, 300, 500],\n",
              "                         &#x27;num_leaves&#x27;: [24, 32, 64],\n",
              "                         &#x27;subsample&#x27;: [0.1, 0.5, 1.0]},\n",
              "             scoring=&#x27;neg_root_mean_squared_error&#x27;)</pre><b>In a Jupyter environment, please rerun this cell to show the HTML representation or trust the notebook. <br />On GitHub, the HTML representation is unable to render, please try loading this page with nbviewer.org.</b></div><div class=\"sk-container\" hidden><div class=\"sk-item sk-dashed-wrapped\"><div class=\"sk-label-container\"><div class=\"sk-label sk-toggleable\"><input class=\"sk-toggleable__control sk-hidden--visually\" id=\"sk-estimator-id-1\" type=\"checkbox\" ><label for=\"sk-estimator-id-1\" class=\"sk-toggleable__label sk-toggleable__label-arrow\">GridSearchCV</label><div class=\"sk-toggleable__content\"><pre>GridSearchCV(cv=3, estimator=LGBMRegressor(objective=&#x27;binary&#x27;, random_state=77),\n",
              "             n_jobs=-1,\n",
              "             param_grid={&#x27;learning_rate&#x27;: [0.05, 0.08, 0.09],\n",
              "                         &#x27;max_depth&#x27;: [6, 12, 16],\n",
              "                         &#x27;min_child_samples&#x27;: [1, 10, 20],\n",
              "                         &#x27;n_estimators&#x27;: [100, 300, 500],\n",
              "                         &#x27;num_leaves&#x27;: [24, 32, 64],\n",
              "                         &#x27;subsample&#x27;: [0.1, 0.5, 1.0]},\n",
              "             scoring=&#x27;neg_root_mean_squared_error&#x27;)</pre></div></div></div><div class=\"sk-parallel\"><div class=\"sk-parallel-item\"><div class=\"sk-item\"><div class=\"sk-label-container\"><div class=\"sk-label sk-toggleable\"><input class=\"sk-toggleable__control sk-hidden--visually\" id=\"sk-estimator-id-2\" type=\"checkbox\" ><label for=\"sk-estimator-id-2\" class=\"sk-toggleable__label sk-toggleable__label-arrow\">estimator: LGBMRegressor</label><div class=\"sk-toggleable__content\"><pre>LGBMRegressor(objective=&#x27;binary&#x27;, random_state=77)</pre></div></div></div><div class=\"sk-serial\"><div class=\"sk-item\"><div class=\"sk-estimator sk-toggleable\"><input class=\"sk-toggleable__control sk-hidden--visually\" id=\"sk-estimator-id-3\" type=\"checkbox\" ><label for=\"sk-estimator-id-3\" class=\"sk-toggleable__label sk-toggleable__label-arrow\">LGBMRegressor</label><div class=\"sk-toggleable__content\"><pre>LGBMRegressor(objective=&#x27;binary&#x27;, random_state=77)</pre></div></div></div></div></div></div></div></div></div></div>"
            ]
          },
          "metadata": {},
          "execution_count": 47
        }
      ],
      "source": [
        "# Inisialisasi Grid Search dengan 3-fold cross validation and fit model .\n",
        "model = GridSearchCV(estimator=estimator,\n",
        "                     param_grid=param_grid,\n",
        "                     cv=3, n_jobs=-1,\n",
        "                     scoring='neg_root_mean_squared_error')\n",
        "model.fit(X_train, y_train)"
      ]
    },
    {
      "cell_type": "code",
      "execution_count": null,
      "metadata": {
        "colab": {
          "base_uri": "https://localhost:8080/"
        },
        "id": "gi-NxpsEiX3G",
        "outputId": "2b9876e0-5e13-4847-e9d6-742315a0529a"
      },
      "outputs": [
        {
          "output_type": "stream",
          "name": "stdout",
          "text": [
            "LGBMRegressor(learning_rate=0.09, max_depth=16, min_child_samples=1,\n",
            "              n_estimators=500, num_leaves=64, objective='binary',\n",
            "              random_state=77, subsample=0.1)\n"
          ]
        }
      ],
      "source": [
        "# Step 4: Print best parameters\n",
        "best_params = model.best_estimator_\n",
        "print(best_params)"
      ]
    },
    {
      "cell_type": "markdown",
      "metadata": {
        "id": "as3OugjMA8Jx"
      },
      "source": [
        "#KLASIFIKASI SMOTENC-LGBM"
      ]
    },
    {
      "cell_type": "code",
      "execution_count": null,
      "metadata": {
        "colab": {
          "base_uri": "https://localhost:8080/",
          "height": 234
        },
        "id": "DRWjDYjqgfs6",
        "outputId": "ed9b8936-4911-41f7-ca92-c2d10bcaec41"
      },
      "outputs": [
        {
          "output_type": "stream",
          "name": "stdout",
          "text": [
            "[LightGBM] [Info] Number of positive: 13885, number of negative: 13885\n",
            "[LightGBM] [Info] Auto-choosing row-wise multi-threading, the overhead of testing was 0.005555 seconds.\n",
            "You can set `force_row_wise=true` to remove the overhead.\n",
            "And if memory is not enough, you can set `force_col_wise=true`.\n",
            "[LightGBM] [Info] Total Bins 568\n",
            "[LightGBM] [Info] Number of data points in the train set: 27770, number of used features: 15\n",
            "[LightGBM] [Info] [binary:BoostFromScore]: pavg=0.500000 -> initscore=0.000000\n"
          ]
        },
        {
          "output_type": "execute_result",
          "data": {
            "text/plain": [
              "LGBMClassifier(learning_rate=0.09, max_depth=16, min_child_samples=1,\n",
              "               n_estimators=500, num_leaves=64, objective='binary',\n",
              "               random_state=77, subsample=0.1)"
            ],
            "text/html": [
              "<style>#sk-container-id-1 {color: black;background-color: white;}#sk-container-id-1 pre{padding: 0;}#sk-container-id-1 div.sk-toggleable {background-color: white;}#sk-container-id-1 label.sk-toggleable__label {cursor: pointer;display: block;width: 100%;margin-bottom: 0;padding: 0.3em;box-sizing: border-box;text-align: center;}#sk-container-id-1 label.sk-toggleable__label-arrow:before {content: \"▸\";float: left;margin-right: 0.25em;color: #696969;}#sk-container-id-1 label.sk-toggleable__label-arrow:hover:before {color: black;}#sk-container-id-1 div.sk-estimator:hover label.sk-toggleable__label-arrow:before {color: black;}#sk-container-id-1 div.sk-toggleable__content {max-height: 0;max-width: 0;overflow: hidden;text-align: left;background-color: #f0f8ff;}#sk-container-id-1 div.sk-toggleable__content pre {margin: 0.2em;color: black;border-radius: 0.25em;background-color: #f0f8ff;}#sk-container-id-1 input.sk-toggleable__control:checked~div.sk-toggleable__content {max-height: 200px;max-width: 100%;overflow: auto;}#sk-container-id-1 input.sk-toggleable__control:checked~label.sk-toggleable__label-arrow:before {content: \"▾\";}#sk-container-id-1 div.sk-estimator input.sk-toggleable__control:checked~label.sk-toggleable__label {background-color: #d4ebff;}#sk-container-id-1 div.sk-label input.sk-toggleable__control:checked~label.sk-toggleable__label {background-color: #d4ebff;}#sk-container-id-1 input.sk-hidden--visually {border: 0;clip: rect(1px 1px 1px 1px);clip: rect(1px, 1px, 1px, 1px);height: 1px;margin: -1px;overflow: hidden;padding: 0;position: absolute;width: 1px;}#sk-container-id-1 div.sk-estimator {font-family: monospace;background-color: #f0f8ff;border: 1px dotted black;border-radius: 0.25em;box-sizing: border-box;margin-bottom: 0.5em;}#sk-container-id-1 div.sk-estimator:hover {background-color: #d4ebff;}#sk-container-id-1 div.sk-parallel-item::after {content: \"\";width: 100%;border-bottom: 1px solid gray;flex-grow: 1;}#sk-container-id-1 div.sk-label:hover label.sk-toggleable__label {background-color: #d4ebff;}#sk-container-id-1 div.sk-serial::before {content: \"\";position: absolute;border-left: 1px solid gray;box-sizing: border-box;top: 0;bottom: 0;left: 50%;z-index: 0;}#sk-container-id-1 div.sk-serial {display: flex;flex-direction: column;align-items: center;background-color: white;padding-right: 0.2em;padding-left: 0.2em;position: relative;}#sk-container-id-1 div.sk-item {position: relative;z-index: 1;}#sk-container-id-1 div.sk-parallel {display: flex;align-items: stretch;justify-content: center;background-color: white;position: relative;}#sk-container-id-1 div.sk-item::before, #sk-container-id-1 div.sk-parallel-item::before {content: \"\";position: absolute;border-left: 1px solid gray;box-sizing: border-box;top: 0;bottom: 0;left: 50%;z-index: -1;}#sk-container-id-1 div.sk-parallel-item {display: flex;flex-direction: column;z-index: 1;position: relative;background-color: white;}#sk-container-id-1 div.sk-parallel-item:first-child::after {align-self: flex-end;width: 50%;}#sk-container-id-1 div.sk-parallel-item:last-child::after {align-self: flex-start;width: 50%;}#sk-container-id-1 div.sk-parallel-item:only-child::after {width: 0;}#sk-container-id-1 div.sk-dashed-wrapped {border: 1px dashed gray;margin: 0 0.4em 0.5em 0.4em;box-sizing: border-box;padding-bottom: 0.4em;background-color: white;}#sk-container-id-1 div.sk-label label {font-family: monospace;font-weight: bold;display: inline-block;line-height: 1.2em;}#sk-container-id-1 div.sk-label-container {text-align: center;}#sk-container-id-1 div.sk-container {/* jupyter's `normalize.less` sets `[hidden] { display: none; }` but bootstrap.min.css set `[hidden] { display: none !important; }` so we also need the `!important` here to be able to override the default hidden behavior on the sphinx rendered scikit-learn.org. See: https://github.com/scikit-learn/scikit-learn/issues/21755 */display: inline-block !important;position: relative;}#sk-container-id-1 div.sk-text-repr-fallback {display: none;}</style><div id=\"sk-container-id-1\" class=\"sk-top-container\"><div class=\"sk-text-repr-fallback\"><pre>LGBMClassifier(learning_rate=0.09, max_depth=16, min_child_samples=1,\n",
              "               n_estimators=500, num_leaves=64, objective=&#x27;binary&#x27;,\n",
              "               random_state=77, subsample=0.1)</pre><b>In a Jupyter environment, please rerun this cell to show the HTML representation or trust the notebook. <br />On GitHub, the HTML representation is unable to render, please try loading this page with nbviewer.org.</b></div><div class=\"sk-container\" hidden><div class=\"sk-item\"><div class=\"sk-estimator sk-toggleable\"><input class=\"sk-toggleable__control sk-hidden--visually\" id=\"sk-estimator-id-1\" type=\"checkbox\" checked><label for=\"sk-estimator-id-1\" class=\"sk-toggleable__label sk-toggleable__label-arrow\">LGBMClassifier</label><div class=\"sk-toggleable__content\"><pre>LGBMClassifier(learning_rate=0.09, max_depth=16, min_child_samples=1,\n",
              "               n_estimators=500, num_leaves=64, objective=&#x27;binary&#x27;,\n",
              "               random_state=77, subsample=0.1)</pre></div></div></div></div></div>"
            ]
          },
          "metadata": {},
          "execution_count": 32
        }
      ],
      "source": [
        "lgbm = LGBMClassifier(learning_rate=0.09, max_depth=16, min_child_samples=1,\n",
        "              n_estimators=500, num_leaves=64, objective='binary',\n",
        "              random_state=77, subsample=0.1)\n",
        "lgbm.fit(X_train, y_train)"
      ]
    },
    {
      "cell_type": "code",
      "execution_count": null,
      "metadata": {
        "id": "XDNJU0KKn-iO"
      },
      "outputs": [],
      "source": [
        "y_pred=lgbm.predict(X_test)"
      ]
    },
    {
      "cell_type": "code",
      "execution_count": null,
      "metadata": {
        "colab": {
          "base_uri": "https://localhost:8080/",
          "height": 449
        },
        "id": "eZrmvt1yoyl0",
        "outputId": "dbc1f88e-4176-4520-f90e-b60bb1ef276e"
      },
      "outputs": [
        {
          "output_type": "display_data",
          "data": {
            "text/plain": [
              "<Figure size 640x480 with 2 Axes>"
            ],
            "image/png": "[encoded data removed]"
          },
          "metadata": {}
        }
      ],
      "source": [
        "# calculating and plotting the confusion matrix\n",
        "cm1 = confusion_matrix(y_test,y_pred)\n",
        "plot_confusion_matrix(conf_mat=cm1,show_absolute=True,\n",
        "                                show_normed=True,\n",
        "                                colorbar=True)\n",
        "plt.show()"
      ]
    },
    {
      "cell_type": "markdown",
      "source": [
        "#EVALUASI MODEL"
      ],
      "metadata": {
        "id": "N78vjs8wr-Mu"
      }
    },
    {
      "cell_type": "code",
      "source": [
        "print('Training set score: {:.4f}'.format(lgbm.score(X_train, y_train)))\n",
        "print('Test set score: {:.4f}'.format(lgbm.score(X_test, y_test)))"
      ],
      "metadata": {
        "colab": {
          "base_uri": "https://localhost:8080/"
        },
        "id": "QB5-yf6YsMV6",
        "outputId": "b35553cc-2bea-454a-e0d6-1a3259fa5dd4"
      },
      "execution_count": null,
      "outputs": [
        {
          "output_type": "stream",
          "name": "stdout",
          "text": [
            "Training set score: 0.9774\n",
            "Test set score: 0.8935\n"
          ]
        }
      ]
    },
    {
      "cell_type": "code",
      "execution_count": null,
      "metadata": {
        "colab": {
          "base_uri": "https://localhost:8080/"
        },
        "id": "bV5YcyjDAOwu",
        "outputId": "d443cf9a-cce4-42e3-bf3e-46ae30c2dba6"
      },
      "outputs": [
        {
          "output_type": "stream",
          "name": "stdout",
          "text": [
            "              precision    recall  f1-score   support\n",
            "\n",
            "           0       0.89      0.90      0.89      5951\n",
            "           1       0.90      0.89      0.89      5951\n",
            "\n",
            "    accuracy                           0.89     11902\n",
            "   macro avg       0.89      0.89      0.89     11902\n",
            "weighted avg       0.89      0.89      0.89     11902\n",
            "\n"
          ]
        }
      ],
      "source": [
        "matrix = classification_report(y_test,y_pred)\n",
        "print(matrix)"
      ]
    },
    {
      "cell_type": "code",
      "execution_count": null,
      "metadata": {
        "colab": {
          "base_uri": "https://localhost:8080/"
        },
        "id": "j7hd9U8fo7QO",
        "outputId": "ca2836bf-eb2d-48e9-e332-d253fa0588f2"
      },
      "outputs": [
        {
          "output_type": "stream",
          "name": "stdout",
          "text": [
            "ROC AUC: 0.8935\n"
          ]
        }
      ],
      "source": [
        "from sklearn.metrics import auc, roc_curve\n",
        "fpr, tpr, _ = roc_curve(y_test, y_pred)\n",
        "score = auc(fpr, tpr)\n",
        "print(f\"ROC AUC: {score:.4f}\")"
      ]
    },
    {
      "cell_type": "markdown",
      "source": [
        "#DIAGRAM POHON KLASIFIKASI"
      ],
      "metadata": {
        "id": "8-96mgal9FuN"
      }
    },
    {
      "cell_type": "code",
      "source": [
        "lgb.create_tree_digraph(lgbm, orientation='vertical')"
      ],
      "metadata": {
        "colab": {
          "base_uri": "https://localhost:8080/",
          "height": 1000
        },
        "id": "Tb8rWixj9D7b",
        "outputId": "0fa001d3-9eee-416d-b690-22481e8b32b7"
      },
      "execution_count": null,
      "outputs": [
        {
          "output_type": "execute_result",
          "data": {
            "image/svg+xml": "<?xml version=\"1.0\" encoding=\"UTF-8\" standalone=\"no\"?>\n<!DOCTYPE svg PUBLIC \"-//W3C//DTD SVG 1.1//EN\"\n \"http://www.w3.org/Graphics/SVG/1.1/DTD/svg11.dtd\">\n<!-- Generated by graphviz version 2.43.0 (0)\n -->\n<!-- Title: %3 Pages: 1 -->\n<svg width=\"3755pt\" height=\"1212pt\"\n viewBox=\"0.00 0.00 3755.14 1212.00\" xmlns=\"http://www.w3.org/2000/svg\" xmlns:xlink=\"http://www.w3.org/1999/xlink\">\n<g id=\"graph0\" class=\"graph\" transform=\"scale(1 1) rotate(0) translate(4 1208)\">\n<title>%3</title>\n<polygon fill=\"white\" stroke=\"transparent\" points=\"-4,4 -4,-1208 3751.14,-1208 3751.14,4 -4,4\"/>\n<!-- leaf0 -->\n<g id=\"node1\" class=\"node\">\n<title>leaf0</title>\n<ellipse fill=\"none\" stroke=\"black\" cx=\"267.69\" cy=\"-967\" rx=\"59.29\" ry=\"18\"/>\n<text text-anchor=\"start\" x=\"230.19\" y=\"-964.3\" font-family=\"Times,serif\" font-size=\"14.00\">leaf 0: </text>\n<text text-anchor=\"start\" x=\"269.19\" y=\"-964.3\" font-family=\"Times,serif\" font-weight=\"bold\" font-size=\"14.00\">&#45;0.163</text>\n</g>\n<!-- split10 -->\n<g id=\"node2\" class=\"node\">\n<title>split10</title>\n<polygon fill=\"none\" stroke=\"black\" points=\"427.69,-1058 345.69,-1058 345.69,-1022 427.69,-1022 427.69,-1058\"/>\n<text text-anchor=\"start\" x=\"353.69\" y=\"-1037.3\" font-family=\"Times,serif\" font-weight=\"bold\" font-size=\"14.00\">Age</text>\n<text text-anchor=\"start\" x=\"376.69\" y=\"-1037.3\" font-family=\"Times,serif\" font-size=\"14.00\"> ≤</text>\n<text text-anchor=\"start\" x=\"388.69\" y=\"-1037.3\" font-family=\"Times,serif\" font-weight=\"bold\" font-size=\"14.00\">8.500</text>\n</g>\n<!-- split10&#45;&gt;leaf0 -->\n<g id=\"edge1\" class=\"edge\">\n<title>split10&#45;&gt;leaf0</title>\n<path fill=\"none\" stroke=\"black\" d=\"M358.19,-1021.99C341.44,-1012 320.15,-999.3 302.43,-988.72\"/>\n<polygon fill=\"black\" stroke=\"black\" points=\"303.91,-985.53 293.53,-983.41 300.32,-991.54 303.91,-985.53\"/>\n<text text-anchor=\"middle\" x=\"348.19\" y=\"-999.8\" font-family=\"Times,serif\" font-size=\"14.00\">yes</text>\n</g>\n<!-- split20 -->\n<g id=\"node4\" class=\"node\">\n<title>split20</title>\n<polygon fill=\"none\" stroke=\"black\" points=\"442.19,-985 331.19,-985 331.19,-949 442.19,-949 442.19,-985\"/>\n<text text-anchor=\"start\" x=\"339.19\" y=\"-964.3\" font-family=\"Times,serif\" font-weight=\"bold\" font-size=\"14.00\">GenHlth</text>\n<text text-anchor=\"start\" x=\"391.19\" y=\"-964.3\" font-family=\"Times,serif\" font-size=\"14.00\"> ≤</text>\n<text text-anchor=\"start\" x=\"403.19\" y=\"-964.3\" font-family=\"Times,serif\" font-weight=\"bold\" font-size=\"14.00\">1.500</text>\n</g>\n<!-- split10&#45;&gt;split20 -->\n<g id=\"edge10\" class=\"edge\">\n<title>split10&#45;&gt;split20</title>\n<path fill=\"none\" stroke=\"black\" d=\"M386.69,-1021.81C386.69,-1013.79 386.69,-1004.05 386.69,-995.07\"/>\n<polygon fill=\"black\" stroke=\"black\" points=\"390.19,-995.03 386.69,-985.03 383.19,-995.03 390.19,-995.03\"/>\n<text text-anchor=\"middle\" x=\"393.69\" y=\"-999.8\" font-family=\"Times,serif\" font-size=\"14.00\">no</text>\n</g>\n<!-- leaf11 -->\n<g id=\"node3\" class=\"node\">\n<title>leaf11</title>\n<ellipse fill=\"none\" stroke=\"black\" cx=\"261.69\" cy=\"-894\" rx=\"63.89\" ry=\"18\"/>\n<text text-anchor=\"start\" x=\"220.69\" y=\"-891.3\" font-family=\"Times,serif\" font-size=\"14.00\">leaf 11: </text>\n<text text-anchor=\"start\" x=\"266.69\" y=\"-891.3\" font-family=\"Times,serif\" font-weight=\"bold\" font-size=\"14.00\">&#45;0.149</text>\n</g>\n<!-- split20&#45;&gt;leaf11 -->\n<g id=\"edge2\" class=\"edge\">\n<title>split20&#45;&gt;leaf11</title>\n<path fill=\"none\" stroke=\"black\" d=\"M356.75,-948.99C339,-938.91 316.39,-926.07 297.67,-915.43\"/>\n<polygon fill=\"black\" stroke=\"black\" points=\"299.26,-912.31 288.83,-910.41 295.8,-918.4 299.26,-912.31\"/>\n<text text-anchor=\"middle\" x=\"345.19\" y=\"-926.8\" font-family=\"Times,serif\" font-size=\"14.00\">yes</text>\n</g>\n<!-- split30 -->\n<g id=\"node10\" class=\"node\">\n<title>split30</title>\n<polygon fill=\"none\" stroke=\"black\" points=\"443.69,-912 329.69,-912 329.69,-876 443.69,-876 443.69,-912\"/>\n<text text-anchor=\"start\" x=\"337.69\" y=\"-891.3\" font-family=\"Times,serif\" font-weight=\"bold\" font-size=\"14.00\">PhysHlth</text>\n<text text-anchor=\"start\" x=\"392.69\" y=\"-891.3\" font-family=\"Times,serif\" font-size=\"14.00\"> ≤</text>\n<text text-anchor=\"start\" x=\"404.69\" y=\"-891.3\" font-family=\"Times,serif\" font-weight=\"bold\" font-size=\"14.00\">1.999</text>\n</g>\n<!-- split20&#45;&gt;split30 -->\n<g id=\"edge9\" class=\"edge\">\n<title>split20&#45;&gt;split30</title>\n<path fill=\"none\" stroke=\"black\" d=\"M386.69,-948.81C386.69,-940.79 386.69,-931.05 386.69,-922.07\"/>\n<polygon fill=\"black\" stroke=\"black\" points=\"390.19,-922.03 386.69,-912.03 383.19,-922.03 390.19,-922.03\"/>\n<text text-anchor=\"middle\" x=\"393.69\" y=\"-926.8\" font-family=\"Times,serif\" font-size=\"14.00\">no</text>\n</g>\n<!-- leaf21 -->\n<g id=\"node5\" class=\"node\">\n<title>leaf21</title>\n<ellipse fill=\"none\" stroke=\"black\" cx=\"63.69\" cy=\"-675\" rx=\"63.89\" ry=\"18\"/>\n<text text-anchor=\"start\" x=\"22.69\" y=\"-672.3\" font-family=\"Times,serif\" font-size=\"14.00\">leaf 21: </text>\n<text text-anchor=\"start\" x=\"68.69\" y=\"-672.3\" font-family=\"Times,serif\" font-weight=\"bold\" font-size=\"14.00\">&#45;0.157</text>\n</g>\n<!-- split50 -->\n<g id=\"node6\" class=\"node\">\n<title>split50</title>\n<polygon fill=\"none\" stroke=\"black\" points=\"194.69,-766 100.69,-766 100.69,-730 194.69,-730 194.69,-766\"/>\n<text text-anchor=\"start\" x=\"108.69\" y=\"-745.3\" font-family=\"Times,serif\" font-weight=\"bold\" font-size=\"14.00\">BMI</text>\n<text text-anchor=\"start\" x=\"136.69\" y=\"-745.3\" font-family=\"Times,serif\" font-size=\"14.00\"> ≤</text>\n<text text-anchor=\"start\" x=\"148.69\" y=\"-745.3\" font-family=\"Times,serif\" font-weight=\"bold\" font-size=\"14.00\">24.001</text>\n</g>\n<!-- split50&#45;&gt;leaf21 -->\n<g id=\"edge3\" class=\"edge\">\n<title>split50&#45;&gt;leaf21</title>\n<path fill=\"none\" stroke=\"black\" d=\"M127.36,-729.81C116.39,-720.54 102.71,-708.98 90.85,-698.95\"/>\n<polygon fill=\"black\" stroke=\"black\" points=\"92.87,-696.08 82.98,-692.3 88.35,-701.43 92.87,-696.08\"/>\n<text text-anchor=\"middle\" x=\"123.19\" y=\"-707.8\" font-family=\"Times,serif\" font-size=\"14.00\">yes</text>\n</g>\n<!-- leaf51 -->\n<g id=\"node7\" class=\"node\">\n<title>leaf51</title>\n<ellipse fill=\"none\" stroke=\"black\" cx=\"194.69\" cy=\"-675\" rx=\"63.89\" ry=\"18\"/>\n<text text-anchor=\"start\" x=\"153.69\" y=\"-672.3\" font-family=\"Times,serif\" font-size=\"14.00\">leaf 51: </text>\n<text text-anchor=\"start\" x=\"199.69\" y=\"-672.3\" font-family=\"Times,serif\" font-weight=\"bold\" font-size=\"14.00\">&#45;0.069</text>\n</g>\n<!-- split50&#45;&gt;leaf51 -->\n<g id=\"edge4\" class=\"edge\">\n<title>split50&#45;&gt;leaf51</title>\n<path fill=\"none\" stroke=\"black\" d=\"M159.07,-729.81C164.67,-721.35 171.54,-710.98 177.74,-701.61\"/>\n<polygon fill=\"black\" stroke=\"black\" points=\"180.82,-703.3 183.42,-693.03 174.98,-699.44 180.82,-703.3\"/>\n<text text-anchor=\"middle\" x=\"182.69\" y=\"-707.8\" font-family=\"Times,serif\" font-size=\"14.00\">no</text>\n</g>\n<!-- split49 -->\n<g id=\"node8\" class=\"node\">\n<title>split49</title>\n<polygon fill=\"none\" stroke=\"black\" points=\"319.19,-839 202.19,-839 202.19,-803 319.19,-803 319.19,-839\"/>\n<text text-anchor=\"start\" x=\"210.19\" y=\"-818.3\" font-family=\"Times,serif\" font-weight=\"bold\" font-size=\"14.00\">HighChol</text>\n<text text-anchor=\"start\" x=\"268.19\" y=\"-818.3\" font-family=\"Times,serif\" font-size=\"14.00\"> ≤</text>\n<text text-anchor=\"start\" x=\"280.19\" y=\"-818.3\" font-family=\"Times,serif\" font-weight=\"bold\" font-size=\"14.00\">0.000</text>\n</g>\n<!-- split49&#45;&gt;split50 -->\n<g id=\"edge5\" class=\"edge\">\n<title>split49&#45;&gt;split50</title>\n<path fill=\"none\" stroke=\"black\" d=\"M233.63,-802.99C218.64,-793.58 199.83,-781.76 183.62,-771.57\"/>\n<polygon fill=\"black\" stroke=\"black\" points=\"185.26,-768.47 174.93,-766.11 181.54,-774.4 185.26,-768.47\"/>\n<text text-anchor=\"middle\" x=\"224.19\" y=\"-780.8\" font-family=\"Times,serif\" font-size=\"14.00\">yes</text>\n</g>\n<!-- leaf50 -->\n<g id=\"node9\" class=\"node\">\n<title>leaf50</title>\n<ellipse fill=\"none\" stroke=\"black\" cx=\"262.69\" cy=\"-748\" rx=\"63.89\" ry=\"18\"/>\n<text text-anchor=\"start\" x=\"221.69\" y=\"-745.3\" font-family=\"Times,serif\" font-size=\"14.00\">leaf 50: </text>\n<text text-anchor=\"start\" x=\"267.69\" y=\"-745.3\" font-family=\"Times,serif\" font-weight=\"bold\" font-size=\"14.00\">&#45;0.042</text>\n</g>\n<!-- split49&#45;&gt;leaf50 -->\n<g id=\"edge6\" class=\"edge\">\n<title>split49&#45;&gt;leaf50</title>\n<path fill=\"none\" stroke=\"black\" d=\"M261.18,-802.81C261.4,-794.79 261.68,-785.05 261.93,-776.07\"/>\n<polygon fill=\"black\" stroke=\"black\" points=\"265.43,-776.12 262.21,-766.03 258.43,-775.93 265.43,-776.12\"/>\n<text text-anchor=\"middle\" x=\"269.69\" y=\"-780.8\" font-family=\"Times,serif\" font-size=\"14.00\">no</text>\n</g>\n<!-- split30&#45;&gt;split49 -->\n<g id=\"edge7\" class=\"edge\">\n<title>split30&#45;&gt;split49</title>\n<path fill=\"none\" stroke=\"black\" d=\"M356.51,-875.99C339.65,-866.49 318.43,-854.54 300.26,-844.29\"/>\n<polygon fill=\"black\" stroke=\"black\" points=\"301.5,-840.97 291.06,-839.11 298.06,-847.07 301.5,-840.97\"/>\n<text text-anchor=\"middle\" x=\"345.19\" y=\"-853.8\" font-family=\"Times,serif\" font-size=\"14.00\">yes</text>\n</g>\n<!-- leaf31 -->\n<g id=\"node11\" class=\"node\">\n<title>leaf31</title>\n<ellipse fill=\"none\" stroke=\"black\" cx=\"386.69\" cy=\"-821\" rx=\"63.89\" ry=\"18\"/>\n<text text-anchor=\"start\" x=\"345.69\" y=\"-818.3\" font-family=\"Times,serif\" font-size=\"14.00\">leaf 31: </text>\n<text text-anchor=\"start\" x=\"391.69\" y=\"-818.3\" font-family=\"Times,serif\" font-weight=\"bold\" font-size=\"14.00\">&#45;0.147</text>\n</g>\n<!-- split30&#45;&gt;leaf31 -->\n<g id=\"edge8\" class=\"edge\">\n<title>split30&#45;&gt;leaf31</title>\n<path fill=\"none\" stroke=\"black\" d=\"M386.69,-875.81C386.69,-867.79 386.69,-858.05 386.69,-849.07\"/>\n<polygon fill=\"black\" stroke=\"black\" points=\"390.19,-849.03 386.69,-839.03 383.19,-849.03 390.19,-849.03\"/>\n<text text-anchor=\"middle\" x=\"393.69\" y=\"-853.8\" font-family=\"Times,serif\" font-size=\"14.00\">no</text>\n</g>\n<!-- split2 -->\n<g id=\"node12\" class=\"node\">\n<title>split2</title>\n<polygon fill=\"none\" stroke=\"black\" points=\"725.19,-1131 614.19,-1131 614.19,-1095 725.19,-1095 725.19,-1131\"/>\n<text text-anchor=\"start\" x=\"622.19\" y=\"-1110.3\" font-family=\"Times,serif\" font-weight=\"bold\" font-size=\"14.00\">GenHlth</text>\n<text text-anchor=\"start\" x=\"674.19\" y=\"-1110.3\" font-family=\"Times,serif\" font-size=\"14.00\"> ≤</text>\n<text text-anchor=\"start\" x=\"686.19\" y=\"-1110.3\" font-family=\"Times,serif\" font-weight=\"bold\" font-size=\"14.00\">2.500</text>\n</g>\n<!-- split2&#45;&gt;split10 -->\n<g id=\"edge11\" class=\"edge\">\n<title>split2&#45;&gt;split10</title>\n<path fill=\"none\" stroke=\"black\" d=\"M614.12,-1098.06C562.92,-1085.21 487.56,-1066.3 437.82,-1053.83\"/>\n<polygon fill=\"black\" stroke=\"black\" points=\"438.47,-1050.38 427.92,-1051.34 436.77,-1057.17 438.47,-1050.38\"/>\n<text text-anchor=\"middle\" x=\"563.19\" y=\"-1072.8\" font-family=\"Times,serif\" font-size=\"14.00\">yes</text>\n</g>\n<!-- split4 -->\n<g id=\"node14\" class=\"node\">\n<title>split4</title>\n<polygon fill=\"none\" stroke=\"black\" points=\"710.69,-1058 628.69,-1058 628.69,-1022 710.69,-1022 710.69,-1058\"/>\n<text text-anchor=\"start\" x=\"636.69\" y=\"-1037.3\" font-family=\"Times,serif\" font-weight=\"bold\" font-size=\"14.00\">Age</text>\n<text text-anchor=\"start\" x=\"659.69\" y=\"-1037.3\" font-family=\"Times,serif\" font-size=\"14.00\"> ≤</text>\n<text text-anchor=\"start\" x=\"671.69\" y=\"-1037.3\" font-family=\"Times,serif\" font-weight=\"bold\" font-size=\"14.00\">4.500</text>\n</g>\n<!-- split2&#45;&gt;split4 -->\n<g id=\"edge40\" class=\"edge\">\n<title>split2&#45;&gt;split4</title>\n<path fill=\"none\" stroke=\"black\" d=\"M669.69,-1094.81C669.69,-1086.79 669.69,-1077.05 669.69,-1068.07\"/>\n<polygon fill=\"black\" stroke=\"black\" points=\"673.19,-1068.03 669.69,-1058.03 666.19,-1068.03 673.19,-1068.03\"/>\n<text text-anchor=\"middle\" x=\"676.69\" y=\"-1072.8\" font-family=\"Times,serif\" font-size=\"14.00\">no</text>\n</g>\n<!-- leaf3 -->\n<g id=\"node13\" class=\"node\">\n<title>leaf3</title>\n<ellipse fill=\"none\" stroke=\"black\" cx=\"628.69\" cy=\"-967\" rx=\"59.29\" ry=\"18\"/>\n<text text-anchor=\"start\" x=\"591.19\" y=\"-964.3\" font-family=\"Times,serif\" font-size=\"14.00\">leaf 3: </text>\n<text text-anchor=\"start\" x=\"630.19\" y=\"-964.3\" font-family=\"Times,serif\" font-weight=\"bold\" font-size=\"14.00\">&#45;0.153</text>\n</g>\n<!-- split4&#45;&gt;leaf3 -->\n<g id=\"edge12\" class=\"edge\">\n<title>split4&#45;&gt;leaf3</title>\n<path fill=\"none\" stroke=\"black\" d=\"M659.77,-1021.81C654.93,-1013.44 649.02,-1003.2 643.65,-993.9\"/>\n<polygon fill=\"black\" stroke=\"black\" points=\"646.56,-991.94 638.53,-985.03 640.5,-995.44 646.56,-991.94\"/>\n<text text-anchor=\"middle\" x=\"663.19\" y=\"-999.8\" font-family=\"Times,serif\" font-size=\"14.00\">yes</text>\n</g>\n<!-- split8 -->\n<g id=\"node26\" class=\"node\">\n<title>split8</title>\n<polygon fill=\"none\" stroke=\"black\" points=\"785.69,-985 691.69,-985 691.69,-949 785.69,-949 785.69,-985\"/>\n<text text-anchor=\"start\" x=\"699.69\" y=\"-964.3\" font-family=\"Times,serif\" font-weight=\"bold\" font-size=\"14.00\">BMI</text>\n<text text-anchor=\"start\" x=\"727.69\" y=\"-964.3\" font-family=\"Times,serif\" font-size=\"14.00\"> ≤</text>\n<text text-anchor=\"start\" x=\"739.69\" y=\"-964.3\" font-family=\"Times,serif\" font-weight=\"bold\" font-size=\"14.00\">27.001</text>\n</g>\n<!-- split4&#45;&gt;split8 -->\n<g id=\"edge39\" class=\"edge\">\n<title>split4&#45;&gt;split8</title>\n<path fill=\"none\" stroke=\"black\" d=\"M686.4,-1021.81C694.96,-1013 705.53,-1002.13 714.92,-992.46\"/>\n<polygon fill=\"black\" stroke=\"black\" points=\"717.69,-994.64 722.15,-985.03 712.67,-989.76 717.69,-994.64\"/>\n<text text-anchor=\"middle\" x=\"717.69\" y=\"-999.8\" font-family=\"Times,serif\" font-size=\"14.00\">no</text>\n</g>\n<!-- leaf5 -->\n<g id=\"node15\" class=\"node\">\n<title>leaf5</title>\n<ellipse fill=\"none\" stroke=\"black\" cx=\"390.69\" cy=\"-748\" rx=\"59.29\" ry=\"18\"/>\n<text text-anchor=\"start\" x=\"353.19\" y=\"-745.3\" font-family=\"Times,serif\" font-size=\"14.00\">leaf 5: </text>\n<text text-anchor=\"start\" x=\"392.19\" y=\"-745.3\" font-family=\"Times,serif\" font-weight=\"bold\" font-size=\"14.00\">&#45;0.121</text>\n</g>\n<!-- split24 -->\n<g id=\"node16\" class=\"node\">\n<title>split24</title>\n<polygon fill=\"none\" stroke=\"black\" points=\"571.19,-839 454.19,-839 454.19,-803 571.19,-803 571.19,-839\"/>\n<text text-anchor=\"start\" x=\"462.19\" y=\"-818.3\" font-family=\"Times,serif\" font-weight=\"bold\" font-size=\"14.00\">HighChol</text>\n<text text-anchor=\"start\" x=\"520.19\" y=\"-818.3\" font-family=\"Times,serif\" font-size=\"14.00\"> ≤</text>\n<text text-anchor=\"start\" x=\"532.19\" y=\"-818.3\" font-family=\"Times,serif\" font-weight=\"bold\" font-size=\"14.00\">0.000</text>\n</g>\n<!-- split24&#45;&gt;leaf5 -->\n<g id=\"edge13\" class=\"edge\">\n<title>split24&#45;&gt;leaf5</title>\n<path fill=\"none\" stroke=\"black\" d=\"M483.47,-802.99C466.03,-792.84 443.77,-779.89 425.42,-769.21\"/>\n<polygon fill=\"black\" stroke=\"black\" points=\"427.18,-766.18 416.77,-764.18 423.66,-772.23 427.18,-766.18\"/>\n<text text-anchor=\"middle\" x=\"472.19\" y=\"-780.8\" font-family=\"Times,serif\" font-size=\"14.00\">yes</text>\n</g>\n<!-- split38 -->\n<g id=\"node18\" class=\"node\">\n<title>split38</title>\n<polygon fill=\"none\" stroke=\"black\" points=\"567.69,-766 453.69,-766 453.69,-730 567.69,-730 567.69,-766\"/>\n<text text-anchor=\"start\" x=\"461.69\" y=\"-745.3\" font-family=\"Times,serif\" font-weight=\"bold\" font-size=\"14.00\">PhysHlth</text>\n<text text-anchor=\"start\" x=\"516.69\" y=\"-745.3\" font-family=\"Times,serif\" font-size=\"14.00\"> ≤</text>\n<text text-anchor=\"start\" x=\"528.69\" y=\"-745.3\" font-family=\"Times,serif\" font-weight=\"bold\" font-size=\"14.00\">2.987</text>\n</g>\n<!-- split24&#45;&gt;split38 -->\n<g id=\"edge16\" class=\"edge\">\n<title>split24&#45;&gt;split38</title>\n<path fill=\"none\" stroke=\"black\" d=\"M512.21,-802.81C511.98,-794.79 511.71,-785.05 511.46,-776.07\"/>\n<polygon fill=\"black\" stroke=\"black\" points=\"514.95,-775.93 511.17,-766.03 507.96,-776.12 514.95,-775.93\"/>\n<text text-anchor=\"middle\" x=\"519.69\" y=\"-780.8\" font-family=\"Times,serif\" font-size=\"14.00\">no</text>\n</g>\n<!-- leaf25 -->\n<g id=\"node17\" class=\"node\">\n<title>leaf25</title>\n<ellipse fill=\"none\" stroke=\"black\" cx=\"375.69\" cy=\"-675\" rx=\"63.89\" ry=\"18\"/>\n<text text-anchor=\"start\" x=\"334.69\" y=\"-672.3\" font-family=\"Times,serif\" font-size=\"14.00\">leaf 25: </text>\n<text text-anchor=\"start\" x=\"380.69\" y=\"-672.3\" font-family=\"Times,serif\" font-weight=\"bold\" font-size=\"14.00\">&#45;0.010</text>\n</g>\n<!-- split38&#45;&gt;leaf25 -->\n<g id=\"edge14\" class=\"edge\">\n<title>split38&#45;&gt;leaf25</title>\n<path fill=\"none\" stroke=\"black\" d=\"M478.36,-729.99C458.88,-719.75 433.97,-706.65 413.57,-695.92\"/>\n<polygon fill=\"black\" stroke=\"black\" points=\"415.03,-692.73 404.55,-691.18 411.77,-698.93 415.03,-692.73\"/>\n<text text-anchor=\"middle\" x=\"465.19\" y=\"-707.8\" font-family=\"Times,serif\" font-size=\"14.00\">yes</text>\n</g>\n<!-- leaf39 -->\n<g id=\"node19\" class=\"node\">\n<title>leaf39</title>\n<ellipse fill=\"none\" stroke=\"black\" cx=\"506.69\" cy=\"-675\" rx=\"63.89\" ry=\"18\"/>\n<text text-anchor=\"start\" x=\"465.69\" y=\"-672.3\" font-family=\"Times,serif\" font-size=\"14.00\">leaf 39: </text>\n<text text-anchor=\"start\" x=\"511.69\" y=\"-672.3\" font-family=\"Times,serif\" font-weight=\"bold\" font-size=\"14.00\">&#45;0.106</text>\n</g>\n<!-- split38&#45;&gt;leaf39 -->\n<g id=\"edge15\" class=\"edge\">\n<title>split38&#45;&gt;leaf39</title>\n<path fill=\"none\" stroke=\"black\" d=\"M509.73,-729.81C509.27,-721.79 508.73,-712.05 508.22,-703.07\"/>\n<polygon fill=\"black\" stroke=\"black\" points=\"511.71,-702.82 507.65,-693.03 504.72,-703.21 511.71,-702.82\"/>\n<text text-anchor=\"middle\" x=\"516.69\" y=\"-707.8\" font-family=\"Times,serif\" font-size=\"14.00\">no</text>\n</g>\n<!-- split12 -->\n<g id=\"node20\" class=\"node\">\n<title>split12</title>\n<polygon fill=\"none\" stroke=\"black\" points=\"724.19,-912 635.19,-912 635.19,-876 724.19,-876 724.19,-912\"/>\n<text text-anchor=\"start\" x=\"643.19\" y=\"-891.3\" font-family=\"Times,serif\" font-weight=\"bold\" font-size=\"14.00\">Age</text>\n<text text-anchor=\"start\" x=\"666.19\" y=\"-891.3\" font-family=\"Times,serif\" font-size=\"14.00\"> ≤</text>\n<text text-anchor=\"start\" x=\"678.19\" y=\"-891.3\" font-family=\"Times,serif\" font-weight=\"bold\" font-size=\"14.00\">10.500</text>\n</g>\n<!-- split12&#45;&gt;split24 -->\n<g id=\"edge17\" class=\"edge\">\n<title>split12&#45;&gt;split24</title>\n<path fill=\"none\" stroke=\"black\" d=\"M639.69,-875.99C616.42,-866.1 586.89,-853.54 562.17,-843.03\"/>\n<polygon fill=\"black\" stroke=\"black\" points=\"563.52,-839.81 552.95,-839.11 560.78,-846.25 563.52,-839.81\"/>\n<text text-anchor=\"middle\" x=\"621.19\" y=\"-853.8\" font-family=\"Times,serif\" font-size=\"14.00\">yes</text>\n</g>\n<!-- split17 -->\n<g id=\"node22\" class=\"node\">\n<title>split17</title>\n<polygon fill=\"none\" stroke=\"black\" points=\"726.69,-839 632.69,-839 632.69,-803 726.69,-803 726.69,-839\"/>\n<text text-anchor=\"start\" x=\"640.69\" y=\"-818.3\" font-family=\"Times,serif\" font-weight=\"bold\" font-size=\"14.00\">BMI</text>\n<text text-anchor=\"start\" x=\"668.69\" y=\"-818.3\" font-family=\"Times,serif\" font-size=\"14.00\"> ≤</text>\n<text text-anchor=\"start\" x=\"680.69\" y=\"-818.3\" font-family=\"Times,serif\" font-weight=\"bold\" font-size=\"14.00\">21.002</text>\n</g>\n<!-- split12&#45;&gt;split17 -->\n<g id=\"edge22\" class=\"edge\">\n<title>split12&#45;&gt;split17</title>\n<path fill=\"none\" stroke=\"black\" d=\"M679.69,-875.81C679.69,-867.79 679.69,-858.05 679.69,-849.07\"/>\n<polygon fill=\"black\" stroke=\"black\" points=\"683.19,-849.03 679.69,-839.03 676.19,-849.03 683.19,-849.03\"/>\n<text text-anchor=\"middle\" x=\"686.69\" y=\"-853.8\" font-family=\"Times,serif\" font-size=\"14.00\">no</text>\n</g>\n<!-- leaf13 -->\n<g id=\"node21\" class=\"node\">\n<title>leaf13</title>\n<ellipse fill=\"none\" stroke=\"black\" cx=\"642.69\" cy=\"-748\" rx=\"63.89\" ry=\"18\"/>\n<text text-anchor=\"start\" x=\"601.69\" y=\"-745.3\" font-family=\"Times,serif\" font-size=\"14.00\">leaf 13: </text>\n<text text-anchor=\"start\" x=\"647.69\" y=\"-745.3\" font-family=\"Times,serif\" font-weight=\"bold\" font-size=\"14.00\">&#45;0.132</text>\n</g>\n<!-- split17&#45;&gt;leaf13 -->\n<g id=\"edge18\" class=\"edge\">\n<title>split17&#45;&gt;leaf13</title>\n<path fill=\"none\" stroke=\"black\" d=\"M670.74,-802.81C666.37,-794.44 661.04,-784.2 656.19,-774.9\"/>\n<polygon fill=\"black\" stroke=\"black\" points=\"659.29,-773.28 651.57,-766.03 653.09,-776.51 659.29,-773.28\"/>\n<text text-anchor=\"middle\" x=\"674.19\" y=\"-780.8\" font-family=\"Times,serif\" font-size=\"14.00\">yes</text>\n</g>\n<!-- split61 -->\n<g id=\"node24\" class=\"node\">\n<title>split61</title>\n<polygon fill=\"none\" stroke=\"black\" points=\"808.69,-766 710.69,-766 710.69,-730 808.69,-730 808.69,-766\"/>\n<text text-anchor=\"start\" x=\"718.69\" y=\"-745.3\" font-family=\"Times,serif\" font-weight=\"bold\" font-size=\"14.00\">Stroke</text>\n<text text-anchor=\"start\" x=\"757.69\" y=\"-745.3\" font-family=\"Times,serif\" font-size=\"14.00\"> ≤</text>\n<text text-anchor=\"start\" x=\"769.69\" y=\"-745.3\" font-family=\"Times,serif\" font-weight=\"bold\" font-size=\"14.00\">0.000</text>\n</g>\n<!-- split17&#45;&gt;split61 -->\n<g id=\"edge21\" class=\"edge\">\n<title>split17&#45;&gt;split61</title>\n<path fill=\"none\" stroke=\"black\" d=\"M699.06,-802.81C709.18,-793.83 721.73,-782.69 732.78,-772.89\"/>\n<polygon fill=\"black\" stroke=\"black\" points=\"735.35,-775.28 740.51,-766.03 730.7,-770.05 735.35,-775.28\"/>\n<text text-anchor=\"middle\" x=\"734.69\" y=\"-780.8\" font-family=\"Times,serif\" font-size=\"14.00\">no</text>\n</g>\n<!-- leaf18 -->\n<g id=\"node23\" class=\"node\">\n<title>leaf18</title>\n<ellipse fill=\"none\" stroke=\"black\" cx=\"634.69\" cy=\"-675\" rx=\"60.39\" ry=\"18\"/>\n<text text-anchor=\"start\" x=\"596.19\" y=\"-672.3\" font-family=\"Times,serif\" font-size=\"14.00\">leaf 18: </text>\n<text text-anchor=\"start\" x=\"642.19\" y=\"-672.3\" font-family=\"Times,serif\" font-weight=\"bold\" font-size=\"14.00\">0.039</text>\n</g>\n<!-- split61&#45;&gt;leaf18 -->\n<g id=\"edge19\" class=\"edge\">\n<title>split61&#45;&gt;leaf18</title>\n<path fill=\"none\" stroke=\"black\" d=\"M729.75,-729.99C711.88,-719.84 689.07,-706.89 670.28,-696.21\"/>\n<polygon fill=\"black\" stroke=\"black\" points=\"671.84,-693.07 661.41,-691.18 668.38,-699.16 671.84,-693.07\"/>\n<text text-anchor=\"middle\" x=\"718.19\" y=\"-707.8\" font-family=\"Times,serif\" font-size=\"14.00\">yes</text>\n</g>\n<!-- leaf62 -->\n<g id=\"node25\" class=\"node\">\n<title>leaf62</title>\n<ellipse fill=\"none\" stroke=\"black\" cx=\"762.69\" cy=\"-675\" rx=\"63.89\" ry=\"18\"/>\n<text text-anchor=\"start\" x=\"721.69\" y=\"-672.3\" font-family=\"Times,serif\" font-size=\"14.00\">leaf 62: </text>\n<text text-anchor=\"start\" x=\"767.69\" y=\"-672.3\" font-family=\"Times,serif\" font-weight=\"bold\" font-size=\"14.00\">&#45;0.150</text>\n</g>\n<!-- split61&#45;&gt;leaf62 -->\n<g id=\"edge20\" class=\"edge\">\n<title>split61&#45;&gt;leaf62</title>\n<path fill=\"none\" stroke=\"black\" d=\"M760.42,-729.81C760.76,-721.79 761.17,-712.05 761.55,-703.07\"/>\n<polygon fill=\"black\" stroke=\"black\" points=\"765.05,-703.17 761.97,-693.03 758.06,-702.87 765.05,-703.17\"/>\n<text text-anchor=\"middle\" x=\"768.69\" y=\"-707.8\" font-family=\"Times,serif\" font-size=\"14.00\">no</text>\n</g>\n<!-- split8&#45;&gt;split12 -->\n<g id=\"edge23\" class=\"edge\">\n<title>split8&#45;&gt;split12</title>\n<path fill=\"none\" stroke=\"black\" d=\"M724.41,-948.81C717.17,-940.09 708.23,-929.34 700.26,-919.75\"/>\n<polygon fill=\"black\" stroke=\"black\" points=\"702.93,-917.48 693.85,-912.03 697.54,-921.96 702.93,-917.48\"/>\n<text text-anchor=\"middle\" x=\"724.19\" y=\"-926.8\" font-family=\"Times,serif\" font-size=\"14.00\">yes</text>\n</g>\n<!-- split15 -->\n<g id=\"node28\" class=\"node\">\n<title>split15</title>\n<polygon fill=\"none\" stroke=\"black\" points=\"888.69,-912 794.69,-912 794.69,-876 888.69,-876 888.69,-912\"/>\n<text text-anchor=\"start\" x=\"802.69\" y=\"-891.3\" font-family=\"Times,serif\" font-weight=\"bold\" font-size=\"14.00\">BMI</text>\n<text text-anchor=\"start\" x=\"830.69\" y=\"-891.3\" font-family=\"Times,serif\" font-size=\"14.00\"> ≤</text>\n<text text-anchor=\"start\" x=\"842.69\" y=\"-891.3\" font-family=\"Times,serif\" font-weight=\"bold\" font-size=\"14.00\">27.998</text>\n</g>\n<!-- split8&#45;&gt;split15 -->\n<g id=\"edge38\" class=\"edge\">\n<title>split8&#45;&gt;split15</title>\n<path fill=\"none\" stroke=\"black\" d=\"M763.37,-948.99C776.9,-939.67 793.86,-927.97 808.53,-917.86\"/>\n<polygon fill=\"black\" stroke=\"black\" points=\"810.62,-920.67 816.87,-912.11 806.65,-914.91 810.62,-920.67\"/>\n<text text-anchor=\"middle\" x=\"806.69\" y=\"-926.8\" font-family=\"Times,serif\" font-size=\"14.00\">no</text>\n</g>\n<!-- leaf9 -->\n<g id=\"node27\" class=\"node\">\n<title>leaf9</title>\n<ellipse fill=\"none\" stroke=\"black\" cx=\"841.69\" cy=\"-821\" rx=\"55.79\" ry=\"18\"/>\n<text text-anchor=\"start\" x=\"806.69\" y=\"-818.3\" font-family=\"Times,serif\" font-size=\"14.00\">leaf 9: </text>\n<text text-anchor=\"start\" x=\"845.69\" y=\"-818.3\" font-family=\"Times,serif\" font-weight=\"bold\" font-size=\"14.00\">0.180</text>\n</g>\n<!-- split15&#45;&gt;leaf9 -->\n<g id=\"edge24\" class=\"edge\">\n<title>split15&#45;&gt;leaf9</title>\n<path fill=\"none\" stroke=\"black\" d=\"M841.69,-875.81C841.69,-867.79 841.69,-858.05 841.69,-849.07\"/>\n<polygon fill=\"black\" stroke=\"black\" points=\"845.19,-849.03 841.69,-839.03 838.19,-849.03 845.19,-849.03\"/>\n<text text-anchor=\"middle\" x=\"851.19\" y=\"-853.8\" font-family=\"Times,serif\" font-size=\"14.00\">yes</text>\n</g>\n<!-- split26 -->\n<g id=\"node38\" class=\"node\">\n<title>split26</title>\n<polygon fill=\"none\" stroke=\"black\" points=\"1002.69,-839 920.69,-839 920.69,-803 1002.69,-803 1002.69,-839\"/>\n<text text-anchor=\"start\" x=\"928.69\" y=\"-818.3\" font-family=\"Times,serif\" font-weight=\"bold\" font-size=\"14.00\">Age</text>\n<text text-anchor=\"start\" x=\"951.69\" y=\"-818.3\" font-family=\"Times,serif\" font-size=\"14.00\"> ≤</text>\n<text text-anchor=\"start\" x=\"963.69\" y=\"-818.3\" font-family=\"Times,serif\" font-weight=\"bold\" font-size=\"14.00\">8.500</text>\n</g>\n<!-- split15&#45;&gt;split26 -->\n<g id=\"edge37\" class=\"edge\">\n<title>split15&#45;&gt;split26</title>\n<path fill=\"none\" stroke=\"black\" d=\"M870.44,-875.99C886.5,-866.49 906.7,-854.54 924.02,-844.29\"/>\n<polygon fill=\"black\" stroke=\"black\" points=\"925.95,-847.22 932.77,-839.11 922.38,-841.19 925.95,-847.22\"/>\n<text text-anchor=\"middle\" x=\"919.69\" y=\"-853.8\" font-family=\"Times,serif\" font-size=\"14.00\">no</text>\n</g>\n<!-- leaf16 -->\n<g id=\"node29\" class=\"node\">\n<title>leaf16</title>\n<ellipse fill=\"none\" stroke=\"black\" cx=\"893.69\" cy=\"-675\" rx=\"63.89\" ry=\"18\"/>\n<text text-anchor=\"start\" x=\"852.69\" y=\"-672.3\" font-family=\"Times,serif\" font-size=\"14.00\">leaf 16: </text>\n<text text-anchor=\"start\" x=\"898.69\" y=\"-672.3\" font-family=\"Times,serif\" font-weight=\"bold\" font-size=\"14.00\">&#45;0.079</text>\n</g>\n<!-- split37 -->\n<g id=\"node30\" class=\"node\">\n<title>split37</title>\n<polygon fill=\"none\" stroke=\"black\" points=\"1008.69,-766 914.69,-766 914.69,-730 1008.69,-730 1008.69,-766\"/>\n<text text-anchor=\"start\" x=\"922.69\" y=\"-745.3\" font-family=\"Times,serif\" font-weight=\"bold\" font-size=\"14.00\">BMI</text>\n<text text-anchor=\"start\" x=\"950.69\" y=\"-745.3\" font-family=\"Times,serif\" font-size=\"14.00\"> ≤</text>\n<text text-anchor=\"start\" x=\"962.69\" y=\"-745.3\" font-family=\"Times,serif\" font-weight=\"bold\" font-size=\"14.00\">29.001</text>\n</g>\n<!-- split37&#45;&gt;leaf16 -->\n<g id=\"edge25\" class=\"edge\">\n<title>split37&#45;&gt;leaf16</title>\n<path fill=\"none\" stroke=\"black\" d=\"M945.23,-729.81C936.67,-720.88 926.07,-709.8 916.71,-700.03\"/>\n<polygon fill=\"black\" stroke=\"black\" points=\"918.98,-697.34 909.54,-692.54 913.92,-702.18 918.98,-697.34\"/>\n<text text-anchor=\"middle\" x=\"944.19\" y=\"-707.8\" font-family=\"Times,serif\" font-size=\"14.00\">yes</text>\n</g>\n<!-- split46 -->\n<g id=\"node32\" class=\"node\">\n<title>split46</title>\n<polygon fill=\"none\" stroke=\"black\" points=\"1055.69,-693 961.69,-693 961.69,-657 1055.69,-657 1055.69,-693\"/>\n<text text-anchor=\"start\" x=\"969.69\" y=\"-672.3\" font-family=\"Times,serif\" font-weight=\"bold\" font-size=\"14.00\">BMI</text>\n<text text-anchor=\"start\" x=\"997.69\" y=\"-672.3\" font-family=\"Times,serif\" font-size=\"14.00\"> ≤</text>\n<text text-anchor=\"start\" x=\"1009.69\" y=\"-672.3\" font-family=\"Times,serif\" font-weight=\"bold\" font-size=\"14.00\">29.999</text>\n</g>\n<!-- split37&#45;&gt;split46 -->\n<g id=\"edge32\" class=\"edge\">\n<title>split37&#45;&gt;split46</title>\n<path fill=\"none\" stroke=\"black\" d=\"M973.07,-729.81C978.67,-721.35 985.54,-710.98 991.74,-701.61\"/>\n<polygon fill=\"black\" stroke=\"black\" points=\"994.82,-703.3 997.42,-693.03 988.98,-699.44 994.82,-703.3\"/>\n<text text-anchor=\"middle\" x=\"996.69\" y=\"-707.8\" font-family=\"Times,serif\" font-size=\"14.00\">no</text>\n</g>\n<!-- leaf38 -->\n<g id=\"node31\" class=\"node\">\n<title>leaf38</title>\n<ellipse fill=\"none\" stroke=\"black\" cx=\"973.69\" cy=\"-602\" rx=\"60.39\" ry=\"18\"/>\n<text text-anchor=\"start\" x=\"935.19\" y=\"-599.3\" font-family=\"Times,serif\" font-size=\"14.00\">leaf 38: </text>\n<text text-anchor=\"start\" x=\"981.19\" y=\"-599.3\" font-family=\"Times,serif\" font-weight=\"bold\" font-size=\"14.00\">0.180</text>\n</g>\n<!-- split46&#45;&gt;leaf38 -->\n<g id=\"edge26\" class=\"edge\">\n<title>split46&#45;&gt;leaf38</title>\n<path fill=\"none\" stroke=\"black\" d=\"M1000.22,-656.81C996.14,-648.53 991.15,-638.41 986.61,-629.19\"/>\n<polygon fill=\"black\" stroke=\"black\" points=\"989.65,-627.45 982.09,-620.03 983.37,-630.55 989.65,-627.45\"/>\n<text text-anchor=\"middle\" x=\"1004.19\" y=\"-634.8\" font-family=\"Times,serif\" font-size=\"14.00\">yes</text>\n</g>\n<!-- split53 -->\n<g id=\"node34\" class=\"node\">\n<title>split53</title>\n<polygon fill=\"none\" stroke=\"black\" points=\"1131.69,-620 1037.69,-620 1037.69,-584 1131.69,-584 1131.69,-620\"/>\n<text text-anchor=\"start\" x=\"1045.69\" y=\"-599.3\" font-family=\"Times,serif\" font-weight=\"bold\" font-size=\"14.00\">BMI</text>\n<text text-anchor=\"start\" x=\"1073.69\" y=\"-599.3\" font-family=\"Times,serif\" font-size=\"14.00\"> ≤</text>\n<text text-anchor=\"start\" x=\"1085.69\" y=\"-599.3\" font-family=\"Times,serif\" font-weight=\"bold\" font-size=\"14.00\">30.003</text>\n</g>\n<!-- split46&#45;&gt;split53 -->\n<g id=\"edge31\" class=\"edge\">\n<title>split46&#45;&gt;split53</title>\n<path fill=\"none\" stroke=\"black\" d=\"M1027.09,-656.81C1036.71,-647.83 1048.63,-636.69 1059.13,-626.89\"/>\n<polygon fill=\"black\" stroke=\"black\" points=\"1061.55,-629.41 1066.47,-620.03 1056.77,-624.3 1061.55,-629.41\"/>\n<text text-anchor=\"middle\" x=\"1060.69\" y=\"-634.8\" font-family=\"Times,serif\" font-size=\"14.00\">no</text>\n</g>\n<!-- leaf47 -->\n<g id=\"node33\" class=\"node\">\n<title>leaf47</title>\n<ellipse fill=\"none\" stroke=\"black\" cx=\"1048.69\" cy=\"-529\" rx=\"63.89\" ry=\"18\"/>\n<text text-anchor=\"start\" x=\"1007.69\" y=\"-526.3\" font-family=\"Times,serif\" font-size=\"14.00\">leaf 47: </text>\n<text text-anchor=\"start\" x=\"1053.69\" y=\"-526.3\" font-family=\"Times,serif\" font-weight=\"bold\" font-size=\"14.00\">&#45;0.099</text>\n</g>\n<!-- split53&#45;&gt;leaf47 -->\n<g id=\"edge27\" class=\"edge\">\n<title>split53&#45;&gt;leaf47</title>\n<path fill=\"none\" stroke=\"black\" d=\"M1075.98,-583.81C1071.78,-575.53 1066.65,-565.41 1061.98,-556.19\"/>\n<polygon fill=\"black\" stroke=\"black\" points=\"1064.97,-554.37 1057.33,-547.03 1058.73,-557.53 1064.97,-554.37\"/>\n<text text-anchor=\"middle\" x=\"1080.19\" y=\"-561.8\" font-family=\"Times,serif\" font-size=\"14.00\">yes</text>\n</g>\n<!-- split54 -->\n<g id=\"node36\" class=\"node\">\n<title>split54</title>\n<polygon fill=\"none\" stroke=\"black\" points=\"1210.69,-547 1116.69,-547 1116.69,-511 1210.69,-511 1210.69,-547\"/>\n<text text-anchor=\"start\" x=\"1124.69\" y=\"-526.3\" font-family=\"Times,serif\" font-weight=\"bold\" font-size=\"14.00\">BMI</text>\n<text text-anchor=\"start\" x=\"1152.69\" y=\"-526.3\" font-family=\"Times,serif\" font-size=\"14.00\"> ≤</text>\n<text text-anchor=\"start\" x=\"1164.69\" y=\"-526.3\" font-family=\"Times,serif\" font-weight=\"bold\" font-size=\"14.00\">30.992</text>\n</g>\n<!-- split53&#45;&gt;split54 -->\n<g id=\"edge30\" class=\"edge\">\n<title>split53&#45;&gt;split54</title>\n<path fill=\"none\" stroke=\"black\" d=\"M1103.82,-583.81C1113.81,-574.83 1126.2,-563.69 1137.12,-553.89\"/>\n<polygon fill=\"black\" stroke=\"black\" points=\"1139.65,-556.32 1144.75,-547.03 1134.97,-551.11 1139.65,-556.32\"/>\n<text text-anchor=\"middle\" x=\"1138.69\" y=\"-561.8\" font-family=\"Times,serif\" font-size=\"14.00\">no</text>\n</g>\n<!-- leaf54 -->\n<g id=\"node35\" class=\"node\">\n<title>leaf54</title>\n<ellipse fill=\"none\" stroke=\"black\" cx=\"1099.69\" cy=\"-456\" rx=\"60.39\" ry=\"18\"/>\n<text text-anchor=\"start\" x=\"1061.19\" y=\"-453.3\" font-family=\"Times,serif\" font-size=\"14.00\">leaf 54: </text>\n<text text-anchor=\"start\" x=\"1107.19\" y=\"-453.3\" font-family=\"Times,serif\" font-weight=\"bold\" font-size=\"14.00\">0.180</text>\n</g>\n<!-- split54&#45;&gt;leaf54 -->\n<g id=\"edge28\" class=\"edge\">\n<title>split54&#45;&gt;leaf54</title>\n<path fill=\"none\" stroke=\"black\" d=\"M1148.2,-510.81C1140.15,-501.88 1130.17,-490.8 1121.36,-481.03\"/>\n<polygon fill=\"black\" stroke=\"black\" points=\"1123.9,-478.62 1114.6,-473.54 1118.7,-483.31 1123.9,-478.62\"/>\n<text text-anchor=\"middle\" x=\"1147.19\" y=\"-488.8\" font-family=\"Times,serif\" font-size=\"14.00\">yes</text>\n</g>\n<!-- leaf55 -->\n<g id=\"node37\" class=\"node\">\n<title>leaf55</title>\n<ellipse fill=\"none\" stroke=\"black\" cx=\"1227.69\" cy=\"-456\" rx=\"63.89\" ry=\"18\"/>\n<text text-anchor=\"start\" x=\"1186.69\" y=\"-453.3\" font-family=\"Times,serif\" font-size=\"14.00\">leaf 55: </text>\n<text text-anchor=\"start\" x=\"1232.69\" y=\"-453.3\" font-family=\"Times,serif\" font-weight=\"bold\" font-size=\"14.00\">&#45;0.002</text>\n</g>\n<!-- split54&#45;&gt;leaf55 -->\n<g id=\"edge29\" class=\"edge\">\n<title>split54&#45;&gt;leaf55</title>\n<path fill=\"none\" stroke=\"black\" d=\"M1179.19,-510.81C1187.24,-501.88 1197.22,-490.8 1206.03,-481.03\"/>\n<polygon fill=\"black\" stroke=\"black\" points=\"1208.69,-483.31 1212.79,-473.54 1203.49,-478.62 1208.69,-483.31\"/>\n<text text-anchor=\"middle\" x=\"1208.69\" y=\"-488.8\" font-family=\"Times,serif\" font-size=\"14.00\">no</text>\n</g>\n<!-- split26&#45;&gt;split37 -->\n<g id=\"edge33\" class=\"edge\">\n<title>split26&#45;&gt;split37</title>\n<path fill=\"none\" stroke=\"black\" d=\"M961.69,-802.81C961.69,-794.79 961.69,-785.05 961.69,-776.07\"/>\n<polygon fill=\"black\" stroke=\"black\" points=\"965.19,-776.03 961.69,-766.03 958.19,-776.03 965.19,-776.03\"/>\n<text text-anchor=\"middle\" x=\"971.19\" y=\"-780.8\" font-family=\"Times,serif\" font-size=\"14.00\">yes</text>\n</g>\n<!-- split32 -->\n<g id=\"node40\" class=\"node\">\n<title>split32</title>\n<polygon fill=\"none\" stroke=\"black\" points=\"1166.69,-766 1072.69,-766 1072.69,-730 1166.69,-730 1166.69,-766\"/>\n<text text-anchor=\"start\" x=\"1080.69\" y=\"-745.3\" font-family=\"Times,serif\" font-weight=\"bold\" font-size=\"14.00\">BMI</text>\n<text text-anchor=\"start\" x=\"1108.69\" y=\"-745.3\" font-family=\"Times,serif\" font-size=\"14.00\"> ≤</text>\n<text text-anchor=\"start\" x=\"1120.69\" y=\"-745.3\" font-family=\"Times,serif\" font-weight=\"bold\" font-size=\"14.00\">32.000</text>\n</g>\n<!-- split26&#45;&gt;split32 -->\n<g id=\"edge36\" class=\"edge\">\n<title>split26&#45;&gt;split32</title>\n<path fill=\"none\" stroke=\"black\" d=\"M999.54,-802.99C1021.36,-793.19 1049,-780.77 1072.27,-770.31\"/>\n<polygon fill=\"black\" stroke=\"black\" points=\"1073.92,-773.4 1081.61,-766.11 1071.05,-767.02 1073.92,-773.4\"/>\n<text text-anchor=\"middle\" x=\"1062.69\" y=\"-780.8\" font-family=\"Times,serif\" font-size=\"14.00\">no</text>\n</g>\n<!-- leaf27 -->\n<g id=\"node39\" class=\"node\">\n<title>leaf27</title>\n<ellipse fill=\"none\" stroke=\"black\" cx=\"1119.69\" cy=\"-675\" rx=\"60.39\" ry=\"18\"/>\n<text text-anchor=\"start\" x=\"1081.19\" y=\"-672.3\" font-family=\"Times,serif\" font-size=\"14.00\">leaf 27: </text>\n<text text-anchor=\"start\" x=\"1127.19\" y=\"-672.3\" font-family=\"Times,serif\" font-weight=\"bold\" font-size=\"14.00\">0.009</text>\n</g>\n<!-- split32&#45;&gt;leaf27 -->\n<g id=\"edge34\" class=\"edge\">\n<title>split32&#45;&gt;leaf27</title>\n<path fill=\"none\" stroke=\"black\" d=\"M1119.69,-729.81C1119.69,-721.79 1119.69,-712.05 1119.69,-703.07\"/>\n<polygon fill=\"black\" stroke=\"black\" points=\"1123.19,-703.03 1119.69,-693.03 1116.19,-703.03 1123.19,-703.03\"/>\n<text text-anchor=\"middle\" x=\"1129.19\" y=\"-707.8\" font-family=\"Times,serif\" font-size=\"14.00\">yes</text>\n</g>\n<!-- leaf33 -->\n<g id=\"node41\" class=\"node\">\n<title>leaf33</title>\n<ellipse fill=\"none\" stroke=\"black\" cx=\"1244.69\" cy=\"-675\" rx=\"60.39\" ry=\"18\"/>\n<text text-anchor=\"start\" x=\"1206.19\" y=\"-672.3\" font-family=\"Times,serif\" font-size=\"14.00\">leaf 33: </text>\n<text text-anchor=\"start\" x=\"1252.19\" y=\"-672.3\" font-family=\"Times,serif\" font-weight=\"bold\" font-size=\"14.00\">0.074</text>\n</g>\n<!-- split32&#45;&gt;leaf33 -->\n<g id=\"edge35\" class=\"edge\">\n<title>split32&#45;&gt;leaf33</title>\n<path fill=\"none\" stroke=\"black\" d=\"M1149.63,-729.99C1167.51,-719.84 1190.32,-706.89 1209.11,-696.21\"/>\n<polygon fill=\"black\" stroke=\"black\" points=\"1211.01,-699.16 1217.97,-691.18 1207.55,-693.07 1211.01,-699.16\"/>\n<text text-anchor=\"middle\" x=\"1200.69\" y=\"-707.8\" font-family=\"Times,serif\" font-size=\"14.00\">no</text>\n</g>\n<!-- split0 -->\n<g id=\"node42\" class=\"node\">\n<title>split0</title>\n<polygon fill=\"none\" stroke=\"black\" points=\"939.69,-1204 833.69,-1204 833.69,-1168 939.69,-1168 939.69,-1204\"/>\n<text text-anchor=\"start\" x=\"841.69\" y=\"-1183.3\" font-family=\"Times,serif\" font-weight=\"bold\" font-size=\"14.00\">HighBP</text>\n<text text-anchor=\"start\" x=\"888.69\" y=\"-1183.3\" font-family=\"Times,serif\" font-size=\"14.00\"> ≤</text>\n<text text-anchor=\"start\" x=\"900.69\" y=\"-1183.3\" font-family=\"Times,serif\" font-weight=\"bold\" font-size=\"14.00\">0.000</text>\n</g>\n<!-- split0&#45;&gt;split2 -->\n<g id=\"edge41\" class=\"edge\">\n<title>split0&#45;&gt;split2</title>\n<path fill=\"none\" stroke=\"black\" d=\"M834.72,-1167.99C803.81,-1157.88 764.41,-1144.99 731.86,-1134.34\"/>\n<polygon fill=\"black\" stroke=\"black\" points=\"732.59,-1130.9 722,-1131.11 730.42,-1137.55 732.59,-1130.9\"/>\n<text text-anchor=\"middle\" x=\"807.19\" y=\"-1145.8\" font-family=\"Times,serif\" font-size=\"14.00\">yes</text>\n</g>\n<!-- split1 -->\n<g id=\"node76\" class=\"node\">\n<title>split1</title>\n<polygon fill=\"none\" stroke=\"black\" points=\"1567.19,-1131 1456.19,-1131 1456.19,-1095 1567.19,-1095 1567.19,-1131\"/>\n<text text-anchor=\"start\" x=\"1464.19\" y=\"-1110.3\" font-family=\"Times,serif\" font-weight=\"bold\" font-size=\"14.00\">GenHlth</text>\n<text text-anchor=\"start\" x=\"1516.19\" y=\"-1110.3\" font-family=\"Times,serif\" font-size=\"14.00\"> ≤</text>\n<text text-anchor=\"start\" x=\"1528.19\" y=\"-1110.3\" font-family=\"Times,serif\" font-weight=\"bold\" font-size=\"14.00\">2.500</text>\n</g>\n<!-- split0&#45;&gt;split1 -->\n<g id=\"edge126\" class=\"edge\">\n<title>split0&#45;&gt;split1</title>\n<path fill=\"none\" stroke=\"black\" d=\"M939.71,-1178.98C1053.53,-1166.05 1321.01,-1135.66 1445.63,-1121.5\"/>\n<polygon fill=\"black\" stroke=\"black\" points=\"1446.26,-1124.96 1455.8,-1120.35 1445.47,-1118 1446.26,-1124.96\"/>\n<text text-anchor=\"middle\" x=\"1262.69\" y=\"-1145.8\" font-family=\"Times,serif\" font-size=\"14.00\">no</text>\n</g>\n<!-- leaf1 -->\n<g id=\"node43\" class=\"node\">\n<title>leaf1</title>\n<ellipse fill=\"none\" stroke=\"black\" cx=\"1478.69\" cy=\"-967\" rx=\"59.29\" ry=\"18\"/>\n<text text-anchor=\"start\" x=\"1441.19\" y=\"-964.3\" font-family=\"Times,serif\" font-size=\"14.00\">leaf 1: </text>\n<text text-anchor=\"start\" x=\"1480.19\" y=\"-964.3\" font-family=\"Times,serif\" font-weight=\"bold\" font-size=\"14.00\">&#45;0.124</text>\n</g>\n<!-- split5 -->\n<g id=\"node44\" class=\"node\">\n<title>split5</title>\n<polygon fill=\"none\" stroke=\"black\" points=\"1567.19,-1058 1456.19,-1058 1456.19,-1022 1567.19,-1022 1567.19,-1058\"/>\n<text text-anchor=\"start\" x=\"1464.19\" y=\"-1037.3\" font-family=\"Times,serif\" font-weight=\"bold\" font-size=\"14.00\">GenHlth</text>\n<text text-anchor=\"start\" x=\"1516.19\" y=\"-1037.3\" font-family=\"Times,serif\" font-size=\"14.00\"> ≤</text>\n<text text-anchor=\"start\" x=\"1528.19\" y=\"-1037.3\" font-family=\"Times,serif\" font-weight=\"bold\" font-size=\"14.00\">1.500</text>\n</g>\n<!-- split5&#45;&gt;leaf1 -->\n<g id=\"edge42\" class=\"edge\">\n<title>split5&#45;&gt;leaf1</title>\n<path fill=\"none\" stroke=\"black\" d=\"M1503.71,-1021.81C1499.86,-1013.53 1495.15,-1003.41 1490.87,-994.19\"/>\n<polygon fill=\"black\" stroke=\"black\" points=\"1494,-992.62 1486.61,-985.03 1487.65,-995.57 1494,-992.62\"/>\n<text text-anchor=\"middle\" x=\"1508.19\" y=\"-999.8\" font-family=\"Times,serif\" font-size=\"14.00\">yes</text>\n</g>\n<!-- split7 -->\n<g id=\"node46\" class=\"node\">\n<title>split7</title>\n<polygon fill=\"none\" stroke=\"black\" points=\"1623.69,-985 1541.69,-985 1541.69,-949 1623.69,-949 1623.69,-985\"/>\n<text text-anchor=\"start\" x=\"1549.69\" y=\"-964.3\" font-family=\"Times,serif\" font-weight=\"bold\" font-size=\"14.00\">Age</text>\n<text text-anchor=\"start\" x=\"1572.69\" y=\"-964.3\" font-family=\"Times,serif\" font-size=\"14.00\"> ≤</text>\n<text text-anchor=\"start\" x=\"1584.69\" y=\"-964.3\" font-family=\"Times,serif\" font-weight=\"bold\" font-size=\"14.00\">6.500</text>\n</g>\n<!-- split5&#45;&gt;split7 -->\n<g id=\"edge73\" class=\"edge\">\n<title>split5&#45;&gt;split7</title>\n<path fill=\"none\" stroke=\"black\" d=\"M1528.88,-1021.81C1537.78,-1012.92 1548.78,-1001.91 1558.52,-992.17\"/>\n<polygon fill=\"black\" stroke=\"black\" points=\"1561.07,-994.57 1565.67,-985.03 1556.12,-989.63 1561.07,-994.57\"/>\n<text text-anchor=\"middle\" x=\"1560.69\" y=\"-999.8\" font-family=\"Times,serif\" font-size=\"14.00\">no</text>\n</g>\n<!-- leaf6 -->\n<g id=\"node45\" class=\"node\">\n<title>leaf6</title>\n<ellipse fill=\"none\" stroke=\"black\" cx=\"1568.69\" cy=\"-894\" rx=\"59.29\" ry=\"18\"/>\n<text text-anchor=\"start\" x=\"1531.19\" y=\"-891.3\" font-family=\"Times,serif\" font-size=\"14.00\">leaf 6: </text>\n<text text-anchor=\"start\" x=\"1570.19\" y=\"-891.3\" font-family=\"Times,serif\" font-weight=\"bold\" font-size=\"14.00\">&#45;0.134</text>\n</g>\n<!-- split7&#45;&gt;leaf6 -->\n<g id=\"edge43\" class=\"edge\">\n<title>split7&#45;&gt;leaf6</title>\n<path fill=\"none\" stroke=\"black\" d=\"M1579.31,-948.81C1577.72,-940.79 1575.8,-931.05 1574.03,-922.07\"/>\n<polygon fill=\"black\" stroke=\"black\" points=\"1577.42,-921.16 1572.05,-912.03 1570.55,-922.52 1577.42,-921.16\"/>\n<text text-anchor=\"middle\" x=\"1587.19\" y=\"-926.8\" font-family=\"Times,serif\" font-size=\"14.00\">yes</text>\n</g>\n<!-- split9 -->\n<g id=\"node56\" class=\"node\">\n<title>split9</title>\n<polygon fill=\"none\" stroke=\"black\" points=\"1725.69,-912 1631.69,-912 1631.69,-876 1725.69,-876 1725.69,-912\"/>\n<text text-anchor=\"start\" x=\"1639.69\" y=\"-891.3\" font-family=\"Times,serif\" font-weight=\"bold\" font-size=\"14.00\">BMI</text>\n<text text-anchor=\"start\" x=\"1667.69\" y=\"-891.3\" font-family=\"Times,serif\" font-size=\"14.00\"> ≤</text>\n<text text-anchor=\"start\" x=\"1679.69\" y=\"-891.3\" font-family=\"Times,serif\" font-weight=\"bold\" font-size=\"14.00\">26.000</text>\n</g>\n<!-- split7&#45;&gt;split9 -->\n<g id=\"edge72\" class=\"edge\">\n<title>split7&#45;&gt;split9</title>\n<path fill=\"none\" stroke=\"black\" d=\"M1605.93,-948.81C1618.43,-939.57 1634.02,-928.04 1647.55,-918.03\"/>\n<polygon fill=\"black\" stroke=\"black\" points=\"1649.71,-920.79 1655.67,-912.03 1645.55,-915.16 1649.71,-920.79\"/>\n<text text-anchor=\"middle\" x=\"1646.69\" y=\"-926.8\" font-family=\"Times,serif\" font-size=\"14.00\">no</text>\n</g>\n<!-- leaf8 -->\n<g id=\"node47\" class=\"node\">\n<title>leaf8</title>\n<ellipse fill=\"none\" stroke=\"black\" cx=\"1368.69\" cy=\"-675\" rx=\"59.29\" ry=\"18\"/>\n<text text-anchor=\"start\" x=\"1331.19\" y=\"-672.3\" font-family=\"Times,serif\" font-size=\"14.00\">leaf 8: </text>\n<text text-anchor=\"start\" x=\"1370.19\" y=\"-672.3\" font-family=\"Times,serif\" font-weight=\"bold\" font-size=\"14.00\">&#45;0.120</text>\n</g>\n<!-- split56 -->\n<g id=\"node48\" class=\"node\">\n<title>split56</title>\n<polygon fill=\"none\" stroke=\"black\" points=\"1504.69,-766 1410.69,-766 1410.69,-730 1504.69,-730 1504.69,-766\"/>\n<text text-anchor=\"start\" x=\"1418.69\" y=\"-745.3\" font-family=\"Times,serif\" font-weight=\"bold\" font-size=\"14.00\">BMI</text>\n<text text-anchor=\"start\" x=\"1446.69\" y=\"-745.3\" font-family=\"Times,serif\" font-size=\"14.00\"> ≤</text>\n<text text-anchor=\"start\" x=\"1458.69\" y=\"-745.3\" font-family=\"Times,serif\" font-weight=\"bold\" font-size=\"14.00\">21.002</text>\n</g>\n<!-- split56&#45;&gt;leaf8 -->\n<g id=\"edge44\" class=\"edge\">\n<title>split56&#45;&gt;leaf8</title>\n<path fill=\"none\" stroke=\"black\" d=\"M1436.15,-729.81C1424.33,-720.39 1409.54,-708.59 1396.83,-698.44\"/>\n<polygon fill=\"black\" stroke=\"black\" points=\"1398.82,-695.56 1388.82,-692.06 1394.45,-701.03 1398.82,-695.56\"/>\n<text text-anchor=\"middle\" x=\"1431.19\" y=\"-707.8\" font-family=\"Times,serif\" font-size=\"14.00\">yes</text>\n</g>\n<!-- split59 -->\n<g id=\"node50\" class=\"node\">\n<title>split59</title>\n<polygon fill=\"none\" stroke=\"black\" points=\"1513.69,-693 1431.69,-693 1431.69,-657 1513.69,-657 1513.69,-693\"/>\n<text text-anchor=\"start\" x=\"1439.69\" y=\"-672.3\" font-family=\"Times,serif\" font-weight=\"bold\" font-size=\"14.00\">Age</text>\n<text text-anchor=\"start\" x=\"1462.69\" y=\"-672.3\" font-family=\"Times,serif\" font-size=\"14.00\"> ≤</text>\n<text text-anchor=\"start\" x=\"1474.69\" y=\"-672.3\" font-family=\"Times,serif\" font-weight=\"bold\" font-size=\"14.00\">8.500</text>\n</g>\n<!-- split56&#45;&gt;split59 -->\n<g id=\"edge49\" class=\"edge\">\n<title>split56&#45;&gt;split59</title>\n<path fill=\"none\" stroke=\"black\" d=\"M1461.33,-729.81C1463.02,-721.79 1465.08,-712.05 1466.98,-703.07\"/>\n<polygon fill=\"black\" stroke=\"black\" points=\"1470.45,-703.54 1469.1,-693.03 1463.61,-702.09 1470.45,-703.54\"/>\n<text text-anchor=\"middle\" x=\"1473.69\" y=\"-707.8\" font-family=\"Times,serif\" font-size=\"14.00\">no</text>\n</g>\n<!-- leaf57 -->\n<g id=\"node49\" class=\"node\">\n<title>leaf57</title>\n<ellipse fill=\"none\" stroke=\"black\" cx=\"1347.69\" cy=\"-602\" rx=\"63.89\" ry=\"18\"/>\n<text text-anchor=\"start\" x=\"1306.69\" y=\"-599.3\" font-family=\"Times,serif\" font-size=\"14.00\">leaf 57: </text>\n<text text-anchor=\"start\" x=\"1352.69\" y=\"-599.3\" font-family=\"Times,serif\" font-weight=\"bold\" font-size=\"14.00\">&#45;0.109</text>\n</g>\n<!-- split59&#45;&gt;leaf57 -->\n<g id=\"edge45\" class=\"edge\">\n<title>split59&#45;&gt;leaf57</title>\n<path fill=\"none\" stroke=\"black\" d=\"M1442.75,-656.99C1425,-646.91 1402.39,-634.07 1383.67,-623.43\"/>\n<polygon fill=\"black\" stroke=\"black\" points=\"1385.26,-620.31 1374.83,-618.41 1381.8,-626.4 1385.26,-620.31\"/>\n<text text-anchor=\"middle\" x=\"1431.19\" y=\"-634.8\" font-family=\"Times,serif\" font-size=\"14.00\">yes</text>\n</g>\n<!-- split62 -->\n<g id=\"node52\" class=\"node\">\n<title>split62</title>\n<polygon fill=\"none\" stroke=\"black\" points=\"1529.69,-620 1415.69,-620 1415.69,-584 1529.69,-584 1529.69,-620\"/>\n<text text-anchor=\"start\" x=\"1423.69\" y=\"-599.3\" font-family=\"Times,serif\" font-weight=\"bold\" font-size=\"14.00\">PhysHlth</text>\n<text text-anchor=\"start\" x=\"1478.69\" y=\"-599.3\" font-family=\"Times,serif\" font-size=\"14.00\"> ≤</text>\n<text text-anchor=\"start\" x=\"1490.69\" y=\"-599.3\" font-family=\"Times,serif\" font-weight=\"bold\" font-size=\"14.00\">1.999</text>\n</g>\n<!-- split59&#45;&gt;split62 -->\n<g id=\"edge48\" class=\"edge\">\n<title>split59&#45;&gt;split62</title>\n<path fill=\"none\" stroke=\"black\" d=\"M1472.69,-656.81C1472.69,-648.79 1472.69,-639.05 1472.69,-630.07\"/>\n<polygon fill=\"black\" stroke=\"black\" points=\"1476.19,-630.03 1472.69,-620.03 1469.19,-630.03 1476.19,-630.03\"/>\n<text text-anchor=\"middle\" x=\"1479.69\" y=\"-634.8\" font-family=\"Times,serif\" font-size=\"14.00\">no</text>\n</g>\n<!-- leaf60 -->\n<g id=\"node51\" class=\"node\">\n<title>leaf60</title>\n<ellipse fill=\"none\" stroke=\"black\" cx=\"1344.69\" cy=\"-529\" rx=\"60.39\" ry=\"18\"/>\n<text text-anchor=\"start\" x=\"1306.19\" y=\"-526.3\" font-family=\"Times,serif\" font-size=\"14.00\">leaf 60: </text>\n<text text-anchor=\"start\" x=\"1352.19\" y=\"-526.3\" font-family=\"Times,serif\" font-weight=\"bold\" font-size=\"14.00\">0.004</text>\n</g>\n<!-- split62&#45;&gt;leaf60 -->\n<g id=\"edge46\" class=\"edge\">\n<title>split62&#45;&gt;leaf60</title>\n<path fill=\"none\" stroke=\"black\" d=\"M1442.04,-583.99C1423.65,-573.79 1400.16,-560.77 1380.87,-550.07\"/>\n<polygon fill=\"black\" stroke=\"black\" points=\"1382.5,-546.97 1372.06,-545.18 1379.1,-553.09 1382.5,-546.97\"/>\n<text text-anchor=\"middle\" x=\"1430.19\" y=\"-561.8\" font-family=\"Times,serif\" font-size=\"14.00\">yes</text>\n</g>\n<!-- leaf63 -->\n<g id=\"node53\" class=\"node\">\n<title>leaf63</title>\n<ellipse fill=\"none\" stroke=\"black\" cx=\"1472.69\" cy=\"-529\" rx=\"63.89\" ry=\"18\"/>\n<text text-anchor=\"start\" x=\"1431.69\" y=\"-526.3\" font-family=\"Times,serif\" font-size=\"14.00\">leaf 63: </text>\n<text text-anchor=\"start\" x=\"1477.69\" y=\"-526.3\" font-family=\"Times,serif\" font-weight=\"bold\" font-size=\"14.00\">&#45;0.095</text>\n</g>\n<!-- split62&#45;&gt;leaf63 -->\n<g id=\"edge47\" class=\"edge\">\n<title>split62&#45;&gt;leaf63</title>\n<path fill=\"none\" stroke=\"black\" d=\"M1472.69,-583.81C1472.69,-575.79 1472.69,-566.05 1472.69,-557.07\"/>\n<polygon fill=\"black\" stroke=\"black\" points=\"1476.19,-557.03 1472.69,-547.03 1469.19,-557.03 1476.19,-557.03\"/>\n<text text-anchor=\"middle\" x=\"1479.69\" y=\"-561.8\" font-family=\"Times,serif\" font-size=\"14.00\">no</text>\n</g>\n<!-- split47 -->\n<g id=\"node54\" class=\"node\">\n<title>split47</title>\n<polygon fill=\"none\" stroke=\"black\" points=\"1663.19,-839 1478.19,-839 1478.19,-803 1663.19,-803 1663.19,-839\"/>\n<text text-anchor=\"start\" x=\"1486.19\" y=\"-818.3\" font-family=\"Times,serif\" font-weight=\"bold\" font-size=\"14.00\">HvyAlcoholConsump</text>\n<text text-anchor=\"start\" x=\"1612.19\" y=\"-818.3\" font-family=\"Times,serif\" font-size=\"14.00\"> ≤</text>\n<text text-anchor=\"start\" x=\"1624.19\" y=\"-818.3\" font-family=\"Times,serif\" font-weight=\"bold\" font-size=\"14.00\">0.000</text>\n</g>\n<!-- split47&#45;&gt;split56 -->\n<g id=\"edge50\" class=\"edge\">\n<title>split47&#45;&gt;split56</title>\n<path fill=\"none\" stroke=\"black\" d=\"M1543.63,-802.99C1528.64,-793.58 1509.83,-781.76 1493.62,-771.57\"/>\n<polygon fill=\"black\" stroke=\"black\" points=\"1495.26,-768.47 1484.93,-766.11 1491.54,-774.4 1495.26,-768.47\"/>\n<text text-anchor=\"middle\" x=\"1534.19\" y=\"-780.8\" font-family=\"Times,serif\" font-size=\"14.00\">yes</text>\n</g>\n<!-- leaf48 -->\n<g id=\"node55\" class=\"node\">\n<title>leaf48</title>\n<ellipse fill=\"none\" stroke=\"black\" cx=\"1572.69\" cy=\"-748\" rx=\"63.89\" ry=\"18\"/>\n<text text-anchor=\"start\" x=\"1531.69\" y=\"-745.3\" font-family=\"Times,serif\" font-size=\"14.00\">leaf 48: </text>\n<text text-anchor=\"start\" x=\"1577.69\" y=\"-745.3\" font-family=\"Times,serif\" font-weight=\"bold\" font-size=\"14.00\">&#45;0.167</text>\n</g>\n<!-- split47&#45;&gt;leaf48 -->\n<g id=\"edge51\" class=\"edge\">\n<title>split47&#45;&gt;leaf48</title>\n<path fill=\"none\" stroke=\"black\" d=\"M1571.18,-802.81C1571.4,-794.79 1571.68,-785.05 1571.93,-776.07\"/>\n<polygon fill=\"black\" stroke=\"black\" points=\"1575.43,-776.12 1572.21,-766.03 1568.43,-775.93 1575.43,-776.12\"/>\n<text text-anchor=\"middle\" x=\"1579.69\" y=\"-780.8\" font-family=\"Times,serif\" font-size=\"14.00\">no</text>\n</g>\n<!-- split9&#45;&gt;split47 -->\n<g id=\"edge52\" class=\"edge\">\n<title>split9&#45;&gt;split47</title>\n<path fill=\"none\" stroke=\"black\" d=\"M1652.83,-875.99C1638.64,-866.67 1620.85,-854.97 1605.46,-844.86\"/>\n<polygon fill=\"black\" stroke=\"black\" points=\"1607.01,-841.68 1596.73,-839.11 1603.16,-847.53 1607.01,-841.68\"/>\n<text text-anchor=\"middle\" x=\"1644.19\" y=\"-853.8\" font-family=\"Times,serif\" font-size=\"14.00\">yes</text>\n</g>\n<!-- split18 -->\n<g id=\"node58\" class=\"node\">\n<title>split18</title>\n<polygon fill=\"none\" stroke=\"black\" points=\"1761.69,-839 1667.69,-839 1667.69,-803 1761.69,-803 1761.69,-839\"/>\n<text text-anchor=\"start\" x=\"1675.69\" y=\"-818.3\" font-family=\"Times,serif\" font-weight=\"bold\" font-size=\"14.00\">BMI</text>\n<text text-anchor=\"start\" x=\"1703.69\" y=\"-818.3\" font-family=\"Times,serif\" font-size=\"14.00\"> ≤</text>\n<text text-anchor=\"start\" x=\"1715.69\" y=\"-818.3\" font-family=\"Times,serif\" font-weight=\"bold\" font-size=\"14.00\">26.999</text>\n</g>\n<!-- split9&#45;&gt;split18 -->\n<g id=\"edge71\" class=\"edge\">\n<title>split9&#45;&gt;split18</title>\n<path fill=\"none\" stroke=\"black\" d=\"M1687.41,-875.81C1691.61,-867.53 1696.74,-857.41 1701.41,-848.19\"/>\n<polygon fill=\"black\" stroke=\"black\" points=\"1704.66,-849.53 1706.06,-839.03 1698.42,-846.37 1704.66,-849.53\"/>\n<text text-anchor=\"middle\" x=\"1707.69\" y=\"-853.8\" font-family=\"Times,serif\" font-size=\"14.00\">no</text>\n</g>\n<!-- leaf10 -->\n<g id=\"node57\" class=\"node\">\n<title>leaf10</title>\n<ellipse fill=\"none\" stroke=\"black\" cx=\"1707.69\" cy=\"-748\" rx=\"60.39\" ry=\"18\"/>\n<text text-anchor=\"start\" x=\"1669.19\" y=\"-745.3\" font-family=\"Times,serif\" font-size=\"14.00\">leaf 10: </text>\n<text text-anchor=\"start\" x=\"1715.19\" y=\"-745.3\" font-family=\"Times,serif\" font-weight=\"bold\" font-size=\"14.00\">0.180</text>\n</g>\n<!-- split18&#45;&gt;leaf10 -->\n<g id=\"edge53\" class=\"edge\">\n<title>split18&#45;&gt;leaf10</title>\n<path fill=\"none\" stroke=\"black\" d=\"M1713,-802.81C1712.21,-794.79 1711.25,-785.05 1710.36,-776.07\"/>\n<polygon fill=\"black\" stroke=\"black\" points=\"1713.84,-775.64 1709.37,-766.03 1706.87,-776.32 1713.84,-775.64\"/>\n<text text-anchor=\"middle\" x=\"1722.19\" y=\"-780.8\" font-family=\"Times,serif\" font-size=\"14.00\">yes</text>\n</g>\n<!-- split21 -->\n<g id=\"node72\" class=\"node\">\n<title>split21</title>\n<polygon fill=\"none\" stroke=\"black\" points=\"1885.69,-766 1771.69,-766 1771.69,-730 1885.69,-730 1885.69,-766\"/>\n<text text-anchor=\"start\" x=\"1779.69\" y=\"-745.3\" font-family=\"Times,serif\" font-weight=\"bold\" font-size=\"14.00\">PhysHlth</text>\n<text text-anchor=\"start\" x=\"1834.69\" y=\"-745.3\" font-family=\"Times,serif\" font-size=\"14.00\"> ≤</text>\n<text text-anchor=\"start\" x=\"1846.69\" y=\"-745.3\" font-family=\"Times,serif\" font-weight=\"bold\" font-size=\"14.00\">1.999</text>\n</g>\n<!-- split18&#45;&gt;split21 -->\n<g id=\"edge70\" class=\"edge\">\n<title>split18&#45;&gt;split21</title>\n<path fill=\"none\" stroke=\"black\" d=\"M1742,-802.99C1757.12,-793.58 1776.1,-781.76 1792.45,-771.57\"/>\n<polygon fill=\"black\" stroke=\"black\" points=\"1794.58,-774.37 1801.22,-766.11 1790.88,-768.43 1794.58,-774.37\"/>\n<text text-anchor=\"middle\" x=\"1789.69\" y=\"-780.8\" font-family=\"Times,serif\" font-size=\"14.00\">no</text>\n</g>\n<!-- leaf19 -->\n<g id=\"node59\" class=\"node\">\n<title>leaf19</title>\n<ellipse fill=\"none\" stroke=\"black\" cx=\"1603.69\" cy=\"-529\" rx=\"63.89\" ry=\"18\"/>\n<text text-anchor=\"start\" x=\"1562.69\" y=\"-526.3\" font-family=\"Times,serif\" font-size=\"14.00\">leaf 19: </text>\n<text text-anchor=\"start\" x=\"1608.69\" y=\"-526.3\" font-family=\"Times,serif\" font-weight=\"bold\" font-size=\"14.00\">&#45;0.064</text>\n</g>\n<!-- split28 -->\n<g id=\"node60\" class=\"node\">\n<title>split28</title>\n<polygon fill=\"none\" stroke=\"black\" points=\"1759.69,-620 1677.69,-620 1677.69,-584 1759.69,-584 1759.69,-620\"/>\n<text text-anchor=\"start\" x=\"1685.69\" y=\"-599.3\" font-family=\"Times,serif\" font-weight=\"bold\" font-size=\"14.00\">Age</text>\n<text text-anchor=\"start\" x=\"1708.69\" y=\"-599.3\" font-family=\"Times,serif\" font-size=\"14.00\"> ≤</text>\n<text text-anchor=\"start\" x=\"1720.69\" y=\"-599.3\" font-family=\"Times,serif\" font-weight=\"bold\" font-size=\"14.00\">7.500</text>\n</g>\n<!-- split28&#45;&gt;leaf19 -->\n<g id=\"edge54\" class=\"edge\">\n<title>split28&#45;&gt;leaf19</title>\n<path fill=\"none\" stroke=\"black\" d=\"M1691.15,-583.99C1675.08,-574.07 1654.68,-561.48 1637.62,-550.95\"/>\n<polygon fill=\"black\" stroke=\"black\" points=\"1639.4,-547.93 1629.05,-545.65 1635.72,-553.89 1639.4,-547.93\"/>\n<text text-anchor=\"middle\" x=\"1681.19\" y=\"-561.8\" font-family=\"Times,serif\" font-size=\"14.00\">yes</text>\n</g>\n<!-- split29 -->\n<g id=\"node62\" class=\"node\">\n<title>split29</title>\n<polygon fill=\"none\" stroke=\"black\" points=\"1765.69,-547 1671.69,-547 1671.69,-511 1765.69,-511 1765.69,-547\"/>\n<text text-anchor=\"start\" x=\"1679.69\" y=\"-526.3\" font-family=\"Times,serif\" font-weight=\"bold\" font-size=\"14.00\">BMI</text>\n<text text-anchor=\"start\" x=\"1707.69\" y=\"-526.3\" font-family=\"Times,serif\" font-size=\"14.00\"> ≤</text>\n<text text-anchor=\"start\" x=\"1719.69\" y=\"-526.3\" font-family=\"Times,serif\" font-weight=\"bold\" font-size=\"14.00\">30.003</text>\n</g>\n<!-- split28&#45;&gt;split29 -->\n<g id=\"edge59\" class=\"edge\">\n<title>split28&#45;&gt;split29</title>\n<path fill=\"none\" stroke=\"black\" d=\"M1718.69,-583.81C1718.69,-575.79 1718.69,-566.05 1718.69,-557.07\"/>\n<polygon fill=\"black\" stroke=\"black\" points=\"1722.19,-557.03 1718.69,-547.03 1715.19,-557.03 1722.19,-557.03\"/>\n<text text-anchor=\"middle\" x=\"1725.69\" y=\"-561.8\" font-family=\"Times,serif\" font-size=\"14.00\">no</text>\n</g>\n<!-- leaf29 -->\n<g id=\"node61\" class=\"node\">\n<title>leaf29</title>\n<ellipse fill=\"none\" stroke=\"black\" cx=\"1579.69\" cy=\"-456\" rx=\"60.39\" ry=\"18\"/>\n<text text-anchor=\"start\" x=\"1541.19\" y=\"-453.3\" font-family=\"Times,serif\" font-size=\"14.00\">leaf 29: </text>\n<text text-anchor=\"start\" x=\"1587.19\" y=\"-453.3\" font-family=\"Times,serif\" font-weight=\"bold\" font-size=\"14.00\">0.010</text>\n</g>\n<!-- split29&#45;&gt;leaf29 -->\n<g id=\"edge55\" class=\"edge\">\n<title>split29&#45;&gt;leaf29</title>\n<path fill=\"none\" stroke=\"black\" d=\"M1685.4,-510.99C1665.11,-500.63 1639.11,-487.35 1617.97,-476.55\"/>\n<polygon fill=\"black\" stroke=\"black\" points=\"1619.44,-473.37 1608.94,-471.94 1616.26,-479.61 1619.44,-473.37\"/>\n<text text-anchor=\"middle\" x=\"1671.19\" y=\"-488.8\" font-family=\"Times,serif\" font-size=\"14.00\">yes</text>\n</g>\n<!-- split39 -->\n<g id=\"node64\" class=\"node\">\n<title>split39</title>\n<polygon fill=\"none\" stroke=\"black\" points=\"1829.19,-474 1644.19,-474 1644.19,-438 1829.19,-438 1829.19,-474\"/>\n<text text-anchor=\"start\" x=\"1652.19\" y=\"-453.3\" font-family=\"Times,serif\" font-weight=\"bold\" font-size=\"14.00\">HvyAlcoholConsump</text>\n<text text-anchor=\"start\" x=\"1778.19\" y=\"-453.3\" font-family=\"Times,serif\" font-size=\"14.00\"> ≤</text>\n<text text-anchor=\"start\" x=\"1790.19\" y=\"-453.3\" font-family=\"Times,serif\" font-weight=\"bold\" font-size=\"14.00\">0.000</text>\n</g>\n<!-- split29&#45;&gt;split39 -->\n<g id=\"edge58\" class=\"edge\">\n<title>split29&#45;&gt;split39</title>\n<path fill=\"none\" stroke=\"black\" d=\"M1723.05,-510.81C1725.11,-502.7 1727.61,-492.84 1729.91,-483.78\"/>\n<polygon fill=\"black\" stroke=\"black\" points=\"1733.31,-484.58 1732.38,-474.03 1726.53,-482.86 1733.31,-484.58\"/>\n<text text-anchor=\"middle\" x=\"1736.69\" y=\"-488.8\" font-family=\"Times,serif\" font-size=\"14.00\">no</text>\n</g>\n<!-- leaf30 -->\n<g id=\"node63\" class=\"node\">\n<title>leaf30</title>\n<ellipse fill=\"none\" stroke=\"black\" cx=\"1672.69\" cy=\"-383\" rx=\"60.39\" ry=\"18\"/>\n<text text-anchor=\"start\" x=\"1634.19\" y=\"-380.3\" font-family=\"Times,serif\" font-size=\"14.00\">leaf 30: </text>\n<text text-anchor=\"start\" x=\"1680.19\" y=\"-380.3\" font-family=\"Times,serif\" font-weight=\"bold\" font-size=\"14.00\">0.076</text>\n</g>\n<!-- split39&#45;&gt;leaf30 -->\n<g id=\"edge56\" class=\"edge\">\n<title>split39&#45;&gt;leaf30</title>\n<path fill=\"none\" stroke=\"black\" d=\"M1721.2,-437.81C1713.15,-428.88 1703.17,-417.8 1694.36,-408.03\"/>\n<polygon fill=\"black\" stroke=\"black\" points=\"1696.9,-405.62 1687.6,-400.54 1691.7,-410.31 1696.9,-405.62\"/>\n<text text-anchor=\"middle\" x=\"1720.19\" y=\"-415.8\" font-family=\"Times,serif\" font-size=\"14.00\">yes</text>\n</g>\n<!-- leaf40 -->\n<g id=\"node65\" class=\"node\">\n<title>leaf40</title>\n<ellipse fill=\"none\" stroke=\"black\" cx=\"1799.69\" cy=\"-383\" rx=\"63.09\" ry=\"18\"/>\n<text text-anchor=\"start\" x=\"1759.19\" y=\"-380.3\" font-family=\"Times,serif\" font-size=\"14.00\">leaf 40: </text>\n<text text-anchor=\"start\" x=\"1805.19\" y=\"-380.3\" font-family=\"Times,serif\" font-weight=\"bold\" font-size=\"14.00\">&#45;0.113</text>\n</g>\n<!-- split39&#45;&gt;leaf40 -->\n<g id=\"edge57\" class=\"edge\">\n<title>split39&#45;&gt;leaf40</title>\n<path fill=\"none\" stroke=\"black\" d=\"M1751.94,-437.81C1759.88,-428.88 1769.7,-417.8 1778.37,-408.03\"/>\n<polygon fill=\"black\" stroke=\"black\" points=\"1781,-410.34 1785.02,-400.54 1775.76,-405.7 1781,-410.34\"/>\n<text text-anchor=\"middle\" x=\"1781.69\" y=\"-415.8\" font-family=\"Times,serif\" font-size=\"14.00\">no</text>\n</g>\n<!-- split23 -->\n<g id=\"node66\" class=\"node\">\n<title>split23</title>\n<polygon fill=\"none\" stroke=\"black\" points=\"1881.69,-693 1767.69,-693 1767.69,-657 1881.69,-657 1881.69,-693\"/>\n<text text-anchor=\"start\" x=\"1775.69\" y=\"-672.3\" font-family=\"Times,serif\" font-weight=\"bold\" font-size=\"14.00\">PhysHlth</text>\n<text text-anchor=\"start\" x=\"1830.69\" y=\"-672.3\" font-family=\"Times,serif\" font-size=\"14.00\"> ≤</text>\n<text text-anchor=\"start\" x=\"1842.69\" y=\"-672.3\" font-family=\"Times,serif\" font-weight=\"bold\" font-size=\"14.00\">0.000</text>\n</g>\n<!-- split23&#45;&gt;split28 -->\n<g id=\"edge60\" class=\"edge\">\n<title>split23&#45;&gt;split28</title>\n<path fill=\"none\" stroke=\"black\" d=\"M1799.3,-656.99C1785.38,-647.67 1767.92,-635.97 1752.82,-625.86\"/>\n<polygon fill=\"black\" stroke=\"black\" points=\"1754.5,-622.77 1744.24,-620.11 1750.6,-628.59 1754.5,-622.77\"/>\n<text text-anchor=\"middle\" x=\"1791.19\" y=\"-634.8\" font-family=\"Times,serif\" font-size=\"14.00\">yes</text>\n</g>\n<!-- split51 -->\n<g id=\"node68\" class=\"node\">\n<title>split51</title>\n<polygon fill=\"none\" stroke=\"black\" points=\"1881.69,-620 1767.69,-620 1767.69,-584 1881.69,-584 1881.69,-620\"/>\n<text text-anchor=\"start\" x=\"1775.69\" y=\"-599.3\" font-family=\"Times,serif\" font-weight=\"bold\" font-size=\"14.00\">PhysHlth</text>\n<text text-anchor=\"start\" x=\"1830.69\" y=\"-599.3\" font-family=\"Times,serif\" font-size=\"14.00\"> ≤</text>\n<text text-anchor=\"start\" x=\"1842.69\" y=\"-599.3\" font-family=\"Times,serif\" font-weight=\"bold\" font-size=\"14.00\">0.999</text>\n</g>\n<!-- split23&#45;&gt;split51 -->\n<g id=\"edge65\" class=\"edge\">\n<title>split23&#45;&gt;split51</title>\n<path fill=\"none\" stroke=\"black\" d=\"M1824.69,-656.81C1824.69,-648.79 1824.69,-639.05 1824.69,-630.07\"/>\n<polygon fill=\"black\" stroke=\"black\" points=\"1828.19,-630.03 1824.69,-620.03 1821.19,-630.03 1828.19,-630.03\"/>\n<text text-anchor=\"middle\" x=\"1831.69\" y=\"-634.8\" font-family=\"Times,serif\" font-size=\"14.00\">no</text>\n</g>\n<!-- leaf24 -->\n<g id=\"node67\" class=\"node\">\n<title>leaf24</title>\n<ellipse fill=\"none\" stroke=\"black\" cx=\"1829.69\" cy=\"-529\" rx=\"60.39\" ry=\"18\"/>\n<text text-anchor=\"start\" x=\"1791.19\" y=\"-526.3\" font-family=\"Times,serif\" font-size=\"14.00\">leaf 24: </text>\n<text text-anchor=\"start\" x=\"1837.19\" y=\"-526.3\" font-family=\"Times,serif\" font-weight=\"bold\" font-size=\"14.00\">0.180</text>\n</g>\n<!-- split51&#45;&gt;leaf24 -->\n<g id=\"edge61\" class=\"edge\">\n<title>split51&#45;&gt;leaf24</title>\n<path fill=\"none\" stroke=\"black\" d=\"M1825.9,-583.81C1826.47,-575.79 1827.16,-566.05 1827.79,-557.07\"/>\n<polygon fill=\"black\" stroke=\"black\" points=\"1831.28,-557.25 1828.5,-547.03 1824.3,-556.76 1831.28,-557.25\"/>\n<text text-anchor=\"middle\" x=\"1837.19\" y=\"-561.8\" font-family=\"Times,serif\" font-size=\"14.00\">yes</text>\n</g>\n<!-- split52 -->\n<g id=\"node70\" class=\"node\">\n<title>split52</title>\n<polygon fill=\"none\" stroke=\"black\" points=\"2007.69,-547 1893.69,-547 1893.69,-511 2007.69,-511 2007.69,-547\"/>\n<text text-anchor=\"start\" x=\"1901.69\" y=\"-526.3\" font-family=\"Times,serif\" font-weight=\"bold\" font-size=\"14.00\">PhysHlth</text>\n<text text-anchor=\"start\" x=\"1956.69\" y=\"-526.3\" font-family=\"Times,serif\" font-size=\"14.00\"> ≤</text>\n<text text-anchor=\"start\" x=\"1968.69\" y=\"-526.3\" font-family=\"Times,serif\" font-weight=\"bold\" font-size=\"14.00\">1.003</text>\n</g>\n<!-- split51&#45;&gt;split52 -->\n<g id=\"edge64\" class=\"edge\">\n<title>split51&#45;&gt;split52</title>\n<path fill=\"none\" stroke=\"black\" d=\"M1854.87,-583.99C1871.74,-574.49 1892.95,-562.54 1911.13,-552.29\"/>\n<polygon fill=\"black\" stroke=\"black\" points=\"1913.33,-555.07 1920.32,-547.11 1909.89,-548.97 1913.33,-555.07\"/>\n<text text-anchor=\"middle\" x=\"1906.69\" y=\"-561.8\" font-family=\"Times,serif\" font-size=\"14.00\">no</text>\n</g>\n<!-- leaf52 -->\n<g id=\"node69\" class=\"node\">\n<title>leaf52</title>\n<ellipse fill=\"none\" stroke=\"black\" cx=\"1932.69\" cy=\"-456\" rx=\"63.89\" ry=\"18\"/>\n<text text-anchor=\"start\" x=\"1891.69\" y=\"-453.3\" font-family=\"Times,serif\" font-size=\"14.00\">leaf 52: </text>\n<text text-anchor=\"start\" x=\"1937.69\" y=\"-453.3\" font-family=\"Times,serif\" font-weight=\"bold\" font-size=\"14.00\">&#45;0.069</text>\n</g>\n<!-- split52&#45;&gt;leaf52 -->\n<g id=\"edge62\" class=\"edge\">\n<title>split52&#45;&gt;leaf52</title>\n<path fill=\"none\" stroke=\"black\" d=\"M1946.34,-510.81C1944.28,-502.7 1941.78,-492.84 1939.48,-483.78\"/>\n<polygon fill=\"black\" stroke=\"black\" points=\"1942.86,-482.86 1937.01,-474.03 1936.08,-484.58 1942.86,-482.86\"/>\n<text text-anchor=\"middle\" x=\"1953.19\" y=\"-488.8\" font-family=\"Times,serif\" font-size=\"14.00\">yes</text>\n</g>\n<!-- leaf53 -->\n<g id=\"node71\" class=\"node\">\n<title>leaf53</title>\n<ellipse fill=\"none\" stroke=\"black\" cx=\"2060.69\" cy=\"-456\" rx=\"60.39\" ry=\"18\"/>\n<text text-anchor=\"start\" x=\"2022.19\" y=\"-453.3\" font-family=\"Times,serif\" font-size=\"14.00\">leaf 53: </text>\n<text text-anchor=\"start\" x=\"2068.19\" y=\"-453.3\" font-family=\"Times,serif\" font-weight=\"bold\" font-size=\"14.00\">0.180</text>\n</g>\n<!-- split52&#45;&gt;leaf53 -->\n<g id=\"edge63\" class=\"edge\">\n<title>split52&#45;&gt;leaf53</title>\n<path fill=\"none\" stroke=\"black\" d=\"M1977.04,-510.99C1992.27,-501.16 2011.57,-488.71 2027.79,-478.24\"/>\n<polygon fill=\"black\" stroke=\"black\" points=\"2029.94,-481.02 2036.44,-472.65 2026.14,-475.14 2029.94,-481.02\"/>\n<text text-anchor=\"middle\" x=\"2022.69\" y=\"-488.8\" font-family=\"Times,serif\" font-size=\"14.00\">no</text>\n</g>\n<!-- split21&#45;&gt;split23 -->\n<g id=\"edge66\" class=\"edge\">\n<title>split21&#45;&gt;split23</title>\n<path fill=\"none\" stroke=\"black\" d=\"M1827.73,-729.81C1827.27,-721.79 1826.73,-712.05 1826.22,-703.07\"/>\n<polygon fill=\"black\" stroke=\"black\" points=\"1829.71,-702.82 1825.65,-693.03 1822.72,-703.21 1829.71,-702.82\"/>\n<text text-anchor=\"middle\" x=\"1837.19\" y=\"-707.8\" font-family=\"Times,serif\" font-size=\"14.00\">yes</text>\n</g>\n<!-- split33 -->\n<g id=\"node74\" class=\"node\">\n<title>split33</title>\n<polygon fill=\"none\" stroke=\"black\" points=\"2004.19,-693 1887.19,-693 1887.19,-657 2004.19,-657 2004.19,-693\"/>\n<text text-anchor=\"start\" x=\"1895.19\" y=\"-672.3\" font-family=\"Times,serif\" font-weight=\"bold\" font-size=\"14.00\">HighChol</text>\n<text text-anchor=\"start\" x=\"1953.19\" y=\"-672.3\" font-family=\"Times,serif\" font-size=\"14.00\"> ≤</text>\n<text text-anchor=\"start\" x=\"1965.19\" y=\"-672.3\" font-family=\"Times,serif\" font-weight=\"bold\" font-size=\"14.00\">0.000</text>\n</g>\n<!-- split21&#45;&gt;split33 -->\n<g id=\"edge69\" class=\"edge\">\n<title>split21&#45;&gt;split33</title>\n<path fill=\"none\" stroke=\"black\" d=\"M1856.72,-729.99C1872.23,-720.58 1891.72,-708.76 1908.49,-698.57\"/>\n<polygon fill=\"black\" stroke=\"black\" points=\"1910.76,-701.29 1917.49,-693.11 1907.13,-695.31 1910.76,-701.29\"/>\n<text text-anchor=\"middle\" x=\"1904.69\" y=\"-707.8\" font-family=\"Times,serif\" font-size=\"14.00\">no</text>\n</g>\n<!-- leaf22 -->\n<g id=\"node73\" class=\"node\">\n<title>leaf22</title>\n<ellipse fill=\"none\" stroke=\"black\" cx=\"1947.69\" cy=\"-602\" rx=\"62.29\" ry=\"18\"/>\n<text text-anchor=\"start\" x=\"1907.69\" y=\"-599.3\" font-family=\"Times,serif\" font-size=\"14.00\">leaf 22: </text>\n<text text-anchor=\"start\" x=\"1953.69\" y=\"-599.3\" font-family=\"Times,serif\" font-weight=\"bold\" font-size=\"14.00\">&#45;0.111</text>\n</g>\n<!-- split33&#45;&gt;leaf22 -->\n<g id=\"edge67\" class=\"edge\">\n<title>split33&#45;&gt;leaf22</title>\n<path fill=\"none\" stroke=\"black\" d=\"M1946.18,-656.81C1946.4,-648.79 1946.68,-639.05 1946.93,-630.07\"/>\n<polygon fill=\"black\" stroke=\"black\" points=\"1950.43,-630.12 1947.21,-620.03 1943.43,-629.93 1950.43,-630.12\"/>\n<text text-anchor=\"middle\" x=\"1957.19\" y=\"-634.8\" font-family=\"Times,serif\" font-size=\"14.00\">yes</text>\n</g>\n<!-- leaf34 -->\n<g id=\"node75\" class=\"node\">\n<title>leaf34</title>\n<ellipse fill=\"none\" stroke=\"black\" cx=\"2074.69\" cy=\"-602\" rx=\"60.39\" ry=\"18\"/>\n<text text-anchor=\"start\" x=\"2036.19\" y=\"-599.3\" font-family=\"Times,serif\" font-size=\"14.00\">leaf 34: </text>\n<text text-anchor=\"start\" x=\"2082.19\" y=\"-599.3\" font-family=\"Times,serif\" font-weight=\"bold\" font-size=\"14.00\">0.009</text>\n</g>\n<!-- split33&#45;&gt;leaf34 -->\n<g id=\"edge68\" class=\"edge\">\n<title>split33&#45;&gt;leaf34</title>\n<path fill=\"none\" stroke=\"black\" d=\"M1976.59,-656.99C1995.13,-646.79 2018.79,-633.77 2038.24,-623.07\"/>\n<polygon fill=\"black\" stroke=\"black\" points=\"2040.05,-626.06 2047.12,-618.18 2036.67,-619.93 2040.05,-626.06\"/>\n<text text-anchor=\"middle\" x=\"2029.69\" y=\"-634.8\" font-family=\"Times,serif\" font-size=\"14.00\">no</text>\n</g>\n<!-- split1&#45;&gt;split5 -->\n<g id=\"edge74\" class=\"edge\">\n<title>split1&#45;&gt;split5</title>\n<path fill=\"none\" stroke=\"black\" d=\"M1511.69,-1094.81C1511.69,-1086.79 1511.69,-1077.05 1511.69,-1068.07\"/>\n<polygon fill=\"black\" stroke=\"black\" points=\"1515.19,-1068.03 1511.69,-1058.03 1508.19,-1068.03 1515.19,-1068.03\"/>\n<text text-anchor=\"middle\" x=\"1521.19\" y=\"-1072.8\" font-family=\"Times,serif\" font-size=\"14.00\">yes</text>\n</g>\n<!-- split3 -->\n<g id=\"node92\" class=\"node\">\n<title>split3</title>\n<polygon fill=\"none\" stroke=\"black\" points=\"2237.19,-1058 2120.19,-1058 2120.19,-1022 2237.19,-1022 2237.19,-1058\"/>\n<text text-anchor=\"start\" x=\"2128.19\" y=\"-1037.3\" font-family=\"Times,serif\" font-weight=\"bold\" font-size=\"14.00\">HighChol</text>\n<text text-anchor=\"start\" x=\"2186.19\" y=\"-1037.3\" font-family=\"Times,serif\" font-size=\"14.00\"> ≤</text>\n<text text-anchor=\"start\" x=\"2198.19\" y=\"-1037.3\" font-family=\"Times,serif\" font-weight=\"bold\" font-size=\"14.00\">0.000</text>\n</g>\n<!-- split1&#45;&gt;split3 -->\n<g id=\"edge125\" class=\"edge\">\n<title>split1&#45;&gt;split3</title>\n<path fill=\"none\" stroke=\"black\" d=\"M1567.42,-1106.07C1688.86,-1093.14 1977.15,-1062.45 2109.77,-1048.34\"/>\n<polygon fill=\"black\" stroke=\"black\" points=\"2110.24,-1051.81 2119.81,-1047.27 2109.49,-1044.85 2110.24,-1051.81\"/>\n<text text-anchor=\"middle\" x=\"1912.69\" y=\"-1072.8\" font-family=\"Times,serif\" font-size=\"14.00\">no</text>\n</g>\n<!-- leaf2 -->\n<g id=\"node77\" class=\"node\">\n<title>leaf2</title>\n<ellipse fill=\"none\" stroke=\"black\" cx=\"2002.69\" cy=\"-821\" rx=\"59.29\" ry=\"18\"/>\n<text text-anchor=\"start\" x=\"1965.19\" y=\"-818.3\" font-family=\"Times,serif\" font-size=\"14.00\">leaf 2: </text>\n<text text-anchor=\"start\" x=\"2004.19\" y=\"-818.3\" font-family=\"Times,serif\" font-weight=\"bold\" font-size=\"14.00\">&#45;0.091</text>\n</g>\n<!-- split22 -->\n<g id=\"node78\" class=\"node\">\n<title>split22</title>\n<polygon fill=\"none\" stroke=\"black\" points=\"2168.69,-912 2074.69,-912 2074.69,-876 2168.69,-876 2168.69,-912\"/>\n<text text-anchor=\"start\" x=\"2082.69\" y=\"-891.3\" font-family=\"Times,serif\" font-weight=\"bold\" font-size=\"14.00\">BMI</text>\n<text text-anchor=\"start\" x=\"2110.69\" y=\"-891.3\" font-family=\"Times,serif\" font-size=\"14.00\"> ≤</text>\n<text text-anchor=\"start\" x=\"2122.69\" y=\"-891.3\" font-family=\"Times,serif\" font-weight=\"bold\" font-size=\"14.00\">39.199</text>\n</g>\n<!-- split22&#45;&gt;leaf2 -->\n<g id=\"edge75\" class=\"edge\">\n<title>split22&#45;&gt;leaf2</title>\n<path fill=\"none\" stroke=\"black\" d=\"M2093.19,-875.99C2076.44,-866 2055.15,-853.3 2037.43,-842.72\"/>\n<polygon fill=\"black\" stroke=\"black\" points=\"2038.91,-839.53 2028.53,-837.41 2035.32,-845.54 2038.91,-839.53\"/>\n<text text-anchor=\"middle\" x=\"2083.19\" y=\"-853.8\" font-family=\"Times,serif\" font-size=\"14.00\">yes</text>\n</g>\n<!-- leaf23 -->\n<g id=\"node79\" class=\"node\">\n<title>leaf23</title>\n<ellipse fill=\"none\" stroke=\"black\" cx=\"2126.69\" cy=\"-821\" rx=\"60.39\" ry=\"18\"/>\n<text text-anchor=\"start\" x=\"2088.19\" y=\"-818.3\" font-family=\"Times,serif\" font-size=\"14.00\">leaf 23: </text>\n<text text-anchor=\"start\" x=\"2134.19\" y=\"-818.3\" font-family=\"Times,serif\" font-weight=\"bold\" font-size=\"14.00\">0.061</text>\n</g>\n<!-- split22&#45;&gt;leaf23 -->\n<g id=\"edge76\" class=\"edge\">\n<title>split22&#45;&gt;leaf23</title>\n<path fill=\"none\" stroke=\"black\" d=\"M2122.9,-875.81C2123.47,-867.79 2124.16,-858.05 2124.79,-849.07\"/>\n<polygon fill=\"black\" stroke=\"black\" points=\"2128.28,-849.25 2125.5,-839.03 2121.3,-848.76 2128.28,-849.25\"/>\n<text text-anchor=\"middle\" x=\"2131.69\" y=\"-853.8\" font-family=\"Times,serif\" font-size=\"14.00\">no</text>\n</g>\n<!-- split13 -->\n<g id=\"node80\" class=\"node\">\n<title>split13</title>\n<polygon fill=\"none\" stroke=\"black\" points=\"2219.69,-985 2137.69,-985 2137.69,-949 2219.69,-949 2219.69,-985\"/>\n<text text-anchor=\"start\" x=\"2145.69\" y=\"-964.3\" font-family=\"Times,serif\" font-weight=\"bold\" font-size=\"14.00\">Age</text>\n<text text-anchor=\"start\" x=\"2168.69\" y=\"-964.3\" font-family=\"Times,serif\" font-size=\"14.00\"> ≤</text>\n<text text-anchor=\"start\" x=\"2180.69\" y=\"-964.3\" font-family=\"Times,serif\" font-weight=\"bold\" font-size=\"14.00\">6.500</text>\n</g>\n<!-- split13&#45;&gt;split22 -->\n<g id=\"edge77\" class=\"edge\">\n<title>split13&#45;&gt;split22</title>\n<path fill=\"none\" stroke=\"black\" d=\"M2164.9,-948.81C2157.96,-940.18 2149.44,-929.56 2141.79,-920.03\"/>\n<polygon fill=\"black\" stroke=\"black\" points=\"2144.36,-917.64 2135.37,-912.03 2138.9,-922.02 2144.36,-917.64\"/>\n<text text-anchor=\"middle\" x=\"2165.19\" y=\"-926.8\" font-family=\"Times,serif\" font-size=\"14.00\">yes</text>\n</g>\n<!-- split14 -->\n<g id=\"node90\" class=\"node\">\n<title>split14</title>\n<polygon fill=\"none\" stroke=\"black\" points=\"2358.19,-912 2173.19,-912 2173.19,-876 2358.19,-876 2358.19,-912\"/>\n<text text-anchor=\"start\" x=\"2181.19\" y=\"-891.3\" font-family=\"Times,serif\" font-weight=\"bold\" font-size=\"14.00\">HvyAlcoholConsump</text>\n<text text-anchor=\"start\" x=\"2307.19\" y=\"-891.3\" font-family=\"Times,serif\" font-size=\"14.00\"> ≤</text>\n<text text-anchor=\"start\" x=\"2319.19\" y=\"-891.3\" font-family=\"Times,serif\" font-weight=\"bold\" font-size=\"14.00\">0.000</text>\n</g>\n<!-- split13&#45;&gt;split14 -->\n<g id=\"edge88\" class=\"edge\">\n<title>split13&#45;&gt;split14</title>\n<path fill=\"none\" stroke=\"black\" d=\"M2199.75,-948.81C2210.87,-939.74 2224.67,-928.48 2236.78,-918.6\"/>\n<polygon fill=\"black\" stroke=\"black\" points=\"2239.29,-921.06 2244.83,-912.03 2234.87,-915.64 2239.29,-921.06\"/>\n<text text-anchor=\"middle\" x=\"2237.69\" y=\"-926.8\" font-family=\"Times,serif\" font-size=\"14.00\">no</text>\n</g>\n<!-- leaf14 -->\n<g id=\"node81\" class=\"node\">\n<title>leaf14</title>\n<ellipse fill=\"none\" stroke=\"black\" cx=\"2071.69\" cy=\"-675\" rx=\"63.89\" ry=\"18\"/>\n<text text-anchor=\"start\" x=\"2030.69\" y=\"-672.3\" font-family=\"Times,serif\" font-size=\"14.00\">leaf 14: </text>\n<text text-anchor=\"start\" x=\"2076.69\" y=\"-672.3\" font-family=\"Times,serif\" font-weight=\"bold\" font-size=\"14.00\">&#45;0.151</text>\n</g>\n<!-- split55 -->\n<g id=\"node82\" class=\"node\">\n<title>split55</title>\n<polygon fill=\"none\" stroke=\"black\" points=\"2246.69,-766 2152.69,-766 2152.69,-730 2246.69,-730 2246.69,-766\"/>\n<text text-anchor=\"start\" x=\"2160.69\" y=\"-745.3\" font-family=\"Times,serif\" font-weight=\"bold\" font-size=\"14.00\">BMI</text>\n<text text-anchor=\"start\" x=\"2188.69\" y=\"-745.3\" font-family=\"Times,serif\" font-size=\"14.00\"> ≤</text>\n<text text-anchor=\"start\" x=\"2200.69\" y=\"-745.3\" font-family=\"Times,serif\" font-weight=\"bold\" font-size=\"14.00\">20.002</text>\n</g>\n<!-- split55&#45;&gt;leaf14 -->\n<g id=\"edge78\" class=\"edge\">\n<title>split55&#45;&gt;leaf14</title>\n<path fill=\"none\" stroke=\"black\" d=\"M2169.04,-729.99C2150.77,-719.86 2127.49,-706.95 2108.27,-696.29\"/>\n<polygon fill=\"black\" stroke=\"black\" points=\"2109.93,-693.2 2099.48,-691.41 2106.53,-699.33 2109.93,-693.2\"/>\n<text text-anchor=\"middle\" x=\"2157.19\" y=\"-707.8\" font-family=\"Times,serif\" font-size=\"14.00\">yes</text>\n</g>\n<!-- leaf56 -->\n<g id=\"node83\" class=\"node\">\n<title>leaf56</title>\n<ellipse fill=\"none\" stroke=\"black\" cx=\"2199.69\" cy=\"-675\" rx=\"60.39\" ry=\"18\"/>\n<text text-anchor=\"start\" x=\"2161.19\" y=\"-672.3\" font-family=\"Times,serif\" font-size=\"14.00\">leaf 56: </text>\n<text text-anchor=\"start\" x=\"2207.19\" y=\"-672.3\" font-family=\"Times,serif\" font-weight=\"bold\" font-size=\"14.00\">0.009</text>\n</g>\n<!-- split55&#45;&gt;leaf56 -->\n<g id=\"edge79\" class=\"edge\">\n<title>split55&#45;&gt;leaf56</title>\n<path fill=\"none\" stroke=\"black\" d=\"M2199.69,-729.81C2199.69,-721.79 2199.69,-712.05 2199.69,-703.07\"/>\n<polygon fill=\"black\" stroke=\"black\" points=\"2203.19,-703.03 2199.69,-693.03 2196.19,-703.03 2203.19,-703.03\"/>\n<text text-anchor=\"middle\" x=\"2206.69\" y=\"-707.8\" font-family=\"Times,serif\" font-size=\"14.00\">no</text>\n</g>\n<!-- split16 -->\n<g id=\"node84\" class=\"node\">\n<title>split16</title>\n<polygon fill=\"none\" stroke=\"black\" points=\"2300.69,-839 2206.69,-839 2206.69,-803 2300.69,-803 2300.69,-839\"/>\n<text text-anchor=\"start\" x=\"2214.69\" y=\"-818.3\" font-family=\"Times,serif\" font-weight=\"bold\" font-size=\"14.00\">BMI</text>\n<text text-anchor=\"start\" x=\"2242.69\" y=\"-818.3\" font-family=\"Times,serif\" font-size=\"14.00\"> ≤</text>\n<text text-anchor=\"start\" x=\"2254.69\" y=\"-818.3\" font-family=\"Times,serif\" font-weight=\"bold\" font-size=\"14.00\">26.000</text>\n</g>\n<!-- split16&#45;&gt;split55 -->\n<g id=\"edge80\" class=\"edge\">\n<title>split16&#45;&gt;split55</title>\n<path fill=\"none\" stroke=\"black\" d=\"M2240.62,-802.81C2234.06,-794.18 2225.98,-783.56 2218.73,-774.03\"/>\n<polygon fill=\"black\" stroke=\"black\" points=\"2221.49,-771.87 2212.65,-766.03 2215.91,-776.11 2221.49,-771.87\"/>\n<text text-anchor=\"middle\" x=\"2241.19\" y=\"-780.8\" font-family=\"Times,serif\" font-size=\"14.00\">yes</text>\n</g>\n<!-- split34 -->\n<g id=\"node88\" class=\"node\">\n<title>split34</title>\n<polygon fill=\"none\" stroke=\"black\" points=\"2371.19,-766 2260.19,-766 2260.19,-730 2371.19,-730 2371.19,-766\"/>\n<text text-anchor=\"start\" x=\"2268.19\" y=\"-745.3\" font-family=\"Times,serif\" font-weight=\"bold\" font-size=\"14.00\">GenHlth</text>\n<text text-anchor=\"start\" x=\"2320.19\" y=\"-745.3\" font-family=\"Times,serif\" font-size=\"14.00\"> ≤</text>\n<text text-anchor=\"start\" x=\"2332.19\" y=\"-745.3\" font-family=\"Times,serif\" font-weight=\"bold\" font-size=\"14.00\">3.500</text>\n</g>\n<!-- split16&#45;&gt;split34 -->\n<g id=\"edge85\" class=\"edge\">\n<title>split16&#45;&gt;split34</title>\n<path fill=\"none\" stroke=\"black\" d=\"M2268.7,-802.81C2276.32,-794.09 2285.71,-783.34 2294.09,-773.75\"/>\n<polygon fill=\"black\" stroke=\"black\" points=\"2296.88,-775.86 2300.82,-766.03 2291.61,-771.26 2296.88,-775.86\"/>\n<text text-anchor=\"middle\" x=\"2297.69\" y=\"-780.8\" font-family=\"Times,serif\" font-size=\"14.00\">no</text>\n</g>\n<!-- leaf17 -->\n<g id=\"node85\" class=\"node\">\n<title>leaf17</title>\n<ellipse fill=\"none\" stroke=\"black\" cx=\"2278.69\" cy=\"-602\" rx=\"60.39\" ry=\"18\"/>\n<text text-anchor=\"start\" x=\"2240.19\" y=\"-599.3\" font-family=\"Times,serif\" font-size=\"14.00\">leaf 17: </text>\n<text text-anchor=\"start\" x=\"2286.19\" y=\"-599.3\" font-family=\"Times,serif\" font-weight=\"bold\" font-size=\"14.00\">0.009</text>\n</g>\n<!-- split60 -->\n<g id=\"node86\" class=\"node\">\n<title>split60</title>\n<polygon fill=\"none\" stroke=\"black\" points=\"2367.19,-693 2264.19,-693 2264.19,-657 2367.19,-657 2367.19,-693\"/>\n<text text-anchor=\"start\" x=\"2272.19\" y=\"-672.3\" font-family=\"Times,serif\" font-weight=\"bold\" font-size=\"14.00\">Income</text>\n<text text-anchor=\"start\" x=\"2316.19\" y=\"-672.3\" font-family=\"Times,serif\" font-size=\"14.00\"> ≤</text>\n<text text-anchor=\"start\" x=\"2328.19\" y=\"-672.3\" font-family=\"Times,serif\" font-weight=\"bold\" font-size=\"14.00\">5.500</text>\n</g>\n<!-- split60&#45;&gt;leaf17 -->\n<g id=\"edge81\" class=\"edge\">\n<title>split60&#45;&gt;leaf17</title>\n<path fill=\"none\" stroke=\"black\" d=\"M2306.74,-656.81C2302.37,-648.44 2297.04,-638.2 2292.19,-628.9\"/>\n<polygon fill=\"black\" stroke=\"black\" points=\"2295.29,-627.28 2287.57,-620.03 2289.09,-630.51 2295.29,-627.28\"/>\n<text text-anchor=\"middle\" x=\"2310.19\" y=\"-634.8\" font-family=\"Times,serif\" font-size=\"14.00\">yes</text>\n</g>\n<!-- leaf61 -->\n<g id=\"node87\" class=\"node\">\n<title>leaf61</title>\n<ellipse fill=\"none\" stroke=\"black\" cx=\"2403.69\" cy=\"-602\" rx=\"60.39\" ry=\"18\"/>\n<text text-anchor=\"start\" x=\"2365.19\" y=\"-599.3\" font-family=\"Times,serif\" font-size=\"14.00\">leaf 61: </text>\n<text text-anchor=\"start\" x=\"2411.19\" y=\"-599.3\" font-family=\"Times,serif\" font-weight=\"bold\" font-size=\"14.00\">0.066</text>\n</g>\n<!-- split60&#45;&gt;leaf61 -->\n<g id=\"edge82\" class=\"edge\">\n<title>split60&#45;&gt;leaf61</title>\n<path fill=\"none\" stroke=\"black\" d=\"M2337,-656.81C2348.68,-647.39 2363.3,-635.59 2375.88,-625.44\"/>\n<polygon fill=\"black\" stroke=\"black\" points=\"2378.21,-628.06 2383.79,-619.06 2373.81,-622.61 2378.21,-628.06\"/>\n<text text-anchor=\"middle\" x=\"2374.69\" y=\"-634.8\" font-family=\"Times,serif\" font-size=\"14.00\">no</text>\n</g>\n<!-- split34&#45;&gt;split60 -->\n<g id=\"edge83\" class=\"edge\">\n<title>split34&#45;&gt;split60</title>\n<path fill=\"none\" stroke=\"black\" d=\"M2315.69,-729.81C2315.69,-721.79 2315.69,-712.05 2315.69,-703.07\"/>\n<polygon fill=\"black\" stroke=\"black\" points=\"2319.19,-703.03 2315.69,-693.03 2312.19,-703.03 2319.19,-703.03\"/>\n<text text-anchor=\"middle\" x=\"2325.19\" y=\"-707.8\" font-family=\"Times,serif\" font-size=\"14.00\">yes</text>\n</g>\n<!-- leaf35 -->\n<g id=\"node89\" class=\"node\">\n<title>leaf35</title>\n<ellipse fill=\"none\" stroke=\"black\" cx=\"2431.69\" cy=\"-675\" rx=\"60.39\" ry=\"18\"/>\n<text text-anchor=\"start\" x=\"2393.19\" y=\"-672.3\" font-family=\"Times,serif\" font-size=\"14.00\">leaf 35: </text>\n<text text-anchor=\"start\" x=\"2439.19\" y=\"-672.3\" font-family=\"Times,serif\" font-weight=\"bold\" font-size=\"14.00\">0.094</text>\n</g>\n<!-- split34&#45;&gt;leaf35 -->\n<g id=\"edge84\" class=\"edge\">\n<title>split34&#45;&gt;leaf35</title>\n<path fill=\"none\" stroke=\"black\" d=\"M2343.48,-729.99C2359.8,-720 2380.56,-707.3 2397.83,-696.72\"/>\n<polygon fill=\"black\" stroke=\"black\" points=\"2399.81,-699.62 2406.51,-691.41 2396.15,-693.65 2399.81,-699.62\"/>\n<text text-anchor=\"middle\" x=\"2391.69\" y=\"-707.8\" font-family=\"Times,serif\" font-size=\"14.00\">no</text>\n</g>\n<!-- split14&#45;&gt;split16 -->\n<g id=\"edge86\" class=\"edge\">\n<title>split14&#45;&gt;split16</title>\n<path fill=\"none\" stroke=\"black\" d=\"M2262.79,-875.81C2261.43,-867.79 2259.79,-858.05 2258.27,-849.07\"/>\n<polygon fill=\"black\" stroke=\"black\" points=\"2261.69,-848.31 2256.57,-839.03 2254.79,-849.47 2261.69,-848.31\"/>\n<text text-anchor=\"middle\" x=\"2271.19\" y=\"-853.8\" font-family=\"Times,serif\" font-size=\"14.00\">yes</text>\n</g>\n<!-- leaf15 -->\n<g id=\"node91\" class=\"node\">\n<title>leaf15</title>\n<ellipse fill=\"none\" stroke=\"black\" cx=\"2368.69\" cy=\"-821\" rx=\"63.89\" ry=\"18\"/>\n<text text-anchor=\"start\" x=\"2327.69\" y=\"-818.3\" font-family=\"Times,serif\" font-size=\"14.00\">leaf 15: </text>\n<text text-anchor=\"start\" x=\"2373.69\" y=\"-818.3\" font-family=\"Times,serif\" font-weight=\"bold\" font-size=\"14.00\">&#45;0.144</text>\n</g>\n<!-- split14&#45;&gt;leaf15 -->\n<g id=\"edge87\" class=\"edge\">\n<title>split14&#45;&gt;leaf15</title>\n<path fill=\"none\" stroke=\"black\" d=\"M2290.37,-875.99C2304.4,-866.32 2322.11,-854.11 2337.14,-843.75\"/>\n<polygon fill=\"black\" stroke=\"black\" points=\"2339.39,-846.45 2345.64,-837.89 2335.42,-840.69 2339.39,-846.45\"/>\n<text text-anchor=\"middle\" x=\"2333.69\" y=\"-853.8\" font-family=\"Times,serif\" font-size=\"14.00\">no</text>\n</g>\n<!-- split3&#45;&gt;split13 -->\n<g id=\"edge89\" class=\"edge\">\n<title>split3&#45;&gt;split13</title>\n<path fill=\"none\" stroke=\"black\" d=\"M2178.69,-1021.81C2178.69,-1013.79 2178.69,-1004.05 2178.69,-995.07\"/>\n<polygon fill=\"black\" stroke=\"black\" points=\"2182.19,-995.03 2178.69,-985.03 2175.19,-995.03 2182.19,-995.03\"/>\n<text text-anchor=\"middle\" x=\"2188.19\" y=\"-999.8\" font-family=\"Times,serif\" font-size=\"14.00\">yes</text>\n</g>\n<!-- split6 -->\n<g id=\"node126\" class=\"node\">\n<title>split6</title>\n<polygon fill=\"none\" stroke=\"black\" points=\"2753.19,-985 2568.19,-985 2568.19,-949 2753.19,-949 2753.19,-985\"/>\n<text text-anchor=\"start\" x=\"2576.19\" y=\"-964.3\" font-family=\"Times,serif\" font-weight=\"bold\" font-size=\"14.00\">HvyAlcoholConsump</text>\n<text text-anchor=\"start\" x=\"2702.19\" y=\"-964.3\" font-family=\"Times,serif\" font-size=\"14.00\"> ≤</text>\n<text text-anchor=\"start\" x=\"2714.19\" y=\"-964.3\" font-family=\"Times,serif\" font-weight=\"bold\" font-size=\"14.00\">0.000</text>\n</g>\n<!-- split3&#45;&gt;split6 -->\n<g id=\"edge124\" class=\"edge\">\n<title>split3&#45;&gt;split6</title>\n<path fill=\"none\" stroke=\"black\" d=\"M2237.32,-1030.36C2316.87,-1018.65 2460.29,-997.52 2557.95,-983.14\"/>\n<polygon fill=\"black\" stroke=\"black\" points=\"2558.46,-986.6 2567.84,-981.68 2557.44,-979.67 2558.46,-986.6\"/>\n<text text-anchor=\"middle\" x=\"2470.69\" y=\"-999.8\" font-family=\"Times,serif\" font-size=\"14.00\">no</text>\n</g>\n<!-- leaf4 -->\n<g id=\"node93\" class=\"node\">\n<title>leaf4</title>\n<ellipse fill=\"none\" stroke=\"black\" cx=\"2551.69\" cy=\"-675\" rx=\"55.79\" ry=\"18\"/>\n<text text-anchor=\"start\" x=\"2516.69\" y=\"-672.3\" font-family=\"Times,serif\" font-size=\"14.00\">leaf 4: </text>\n<text text-anchor=\"start\" x=\"2555.69\" y=\"-672.3\" font-family=\"Times,serif\" font-weight=\"bold\" font-size=\"14.00\">0.004</text>\n</g>\n<!-- split36 -->\n<g id=\"node94\" class=\"node\">\n<title>split36</title>\n<polygon fill=\"none\" stroke=\"black\" points=\"2624.69,-766 2530.69,-766 2530.69,-730 2624.69,-730 2624.69,-766\"/>\n<text text-anchor=\"start\" x=\"2538.69\" y=\"-745.3\" font-family=\"Times,serif\" font-weight=\"bold\" font-size=\"14.00\">BMI</text>\n<text text-anchor=\"start\" x=\"2566.69\" y=\"-745.3\" font-family=\"Times,serif\" font-size=\"14.00\"> ≤</text>\n<text text-anchor=\"start\" x=\"2578.69\" y=\"-745.3\" font-family=\"Times,serif\" font-weight=\"bold\" font-size=\"14.00\">23.005</text>\n</g>\n<!-- split36&#45;&gt;leaf4 -->\n<g id=\"edge90\" class=\"edge\">\n<title>split36&#45;&gt;leaf4</title>\n<path fill=\"none\" stroke=\"black\" d=\"M2571.4,-729.81C2568.4,-721.62 2564.74,-711.62 2561.39,-702.48\"/>\n<polygon fill=\"black\" stroke=\"black\" points=\"2564.66,-701.22 2557.93,-693.03 2558.08,-703.62 2564.66,-701.22\"/>\n<text text-anchor=\"middle\" x=\"2577.19\" y=\"-707.8\" font-family=\"Times,serif\" font-size=\"14.00\">yes</text>\n</g>\n<!-- split48 -->\n<g id=\"node96\" class=\"node\">\n<title>split48</title>\n<polygon fill=\"none\" stroke=\"black\" points=\"2705.69,-693 2611.69,-693 2611.69,-657 2705.69,-657 2705.69,-693\"/>\n<text text-anchor=\"start\" x=\"2619.69\" y=\"-672.3\" font-family=\"Times,serif\" font-weight=\"bold\" font-size=\"14.00\">BMI</text>\n<text text-anchor=\"start\" x=\"2647.69\" y=\"-672.3\" font-family=\"Times,serif\" font-size=\"14.00\"> ≤</text>\n<text text-anchor=\"start\" x=\"2659.69\" y=\"-672.3\" font-family=\"Times,serif\" font-weight=\"bold\" font-size=\"14.00\">23.955</text>\n</g>\n<!-- split36&#45;&gt;split48 -->\n<g id=\"edge93\" class=\"edge\">\n<title>split36&#45;&gt;split48</title>\n<path fill=\"none\" stroke=\"black\" d=\"M2597.3,-729.81C2607.55,-720.83 2620.26,-709.69 2631.44,-699.89\"/>\n<polygon fill=\"black\" stroke=\"black\" points=\"2634.05,-702.25 2639.27,-693.03 2629.44,-696.99 2634.05,-702.25\"/>\n<text text-anchor=\"middle\" x=\"2632.69\" y=\"-707.8\" font-family=\"Times,serif\" font-size=\"14.00\">no</text>\n</g>\n<!-- leaf37 -->\n<g id=\"node95\" class=\"node\">\n<title>leaf37</title>\n<ellipse fill=\"none\" stroke=\"black\" cx=\"2569.69\" cy=\"-602\" rx=\"60.39\" ry=\"18\"/>\n<text text-anchor=\"start\" x=\"2531.19\" y=\"-599.3\" font-family=\"Times,serif\" font-size=\"14.00\">leaf 37: </text>\n<text text-anchor=\"start\" x=\"2577.19\" y=\"-599.3\" font-family=\"Times,serif\" font-weight=\"bold\" font-size=\"14.00\">0.180</text>\n</g>\n<!-- split48&#45;&gt;leaf37 -->\n<g id=\"edge91\" class=\"edge\">\n<title>split48&#45;&gt;leaf37</title>\n<path fill=\"none\" stroke=\"black\" d=\"M2637.15,-656.81C2625.33,-647.39 2610.54,-635.59 2597.83,-625.44\"/>\n<polygon fill=\"black\" stroke=\"black\" points=\"2599.82,-622.56 2589.82,-619.06 2595.45,-628.03 2599.82,-622.56\"/>\n<text text-anchor=\"middle\" x=\"2632.19\" y=\"-634.8\" font-family=\"Times,serif\" font-size=\"14.00\">yes</text>\n</g>\n<!-- leaf49 -->\n<g id=\"node97\" class=\"node\">\n<title>leaf49</title>\n<ellipse fill=\"none\" stroke=\"black\" cx=\"2694.69\" cy=\"-602\" rx=\"60.39\" ry=\"18\"/>\n<text text-anchor=\"start\" x=\"2656.19\" y=\"-599.3\" font-family=\"Times,serif\" font-size=\"14.00\">leaf 49: </text>\n<text text-anchor=\"start\" x=\"2702.19\" y=\"-599.3\" font-family=\"Times,serif\" font-weight=\"bold\" font-size=\"14.00\">0.059</text>\n</g>\n<!-- split48&#45;&gt;leaf49 -->\n<g id=\"edge92\" class=\"edge\">\n<title>split48&#45;&gt;leaf49</title>\n<path fill=\"none\" stroke=\"black\" d=\"M2667.41,-656.81C2671.61,-648.53 2676.74,-638.41 2681.41,-629.19\"/>\n<polygon fill=\"black\" stroke=\"black\" points=\"2684.66,-630.53 2686.06,-620.03 2678.42,-627.37 2684.66,-630.53\"/>\n<text text-anchor=\"middle\" x=\"2687.69\" y=\"-634.8\" font-family=\"Times,serif\" font-size=\"14.00\">no</text>\n</g>\n<!-- split35 -->\n<g id=\"node98\" class=\"node\">\n<title>split35</title>\n<polygon fill=\"none\" stroke=\"black\" points=\"2716.19,-839 2605.19,-839 2605.19,-803 2716.19,-803 2716.19,-839\"/>\n<text text-anchor=\"start\" x=\"2613.19\" y=\"-818.3\" font-family=\"Times,serif\" font-weight=\"bold\" font-size=\"14.00\">GenHlth</text>\n<text text-anchor=\"start\" x=\"2665.19\" y=\"-818.3\" font-family=\"Times,serif\" font-size=\"14.00\"> ≤</text>\n<text text-anchor=\"start\" x=\"2677.19\" y=\"-818.3\" font-family=\"Times,serif\" font-weight=\"bold\" font-size=\"14.00\">4.500</text>\n</g>\n<!-- split35&#45;&gt;split36 -->\n<g id=\"edge94\" class=\"edge\">\n<title>split35&#45;&gt;split36</title>\n<path fill=\"none\" stroke=\"black\" d=\"M2640.6,-802.81C2630,-793.74 2616.83,-782.48 2605.28,-772.6\"/>\n<polygon fill=\"black\" stroke=\"black\" points=\"2607.48,-769.87 2597.6,-766.03 2602.93,-775.19 2607.48,-769.87\"/>\n<text text-anchor=\"middle\" x=\"2636.19\" y=\"-780.8\" font-family=\"Times,serif\" font-size=\"14.00\">yes</text>\n</g>\n<!-- leaf36 -->\n<g id=\"node99\" class=\"node\">\n<title>leaf36</title>\n<ellipse fill=\"none\" stroke=\"black\" cx=\"2688.69\" cy=\"-748\" rx=\"60.39\" ry=\"18\"/>\n<text text-anchor=\"start\" x=\"2650.19\" y=\"-745.3\" font-family=\"Times,serif\" font-size=\"14.00\">leaf 36: </text>\n<text text-anchor=\"start\" x=\"2696.19\" y=\"-745.3\" font-family=\"Times,serif\" font-weight=\"bold\" font-size=\"14.00\">0.112</text>\n</g>\n<!-- split35&#45;&gt;leaf36 -->\n<g id=\"edge95\" class=\"edge\">\n<title>split35&#45;&gt;leaf36</title>\n<path fill=\"none\" stroke=\"black\" d=\"M2667.47,-802.81C2670.71,-794.62 2674.65,-784.62 2678.25,-775.48\"/>\n<polygon fill=\"black\" stroke=\"black\" points=\"2681.57,-776.62 2681.98,-766.03 2675.05,-774.05 2681.57,-776.62\"/>\n<text text-anchor=\"middle\" x=\"2684.69\" y=\"-780.8\" font-family=\"Times,serif\" font-size=\"14.00\">no</text>\n</g>\n<!-- split11 -->\n<g id=\"node100\" class=\"node\">\n<title>split11</title>\n<polygon fill=\"none\" stroke=\"black\" points=\"2707.69,-912 2613.69,-912 2613.69,-876 2707.69,-876 2707.69,-912\"/>\n<text text-anchor=\"start\" x=\"2621.69\" y=\"-891.3\" font-family=\"Times,serif\" font-weight=\"bold\" font-size=\"14.00\">BMI</text>\n<text text-anchor=\"start\" x=\"2649.69\" y=\"-891.3\" font-family=\"Times,serif\" font-size=\"14.00\"> ≤</text>\n<text text-anchor=\"start\" x=\"2661.69\" y=\"-891.3\" font-family=\"Times,serif\" font-weight=\"bold\" font-size=\"14.00\">26.000</text>\n</g>\n<!-- split11&#45;&gt;split35 -->\n<g id=\"edge96\" class=\"edge\">\n<title>split11&#45;&gt;split35</title>\n<path fill=\"none\" stroke=\"black\" d=\"M2660.69,-875.81C2660.69,-867.79 2660.69,-858.05 2660.69,-849.07\"/>\n<polygon fill=\"black\" stroke=\"black\" points=\"2664.19,-849.03 2660.69,-839.03 2657.19,-849.03 2664.19,-849.03\"/>\n<text text-anchor=\"middle\" x=\"2670.19\" y=\"-853.8\" font-family=\"Times,serif\" font-size=\"14.00\">yes</text>\n</g>\n<!-- split19 -->\n<g id=\"node104\" class=\"node\">\n<title>split19</title>\n<polygon fill=\"none\" stroke=\"black\" points=\"2893.69,-839 2811.69,-839 2811.69,-803 2893.69,-803 2893.69,-839\"/>\n<text text-anchor=\"start\" x=\"2819.69\" y=\"-818.3\" font-family=\"Times,serif\" font-weight=\"bold\" font-size=\"14.00\">Age</text>\n<text text-anchor=\"start\" x=\"2842.69\" y=\"-818.3\" font-family=\"Times,serif\" font-size=\"14.00\"> ≤</text>\n<text text-anchor=\"start\" x=\"2854.69\" y=\"-818.3\" font-family=\"Times,serif\" font-weight=\"bold\" font-size=\"14.00\">5.500</text>\n</g>\n<!-- split11&#45;&gt;split19 -->\n<g id=\"edge121\" class=\"edge\">\n<title>split11&#45;&gt;split19</title>\n<path fill=\"none\" stroke=\"black\" d=\"M2706.68,-875.99C2735.39,-865.38 2772.37,-851.7 2801.93,-840.77\"/>\n<polygon fill=\"black\" stroke=\"black\" points=\"2803.49,-843.93 2811.65,-837.18 2801.06,-837.36 2803.49,-843.93\"/>\n<text text-anchor=\"middle\" x=\"2781.69\" y=\"-853.8\" font-family=\"Times,serif\" font-size=\"14.00\">no</text>\n</g>\n<!-- leaf12 -->\n<g id=\"node101\" class=\"node\">\n<title>leaf12</title>\n<ellipse fill=\"none\" stroke=\"black\" cx=\"2773.69\" cy=\"-675\" rx=\"63.89\" ry=\"18\"/>\n<text text-anchor=\"start\" x=\"2732.69\" y=\"-672.3\" font-family=\"Times,serif\" font-size=\"14.00\">leaf 12: </text>\n<text text-anchor=\"start\" x=\"2778.69\" y=\"-672.3\" font-family=\"Times,serif\" font-weight=\"bold\" font-size=\"14.00\">&#45;0.124</text>\n</g>\n<!-- split25 -->\n<g id=\"node102\" class=\"node\">\n<title>split25</title>\n<polygon fill=\"none\" stroke=\"black\" points=\"2899.69,-766 2805.69,-766 2805.69,-730 2899.69,-730 2899.69,-766\"/>\n<text text-anchor=\"start\" x=\"2813.69\" y=\"-745.3\" font-family=\"Times,serif\" font-weight=\"bold\" font-size=\"14.00\">BMI</text>\n<text text-anchor=\"start\" x=\"2841.69\" y=\"-745.3\" font-family=\"Times,serif\" font-size=\"14.00\"> ≤</text>\n<text text-anchor=\"start\" x=\"2853.69\" y=\"-745.3\" font-family=\"Times,serif\" font-weight=\"bold\" font-size=\"14.00\">33.000</text>\n</g>\n<!-- split25&#45;&gt;leaf12 -->\n<g id=\"edge97\" class=\"edge\">\n<title>split25&#45;&gt;leaf12</title>\n<path fill=\"none\" stroke=\"black\" d=\"M2833.57,-729.81C2823.36,-720.63 2810.64,-709.2 2799.55,-699.24\"/>\n<polygon fill=\"black\" stroke=\"black\" points=\"2801.61,-696.38 2791.83,-692.3 2796.93,-701.58 2801.61,-696.38\"/>\n<text text-anchor=\"middle\" x=\"2830.19\" y=\"-707.8\" font-family=\"Times,serif\" font-size=\"14.00\">yes</text>\n</g>\n<!-- leaf26 -->\n<g id=\"node103\" class=\"node\">\n<title>leaf26</title>\n<ellipse fill=\"none\" stroke=\"black\" cx=\"2901.69\" cy=\"-675\" rx=\"60.39\" ry=\"18\"/>\n<text text-anchor=\"start\" x=\"2863.19\" y=\"-672.3\" font-family=\"Times,serif\" font-size=\"14.00\">leaf 26: </text>\n<text text-anchor=\"start\" x=\"2909.19\" y=\"-672.3\" font-family=\"Times,serif\" font-weight=\"bold\" font-size=\"14.00\">0.078</text>\n</g>\n<!-- split25&#45;&gt;leaf26 -->\n<g id=\"edge98\" class=\"edge\">\n<title>split25&#45;&gt;leaf26</title>\n<path fill=\"none\" stroke=\"black\" d=\"M2864.56,-729.81C2870.45,-721.27 2877.7,-710.77 2884.22,-701.32\"/>\n<polygon fill=\"black\" stroke=\"black\" points=\"2887.14,-703.25 2889.94,-693.03 2881.38,-699.27 2887.14,-703.25\"/>\n<text text-anchor=\"middle\" x=\"2888.69\" y=\"-707.8\" font-family=\"Times,serif\" font-size=\"14.00\">no</text>\n</g>\n<!-- split19&#45;&gt;split25 -->\n<g id=\"edge99\" class=\"edge\">\n<title>split19&#45;&gt;split25</title>\n<path fill=\"none\" stroke=\"black\" d=\"M2852.69,-802.81C2852.69,-794.79 2852.69,-785.05 2852.69,-776.07\"/>\n<polygon fill=\"black\" stroke=\"black\" points=\"2856.19,-776.03 2852.69,-766.03 2849.19,-776.03 2856.19,-776.03\"/>\n<text text-anchor=\"middle\" x=\"2862.19\" y=\"-780.8\" font-family=\"Times,serif\" font-size=\"14.00\">yes</text>\n</g>\n<!-- split27 -->\n<g id=\"node124\" class=\"node\">\n<title>split27</title>\n<polygon fill=\"none\" stroke=\"black\" points=\"3059.69,-766 2965.69,-766 2965.69,-730 3059.69,-730 3059.69,-766\"/>\n<text text-anchor=\"start\" x=\"2973.69\" y=\"-745.3\" font-family=\"Times,serif\" font-weight=\"bold\" font-size=\"14.00\">BMI</text>\n<text text-anchor=\"start\" x=\"3001.69\" y=\"-745.3\" font-family=\"Times,serif\" font-size=\"14.00\"> ≤</text>\n<text text-anchor=\"start\" x=\"3013.69\" y=\"-745.3\" font-family=\"Times,serif\" font-weight=\"bold\" font-size=\"14.00\">33.002</text>\n</g>\n<!-- split19&#45;&gt;split27 -->\n<g id=\"edge120\" class=\"edge\">\n<title>split19&#45;&gt;split27</title>\n<path fill=\"none\" stroke=\"black\" d=\"M2891.02,-802.99C2913.22,-793.14 2941.36,-780.66 2964.98,-770.17\"/>\n<polygon fill=\"black\" stroke=\"black\" points=\"2966.41,-773.37 2974.13,-766.11 2963.57,-766.97 2966.41,-773.37\"/>\n<text text-anchor=\"middle\" x=\"2954.69\" y=\"-780.8\" font-family=\"Times,serif\" font-size=\"14.00\">no</text>\n</g>\n<!-- leaf20 -->\n<g id=\"node105\" class=\"node\">\n<title>leaf20</title>\n<ellipse fill=\"none\" stroke=\"black\" cx=\"2977.69\" cy=\"-602\" rx=\"60.39\" ry=\"18\"/>\n<text text-anchor=\"start\" x=\"2939.19\" y=\"-599.3\" font-family=\"Times,serif\" font-size=\"14.00\">leaf 20: </text>\n<text text-anchor=\"start\" x=\"2985.19\" y=\"-599.3\" font-family=\"Times,serif\" font-weight=\"bold\" font-size=\"14.00\">0.180</text>\n</g>\n<!-- split31 -->\n<g id=\"node106\" class=\"node\">\n<title>split31</title>\n<polygon fill=\"none\" stroke=\"black\" points=\"3059.69,-693 2965.69,-693 2965.69,-657 3059.69,-657 3059.69,-693\"/>\n<text text-anchor=\"start\" x=\"2973.69\" y=\"-672.3\" font-family=\"Times,serif\" font-weight=\"bold\" font-size=\"14.00\">BMI</text>\n<text text-anchor=\"start\" x=\"3001.69\" y=\"-672.3\" font-family=\"Times,serif\" font-size=\"14.00\"> ≤</text>\n<text text-anchor=\"start\" x=\"3013.69\" y=\"-672.3\" font-family=\"Times,serif\" font-weight=\"bold\" font-size=\"14.00\">26.999</text>\n</g>\n<!-- split31&#45;&gt;leaf20 -->\n<g id=\"edge100\" class=\"edge\">\n<title>split31&#45;&gt;leaf20</title>\n<path fill=\"none\" stroke=\"black\" d=\"M3004.22,-656.81C3000.14,-648.53 2995.15,-638.41 2990.61,-629.19\"/>\n<polygon fill=\"black\" stroke=\"black\" points=\"2993.65,-627.45 2986.09,-620.03 2987.37,-630.55 2993.65,-627.45\"/>\n<text text-anchor=\"middle\" x=\"3008.19\" y=\"-634.8\" font-family=\"Times,serif\" font-size=\"14.00\">yes</text>\n</g>\n<!-- split40 -->\n<g id=\"node108\" class=\"node\">\n<title>split40</title>\n<polygon fill=\"none\" stroke=\"black\" points=\"3135.69,-620 3041.69,-620 3041.69,-584 3135.69,-584 3135.69,-620\"/>\n<text text-anchor=\"start\" x=\"3049.69\" y=\"-599.3\" font-family=\"Times,serif\" font-weight=\"bold\" font-size=\"14.00\">BMI</text>\n<text text-anchor=\"start\" x=\"3077.69\" y=\"-599.3\" font-family=\"Times,serif\" font-size=\"14.00\"> ≤</text>\n<text text-anchor=\"start\" x=\"3089.69\" y=\"-599.3\" font-family=\"Times,serif\" font-weight=\"bold\" font-size=\"14.00\">27.001</text>\n</g>\n<!-- split31&#45;&gt;split40 -->\n<g id=\"edge117\" class=\"edge\">\n<title>split31&#45;&gt;split40</title>\n<path fill=\"none\" stroke=\"black\" d=\"M3031.09,-656.81C3040.71,-647.83 3052.63,-636.69 3063.13,-626.89\"/>\n<polygon fill=\"black\" stroke=\"black\" points=\"3065.55,-629.41 3070.47,-620.03 3060.77,-624.3 3065.55,-629.41\"/>\n<text text-anchor=\"middle\" x=\"3064.69\" y=\"-634.8\" font-family=\"Times,serif\" font-size=\"14.00\">no</text>\n</g>\n<!-- leaf32 -->\n<g id=\"node107\" class=\"node\">\n<title>leaf32</title>\n<ellipse fill=\"none\" stroke=\"black\" cx=\"3053.69\" cy=\"-529\" rx=\"60.39\" ry=\"18\"/>\n<text text-anchor=\"start\" x=\"3015.19\" y=\"-526.3\" font-family=\"Times,serif\" font-size=\"14.00\">leaf 32: </text>\n<text text-anchor=\"start\" x=\"3061.19\" y=\"-526.3\" font-family=\"Times,serif\" font-weight=\"bold\" font-size=\"14.00\">0.062</text>\n</g>\n<!-- split40&#45;&gt;leaf32 -->\n<g id=\"edge101\" class=\"edge\">\n<title>split40&#45;&gt;leaf32</title>\n<path fill=\"none\" stroke=\"black\" d=\"M3080.22,-583.81C3076.14,-575.53 3071.15,-565.41 3066.61,-556.19\"/>\n<polygon fill=\"black\" stroke=\"black\" points=\"3069.65,-554.45 3062.09,-547.03 3063.37,-557.55 3069.65,-554.45\"/>\n<text text-anchor=\"middle\" x=\"3084.19\" y=\"-561.8\" font-family=\"Times,serif\" font-size=\"14.00\">yes</text>\n</g>\n<!-- split41 -->\n<g id=\"node110\" class=\"node\">\n<title>split41</title>\n<polygon fill=\"none\" stroke=\"black\" points=\"3211.69,-547 3117.69,-547 3117.69,-511 3211.69,-511 3211.69,-547\"/>\n<text text-anchor=\"start\" x=\"3125.69\" y=\"-526.3\" font-family=\"Times,serif\" font-weight=\"bold\" font-size=\"14.00\">BMI</text>\n<text text-anchor=\"start\" x=\"3153.69\" y=\"-526.3\" font-family=\"Times,serif\" font-size=\"14.00\"> ≤</text>\n<text text-anchor=\"start\" x=\"3165.69\" y=\"-526.3\" font-family=\"Times,serif\" font-weight=\"bold\" font-size=\"14.00\">27.998</text>\n</g>\n<!-- split40&#45;&gt;split41 -->\n<g id=\"edge116\" class=\"edge\">\n<title>split40&#45;&gt;split41</title>\n<path fill=\"none\" stroke=\"black\" d=\"M3107.09,-583.81C3116.71,-574.83 3128.63,-563.69 3139.13,-553.89\"/>\n<polygon fill=\"black\" stroke=\"black\" points=\"3141.55,-556.41 3146.47,-547.03 3136.77,-551.3 3141.55,-556.41\"/>\n<text text-anchor=\"middle\" x=\"3140.69\" y=\"-561.8\" font-family=\"Times,serif\" font-size=\"14.00\">no</text>\n</g>\n<!-- leaf41 -->\n<g id=\"node109\" class=\"node\">\n<title>leaf41</title>\n<ellipse fill=\"none\" stroke=\"black\" cx=\"3129.69\" cy=\"-456\" rx=\"60.39\" ry=\"18\"/>\n<text text-anchor=\"start\" x=\"3091.19\" y=\"-453.3\" font-family=\"Times,serif\" font-size=\"14.00\">leaf 41: </text>\n<text text-anchor=\"start\" x=\"3137.19\" y=\"-453.3\" font-family=\"Times,serif\" font-weight=\"bold\" font-size=\"14.00\">0.180</text>\n</g>\n<!-- split41&#45;&gt;leaf41 -->\n<g id=\"edge102\" class=\"edge\">\n<title>split41&#45;&gt;leaf41</title>\n<path fill=\"none\" stroke=\"black\" d=\"M3156.22,-510.81C3152.14,-502.53 3147.15,-492.41 3142.61,-483.19\"/>\n<polygon fill=\"black\" stroke=\"black\" points=\"3145.65,-481.45 3138.09,-474.03 3139.37,-484.55 3145.65,-481.45\"/>\n<text text-anchor=\"middle\" x=\"3160.19\" y=\"-488.8\" font-family=\"Times,serif\" font-size=\"14.00\">yes</text>\n</g>\n<!-- split42 -->\n<g id=\"node112\" class=\"node\">\n<title>split42</title>\n<polygon fill=\"none\" stroke=\"black\" points=\"3287.69,-474 3193.69,-474 3193.69,-438 3287.69,-438 3287.69,-474\"/>\n<text text-anchor=\"start\" x=\"3201.69\" y=\"-453.3\" font-family=\"Times,serif\" font-weight=\"bold\" font-size=\"14.00\">BMI</text>\n<text text-anchor=\"start\" x=\"3229.69\" y=\"-453.3\" font-family=\"Times,serif\" font-size=\"14.00\"> ≤</text>\n<text text-anchor=\"start\" x=\"3241.69\" y=\"-453.3\" font-family=\"Times,serif\" font-weight=\"bold\" font-size=\"14.00\">28.000</text>\n</g>\n<!-- split41&#45;&gt;split42 -->\n<g id=\"edge115\" class=\"edge\">\n<title>split41&#45;&gt;split42</title>\n<path fill=\"none\" stroke=\"black\" d=\"M3183.09,-510.81C3192.71,-501.83 3204.63,-490.69 3215.13,-480.89\"/>\n<polygon fill=\"black\" stroke=\"black\" points=\"3217.55,-483.41 3222.47,-474.03 3212.77,-478.3 3217.55,-483.41\"/>\n<text text-anchor=\"middle\" x=\"3216.69\" y=\"-488.8\" font-family=\"Times,serif\" font-size=\"14.00\">no</text>\n</g>\n<!-- leaf42 -->\n<g id=\"node111\" class=\"node\">\n<title>leaf42</title>\n<ellipse fill=\"none\" stroke=\"black\" cx=\"3205.69\" cy=\"-383\" rx=\"60.39\" ry=\"18\"/>\n<text text-anchor=\"start\" x=\"3167.19\" y=\"-380.3\" font-family=\"Times,serif\" font-size=\"14.00\">leaf 42: </text>\n<text text-anchor=\"start\" x=\"3213.19\" y=\"-380.3\" font-family=\"Times,serif\" font-weight=\"bold\" font-size=\"14.00\">0.039</text>\n</g>\n<!-- split42&#45;&gt;leaf42 -->\n<g id=\"edge103\" class=\"edge\">\n<title>split42&#45;&gt;leaf42</title>\n<path fill=\"none\" stroke=\"black\" d=\"M3232.22,-437.81C3228.14,-429.53 3223.15,-419.41 3218.61,-410.19\"/>\n<polygon fill=\"black\" stroke=\"black\" points=\"3221.65,-408.45 3214.09,-401.03 3215.37,-411.55 3221.65,-408.45\"/>\n<text text-anchor=\"middle\" x=\"3236.19\" y=\"-415.8\" font-family=\"Times,serif\" font-size=\"14.00\">yes</text>\n</g>\n<!-- split43 -->\n<g id=\"node114\" class=\"node\">\n<title>split43</title>\n<polygon fill=\"none\" stroke=\"black\" points=\"3363.69,-401 3269.69,-401 3269.69,-365 3363.69,-365 3363.69,-401\"/>\n<text text-anchor=\"start\" x=\"3277.69\" y=\"-380.3\" font-family=\"Times,serif\" font-weight=\"bold\" font-size=\"14.00\">BMI</text>\n<text text-anchor=\"start\" x=\"3305.69\" y=\"-380.3\" font-family=\"Times,serif\" font-size=\"14.00\"> ≤</text>\n<text text-anchor=\"start\" x=\"3317.69\" y=\"-380.3\" font-family=\"Times,serif\" font-weight=\"bold\" font-size=\"14.00\">28.986</text>\n</g>\n<!-- split42&#45;&gt;split43 -->\n<g id=\"edge114\" class=\"edge\">\n<title>split42&#45;&gt;split43</title>\n<path fill=\"none\" stroke=\"black\" d=\"M3259.09,-437.81C3268.71,-428.83 3280.63,-417.69 3291.13,-407.89\"/>\n<polygon fill=\"black\" stroke=\"black\" points=\"3293.55,-410.41 3298.47,-401.03 3288.77,-405.3 3293.55,-410.41\"/>\n<text text-anchor=\"middle\" x=\"3292.69\" y=\"-415.8\" font-family=\"Times,serif\" font-size=\"14.00\">no</text>\n</g>\n<!-- leaf43 -->\n<g id=\"node113\" class=\"node\">\n<title>leaf43</title>\n<ellipse fill=\"none\" stroke=\"black\" cx=\"3282.69\" cy=\"-310\" rx=\"60.39\" ry=\"18\"/>\n<text text-anchor=\"start\" x=\"3244.19\" y=\"-307.3\" font-family=\"Times,serif\" font-size=\"14.00\">leaf 43: </text>\n<text text-anchor=\"start\" x=\"3290.19\" y=\"-307.3\" font-family=\"Times,serif\" font-weight=\"bold\" font-size=\"14.00\">0.180</text>\n</g>\n<!-- split43&#45;&gt;leaf43 -->\n<g id=\"edge104\" class=\"edge\">\n<title>split43&#45;&gt;leaf43</title>\n<path fill=\"none\" stroke=\"black\" d=\"M3308.46,-364.81C3304.5,-356.53 3299.65,-346.41 3295.24,-337.19\"/>\n<polygon fill=\"black\" stroke=\"black\" points=\"3298.32,-335.54 3290.85,-328.03 3292.01,-338.56 3298.32,-335.54\"/>\n<text text-anchor=\"middle\" x=\"3313.19\" y=\"-342.8\" font-family=\"Times,serif\" font-size=\"14.00\">yes</text>\n</g>\n<!-- split44 -->\n<g id=\"node116\" class=\"node\">\n<title>split44</title>\n<polygon fill=\"none\" stroke=\"black\" points=\"3440.69,-328 3346.69,-328 3346.69,-292 3440.69,-292 3440.69,-328\"/>\n<text text-anchor=\"start\" x=\"3354.69\" y=\"-307.3\" font-family=\"Times,serif\" font-weight=\"bold\" font-size=\"14.00\">BMI</text>\n<text text-anchor=\"start\" x=\"3382.69\" y=\"-307.3\" font-family=\"Times,serif\" font-size=\"14.00\"> ≤</text>\n<text text-anchor=\"start\" x=\"3394.69\" y=\"-307.3\" font-family=\"Times,serif\" font-weight=\"bold\" font-size=\"14.00\">29.001</text>\n</g>\n<!-- split43&#45;&gt;split44 -->\n<g id=\"edge113\" class=\"edge\">\n<title>split43&#45;&gt;split44</title>\n<path fill=\"none\" stroke=\"black\" d=\"M3335.33,-364.81C3345.08,-355.83 3357.15,-344.69 3367.79,-334.89\"/>\n<polygon fill=\"black\" stroke=\"black\" points=\"3370.25,-337.38 3375.23,-328.03 3365.5,-332.23 3370.25,-337.38\"/>\n<text text-anchor=\"middle\" x=\"3369.69\" y=\"-342.8\" font-family=\"Times,serif\" font-size=\"14.00\">no</text>\n</g>\n<!-- leaf44 -->\n<g id=\"node115\" class=\"node\">\n<title>leaf44</title>\n<ellipse fill=\"none\" stroke=\"black\" cx=\"3359.69\" cy=\"-237\" rx=\"60.39\" ry=\"18\"/>\n<text text-anchor=\"start\" x=\"3321.19\" y=\"-234.3\" font-family=\"Times,serif\" font-size=\"14.00\">leaf 44: </text>\n<text text-anchor=\"start\" x=\"3367.19\" y=\"-234.3\" font-family=\"Times,serif\" font-weight=\"bold\" font-size=\"14.00\">0.034</text>\n</g>\n<!-- split44&#45;&gt;leaf44 -->\n<g id=\"edge105\" class=\"edge\">\n<title>split44&#45;&gt;leaf44</title>\n<path fill=\"none\" stroke=\"black\" d=\"M3385.46,-291.81C3381.5,-283.53 3376.65,-273.41 3372.24,-264.19\"/>\n<polygon fill=\"black\" stroke=\"black\" points=\"3375.32,-262.54 3367.85,-255.03 3369.01,-265.56 3375.32,-262.54\"/>\n<text text-anchor=\"middle\" x=\"3390.19\" y=\"-269.8\" font-family=\"Times,serif\" font-size=\"14.00\">yes</text>\n</g>\n<!-- split45 -->\n<g id=\"node118\" class=\"node\">\n<title>split45</title>\n<polygon fill=\"none\" stroke=\"black\" points=\"3517.69,-255 3423.69,-255 3423.69,-219 3517.69,-219 3517.69,-255\"/>\n<text text-anchor=\"start\" x=\"3431.69\" y=\"-234.3\" font-family=\"Times,serif\" font-weight=\"bold\" font-size=\"14.00\">BMI</text>\n<text text-anchor=\"start\" x=\"3459.69\" y=\"-234.3\" font-family=\"Times,serif\" font-size=\"14.00\"> ≤</text>\n<text text-anchor=\"start\" x=\"3471.69\" y=\"-234.3\" font-family=\"Times,serif\" font-weight=\"bold\" font-size=\"14.00\">29.999</text>\n</g>\n<!-- split44&#45;&gt;split45 -->\n<g id=\"edge112\" class=\"edge\">\n<title>split44&#45;&gt;split45</title>\n<path fill=\"none\" stroke=\"black\" d=\"M3412.33,-291.81C3422.08,-282.83 3434.15,-271.69 3444.79,-261.89\"/>\n<polygon fill=\"black\" stroke=\"black\" points=\"3447.25,-264.38 3452.23,-255.03 3442.5,-259.23 3447.25,-264.38\"/>\n<text text-anchor=\"middle\" x=\"3446.69\" y=\"-269.8\" font-family=\"Times,serif\" font-size=\"14.00\">no</text>\n</g>\n<!-- leaf45 -->\n<g id=\"node117\" class=\"node\">\n<title>leaf45</title>\n<ellipse fill=\"none\" stroke=\"black\" cx=\"3436.69\" cy=\"-164\" rx=\"60.39\" ry=\"18\"/>\n<text text-anchor=\"start\" x=\"3398.19\" y=\"-161.3\" font-family=\"Times,serif\" font-size=\"14.00\">leaf 45: </text>\n<text text-anchor=\"start\" x=\"3444.19\" y=\"-161.3\" font-family=\"Times,serif\" font-weight=\"bold\" font-size=\"14.00\">0.180</text>\n</g>\n<!-- split45&#45;&gt;leaf45 -->\n<g id=\"edge106\" class=\"edge\">\n<title>split45&#45;&gt;leaf45</title>\n<path fill=\"none\" stroke=\"black\" d=\"M3462.46,-218.81C3458.5,-210.53 3453.65,-200.41 3449.24,-191.19\"/>\n<polygon fill=\"black\" stroke=\"black\" points=\"3452.32,-189.54 3444.85,-182.03 3446.01,-192.56 3452.32,-189.54\"/>\n<text text-anchor=\"middle\" x=\"3467.19\" y=\"-196.8\" font-family=\"Times,serif\" font-size=\"14.00\">yes</text>\n</g>\n<!-- split57 -->\n<g id=\"node120\" class=\"node\">\n<title>split57</title>\n<polygon fill=\"none\" stroke=\"black\" points=\"3594.69,-182 3500.69,-182 3500.69,-146 3594.69,-146 3594.69,-182\"/>\n<text text-anchor=\"start\" x=\"3508.69\" y=\"-161.3\" font-family=\"Times,serif\" font-weight=\"bold\" font-size=\"14.00\">BMI</text>\n<text text-anchor=\"start\" x=\"3536.69\" y=\"-161.3\" font-family=\"Times,serif\" font-size=\"14.00\"> ≤</text>\n<text text-anchor=\"start\" x=\"3548.69\" y=\"-161.3\" font-family=\"Times,serif\" font-weight=\"bold\" font-size=\"14.00\">30.003</text>\n</g>\n<!-- split45&#45;&gt;split57 -->\n<g id=\"edge111\" class=\"edge\">\n<title>split45&#45;&gt;split57</title>\n<path fill=\"none\" stroke=\"black\" d=\"M3489.33,-218.81C3499.08,-209.83 3511.15,-198.69 3521.79,-188.89\"/>\n<polygon fill=\"black\" stroke=\"black\" points=\"3524.25,-191.38 3529.23,-182.03 3519.5,-186.23 3524.25,-191.38\"/>\n<text text-anchor=\"middle\" x=\"3523.69\" y=\"-196.8\" font-family=\"Times,serif\" font-size=\"14.00\">no</text>\n</g>\n<!-- leaf46 -->\n<g id=\"node119\" class=\"node\">\n<title>leaf46</title>\n<ellipse fill=\"none\" stroke=\"black\" cx=\"3512.69\" cy=\"-91\" rx=\"60.39\" ry=\"18\"/>\n<text text-anchor=\"start\" x=\"3474.19\" y=\"-88.3\" font-family=\"Times,serif\" font-size=\"14.00\">leaf 46: </text>\n<text text-anchor=\"start\" x=\"3520.19\" y=\"-88.3\" font-family=\"Times,serif\" font-weight=\"bold\" font-size=\"14.00\">0.059</text>\n</g>\n<!-- split57&#45;&gt;leaf46 -->\n<g id=\"edge107\" class=\"edge\">\n<title>split57&#45;&gt;leaf46</title>\n<path fill=\"none\" stroke=\"black\" d=\"M3539.22,-145.81C3535.14,-137.53 3530.15,-127.41 3525.61,-118.19\"/>\n<polygon fill=\"black\" stroke=\"black\" points=\"3528.65,-116.45 3521.09,-109.03 3522.37,-119.55 3528.65,-116.45\"/>\n<text text-anchor=\"middle\" x=\"3543.19\" y=\"-123.8\" font-family=\"Times,serif\" font-size=\"14.00\">yes</text>\n</g>\n<!-- split58 -->\n<g id=\"node122\" class=\"node\">\n<title>split58</title>\n<polygon fill=\"none\" stroke=\"black\" points=\"3670.69,-109 3576.69,-109 3576.69,-73 3670.69,-73 3670.69,-109\"/>\n<text text-anchor=\"start\" x=\"3584.69\" y=\"-88.3\" font-family=\"Times,serif\" font-weight=\"bold\" font-size=\"14.00\">BMI</text>\n<text text-anchor=\"start\" x=\"3612.69\" y=\"-88.3\" font-family=\"Times,serif\" font-size=\"14.00\"> ≤</text>\n<text text-anchor=\"start\" x=\"3624.69\" y=\"-88.3\" font-family=\"Times,serif\" font-weight=\"bold\" font-size=\"14.00\">30.992</text>\n</g>\n<!-- split57&#45;&gt;split58 -->\n<g id=\"edge110\" class=\"edge\">\n<title>split57&#45;&gt;split58</title>\n<path fill=\"none\" stroke=\"black\" d=\"M3566.09,-145.81C3575.71,-136.83 3587.63,-125.69 3598.13,-115.89\"/>\n<polygon fill=\"black\" stroke=\"black\" points=\"3600.55,-118.41 3605.47,-109.03 3595.77,-113.3 3600.55,-118.41\"/>\n<text text-anchor=\"middle\" x=\"3599.69\" y=\"-123.8\" font-family=\"Times,serif\" font-size=\"14.00\">no</text>\n</g>\n<!-- leaf58 -->\n<g id=\"node121\" class=\"node\">\n<title>leaf58</title>\n<ellipse fill=\"none\" stroke=\"black\" cx=\"3561.69\" cy=\"-18\" rx=\"60.39\" ry=\"18\"/>\n<text text-anchor=\"start\" x=\"3523.19\" y=\"-15.3\" font-family=\"Times,serif\" font-size=\"14.00\">leaf 58: </text>\n<text text-anchor=\"start\" x=\"3569.19\" y=\"-15.3\" font-family=\"Times,serif\" font-weight=\"bold\" font-size=\"14.00\">0.180</text>\n</g>\n<!-- split58&#45;&gt;leaf58 -->\n<g id=\"edge108\" class=\"edge\">\n<title>split58&#45;&gt;leaf58</title>\n<path fill=\"none\" stroke=\"black\" d=\"M3608.69,-72.81C3600.96,-63.96 3591.41,-53.02 3582.93,-43.32\"/>\n<polygon fill=\"black\" stroke=\"black\" points=\"3585.35,-40.77 3576.14,-35.54 3580.08,-45.37 3585.35,-40.77\"/>\n<text text-anchor=\"middle\" x=\"3608.19\" y=\"-50.8\" font-family=\"Times,serif\" font-size=\"14.00\">yes</text>\n</g>\n<!-- leaf59 -->\n<g id=\"node123\" class=\"node\">\n<title>leaf59</title>\n<ellipse fill=\"none\" stroke=\"black\" cx=\"3686.69\" cy=\"-18\" rx=\"60.39\" ry=\"18\"/>\n<text text-anchor=\"start\" x=\"3648.19\" y=\"-15.3\" font-family=\"Times,serif\" font-size=\"14.00\">leaf 59: </text>\n<text text-anchor=\"start\" x=\"3694.19\" y=\"-15.3\" font-family=\"Times,serif\" font-weight=\"bold\" font-size=\"14.00\">0.103</text>\n</g>\n<!-- split58&#45;&gt;leaf59 -->\n<g id=\"edge109\" class=\"edge\">\n<title>split58&#45;&gt;leaf59</title>\n<path fill=\"none\" stroke=\"black\" d=\"M3638.94,-72.81C3646.88,-63.88 3656.7,-52.8 3665.37,-43.03\"/>\n<polygon fill=\"black\" stroke=\"black\" points=\"3668,-45.34 3672.02,-35.54 3662.76,-40.7 3668,-45.34\"/>\n<text text-anchor=\"middle\" x=\"3668.69\" y=\"-50.8\" font-family=\"Times,serif\" font-size=\"14.00\">no</text>\n</g>\n<!-- split27&#45;&gt;split31 -->\n<g id=\"edge118\" class=\"edge\">\n<title>split27&#45;&gt;split31</title>\n<path fill=\"none\" stroke=\"black\" d=\"M3012.69,-729.81C3012.69,-721.79 3012.69,-712.05 3012.69,-703.07\"/>\n<polygon fill=\"black\" stroke=\"black\" points=\"3016.19,-703.03 3012.69,-693.03 3009.19,-703.03 3016.19,-703.03\"/>\n<text text-anchor=\"middle\" x=\"3022.19\" y=\"-707.8\" font-family=\"Times,serif\" font-size=\"14.00\">yes</text>\n</g>\n<!-- leaf28 -->\n<g id=\"node125\" class=\"node\">\n<title>leaf28</title>\n<ellipse fill=\"none\" stroke=\"black\" cx=\"3123.69\" cy=\"-675\" rx=\"60.39\" ry=\"18\"/>\n<text text-anchor=\"start\" x=\"3085.19\" y=\"-672.3\" font-family=\"Times,serif\" font-size=\"14.00\">leaf 28: </text>\n<text text-anchor=\"start\" x=\"3131.19\" y=\"-672.3\" font-family=\"Times,serif\" font-weight=\"bold\" font-size=\"14.00\">0.137</text>\n</g>\n<!-- split27&#45;&gt;leaf28 -->\n<g id=\"edge119\" class=\"edge\">\n<title>split27&#45;&gt;leaf28</title>\n<path fill=\"none\" stroke=\"black\" d=\"M3039.28,-729.99C3054.65,-720.16 3074.12,-707.71 3090.49,-697.24\"/>\n<polygon fill=\"black\" stroke=\"black\" points=\"3092.68,-699.99 3099.22,-691.65 3088.91,-694.09 3092.68,-699.99\"/>\n<text text-anchor=\"middle\" x=\"3085.69\" y=\"-707.8\" font-family=\"Times,serif\" font-size=\"14.00\">no</text>\n</g>\n<!-- split6&#45;&gt;split11 -->\n<g id=\"edge122\" class=\"edge\">\n<title>split6&#45;&gt;split11</title>\n<path fill=\"none\" stroke=\"black\" d=\"M2660.69,-948.81C2660.69,-940.79 2660.69,-931.05 2660.69,-922.07\"/>\n<polygon fill=\"black\" stroke=\"black\" points=\"2664.19,-922.03 2660.69,-912.03 2657.19,-922.03 2664.19,-922.03\"/>\n<text text-anchor=\"middle\" x=\"2670.19\" y=\"-926.8\" font-family=\"Times,serif\" font-size=\"14.00\">yes</text>\n</g>\n<!-- leaf7 -->\n<g id=\"node127\" class=\"node\">\n<title>leaf7</title>\n<ellipse fill=\"none\" stroke=\"black\" cx=\"2770.69\" cy=\"-894\" rx=\"59.29\" ry=\"18\"/>\n<text text-anchor=\"start\" x=\"2733.19\" y=\"-891.3\" font-family=\"Times,serif\" font-size=\"14.00\">leaf 7: </text>\n<text text-anchor=\"start\" x=\"2772.19\" y=\"-891.3\" font-family=\"Times,serif\" font-weight=\"bold\" font-size=\"14.00\">&#45;0.131</text>\n</g>\n<!-- split6&#45;&gt;leaf7 -->\n<g id=\"edge123\" class=\"edge\">\n<title>split6&#45;&gt;leaf7</title>\n<path fill=\"none\" stroke=\"black\" d=\"M2687.04,-948.99C2702.27,-939.16 2721.57,-926.71 2737.79,-916.24\"/>\n<polygon fill=\"black\" stroke=\"black\" points=\"2739.94,-919.02 2746.44,-910.65 2736.14,-913.14 2739.94,-919.02\"/>\n<text text-anchor=\"middle\" x=\"2732.69\" y=\"-926.8\" font-family=\"Times,serif\" font-size=\"14.00\">no</text>\n</g>\n</g>\n</svg>\n",
            "text/plain": [
              "<graphviz.graphs.Digraph at 0x7f52b63e7250>"
            ]
          },
          "metadata": {},
          "execution_count": 35
        }
      ]
    },
    {
      "cell_type": "markdown",
      "metadata": {
        "id": "rFJZ372rdcKN"
      },
      "source": [
        "#PERBANDINGAN MODEL TANPA SMOTENC"
      ]
    },
    {
      "cell_type": "markdown",
      "source": [
        "###Splitting dataset"
      ],
      "metadata": {
        "id": "Gc8esVdfhT9i"
      }
    },
    {
      "cell_type": "code",
      "execution_count": null,
      "metadata": {
        "colab": {
          "base_uri": "https://localhost:8080/"
        },
        "id": "7BxTdNUidgax",
        "outputId": "5554158e-fe45-4f96-b198-de42349445cb"
      },
      "outputs": [
        {
          "output_type": "stream",
          "name": "stdout",
          "text": [
            "Training Data Shape :  (16291, 15) (16291,)\n",
            "Test Data Shape :  (6982, 15) (6982,)\n"
          ]
        }
      ],
      "source": [
        "X_train1, X_test1, y_train1, y_test1 = train_test_split(X,Y, test_size=0.3, stratify=Y, random_state=77)\n",
        "\n",
        "print(\"Training Data Shape : \", X_train1.shape, y_train1.shape)\n",
        "print(\"Test Data Shape : \", X_test1.shape, y_test1.shape)"
      ]
    },
    {
      "cell_type": "markdown",
      "source": [
        "###Tuning Hyperparameter"
      ],
      "metadata": {
        "id": "IOmdqrBVhXev"
      }
    },
    {
      "cell_type": "code",
      "execution_count": null,
      "metadata": {
        "colab": {
          "base_uri": "https://localhost:8080/",
          "height": 277
        },
        "id": "TfQtQ8GScB9Y",
        "outputId": "990053e7-32af-45f0-d358-3b9565822fe6"
      },
      "outputs": [
        {
          "output_type": "stream",
          "name": "stdout",
          "text": [
            "[LightGBM] [Info] Number of positive: 2406, number of negative: 13885\n",
            "[LightGBM] [Info] Auto-choosing row-wise multi-threading, the overhead of testing was 0.002648 seconds.\n",
            "You can set `force_row_wise=true` to remove the overhead.\n",
            "And if memory is not enough, you can set `force_col_wise=true`.\n",
            "[LightGBM] [Info] Total Bins 97\n",
            "[LightGBM] [Info] Number of data points in the train set: 16291, number of used features: 15\n",
            "[LightGBM] [Info] [binary:BoostFromScore]: pavg=0.147689 -> initscore=-1.752844\n",
            "[LightGBM] [Info] Start training from score -1.752844\n"
          ]
        },
        {
          "output_type": "execute_result",
          "data": {
            "text/plain": [
              "GridSearchCV(cv=3, estimator=LGBMRegressor(objective='binary', random_state=77),\n",
              "             n_jobs=-1,\n",
              "             param_grid={'learning_rate': [0.05, 0.08, 0.09],\n",
              "                         'max_depth': [6, 12, 16],\n",
              "                         'min_child_samples': [1, 10, 20],\n",
              "                         'n_estimators': [100, 300, 500],\n",
              "                         'num_leaves': [24, 32, 64],\n",
              "                         'subsample': [0.1, 0.5, 1.0]},\n",
              "             scoring='neg_root_mean_squared_error')"
            ],
            "text/html": [
              "<style>#sk-container-id-10 {color: black;background-color: white;}#sk-container-id-10 pre{padding: 0;}#sk-container-id-10 div.sk-toggleable {background-color: white;}#sk-container-id-10 label.sk-toggleable__label {cursor: pointer;display: block;width: 100%;margin-bottom: 0;padding: 0.3em;box-sizing: border-box;text-align: center;}#sk-container-id-10 label.sk-toggleable__label-arrow:before {content: \"▸\";float: left;margin-right: 0.25em;color: #696969;}#sk-container-id-10 label.sk-toggleable__label-arrow:hover:before {color: black;}#sk-container-id-10 div.sk-estimator:hover label.sk-toggleable__label-arrow:before {color: black;}#sk-container-id-10 div.sk-toggleable__content {max-height: 0;max-width: 0;overflow: hidden;text-align: left;background-color: #f0f8ff;}#sk-container-id-10 div.sk-toggleable__content pre {margin: 0.2em;color: black;border-radius: 0.25em;background-color: #f0f8ff;}#sk-container-id-10 input.sk-toggleable__control:checked~div.sk-toggleable__content {max-height: 200px;max-width: 100%;overflow: auto;}#sk-container-id-10 input.sk-toggleable__control:checked~label.sk-toggleable__label-arrow:before {content: \"▾\";}#sk-container-id-10 div.sk-estimator input.sk-toggleable__control:checked~label.sk-toggleable__label {background-color: #d4ebff;}#sk-container-id-10 div.sk-label input.sk-toggleable__control:checked~label.sk-toggleable__label {background-color: #d4ebff;}#sk-container-id-10 input.sk-hidden--visually {border: 0;clip: rect(1px 1px 1px 1px);clip: rect(1px, 1px, 1px, 1px);height: 1px;margin: -1px;overflow: hidden;padding: 0;position: absolute;width: 1px;}#sk-container-id-10 div.sk-estimator {font-family: monospace;background-color: #f0f8ff;border: 1px dotted black;border-radius: 0.25em;box-sizing: border-box;margin-bottom: 0.5em;}#sk-container-id-10 div.sk-estimator:hover {background-color: #d4ebff;}#sk-container-id-10 div.sk-parallel-item::after {content: \"\";width: 100%;border-bottom: 1px solid gray;flex-grow: 1;}#sk-container-id-10 div.sk-label:hover label.sk-toggleable__label {background-color: #d4ebff;}#sk-container-id-10 div.sk-serial::before {content: \"\";position: absolute;border-left: 1px solid gray;box-sizing: border-box;top: 0;bottom: 0;left: 50%;z-index: 0;}#sk-container-id-10 div.sk-serial {display: flex;flex-direction: column;align-items: center;background-color: white;padding-right: 0.2em;padding-left: 0.2em;position: relative;}#sk-container-id-10 div.sk-item {position: relative;z-index: 1;}#sk-container-id-10 div.sk-parallel {display: flex;align-items: stretch;justify-content: center;background-color: white;position: relative;}#sk-container-id-10 div.sk-item::before, #sk-container-id-10 div.sk-parallel-item::before {content: \"\";position: absolute;border-left: 1px solid gray;box-sizing: border-box;top: 0;bottom: 0;left: 50%;z-index: -1;}#sk-container-id-10 div.sk-parallel-item {display: flex;flex-direction: column;z-index: 1;position: relative;background-color: white;}#sk-container-id-10 div.sk-parallel-item:first-child::after {align-self: flex-end;width: 50%;}#sk-container-id-10 div.sk-parallel-item:last-child::after {align-self: flex-start;width: 50%;}#sk-container-id-10 div.sk-parallel-item:only-child::after {width: 0;}#sk-container-id-10 div.sk-dashed-wrapped {border: 1px dashed gray;margin: 0 0.4em 0.5em 0.4em;box-sizing: border-box;padding-bottom: 0.4em;background-color: white;}#sk-container-id-10 div.sk-label label {font-family: monospace;font-weight: bold;display: inline-block;line-height: 1.2em;}#sk-container-id-10 div.sk-label-container {text-align: center;}#sk-container-id-10 div.sk-container {/* jupyter's `normalize.less` sets `[hidden] { display: none; }` but bootstrap.min.css set `[hidden] { display: none !important; }` so we also need the `!important` here to be able to override the default hidden behavior on the sphinx rendered scikit-learn.org. See: https://github.com/scikit-learn/scikit-learn/issues/21755 */display: inline-block !important;position: relative;}#sk-container-id-10 div.sk-text-repr-fallback {display: none;}</style><div id=\"sk-container-id-10\" class=\"sk-top-container\"><div class=\"sk-text-repr-fallback\"><pre>GridSearchCV(cv=3, estimator=LGBMRegressor(objective=&#x27;binary&#x27;, random_state=77),\n",
              "             n_jobs=-1,\n",
              "             param_grid={&#x27;learning_rate&#x27;: [0.05, 0.08, 0.09],\n",
              "                         &#x27;max_depth&#x27;: [6, 12, 16],\n",
              "                         &#x27;min_child_samples&#x27;: [1, 10, 20],\n",
              "                         &#x27;n_estimators&#x27;: [100, 300, 500],\n",
              "                         &#x27;num_leaves&#x27;: [24, 32, 64],\n",
              "                         &#x27;subsample&#x27;: [0.1, 0.5, 1.0]},\n",
              "             scoring=&#x27;neg_root_mean_squared_error&#x27;)</pre><b>In a Jupyter environment, please rerun this cell to show the HTML representation or trust the notebook. <br />On GitHub, the HTML representation is unable to render, please try loading this page with nbviewer.org.</b></div><div class=\"sk-container\" hidden><div class=\"sk-item sk-dashed-wrapped\"><div class=\"sk-label-container\"><div class=\"sk-label sk-toggleable\"><input class=\"sk-toggleable__control sk-hidden--visually\" id=\"sk-estimator-id-16\" type=\"checkbox\" ><label for=\"sk-estimator-id-16\" class=\"sk-toggleable__label sk-toggleable__label-arrow\">GridSearchCV</label><div class=\"sk-toggleable__content\"><pre>GridSearchCV(cv=3, estimator=LGBMRegressor(objective=&#x27;binary&#x27;, random_state=77),\n",
              "             n_jobs=-1,\n",
              "             param_grid={&#x27;learning_rate&#x27;: [0.05, 0.08, 0.09],\n",
              "                         &#x27;max_depth&#x27;: [6, 12, 16],\n",
              "                         &#x27;min_child_samples&#x27;: [1, 10, 20],\n",
              "                         &#x27;n_estimators&#x27;: [100, 300, 500],\n",
              "                         &#x27;num_leaves&#x27;: [24, 32, 64],\n",
              "                         &#x27;subsample&#x27;: [0.1, 0.5, 1.0]},\n",
              "             scoring=&#x27;neg_root_mean_squared_error&#x27;)</pre></div></div></div><div class=\"sk-parallel\"><div class=\"sk-parallel-item\"><div class=\"sk-item\"><div class=\"sk-label-container\"><div class=\"sk-label sk-toggleable\"><input class=\"sk-toggleable__control sk-hidden--visually\" id=\"sk-estimator-id-17\" type=\"checkbox\" ><label for=\"sk-estimator-id-17\" class=\"sk-toggleable__label sk-toggleable__label-arrow\">estimator: LGBMRegressor</label><div class=\"sk-toggleable__content\"><pre>LGBMRegressor(objective=&#x27;binary&#x27;, random_state=77)</pre></div></div></div><div class=\"sk-serial\"><div class=\"sk-item\"><div class=\"sk-estimator sk-toggleable\"><input class=\"sk-toggleable__control sk-hidden--visually\" id=\"sk-estimator-id-18\" type=\"checkbox\" ><label for=\"sk-estimator-id-18\" class=\"sk-toggleable__label sk-toggleable__label-arrow\">LGBMRegressor</label><div class=\"sk-toggleable__content\"><pre>LGBMRegressor(objective=&#x27;binary&#x27;, random_state=77)</pre></div></div></div></div></div></div></div></div></div></div>"
            ]
          },
          "metadata": {},
          "execution_count": 59
        }
      ],
      "source": [
        "model.fit(X_train1, y_train1)"
      ]
    },
    {
      "cell_type": "code",
      "execution_count": null,
      "metadata": {
        "colab": {
          "base_uri": "https://localhost:8080/"
        },
        "id": "yHyLSVq5qFET",
        "outputId": "0f82c392-8cca-4856-8ebc-e9b58ba5a76f"
      },
      "outputs": [
        {
          "output_type": "stream",
          "name": "stdout",
          "text": [
            "LGBMRegressor(learning_rate=0.05, max_depth=6, num_leaves=24,\n",
            "              objective='binary', random_state=77, subsample=0.1)\n"
          ]
        }
      ],
      "source": [
        "# Step 4: Print best parameters\n",
        "best_params1 = model.best_estimator_\n",
        "print(best_params1)"
      ]
    },
    {
      "cell_type": "markdown",
      "source": [
        "###Klasifikasi LGBM"
      ],
      "metadata": {
        "id": "SBkw8Wx9hf1Y"
      }
    },
    {
      "cell_type": "code",
      "execution_count": null,
      "metadata": {
        "colab": {
          "base_uri": "https://localhost:8080/",
          "height": 251
        },
        "id": "31rskSiXda7O",
        "outputId": "636e0ca9-c69f-4cd3-a057-19eaa304af68"
      },
      "outputs": [
        {
          "output_type": "stream",
          "name": "stdout",
          "text": [
            "[LightGBM] [Info] Number of positive: 2406, number of negative: 13885\n",
            "[LightGBM] [Info] Auto-choosing row-wise multi-threading, the overhead of testing was 0.002537 seconds.\n",
            "You can set `force_row_wise=true` to remove the overhead.\n",
            "And if memory is not enough, you can set `force_col_wise=true`.\n",
            "[LightGBM] [Info] Total Bins 97\n",
            "[LightGBM] [Info] Number of data points in the train set: 16291, number of used features: 15\n",
            "[LightGBM] [Info] [binary:BoostFromScore]: pavg=0.147689 -> initscore=-1.752844\n",
            "[LightGBM] [Info] Start training from score -1.752844\n"
          ]
        },
        {
          "output_type": "execute_result",
          "data": {
            "text/plain": [
              "LGBMClassifier(learning_rate=0.05, max_depth=6, num_leaves=24,\n",
              "               objective='binary', random_state=77, subsample=0.1)"
            ],
            "text/html": [
              "<style>#sk-container-id-11 {color: black;background-color: white;}#sk-container-id-11 pre{padding: 0;}#sk-container-id-11 div.sk-toggleable {background-color: white;}#sk-container-id-11 label.sk-toggleable__label {cursor: pointer;display: block;width: 100%;margin-bottom: 0;padding: 0.3em;box-sizing: border-box;text-align: center;}#sk-container-id-11 label.sk-toggleable__label-arrow:before {content: \"▸\";float: left;margin-right: 0.25em;color: #696969;}#sk-container-id-11 label.sk-toggleable__label-arrow:hover:before {color: black;}#sk-container-id-11 div.sk-estimator:hover label.sk-toggleable__label-arrow:before {color: black;}#sk-container-id-11 div.sk-toggleable__content {max-height: 0;max-width: 0;overflow: hidden;text-align: left;background-color: #f0f8ff;}#sk-container-id-11 div.sk-toggleable__content pre {margin: 0.2em;color: black;border-radius: 0.25em;background-color: #f0f8ff;}#sk-container-id-11 input.sk-toggleable__control:checked~div.sk-toggleable__content {max-height: 200px;max-width: 100%;overflow: auto;}#sk-container-id-11 input.sk-toggleable__control:checked~label.sk-toggleable__label-arrow:before {content: \"▾\";}#sk-container-id-11 div.sk-estimator input.sk-toggleable__control:checked~label.sk-toggleable__label {background-color: #d4ebff;}#sk-container-id-11 div.sk-label input.sk-toggleable__control:checked~label.sk-toggleable__label {background-color: #d4ebff;}#sk-container-id-11 input.sk-hidden--visually {border: 0;clip: rect(1px 1px 1px 1px);clip: rect(1px, 1px, 1px, 1px);height: 1px;margin: -1px;overflow: hidden;padding: 0;position: absolute;width: 1px;}#sk-container-id-11 div.sk-estimator {font-family: monospace;background-color: #f0f8ff;border: 1px dotted black;border-radius: 0.25em;box-sizing: border-box;margin-bottom: 0.5em;}#sk-container-id-11 div.sk-estimator:hover {background-color: #d4ebff;}#sk-container-id-11 div.sk-parallel-item::after {content: \"\";width: 100%;border-bottom: 1px solid gray;flex-grow: 1;}#sk-container-id-11 div.sk-label:hover label.sk-toggleable__label {background-color: #d4ebff;}#sk-container-id-11 div.sk-serial::before {content: \"\";position: absolute;border-left: 1px solid gray;box-sizing: border-box;top: 0;bottom: 0;left: 50%;z-index: 0;}#sk-container-id-11 div.sk-serial {display: flex;flex-direction: column;align-items: center;background-color: white;padding-right: 0.2em;padding-left: 0.2em;position: relative;}#sk-container-id-11 div.sk-item {position: relative;z-index: 1;}#sk-container-id-11 div.sk-parallel {display: flex;align-items: stretch;justify-content: center;background-color: white;position: relative;}#sk-container-id-11 div.sk-item::before, #sk-container-id-11 div.sk-parallel-item::before {content: \"\";position: absolute;border-left: 1px solid gray;box-sizing: border-box;top: 0;bottom: 0;left: 50%;z-index: -1;}#sk-container-id-11 div.sk-parallel-item {display: flex;flex-direction: column;z-index: 1;position: relative;background-color: white;}#sk-container-id-11 div.sk-parallel-item:first-child::after {align-self: flex-end;width: 50%;}#sk-container-id-11 div.sk-parallel-item:last-child::after {align-self: flex-start;width: 50%;}#sk-container-id-11 div.sk-parallel-item:only-child::after {width: 0;}#sk-container-id-11 div.sk-dashed-wrapped {border: 1px dashed gray;margin: 0 0.4em 0.5em 0.4em;box-sizing: border-box;padding-bottom: 0.4em;background-color: white;}#sk-container-id-11 div.sk-label label {font-family: monospace;font-weight: bold;display: inline-block;line-height: 1.2em;}#sk-container-id-11 div.sk-label-container {text-align: center;}#sk-container-id-11 div.sk-container {/* jupyter's `normalize.less` sets `[hidden] { display: none; }` but bootstrap.min.css set `[hidden] { display: none !important; }` so we also need the `!important` here to be able to override the default hidden behavior on the sphinx rendered scikit-learn.org. See: https://github.com/scikit-learn/scikit-learn/issues/21755 */display: inline-block !important;position: relative;}#sk-container-id-11 div.sk-text-repr-fallback {display: none;}</style><div id=\"sk-container-id-11\" class=\"sk-top-container\"><div class=\"sk-text-repr-fallback\"><pre>LGBMClassifier(learning_rate=0.05, max_depth=6, num_leaves=24,\n",
              "               objective=&#x27;binary&#x27;, random_state=77, subsample=0.1)</pre><b>In a Jupyter environment, please rerun this cell to show the HTML representation or trust the notebook. <br />On GitHub, the HTML representation is unable to render, please try loading this page with nbviewer.org.</b></div><div class=\"sk-container\" hidden><div class=\"sk-item\"><div class=\"sk-estimator sk-toggleable\"><input class=\"sk-toggleable__control sk-hidden--visually\" id=\"sk-estimator-id-19\" type=\"checkbox\" checked><label for=\"sk-estimator-id-19\" class=\"sk-toggleable__label sk-toggleable__label-arrow\">LGBMClassifier</label><div class=\"sk-toggleable__content\"><pre>LGBMClassifier(learning_rate=0.05, max_depth=6, num_leaves=24,\n",
              "               objective=&#x27;binary&#x27;, random_state=77, subsample=0.1)</pre></div></div></div></div></div>"
            ]
          },
          "metadata": {},
          "execution_count": 61
        }
      ],
      "source": [
        "lgb = LGBMClassifier(learning_rate=0.05, max_depth=6, num_leaves=24,\n",
        "              objective='binary', random_state=77, subsample=0.1)\n",
        "lgb.fit(X_train1, y_train1)"
      ]
    },
    {
      "cell_type": "code",
      "execution_count": null,
      "metadata": {
        "colab": {
          "base_uri": "https://localhost:8080/"
        },
        "id": "kWlK1Z8Xdzf_",
        "outputId": "7d5e3e7c-b111-4f27-c8f0-8a137468eea1"
      },
      "outputs": [
        {
          "output_type": "stream",
          "name": "stdout",
          "text": [
            "Training set score: 0.8641\n",
            "Test set score: 0.8588\n"
          ]
        }
      ],
      "source": [
        "y_pred1=lgb.predict(X_test1)\n",
        "\n",
        "#Akurasi model LGBM\n",
        "print('Training set score: {:.4f}'.format(lgb.score(X_train1, y_train1)))\n",
        "\n",
        "print('Test set score: {:.4f}'.format(lgb.score(X_test1, y_test1)))"
      ]
    },
    {
      "cell_type": "code",
      "execution_count": null,
      "metadata": {
        "colab": {
          "base_uri": "https://localhost:8080/"
        },
        "id": "YbFb80aMoVf1",
        "outputId": "92845c06-5149-4898-b5bd-6c9056f79239"
      },
      "outputs": [
        {
          "output_type": "stream",
          "name": "stdout",
          "text": [
            "ROC AUC: 0.5647\n"
          ]
        }
      ],
      "source": [
        "fpr, tpr, _ = roc_curve(y_test1, y_pred1)\n",
        "score = auc(fpr, tpr)\n",
        "print(f\"ROC AUC: {score:.4f}\")"
      ]
    },
    {
      "cell_type": "markdown",
      "metadata": {
        "id": "a44xPUteBETV"
      },
      "source": [
        "#PERBANDINGAN SMOTENC-LGBM TANPA HYPERPARAMETER TUNING"
      ]
    },
    {
      "cell_type": "code",
      "execution_count": null,
      "metadata": {
        "colab": {
          "base_uri": "https://localhost:8080/",
          "height": 251
        },
        "id": "UG24vZBbqS_X",
        "outputId": "53f2e9e4-83e5-4941-8af7-ceaf30e681fe"
      },
      "outputs": [
        {
          "output_type": "stream",
          "name": "stdout",
          "text": [
            "[LightGBM] [Warning] Accuracy may be bad since you didn't explicitly set num_leaves OR 2^max_depth > num_leaves. (num_leaves=31).\n",
            "[LightGBM] [Warning] Accuracy may be bad since you didn't explicitly set num_leaves OR 2^max_depth > num_leaves. (num_leaves=31).\n",
            "[LightGBM] [Info] Number of positive: 13885, number of negative: 13885\n",
            "[LightGBM] [Info] Auto-choosing row-wise multi-threading, the overhead of testing was 0.004646 seconds.\n",
            "You can set `force_row_wise=true` to remove the overhead.\n",
            "And if memory is not enough, you can set `force_col_wise=true`.\n",
            "[LightGBM] [Info] Total Bins 568\n",
            "[LightGBM] [Info] Number of data points in the train set: 27770, number of used features: 15\n",
            "[LightGBM] [Info] [binary:BoostFromScore]: pavg=0.500000 -> initscore=0.000000\n"
          ]
        },
        {
          "output_type": "execute_result",
          "data": {
            "text/plain": [
              "LGBMClassifier(max_depth=9, objective='binary', random_state=77)"
            ],
            "text/html": [
              "<style>#sk-container-id-12 {color: black;background-color: white;}#sk-container-id-12 pre{padding: 0;}#sk-container-id-12 div.sk-toggleable {background-color: white;}#sk-container-id-12 label.sk-toggleable__label {cursor: pointer;display: block;width: 100%;margin-bottom: 0;padding: 0.3em;box-sizing: border-box;text-align: center;}#sk-container-id-12 label.sk-toggleable__label-arrow:before {content: \"▸\";float: left;margin-right: 0.25em;color: #696969;}#sk-container-id-12 label.sk-toggleable__label-arrow:hover:before {color: black;}#sk-container-id-12 div.sk-estimator:hover label.sk-toggleable__label-arrow:before {color: black;}#sk-container-id-12 div.sk-toggleable__content {max-height: 0;max-width: 0;overflow: hidden;text-align: left;background-color: #f0f8ff;}#sk-container-id-12 div.sk-toggleable__content pre {margin: 0.2em;color: black;border-radius: 0.25em;background-color: #f0f8ff;}#sk-container-id-12 input.sk-toggleable__control:checked~div.sk-toggleable__content {max-height: 200px;max-width: 100%;overflow: auto;}#sk-container-id-12 input.sk-toggleable__control:checked~label.sk-toggleable__label-arrow:before {content: \"▾\";}#sk-container-id-12 div.sk-estimator input.sk-toggleable__control:checked~label.sk-toggleable__label {background-color: #d4ebff;}#sk-container-id-12 div.sk-label input.sk-toggleable__control:checked~label.sk-toggleable__label {background-color: #d4ebff;}#sk-container-id-12 input.sk-hidden--visually {border: 0;clip: rect(1px 1px 1px 1px);clip: rect(1px, 1px, 1px, 1px);height: 1px;margin: -1px;overflow: hidden;padding: 0;position: absolute;width: 1px;}#sk-container-id-12 div.sk-estimator {font-family: monospace;background-color: #f0f8ff;border: 1px dotted black;border-radius: 0.25em;box-sizing: border-box;margin-bottom: 0.5em;}#sk-container-id-12 div.sk-estimator:hover {background-color: #d4ebff;}#sk-container-id-12 div.sk-parallel-item::after {content: \"\";width: 100%;border-bottom: 1px solid gray;flex-grow: 1;}#sk-container-id-12 div.sk-label:hover label.sk-toggleable__label {background-color: #d4ebff;}#sk-container-id-12 div.sk-serial::before {content: \"\";position: absolute;border-left: 1px solid gray;box-sizing: border-box;top: 0;bottom: 0;left: 50%;z-index: 0;}#sk-container-id-12 div.sk-serial {display: flex;flex-direction: column;align-items: center;background-color: white;padding-right: 0.2em;padding-left: 0.2em;position: relative;}#sk-container-id-12 div.sk-item {position: relative;z-index: 1;}#sk-container-id-12 div.sk-parallel {display: flex;align-items: stretch;justify-content: center;background-color: white;position: relative;}#sk-container-id-12 div.sk-item::before, #sk-container-id-12 div.sk-parallel-item::before {content: \"\";position: absolute;border-left: 1px solid gray;box-sizing: border-box;top: 0;bottom: 0;left: 50%;z-index: -1;}#sk-container-id-12 div.sk-parallel-item {display: flex;flex-direction: column;z-index: 1;position: relative;background-color: white;}#sk-container-id-12 div.sk-parallel-item:first-child::after {align-self: flex-end;width: 50%;}#sk-container-id-12 div.sk-parallel-item:last-child::after {align-self: flex-start;width: 50%;}#sk-container-id-12 div.sk-parallel-item:only-child::after {width: 0;}#sk-container-id-12 div.sk-dashed-wrapped {border: 1px dashed gray;margin: 0 0.4em 0.5em 0.4em;box-sizing: border-box;padding-bottom: 0.4em;background-color: white;}#sk-container-id-12 div.sk-label label {font-family: monospace;font-weight: bold;display: inline-block;line-height: 1.2em;}#sk-container-id-12 div.sk-label-container {text-align: center;}#sk-container-id-12 div.sk-container {/* jupyter's `normalize.less` sets `[hidden] { display: none; }` but bootstrap.min.css set `[hidden] { display: none !important; }` so we also need the `!important` here to be able to override the default hidden behavior on the sphinx rendered scikit-learn.org. See: https://github.com/scikit-learn/scikit-learn/issues/21755 */display: inline-block !important;position: relative;}#sk-container-id-12 div.sk-text-repr-fallback {display: none;}</style><div id=\"sk-container-id-12\" class=\"sk-top-container\"><div class=\"sk-text-repr-fallback\"><pre>LGBMClassifier(max_depth=9, objective=&#x27;binary&#x27;, random_state=77)</pre><b>In a Jupyter environment, please rerun this cell to show the HTML representation or trust the notebook. <br />On GitHub, the HTML representation is unable to render, please try loading this page with nbviewer.org.</b></div><div class=\"sk-container\" hidden><div class=\"sk-item\"><div class=\"sk-estimator sk-toggleable\"><input class=\"sk-toggleable__control sk-hidden--visually\" id=\"sk-estimator-id-20\" type=\"checkbox\" checked><label for=\"sk-estimator-id-20\" class=\"sk-toggleable__label sk-toggleable__label-arrow\">LGBMClassifier</label><div class=\"sk-toggleable__content\"><pre>LGBMClassifier(max_depth=9, objective=&#x27;binary&#x27;, random_state=77)</pre></div></div></div></div></div>"
            ]
          },
          "metadata": {},
          "execution_count": 64
        }
      ],
      "source": [
        "lgbm = LGBMClassifier(learning_rate=0.1, max_depth=9, min_child_samples=20,\n",
        "                      n_estimators=100,num_leaves=31, objective='binary',\n",
        "                      random_state=77,subsample=1.0)\n",
        "lgbm.fit(X_train, y_train)"
      ]
    },
    {
      "cell_type": "code",
      "execution_count": null,
      "metadata": {
        "colab": {
          "base_uri": "https://localhost:8080/"
        },
        "id": "ZuQWutsLqn6F",
        "outputId": "137ee688-c1c9-48d7-9924-97e2ddb25216"
      },
      "outputs": [
        {
          "output_type": "stream",
          "name": "stdout",
          "text": [
            "Training set score: 0.5817\n",
            "Test set score: 0.5807\n"
          ]
        }
      ],
      "source": [
        "y_pred2=lgb.predict(X_test)\n",
        "\n",
        "#Akurasi model LGBM\n",
        "print('Training set score: {:.4f}'.format(lgb.score(X_train, y_train)))\n",
        "\n",
        "print('Test set score: {:.4f}'.format(lgb.score(X_test, y_test)))"
      ]
    },
    {
      "cell_type": "code",
      "execution_count": null,
      "metadata": {
        "colab": {
          "base_uri": "https://localhost:8080/"
        },
        "id": "y78BzouNq-Nj",
        "outputId": "17962477-8c8c-43c7-ba48-d57cbe9f205a"
      },
      "outputs": [
        {
          "output_type": "stream",
          "name": "stdout",
          "text": [
            "ROC AUC: 0.5807\n"
          ]
        }
      ],
      "source": [
        "fpr, tpr, _ = roc_curve(y_test, y_pred2)\n",
        "score = auc(fpr, tpr)\n",
        "print(f\"ROC AUC: {score:.4f}\")"
      ]
    }
  ],
  "metadata": {
    "colab": {
      "provenance": []
    },
    "kernelspec": {
      "display_name": "Python 3",
      "name": "python3"
    },
    "language_info": {
      "name": "python"
    }
  },
  "nbformat": 4,
  "nbformat_minor": 0
}